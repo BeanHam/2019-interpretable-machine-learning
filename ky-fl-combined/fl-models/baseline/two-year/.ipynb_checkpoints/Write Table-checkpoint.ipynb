{
 "cells": [
  {
   "cell_type": "code",
   "execution_count": 1,
   "metadata": {
    "hideCode": false,
    "hidePrompt": false
   },
   "outputs": [],
   "source": [
    "import pytablewriter\n",
    "import pandas as pd\n",
    "import numpy as np"
   ]
  },
  {
   "cell_type": "code",
   "execution_count": 2,
   "metadata": {
    "hideCode": false,
    "hidePrompt": false
   },
   "outputs": [],
   "source": [
    "result = pd.read_csv(\"C:\\\\Users\\\\binha\\\\Documents\\\\Duke\\\\Cynthia Research\\\\KY-analysis-mytrials\\\\KY Recidivism\\\\KY Results\\\\KY_FL\\\\FL Model\\\\baselines\\\\Two Year\\\\FL_model_two_year_comb.csv\")"
   ]
  },
  {
   "cell_type": "code",
   "execution_count": 3,
   "metadata": {
    "hideCode": false,
    "hidePrompt": false
   },
   "outputs": [
    {
     "data": {
      "text/html": [
       "<div>\n",
       "<style scoped>\n",
       "    .dataframe tbody tr th:only-of-type {\n",
       "        vertical-align: middle;\n",
       "    }\n",
       "\n",
       "    .dataframe tbody tr th {\n",
       "        vertical-align: top;\n",
       "    }\n",
       "\n",
       "    .dataframe thead th {\n",
       "        text-align: right;\n",
       "    }\n",
       "</style>\n",
       "<table border=\"1\" class=\"dataframe\">\n",
       "  <thead>\n",
       "    <tr style=\"text-align: right;\">\n",
       "      <th></th>\n",
       "      <th>Unnamed: 0</th>\n",
       "      <th>Logistic</th>\n",
       "      <th>Lasso</th>\n",
       "      <th>Linear SVM</th>\n",
       "      <th>Random Forest</th>\n",
       "      <th>XGBoost</th>\n",
       "      <th>CART</th>\n",
       "      <th>EBM</th>\n",
       "      <th>Lasso Stumps</th>\n",
       "      <th>RiskSLIM</th>\n",
       "    </tr>\n",
       "  </thead>\n",
       "  <tbody>\n",
       "    <tr>\n",
       "      <th>0</th>\n",
       "      <td>General</td>\n",
       "      <td>0.648 (0.006)</td>\n",
       "      <td>0.641 (0.009)</td>\n",
       "      <td>0.64 (0.007)</td>\n",
       "      <td>0.67 (0.005)</td>\n",
       "      <td>0.656 (0.01)</td>\n",
       "      <td>0.596 (0.027)</td>\n",
       "      <td>0.679 (0.004)</td>\n",
       "      <td>0.625 (0.006)</td>\n",
       "      <td>0.616 (0.024)</td>\n",
       "    </tr>\n",
       "    <tr>\n",
       "      <th>1</th>\n",
       "      <td>Violent</td>\n",
       "      <td>0.756 (0.013)</td>\n",
       "      <td>0.769 (0.008)</td>\n",
       "      <td>0.762 (0.012)</td>\n",
       "      <td>0.764 (0.01)</td>\n",
       "      <td>0.769 (0.007)</td>\n",
       "      <td>0.66 (0.04)</td>\n",
       "      <td>0.744 (0.006)</td>\n",
       "      <td>0.767 (0.008)</td>\n",
       "      <td>0.745 (0.003)</td>\n",
       "    </tr>\n",
       "    <tr>\n",
       "      <th>2</th>\n",
       "      <td>Drug</td>\n",
       "      <td>0.624 (0.013)</td>\n",
       "      <td>0.618 (0.007)</td>\n",
       "      <td>0.553 (0.007)</td>\n",
       "      <td>0.638 (0.017)</td>\n",
       "      <td>0.636 (0.005)</td>\n",
       "      <td>0.595 (0.011)</td>\n",
       "      <td>0.634 (0.01)</td>\n",
       "      <td>0.599 (0.018)</td>\n",
       "      <td>0.625 (0.006)</td>\n",
       "    </tr>\n",
       "    <tr>\n",
       "      <th>3</th>\n",
       "      <td>Property</td>\n",
       "      <td>0.669 (0.009)</td>\n",
       "      <td>0.675 (0.018)</td>\n",
       "      <td>0.638 (0.021)</td>\n",
       "      <td>0.674 (0.014)</td>\n",
       "      <td>0.689 (0.013)</td>\n",
       "      <td>0.54 (0.015)</td>\n",
       "      <td>0.672 (0.01)</td>\n",
       "      <td>0.625 (0.013)</td>\n",
       "      <td>0.614 (0.043)</td>\n",
       "    </tr>\n",
       "    <tr>\n",
       "      <th>4</th>\n",
       "      <td>Felony</td>\n",
       "      <td>0.649 (0.009)</td>\n",
       "      <td>0.644 (0.018)</td>\n",
       "      <td>0.623 (0.037)</td>\n",
       "      <td>0.702 (0.005)</td>\n",
       "      <td>0.676 (0.019)</td>\n",
       "      <td>0.581 (0.036)</td>\n",
       "      <td>0.705 (0.005)</td>\n",
       "      <td>0.67 (0.016)</td>\n",
       "      <td>0.618 (0.047)</td>\n",
       "    </tr>\n",
       "    <tr>\n",
       "      <th>5</th>\n",
       "      <td>Misdemeanor</td>\n",
       "      <td>0.632 (0.005)</td>\n",
       "      <td>0.634 (0.005)</td>\n",
       "      <td>0.59 (0.008)</td>\n",
       "      <td>0.64 (0.003)</td>\n",
       "      <td>0.623 (0.009)</td>\n",
       "      <td>0.569 (0.043)</td>\n",
       "      <td>0.642 (0.005)</td>\n",
       "      <td>0.611 (0.012)</td>\n",
       "      <td>0.604 (0.024)</td>\n",
       "    </tr>\n",
       "  </tbody>\n",
       "</table>\n",
       "</div>"
      ],
      "text/plain": [
       "    Unnamed: 0       Logistic          Lasso     Linear SVM  Random Forest  \\\n",
       "0      General  0.648 (0.006)  0.641 (0.009)   0.64 (0.007)   0.67 (0.005)   \n",
       "1      Violent  0.756 (0.013)  0.769 (0.008)  0.762 (0.012)   0.764 (0.01)   \n",
       "2         Drug  0.624 (0.013)  0.618 (0.007)  0.553 (0.007)  0.638 (0.017)   \n",
       "3     Property  0.669 (0.009)  0.675 (0.018)  0.638 (0.021)  0.674 (0.014)   \n",
       "4       Felony  0.649 (0.009)  0.644 (0.018)  0.623 (0.037)  0.702 (0.005)   \n",
       "5  Misdemeanor  0.632 (0.005)  0.634 (0.005)   0.59 (0.008)   0.64 (0.003)   \n",
       "\n",
       "         XGBoost           CART            EBM   Lasso Stumps       RiskSLIM  \n",
       "0   0.656 (0.01)  0.596 (0.027)  0.679 (0.004)  0.625 (0.006)  0.616 (0.024)  \n",
       "1  0.769 (0.007)    0.66 (0.04)  0.744 (0.006)  0.767 (0.008)  0.745 (0.003)  \n",
       "2  0.636 (0.005)  0.595 (0.011)   0.634 (0.01)  0.599 (0.018)  0.625 (0.006)  \n",
       "3  0.689 (0.013)   0.54 (0.015)   0.672 (0.01)  0.625 (0.013)  0.614 (0.043)  \n",
       "4  0.676 (0.019)  0.581 (0.036)  0.705 (0.005)   0.67 (0.016)  0.618 (0.047)  \n",
       "5  0.623 (0.009)  0.569 (0.043)  0.642 (0.005)  0.611 (0.012)  0.604 (0.024)  "
      ]
     },
     "execution_count": 3,
     "metadata": {},
     "output_type": "execute_result"
    }
   ],
   "source": [
    "result"
   ]
  },
  {
   "cell_type": "code",
   "execution_count": 4,
   "metadata": {
    "hideCode": false,
    "hidePrompt": false
   },
   "outputs": [],
   "source": [
    "cols = result.columns.to_list()\n",
    "values = result.values.tolist()"
   ]
  },
  {
   "cell_type": "code",
   "execution_count": 5,
   "metadata": {
    "hideCode": false,
    "hideOutput": true,
    "hidePrompt": false
   },
   "outputs": [
    {
     "name": "stdout",
     "output_type": "stream",
     "text": [
      "\\begin{array}{l | l | l | l | l | l | l | l | l | l} \\hline\n",
      "    General     & \\verb|0.648 (0.006)| & \\verb|0.641 (0.009)| & \\verb|0.64 (0.007) | & \\verb|0.67 (0.005) | & \\verb|0.656 (0.01) | & \\verb|0.596 (0.027)| & \\verb|0.679 (0.004)| & \\verb|0.625 (0.006)| & \\verb|0.616 (0.024)| \\\\ \\hline\n",
      "    Violent     & \\verb|0.756 (0.013)| & \\verb|0.769 (0.008)| & \\verb|0.762 (0.012)| & \\verb|0.764 (0.01) | & \\verb|0.769 (0.007)| & \\verb|0.66 (0.04)  | & \\verb|0.744 (0.006)| & \\verb|0.767 (0.008)| & \\verb|0.745 (0.003)| \\\\ \\hline\n",
      "    Drug        & \\verb|0.624 (0.013)| & \\verb|0.618 (0.007)| & \\verb|0.553 (0.007)| & \\verb|0.638 (0.017)| & \\verb|0.636 (0.005)| & \\verb|0.595 (0.011)| & \\verb|0.634 (0.01) | & \\verb|0.599 (0.018)| & \\verb|0.625 (0.006)| \\\\ \\hline\n",
      "    Property    & \\verb|0.669 (0.009)| & \\verb|0.675 (0.018)| & \\verb|0.638 (0.021)| & \\verb|0.674 (0.014)| & \\verb|0.689 (0.013)| & \\verb|0.54 (0.015) | & \\verb|0.672 (0.01) | & \\verb|0.625 (0.013)| & \\verb|0.614 (0.043)| \\\\ \\hline\n",
      "    Felony      & \\verb|0.649 (0.009)| & \\verb|0.644 (0.018)| & \\verb|0.623 (0.037)| & \\verb|0.702 (0.005)| & \\verb|0.676 (0.019)| & \\verb|0.581 (0.036)| & \\verb|0.705 (0.005)| & \\verb|0.67 (0.016) | & \\verb|0.618 (0.047)| \\\\ \\hline\n",
      "    Misdemeanor & \\verb|0.632 (0.005)| & \\verb|0.634 (0.005)| & \\verb|0.59 (0.008) | & \\verb|0.64 (0.003) | & \\verb|0.623 (0.009)| & \\verb|0.569 (0.043)| & \\verb|0.642 (0.005)| & \\verb|0.611 (0.012)| & \\verb|0.604 (0.024)| \\\\ \\hline\n",
      "\\end{array}\n"
     ]
    }
   ],
   "source": [
    "writer = pytablewriter.LatexTableWriter()\n",
    "writer.value_matrix = values\n",
    "writer.write_table()"
   ]
  }
 ],
 "metadata": {
  "hide_code_all_hidden": false,
  "kernelspec": {
   "display_name": "Python 3",
   "language": "python",
   "name": "python3"
  },
  "language_info": {
   "codemirror_mode": {
    "name": "ipython",
    "version": 3
   },
   "file_extension": ".py",
   "mimetype": "text/x-python",
   "name": "python",
   "nbconvert_exporter": "python",
   "pygments_lexer": "ipython3",
   "version": "3.7.4"
  }
 },
 "nbformat": 4,
 "nbformat_minor": 4
}
