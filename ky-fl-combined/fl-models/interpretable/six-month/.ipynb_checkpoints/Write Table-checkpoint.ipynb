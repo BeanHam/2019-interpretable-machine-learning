{
 "cells": [
  {
   "cell_type": "code",
   "execution_count": 1,
   "metadata": {
    "hideCode": false,
    "hidePrompt": false
   },
   "outputs": [],
   "source": [
    "import pytablewriter\n",
    "import pandas as pd\n",
    "import numpy as np"
   ]
  },
  {
   "cell_type": "code",
   "execution_count": 4,
   "metadata": {
    "hideCode": false,
    "hidePrompt": false
   },
   "outputs": [],
   "source": [
    "result = pd.read_csv(\"C:\\\\Users\\\\binha\\\\Documents\\\\Duke\\\\Cynthia Research\\\\KY-analysis-mytrials\\\\KY Recidivism\\\\KY Results\\\\KY_FL\\\\FL Model\\\\interpretable\\\\Six Month\\\\Six Month FL_inter_model.csv\")"
   ]
  },
  {
   "cell_type": "code",
   "execution_count": 5,
   "metadata": {
    "hideCode": false,
    "hidePrompt": false
   },
   "outputs": [
    {
     "data": {
      "text/html": [
       "<div>\n",
       "<style scoped>\n",
       "    .dataframe tbody tr th:only-of-type {\n",
       "        vertical-align: middle;\n",
       "    }\n",
       "\n",
       "    .dataframe tbody tr th {\n",
       "        vertical-align: top;\n",
       "    }\n",
       "\n",
       "    .dataframe thead th {\n",
       "        text-align: right;\n",
       "    }\n",
       "</style>\n",
       "<table border=\"1\" class=\"dataframe\">\n",
       "  <thead>\n",
       "    <tr style=\"text-align: right;\">\n",
       "      <th></th>\n",
       "      <th>Unnamed: 0</th>\n",
       "      <th>CART</th>\n",
       "      <th>EBM</th>\n",
       "      <th>Lasso Stumps</th>\n",
       "      <th>RiskSLIM</th>\n",
       "    </tr>\n",
       "  </thead>\n",
       "  <tbody>\n",
       "    <tr>\n",
       "      <th>0</th>\n",
       "      <td>General</td>\n",
       "      <td>0.594 (0.019)</td>\n",
       "      <td>0.698 (0.005)</td>\n",
       "      <td>0.659 (0.008)</td>\n",
       "      <td>0.627 (0.008)</td>\n",
       "    </tr>\n",
       "    <tr>\n",
       "      <th>1</th>\n",
       "      <td>Violent</td>\n",
       "      <td>0.716 (0.102)</td>\n",
       "      <td>0.792 (0.008)</td>\n",
       "      <td>0.816 (0.012)</td>\n",
       "      <td>0.793 (0.01)</td>\n",
       "    </tr>\n",
       "    <tr>\n",
       "      <th>2</th>\n",
       "      <td>Drug</td>\n",
       "      <td>0.579 (0.065)</td>\n",
       "      <td>0.607 (0.032)</td>\n",
       "      <td>0.613 (0.018)</td>\n",
       "      <td>0.637 (0.021)</td>\n",
       "    </tr>\n",
       "    <tr>\n",
       "      <th>3</th>\n",
       "      <td>Property</td>\n",
       "      <td>0.542 (0.008)</td>\n",
       "      <td>0.703 (0.014)</td>\n",
       "      <td>0.622 (0.028)</td>\n",
       "      <td>0.676 (0.041)</td>\n",
       "    </tr>\n",
       "    <tr>\n",
       "      <th>4</th>\n",
       "      <td>Felony</td>\n",
       "      <td>0.517 (0.013)</td>\n",
       "      <td>0.71 (0.014)</td>\n",
       "      <td>0.667 (0.033)</td>\n",
       "      <td>0.624 (0.048)</td>\n",
       "    </tr>\n",
       "    <tr>\n",
       "      <th>5</th>\n",
       "      <td>Misdemeanor</td>\n",
       "      <td>0.593 (0.021)</td>\n",
       "      <td>0.669 (0.006)</td>\n",
       "      <td>0.616 (0.025)</td>\n",
       "      <td>0.598 (0.053)</td>\n",
       "    </tr>\n",
       "  </tbody>\n",
       "</table>\n",
       "</div>"
      ],
      "text/plain": [
       "    Unnamed: 0           CART            EBM   Lasso Stumps       RiskSLIM\n",
       "0      General  0.594 (0.019)  0.698 (0.005)  0.659 (0.008)  0.627 (0.008)\n",
       "1      Violent  0.716 (0.102)  0.792 (0.008)  0.816 (0.012)   0.793 (0.01)\n",
       "2         Drug  0.579 (0.065)  0.607 (0.032)  0.613 (0.018)  0.637 (0.021)\n",
       "3     Property  0.542 (0.008)  0.703 (0.014)  0.622 (0.028)  0.676 (0.041)\n",
       "4       Felony  0.517 (0.013)   0.71 (0.014)  0.667 (0.033)  0.624 (0.048)\n",
       "5  Misdemeanor  0.593 (0.021)  0.669 (0.006)  0.616 (0.025)  0.598 (0.053)"
      ]
     },
     "execution_count": 5,
     "metadata": {},
     "output_type": "execute_result"
    }
   ],
   "source": [
    "result"
   ]
  },
  {
   "cell_type": "code",
   "execution_count": 4,
   "metadata": {
    "hideCode": false,
    "hidePrompt": false
   },
   "outputs": [],
   "source": [
    "cols = result.columns.to_list()\n",
    "values = result.values.tolist()"
   ]
  },
  {
   "cell_type": "code",
   "execution_count": 5,
   "metadata": {
    "hideCode": false,
    "hideOutput": true,
    "hidePrompt": false
   },
   "outputs": [
    {
     "name": "stdout",
     "output_type": "stream",
     "text": [
      "\\begin{array}{l | r | r | r | r} \\hline\n",
      "    General     & 0.6380 & 0.6640 & 0.6410 & 0.6320 \\\\ \\hline\n",
      "    Violent     & 0.7590 & 0.7710 & 0.8370 & 0.7700 \\\\ \\hline\n",
      "    Drug        & 0.5870 & 0.5720 & 0.5530 & 0.5590 \\\\ \\hline\n",
      "    Property    & 0.5020 & 0.6320 & 0.6170 & 0.6220 \\\\ \\hline\n",
      "    Felony      & 0.5230 & 0.6640 & 0.6290 & 0.6200 \\\\ \\hline\n",
      "    Misdemeanor & 0.6160 & 0.6250 & 0.5980 & 0.6080 \\\\ \\hline\n",
      "\\end{array}\n"
     ]
    }
   ],
   "source": [
    "writer = pytablewriter.LatexTableWriter()\n",
    "writer.value_matrix = values\n",
    "writer.write_table()"
   ]
  }
 ],
 "metadata": {
  "hide_code_all_hidden": false,
  "kernelspec": {
   "display_name": "Python 3",
   "language": "python",
   "name": "python3"
  },
  "language_info": {
   "codemirror_mode": {
    "name": "ipython",
    "version": 3
   },
   "file_extension": ".py",
   "mimetype": "text/x-python",
   "name": "python",
   "nbconvert_exporter": "python",
   "pygments_lexer": "ipython3",
   "version": "3.7.4"
  }
 },
 "nbformat": 4,
 "nbformat_minor": 4
}
