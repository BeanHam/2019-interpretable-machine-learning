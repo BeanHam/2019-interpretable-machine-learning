{
 "cells": [
  {
   "cell_type": "code",
   "execution_count": 1,
   "metadata": {
    "hideCode": false,
    "hidePrompt": false
   },
   "outputs": [],
   "source": [
    "import numpy as np\n",
    "import pandas as pd"
   ]
  },
  {
   "cell_type": "code",
   "execution_count": 2,
   "metadata": {
    "hideCode": false,
    "hidePrompt": false
   },
   "outputs": [],
   "source": [
    "### KY data\n",
    "KY_data = pd.read_csv(\"~/Documents/Duke/Cynthia Research/KY-analysis-mytrials/KY Recidivism/KY data/kentucky_data.csv\")\n",
    "KY_data = KY_data.drop(['screening_date','ADE', 'Treatment','p_assault','arnold_fta_raw',\n",
    "                        'arnold_nca_raw', 'arnold_nvca_raw', 'race', 'current_pending_charge'], axis=1)"
   ]
  },
  {
   "cell_type": "code",
   "execution_count": 3,
   "metadata": {
    "hideCode": false,
    "hidePrompt": false
   },
   "outputs": [],
   "source": [
    "### FL data\n",
    "FL_data = pd.read_csv(\"~/Documents/Duke/Cynthia Research/KY-analysis-mytrials/broward/data/broward_data.csv\")\n",
    "FL_data = FL_data.drop(['screening_date','age_at_first_charge', 'p_famviol', 'p_juv_fel_count', \n",
    "                        'p_domestic', 'total_convictions', 'race'], axis=1)\n",
    "FL_data.columns = ['person_id', 'sex', 'age_at_current_charge', 'p_charges',\n",
    "                   'p_incarceration', 'p_probation', 'p_felprop_viol', 'p_murder',\n",
    "                   'p_felassult', 'p_misdeassult', 'p_sex_offense', 'p_weapon',\n",
    "                   'p_fta_two_year', 'p_fta_two_year_plus', 'current_violence',\n",
    "                   'current_violence20', 'p_pending_charge', 'p_felony', 'p_misdemeanor',\n",
    "                   'p_violence', 'p_arrest', 'p_property', 'p_traffic', 'p_drug', 'p_dui',\n",
    "                   'p_stalking', 'p_voyeurism', 'p_fraud', 'p_stealing', 'p_trespass',\n",
    "                   'six_month', 'one_year', 'three_year', 'five_year', 'general_two_year',\n",
    "                   'general_six_month', 'drug_two_year', 'property_two_year',\n",
    "                   'misdemeanor_two_year', 'felony_two_year', 'violent_two_year',\n",
    "                   'drug_six_month', 'property_six_month', 'misdemeanor_six_month',\n",
    "                   'felony_six_month', 'violent_six_month']\n",
    "\n",
    "reorder = KY_data.columns\n",
    "FL_data = FL_data.reindex(columns=reorder)"
   ]
  },
  {
   "cell_type": "code",
   "execution_count": 5,
   "metadata": {
    "hideCode": false,
    "hidePrompt": false
   },
   "outputs": [],
   "source": [
    "KY_data.to_csv('KY_cleaned.csv', index=False)\n",
    "FL_data.to_csv('FL_cleaned.csv', index=False)"
   ]
  }
 ],
 "metadata": {
  "hide_code_all_hidden": false,
  "kernelspec": {
   "display_name": "Python 3",
   "language": "python",
   "name": "python3"
  },
  "language_info": {
   "codemirror_mode": {
    "name": "ipython",
    "version": 3
   },
   "file_extension": ".py",
   "mimetype": "text/x-python",
   "name": "python",
   "nbconvert_exporter": "python",
   "pygments_lexer": "ipython3",
   "version": "3.7.4"
  }
 },
 "nbformat": 4,
 "nbformat_minor": 4
}
