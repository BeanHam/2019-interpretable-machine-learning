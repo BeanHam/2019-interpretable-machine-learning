{
 "cells": [
  {
   "cell_type": "code",
   "execution_count": 1,
   "metadata": {
    "hideCode": false,
    "hidePrompt": false
   },
   "outputs": [
    {
     "name": "stdout",
     "output_type": "stream",
     "text": [
      "Current working directory is now:  C:\\Users\\binha\\Documents\\Duke\\Cynthia Research\\interpretable-machine-learning\\ky-fl-combined\\fl-model\n"
     ]
    }
   ],
   "source": [
    "import os \n",
    "os.chdir('../../')\n",
    "print(\"Current working directory is now: \", os.getcwd())\n",
    "\n",
    "import pytablewriter\n",
    "import pandas as pd\n",
    "import numpy as np"
   ]
  },
  {
   "cell_type": "code",
   "execution_count": 2,
   "metadata": {
    "hideCode": false,
    "hidePrompt": false
   },
   "outputs": [],
   "source": [
    "result = pd.read_csv(\"./results/baselines/six-month/six-month-fl-comb.csv\")"
   ]
  },
  {
   "cell_type": "code",
   "execution_count": 3,
   "metadata": {
    "hideCode": false,
    "hidePrompt": false
   },
   "outputs": [
    {
     "data": {
      "text/html": [
       "<div>\n",
       "<style scoped>\n",
       "    .dataframe tbody tr th:only-of-type {\n",
       "        vertical-align: middle;\n",
       "    }\n",
       "\n",
       "    .dataframe tbody tr th {\n",
       "        vertical-align: top;\n",
       "    }\n",
       "\n",
       "    .dataframe thead th {\n",
       "        text-align: right;\n",
       "    }\n",
       "</style>\n",
       "<table border=\"1\" class=\"dataframe\">\n",
       "  <thead>\n",
       "    <tr style=\"text-align: right;\">\n",
       "      <th></th>\n",
       "      <th>Unnamed: 0</th>\n",
       "      <th>Logistic</th>\n",
       "      <th>Lasso</th>\n",
       "      <th>Linear SVM</th>\n",
       "      <th>Random Forest</th>\n",
       "      <th>XGBoost</th>\n",
       "      <th>CART</th>\n",
       "      <th>EBM</th>\n",
       "      <th>Lasso Stumps</th>\n",
       "      <th>RiskSLIM</th>\n",
       "    </tr>\n",
       "  </thead>\n",
       "  <tbody>\n",
       "    <tr>\n",
       "      <th>0</th>\n",
       "      <td>General</td>\n",
       "      <td>0.676 (0.006)</td>\n",
       "      <td>0.665 (0.004)</td>\n",
       "      <td>0.601 (0.011)</td>\n",
       "      <td>0.698 (0.009)</td>\n",
       "      <td>0.685 (0.01)</td>\n",
       "      <td>0.613 (0.018)</td>\n",
       "      <td>0.709 (0.005)</td>\n",
       "      <td>0.663 (0.012)</td>\n",
       "      <td>0.602 (0.046)</td>\n",
       "    </tr>\n",
       "    <tr>\n",
       "      <th>1</th>\n",
       "      <td>Violent</td>\n",
       "      <td>0.653 (0.015)</td>\n",
       "      <td>0.662 (0.021)</td>\n",
       "      <td>0.533 (0.011)</td>\n",
       "      <td>0.762 (0.047)</td>\n",
       "      <td>0.773 (0.007)</td>\n",
       "      <td>0.625 (0.059)</td>\n",
       "      <td>0.757 (0.004)</td>\n",
       "      <td>0.728 (0.026)</td>\n",
       "      <td>0.723 (0.004)</td>\n",
       "    </tr>\n",
       "    <tr>\n",
       "      <th>2</th>\n",
       "      <td>Drug</td>\n",
       "      <td>0.663 (0.031)</td>\n",
       "      <td>0.678 (0.008)</td>\n",
       "      <td>0.521 (0.006)</td>\n",
       "      <td>0.682 (0.009)</td>\n",
       "      <td>0.658 (0.027)</td>\n",
       "      <td>0.6 (0.082)</td>\n",
       "      <td>0.609 (0.037)</td>\n",
       "      <td>0.619 (0.025)</td>\n",
       "      <td>0.635 (0.017)</td>\n",
       "    </tr>\n",
       "    <tr>\n",
       "      <th>3</th>\n",
       "      <td>Property</td>\n",
       "      <td>0.681 (0.012)</td>\n",
       "      <td>0.708 (0.009)</td>\n",
       "      <td>0.529 (0.012)</td>\n",
       "      <td>0.719 (0.053)</td>\n",
       "      <td>0.718 (0.01)</td>\n",
       "      <td>0.555 (0.007)</td>\n",
       "      <td>0.715 (0.018)</td>\n",
       "      <td>0.643 (0.022)</td>\n",
       "      <td>0.696 (0.053)</td>\n",
       "    </tr>\n",
       "    <tr>\n",
       "      <th>4</th>\n",
       "      <td>Felony</td>\n",
       "      <td>0.685 (0.008)</td>\n",
       "      <td>0.679 (0.008)</td>\n",
       "      <td>0.556 (0.011)</td>\n",
       "      <td>0.719 (0.018)</td>\n",
       "      <td>0.683 (0.025)</td>\n",
       "      <td>0.552 (0.049)</td>\n",
       "      <td>0.724 (0.01)</td>\n",
       "      <td>0.652 (0.039)</td>\n",
       "      <td>0.621 (0.036)</td>\n",
       "    </tr>\n",
       "    <tr>\n",
       "      <th>5</th>\n",
       "      <td>Misdemeanor</td>\n",
       "      <td>0.664 (0.003)</td>\n",
       "      <td>0.658 (0.008)</td>\n",
       "      <td>0.558 (0.016)</td>\n",
       "      <td>0.67 (0.004)</td>\n",
       "      <td>0.662 (0.006)</td>\n",
       "      <td>0.604 (0.019)</td>\n",
       "      <td>0.676 (0.006)</td>\n",
       "      <td>0.615 (0.019)</td>\n",
       "      <td>0.583 (0.07)</td>\n",
       "    </tr>\n",
       "  </tbody>\n",
       "</table>\n",
       "</div>"
      ],
      "text/plain": [
       "    Unnamed: 0       Logistic          Lasso     Linear SVM  Random Forest  \\\n",
       "0      General  0.676 (0.006)  0.665 (0.004)  0.601 (0.011)  0.698 (0.009)   \n",
       "1      Violent  0.653 (0.015)  0.662 (0.021)  0.533 (0.011)  0.762 (0.047)   \n",
       "2         Drug  0.663 (0.031)  0.678 (0.008)  0.521 (0.006)  0.682 (0.009)   \n",
       "3     Property  0.681 (0.012)  0.708 (0.009)  0.529 (0.012)  0.719 (0.053)   \n",
       "4       Felony  0.685 (0.008)  0.679 (0.008)  0.556 (0.011)  0.719 (0.018)   \n",
       "5  Misdemeanor  0.664 (0.003)  0.658 (0.008)  0.558 (0.016)   0.67 (0.004)   \n",
       "\n",
       "         XGBoost           CART            EBM   Lasso Stumps       RiskSLIM  \n",
       "0   0.685 (0.01)  0.613 (0.018)  0.709 (0.005)  0.663 (0.012)  0.602 (0.046)  \n",
       "1  0.773 (0.007)  0.625 (0.059)  0.757 (0.004)  0.728 (0.026)  0.723 (0.004)  \n",
       "2  0.658 (0.027)    0.6 (0.082)  0.609 (0.037)  0.619 (0.025)  0.635 (0.017)  \n",
       "3   0.718 (0.01)  0.555 (0.007)  0.715 (0.018)  0.643 (0.022)  0.696 (0.053)  \n",
       "4  0.683 (0.025)  0.552 (0.049)   0.724 (0.01)  0.652 (0.039)  0.621 (0.036)  \n",
       "5  0.662 (0.006)  0.604 (0.019)  0.676 (0.006)  0.615 (0.019)   0.583 (0.07)  "
      ]
     },
     "execution_count": 3,
     "metadata": {},
     "output_type": "execute_result"
    }
   ],
   "source": [
    "result"
   ]
  },
  {
   "cell_type": "code",
   "execution_count": 4,
   "metadata": {
    "hideCode": false,
    "hidePrompt": false
   },
   "outputs": [],
   "source": [
    "cols = result.columns.to_list()\n",
    "values = result.values.tolist()"
   ]
  },
  {
   "cell_type": "code",
   "execution_count": 5,
   "metadata": {
    "hideCode": false,
    "hideOutput": true,
    "hidePrompt": false
   },
   "outputs": [
    {
     "name": "stdout",
     "output_type": "stream",
     "text": [
      "\\begin{array}{l | l | l | l | l | l | l | l | l | l} \\hline\n",
      "    General     & \\verb|0.676 (0.006)| & \\verb|0.665 (0.004)| & \\verb|0.601 (0.011)| & \\verb|0.698 (0.009)| & \\verb|0.685 (0.01) | & \\verb|0.613 (0.018)| & \\verb|0.709 (0.005)| & \\verb|0.663 (0.012)| & \\verb|0.602 (0.046)| \\\\ \\hline\n",
      "    Violent     & \\verb|0.653 (0.015)| & \\verb|0.662 (0.021)| & \\verb|0.533 (0.011)| & \\verb|0.762 (0.047)| & \\verb|0.773 (0.007)| & \\verb|0.625 (0.059)| & \\verb|0.757 (0.004)| & \\verb|0.728 (0.026)| & \\verb|0.723 (0.004)| \\\\ \\hline\n",
      "    Drug        & \\verb|0.663 (0.031)| & \\verb|0.678 (0.008)| & \\verb|0.521 (0.006)| & \\verb|0.682 (0.009)| & \\verb|0.658 (0.027)| & \\verb|0.6 (0.082)  | & \\verb|0.609 (0.037)| & \\verb|0.619 (0.025)| & \\verb|0.635 (0.017)| \\\\ \\hline\n",
      "    Property    & \\verb|0.681 (0.012)| & \\verb|0.708 (0.009)| & \\verb|0.529 (0.012)| & \\verb|0.719 (0.053)| & \\verb|0.718 (0.01) | & \\verb|0.555 (0.007)| & \\verb|0.715 (0.018)| & \\verb|0.643 (0.022)| & \\verb|0.696 (0.053)| \\\\ \\hline\n",
      "    Felony      & \\verb|0.685 (0.008)| & \\verb|0.679 (0.008)| & \\verb|0.556 (0.011)| & \\verb|0.719 (0.018)| & \\verb|0.683 (0.025)| & \\verb|0.552 (0.049)| & \\verb|0.724 (0.01) | & \\verb|0.652 (0.039)| & \\verb|0.621 (0.036)| \\\\ \\hline\n",
      "    Misdemeanor & \\verb|0.664 (0.003)| & \\verb|0.658 (0.008)| & \\verb|0.558 (0.016)| & \\verb|0.67 (0.004) | & \\verb|0.662 (0.006)| & \\verb|0.604 (0.019)| & \\verb|0.676 (0.006)| & \\verb|0.615 (0.019)| & \\verb|0.583 (0.07) | \\\\ \\hline\n",
      "\\end{array}\n"
     ]
    }
   ],
   "source": [
    "writer = pytablewriter.LatexTableWriter()\n",
    "writer.value_matrix = values\n",
    "writer.write_table()"
   ]
  }
 ],
 "metadata": {
  "hide_code_all_hidden": false,
  "kernelspec": {
   "display_name": "Python 3",
   "language": "python",
   "name": "python3"
  },
  "language_info": {
   "codemirror_mode": {
    "name": "ipython",
    "version": 3
   },
   "file_extension": ".py",
   "mimetype": "text/x-python",
   "name": "python",
   "nbconvert_exporter": "python",
   "pygments_lexer": "ipython3",
   "version": "3.7.4"
  }
 },
 "nbformat": 4,
 "nbformat_minor": 4
}
