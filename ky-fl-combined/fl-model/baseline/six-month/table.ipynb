{
 "cells": [
  {
   "cell_type": "code",
   "execution_count": 1,
   "metadata": {
    "hideCode": false,
    "hidePrompt": false
   },
   "outputs": [
    {
     "name": "stdout",
     "output_type": "stream",
     "text": [
      "Current working directory is now:  C:\\Users\\binha\\Documents\\Duke\\Cynthia Research\\interpretable-machine-learning\\ky-fl-combined\\fl-model\n"
     ]
    }
   ],
   "source": [
    "import os \n",
    "os.chdir('../../')\n",
    "print(\"Current working directory is now: \", os.getcwd())\n",
    "\n",
    "import pytablewriter\n",
    "import pandas as pd\n",
    "import numpy as np"
   ]
  },
  {
   "cell_type": "code",
   "execution_count": 2,
   "metadata": {
    "hideCode": false,
    "hidePrompt": false
   },
   "outputs": [],
   "source": [
    "result = pd.read_csv(\"./results/baselines/six-month/six-month-fl-comb.csv\")"
   ]
  },
  {
   "cell_type": "code",
   "execution_count": 3,
   "metadata": {
    "hideCode": false,
    "hidePrompt": false
   },
   "outputs": [
    {
     "data": {
      "text/html": [
       "<div>\n",
       "<style scoped>\n",
       "    .dataframe tbody tr th:only-of-type {\n",
       "        vertical-align: middle;\n",
       "    }\n",
       "\n",
       "    .dataframe tbody tr th {\n",
       "        vertical-align: top;\n",
       "    }\n",
       "\n",
       "    .dataframe thead th {\n",
       "        text-align: right;\n",
       "    }\n",
       "</style>\n",
       "<table border=\"1\" class=\"dataframe\">\n",
       "  <thead>\n",
       "    <tr style=\"text-align: right;\">\n",
       "      <th></th>\n",
       "      <th>Unnamed: 0</th>\n",
       "      <th>Logistic</th>\n",
       "      <th>Lasso</th>\n",
       "      <th>Linear SVM</th>\n",
       "      <th>Random Forest</th>\n",
       "      <th>XGBoost</th>\n",
       "      <th>CART</th>\n",
       "      <th>EBM</th>\n",
       "      <th>Lasso Stumps</th>\n",
       "      <th>RiskSLIM</th>\n",
       "    </tr>\n",
       "  </thead>\n",
       "  <tbody>\n",
       "    <tr>\n",
       "      <th>0</th>\n",
       "      <td>General</td>\n",
       "      <td>0.657 (0.011)</td>\n",
       "      <td>0.638 (0.003)</td>\n",
       "      <td>0.596 (0.005)</td>\n",
       "      <td>0.687 (0.008)</td>\n",
       "      <td>0.671 (0.018)</td>\n",
       "      <td>0.594 (0.019)</td>\n",
       "      <td>0.698 (0.005)</td>\n",
       "      <td>0.659 (0.008)</td>\n",
       "      <td>0.627 (0.008)</td>\n",
       "    </tr>\n",
       "    <tr>\n",
       "      <th>1</th>\n",
       "      <td>Violent</td>\n",
       "      <td>0.791 (0.011)</td>\n",
       "      <td>0.784 (0.009)</td>\n",
       "      <td>0.664 (0.016)</td>\n",
       "      <td>0.818 (0.025)</td>\n",
       "      <td>0.836 (0.006)</td>\n",
       "      <td>0.716 (0.102)</td>\n",
       "      <td>0.792 (0.008)</td>\n",
       "      <td>0.816 (0.012)</td>\n",
       "      <td>0.793 (0.01)</td>\n",
       "    </tr>\n",
       "    <tr>\n",
       "      <th>2</th>\n",
       "      <td>Drug</td>\n",
       "      <td>0.624 (0.028)</td>\n",
       "      <td>0.649 (0.014)</td>\n",
       "      <td>0.528 (0.005)</td>\n",
       "      <td>0.652 (0.009)</td>\n",
       "      <td>0.634 (0.015)</td>\n",
       "      <td>0.579 (0.065)</td>\n",
       "      <td>0.607 (0.032)</td>\n",
       "      <td>0.613 (0.018)</td>\n",
       "      <td>0.637 (0.021)</td>\n",
       "    </tr>\n",
       "    <tr>\n",
       "      <th>3</th>\n",
       "      <td>Property</td>\n",
       "      <td>0.689 (0.004)</td>\n",
       "      <td>0.692 (0.005)</td>\n",
       "      <td>0.55 (0.01)</td>\n",
       "      <td>0.702 (0.047)</td>\n",
       "      <td>0.724 (0.014)</td>\n",
       "      <td>0.542 (0.008)</td>\n",
       "      <td>0.703 (0.014)</td>\n",
       "      <td>0.622 (0.028)</td>\n",
       "      <td>0.676 (0.041)</td>\n",
       "    </tr>\n",
       "    <tr>\n",
       "      <th>4</th>\n",
       "      <td>Felony</td>\n",
       "      <td>0.661 (0.018)</td>\n",
       "      <td>0.632 (0.013)</td>\n",
       "      <td>0.556 (0.011)</td>\n",
       "      <td>0.709 (0.019)</td>\n",
       "      <td>0.668 (0.037)</td>\n",
       "      <td>0.517 (0.013)</td>\n",
       "      <td>0.71 (0.014)</td>\n",
       "      <td>0.667 (0.033)</td>\n",
       "      <td>0.624 (0.048)</td>\n",
       "    </tr>\n",
       "    <tr>\n",
       "      <th>5</th>\n",
       "      <td>Misdemeanor</td>\n",
       "      <td>0.656 (0.006)</td>\n",
       "      <td>0.631 (0.002)</td>\n",
       "      <td>0.566 (0.018)</td>\n",
       "      <td>0.656 (0.016)</td>\n",
       "      <td>0.652 (0.008)</td>\n",
       "      <td>0.593 (0.021)</td>\n",
       "      <td>0.669 (0.006)</td>\n",
       "      <td>0.616 (0.025)</td>\n",
       "      <td>0.598 (0.053)</td>\n",
       "    </tr>\n",
       "  </tbody>\n",
       "</table>\n",
       "</div>"
      ],
      "text/plain": [
       "    Unnamed: 0       Logistic          Lasso     Linear SVM  Random Forest  \\\n",
       "0      General  0.657 (0.011)  0.638 (0.003)  0.596 (0.005)  0.687 (0.008)   \n",
       "1      Violent  0.791 (0.011)  0.784 (0.009)  0.664 (0.016)  0.818 (0.025)   \n",
       "2         Drug  0.624 (0.028)  0.649 (0.014)  0.528 (0.005)  0.652 (0.009)   \n",
       "3     Property  0.689 (0.004)  0.692 (0.005)    0.55 (0.01)  0.702 (0.047)   \n",
       "4       Felony  0.661 (0.018)  0.632 (0.013)  0.556 (0.011)  0.709 (0.019)   \n",
       "5  Misdemeanor  0.656 (0.006)  0.631 (0.002)  0.566 (0.018)  0.656 (0.016)   \n",
       "\n",
       "         XGBoost           CART            EBM   Lasso Stumps       RiskSLIM  \n",
       "0  0.671 (0.018)  0.594 (0.019)  0.698 (0.005)  0.659 (0.008)  0.627 (0.008)  \n",
       "1  0.836 (0.006)  0.716 (0.102)  0.792 (0.008)  0.816 (0.012)   0.793 (0.01)  \n",
       "2  0.634 (0.015)  0.579 (0.065)  0.607 (0.032)  0.613 (0.018)  0.637 (0.021)  \n",
       "3  0.724 (0.014)  0.542 (0.008)  0.703 (0.014)  0.622 (0.028)  0.676 (0.041)  \n",
       "4  0.668 (0.037)  0.517 (0.013)   0.71 (0.014)  0.667 (0.033)  0.624 (0.048)  \n",
       "5  0.652 (0.008)  0.593 (0.021)  0.669 (0.006)  0.616 (0.025)  0.598 (0.053)  "
      ]
     },
     "execution_count": 3,
     "metadata": {},
     "output_type": "execute_result"
    }
   ],
   "source": [
    "result"
   ]
  },
  {
   "cell_type": "code",
   "execution_count": 4,
   "metadata": {
    "hideCode": false,
    "hidePrompt": false
   },
   "outputs": [],
   "source": [
    "cols = result.columns.to_list()\n",
    "values = result.values.tolist()"
   ]
  },
  {
   "cell_type": "code",
   "execution_count": 5,
   "metadata": {
    "hideCode": false,
    "hideOutput": true,
    "hidePrompt": false
   },
   "outputs": [
    {
     "name": "stdout",
     "output_type": "stream",
     "text": [
      "\\begin{array}{l | l | l | l | l | l | l | l | l | l} \\hline\n",
      "    General     & \\verb|0.657 (0.011)| & \\verb|0.638 (0.003)| & \\verb|0.596 (0.005)| & \\verb|0.687 (0.008)| & \\verb|0.671 (0.018)| & \\verb|0.594 (0.019)| & \\verb|0.698 (0.005)| & \\verb|0.659 (0.008)| & \\verb|0.627 (0.008)| \\\\ \\hline\n",
      "    Violent     & \\verb|0.791 (0.011)| & \\verb|0.784 (0.009)| & \\verb|0.664 (0.016)| & \\verb|0.818 (0.025)| & \\verb|0.836 (0.006)| & \\verb|0.716 (0.102)| & \\verb|0.792 (0.008)| & \\verb|0.816 (0.012)| & \\verb|0.793 (0.01) | \\\\ \\hline\n",
      "    Drug        & \\verb|0.624 (0.028)| & \\verb|0.649 (0.014)| & \\verb|0.528 (0.005)| & \\verb|0.652 (0.009)| & \\verb|0.634 (0.015)| & \\verb|0.579 (0.065)| & \\verb|0.607 (0.032)| & \\verb|0.613 (0.018)| & \\verb|0.637 (0.021)| \\\\ \\hline\n",
      "    Property    & \\verb|0.689 (0.004)| & \\verb|0.692 (0.005)| & \\verb|0.55 (0.01)  | & \\verb|0.702 (0.047)| & \\verb|0.724 (0.014)| & \\verb|0.542 (0.008)| & \\verb|0.703 (0.014)| & \\verb|0.622 (0.028)| & \\verb|0.676 (0.041)| \\\\ \\hline\n",
      "    Felony      & \\verb|0.661 (0.018)| & \\verb|0.632 (0.013)| & \\verb|0.556 (0.011)| & \\verb|0.709 (0.019)| & \\verb|0.668 (0.037)| & \\verb|0.517 (0.013)| & \\verb|0.71 (0.014) | & \\verb|0.667 (0.033)| & \\verb|0.624 (0.048)| \\\\ \\hline\n",
      "    Misdemeanor & \\verb|0.656 (0.006)| & \\verb|0.631 (0.002)| & \\verb|0.566 (0.018)| & \\verb|0.656 (0.016)| & \\verb|0.652 (0.008)| & \\verb|0.593 (0.021)| & \\verb|0.669 (0.006)| & \\verb|0.616 (0.025)| & \\verb|0.598 (0.053)| \\\\ \\hline\n",
      "\\end{array}\n"
     ]
    }
   ],
   "source": [
    "writer = pytablewriter.LatexTableWriter()\n",
    "writer.value_matrix = values\n",
    "writer.write_table()"
   ]
  }
 ],
 "metadata": {
  "hide_code_all_hidden": false,
  "kernelspec": {
   "display_name": "Python 3",
   "language": "python",
   "name": "python3"
  },
  "language_info": {
   "codemirror_mode": {
    "name": "ipython",
    "version": 3
   },
   "file_extension": ".py",
   "mimetype": "text/x-python",
   "name": "python",
   "nbconvert_exporter": "python",
   "pygments_lexer": "ipython3",
   "version": "3.7.4"
  }
 },
 "nbformat": 4,
 "nbformat_minor": 4
}
