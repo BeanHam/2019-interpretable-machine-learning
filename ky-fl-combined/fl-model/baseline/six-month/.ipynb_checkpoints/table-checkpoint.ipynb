{
 "cells": [
  {
   "cell_type": "code",
   "execution_count": 1,
   "metadata": {
    "hideCode": false,
    "hidePrompt": false
   },
   "outputs": [
    {
     "name": "stdout",
     "output_type": "stream",
     "text": [
      "Current working directory is now:  C:\\Users\\binha\\Documents\\Duke\\Cynthia Research\\interpretable-machine-learning\\ky-fl-combined\\fl-model\n"
     ]
    }
   ],
   "source": [
    "import os \n",
    "os.chdir('../../')\n",
    "print(\"Current working directory is now: \", os.getcwd())\n",
    "\n",
    "import pytablewriter\n",
    "import pandas as pd\n",
    "import numpy as np"
   ]
  },
  {
   "cell_type": "markdown",
   "metadata": {},
   "source": [
    "### FL-score"
   ]
  },
  {
   "cell_type": "code",
   "execution_count": 4,
   "metadata": {
    "hideCode": false,
    "hidePrompt": false
   },
   "outputs": [],
   "source": [
    "result = pd.read_csv(\"./results/baselines/six-month/six-month-fl-fl-score-comb.csv\")"
   ]
  },
  {
   "cell_type": "code",
   "execution_count": 6,
   "metadata": {
    "hideCode": false,
    "hidePrompt": false
   },
   "outputs": [
    {
     "data": {
      "text/html": [
       "<div>\n",
       "<style scoped>\n",
       "    .dataframe tbody tr th:only-of-type {\n",
       "        vertical-align: middle;\n",
       "    }\n",
       "\n",
       "    .dataframe tbody tr th {\n",
       "        vertical-align: top;\n",
       "    }\n",
       "\n",
       "    .dataframe thead th {\n",
       "        text-align: right;\n",
       "    }\n",
       "</style>\n",
       "<table border=\"1\" class=\"dataframe\">\n",
       "  <thead>\n",
       "    <tr style=\"text-align: right;\">\n",
       "      <th></th>\n",
       "      <th>Unnamed: 0</th>\n",
       "      <th>Logistic</th>\n",
       "      <th>Lasso</th>\n",
       "      <th>Linear SVM</th>\n",
       "      <th>Random Forest</th>\n",
       "      <th>XGBoost</th>\n",
       "      <th>CART</th>\n",
       "      <th>EBM</th>\n",
       "      <th>Lasso Stumps</th>\n",
       "      <th>RiskSLIM</th>\n",
       "    </tr>\n",
       "  </thead>\n",
       "  <tbody>\n",
       "    <tr>\n",
       "      <th>0</th>\n",
       "      <td>General</td>\n",
       "      <td>0.624 (0.024)</td>\n",
       "      <td>0.607 (0.019)</td>\n",
       "      <td>0.619 (0.026)</td>\n",
       "      <td>0.62 (0.025)</td>\n",
       "      <td>0.621 (0.019)</td>\n",
       "      <td>0.553 (0.014)</td>\n",
       "      <td>0.62 (0.027)</td>\n",
       "      <td>0.617 (0.035)</td>\n",
       "      <td>0.582 (0.024)</td>\n",
       "    </tr>\n",
       "    <tr>\n",
       "      <th>1</th>\n",
       "      <td>Violent</td>\n",
       "      <td>0.68 (0.027)</td>\n",
       "      <td>0.65 (0.038)</td>\n",
       "      <td>0.614 (0.039)</td>\n",
       "      <td>0.67 (0.039)</td>\n",
       "      <td>0.689 (0.031)</td>\n",
       "      <td>0.623 (0.043)</td>\n",
       "      <td>0.683 (0.04)</td>\n",
       "      <td>0.683 (0.032)</td>\n",
       "      <td>0.638 (0.02)</td>\n",
       "    </tr>\n",
       "    <tr>\n",
       "      <th>2</th>\n",
       "      <td>Drug</td>\n",
       "      <td>0.672 (0.082)</td>\n",
       "      <td>0.696 (0.025)</td>\n",
       "      <td>0.649 (0.08)</td>\n",
       "      <td>0.687 (0.065)</td>\n",
       "      <td>0.686 (0.044)</td>\n",
       "      <td>0.569 (0.074)</td>\n",
       "      <td>0.655 (0.035)</td>\n",
       "      <td>0.704 (0.054)</td>\n",
       "      <td>0.52 (0.04)</td>\n",
       "    </tr>\n",
       "    <tr>\n",
       "      <th>3</th>\n",
       "      <td>Property</td>\n",
       "      <td>0.726 (0.049)</td>\n",
       "      <td>0.725 (0.053)</td>\n",
       "      <td>0.648 (0.058)</td>\n",
       "      <td>0.698 (0.046)</td>\n",
       "      <td>0.72 (0.052)</td>\n",
       "      <td>0.637 (0.052)</td>\n",
       "      <td>0.723 (0.03)</td>\n",
       "      <td>0.699 (0.038)</td>\n",
       "      <td>0.655 (0.044)</td>\n",
       "    </tr>\n",
       "    <tr>\n",
       "      <th>4</th>\n",
       "      <td>Felony</td>\n",
       "      <td>0.62 (0.058)</td>\n",
       "      <td>0.613 (0.054)</td>\n",
       "      <td>0.587 (0.086)</td>\n",
       "      <td>0.611 (0.076)</td>\n",
       "      <td>0.601 (0.047)</td>\n",
       "      <td>0.524 (0.015)</td>\n",
       "      <td>0.605 (0.052)</td>\n",
       "      <td>0.584 (0.034)</td>\n",
       "      <td>0.542 (0.031)</td>\n",
       "    </tr>\n",
       "    <tr>\n",
       "      <th>5</th>\n",
       "      <td>Misdemeanor</td>\n",
       "      <td>0.616 (0.03)</td>\n",
       "      <td>0.583 (0.039)</td>\n",
       "      <td>0.59 (0.022)</td>\n",
       "      <td>0.601 (0.049)</td>\n",
       "      <td>0.62 (0.044)</td>\n",
       "      <td>0.543 (0.033)</td>\n",
       "      <td>0.612 (0.05)</td>\n",
       "      <td>0.576 (0.037)</td>\n",
       "      <td>0.523 (0.02)</td>\n",
       "    </tr>\n",
       "  </tbody>\n",
       "</table>\n",
       "</div>"
      ],
      "text/plain": [
       "    Unnamed: 0       Logistic          Lasso     Linear SVM  Random Forest  \\\n",
       "0      General  0.624 (0.024)  0.607 (0.019)  0.619 (0.026)   0.62 (0.025)   \n",
       "1      Violent   0.68 (0.027)   0.65 (0.038)  0.614 (0.039)   0.67 (0.039)   \n",
       "2         Drug  0.672 (0.082)  0.696 (0.025)   0.649 (0.08)  0.687 (0.065)   \n",
       "3     Property  0.726 (0.049)  0.725 (0.053)  0.648 (0.058)  0.698 (0.046)   \n",
       "4       Felony   0.62 (0.058)  0.613 (0.054)  0.587 (0.086)  0.611 (0.076)   \n",
       "5  Misdemeanor   0.616 (0.03)  0.583 (0.039)   0.59 (0.022)  0.601 (0.049)   \n",
       "\n",
       "         XGBoost           CART            EBM   Lasso Stumps       RiskSLIM  \n",
       "0  0.621 (0.019)  0.553 (0.014)   0.62 (0.027)  0.617 (0.035)  0.582 (0.024)  \n",
       "1  0.689 (0.031)  0.623 (0.043)   0.683 (0.04)  0.683 (0.032)   0.638 (0.02)  \n",
       "2  0.686 (0.044)  0.569 (0.074)  0.655 (0.035)  0.704 (0.054)    0.52 (0.04)  \n",
       "3   0.72 (0.052)  0.637 (0.052)   0.723 (0.03)  0.699 (0.038)  0.655 (0.044)  \n",
       "4  0.601 (0.047)  0.524 (0.015)  0.605 (0.052)  0.584 (0.034)  0.542 (0.031)  \n",
       "5   0.62 (0.044)  0.543 (0.033)   0.612 (0.05)  0.576 (0.037)   0.523 (0.02)  "
      ]
     },
     "execution_count": 6,
     "metadata": {},
     "output_type": "execute_result"
    }
   ],
   "source": [
    "result"
   ]
  },
  {
   "cell_type": "code",
   "execution_count": 7,
   "metadata": {
    "hideCode": false,
    "hidePrompt": false
   },
   "outputs": [],
   "source": [
    "cols = result.columns.to_list()\n",
    "values = result.values.tolist()"
   ]
  },
  {
   "cell_type": "code",
   "execution_count": 8,
   "metadata": {
    "hideCode": false,
    "hideOutput": true,
    "hidePrompt": false
   },
   "outputs": [
    {
     "name": "stdout",
     "output_type": "stream",
     "text": [
      "\\begin{array}{l | l | l | l | l | l | l | l | l | l} \\hline\n",
      "    General     & \\verb|0.624 (0.024)| & \\verb|0.607 (0.019)| & \\verb|0.619 (0.026)| & \\verb|0.62 (0.025) | & \\verb|0.621 (0.019)| & \\verb|0.553 (0.014)| & \\verb|0.62 (0.027) | & \\verb|0.617 (0.035)| & \\verb|0.582 (0.024)| \\\\ \\hline\n",
      "    Violent     & \\verb|0.68 (0.027) | & \\verb|0.65 (0.038) | & \\verb|0.614 (0.039)| & \\verb|0.67 (0.039) | & \\verb|0.689 (0.031)| & \\verb|0.623 (0.043)| & \\verb|0.683 (0.04) | & \\verb|0.683 (0.032)| & \\verb|0.638 (0.02) | \\\\ \\hline\n",
      "    Drug        & \\verb|0.672 (0.082)| & \\verb|0.696 (0.025)| & \\verb|0.649 (0.08) | & \\verb|0.687 (0.065)| & \\verb|0.686 (0.044)| & \\verb|0.569 (0.074)| & \\verb|0.655 (0.035)| & \\verb|0.704 (0.054)| & \\verb|0.52 (0.04)  | \\\\ \\hline\n",
      "    Property    & \\verb|0.726 (0.049)| & \\verb|0.725 (0.053)| & \\verb|0.648 (0.058)| & \\verb|0.698 (0.046)| & \\verb|0.72 (0.052) | & \\verb|0.637 (0.052)| & \\verb|0.723 (0.03) | & \\verb|0.699 (0.038)| & \\verb|0.655 (0.044)| \\\\ \\hline\n",
      "    Felony      & \\verb|0.62 (0.058) | & \\verb|0.613 (0.054)| & \\verb|0.587 (0.086)| & \\verb|0.611 (0.076)| & \\verb|0.601 (0.047)| & \\verb|0.524 (0.015)| & \\verb|0.605 (0.052)| & \\verb|0.584 (0.034)| & \\verb|0.542 (0.031)| \\\\ \\hline\n",
      "    Misdemeanor & \\verb|0.616 (0.03) | & \\verb|0.583 (0.039)| & \\verb|0.59 (0.022) | & \\verb|0.601 (0.049)| & \\verb|0.62 (0.044) | & \\verb|0.543 (0.033)| & \\verb|0.612 (0.05) | & \\verb|0.576 (0.037)| & \\verb|0.523 (0.02) | \\\\ \\hline\n",
      "\\end{array}\n"
     ]
    }
   ],
   "source": [
    "writer = pytablewriter.LatexTableWriter()\n",
    "writer.value_matrix = values\n",
    "writer.write_table()"
   ]
  },
  {
   "cell_type": "markdown",
   "metadata": {},
   "source": [
    "### KY-score"
   ]
  },
  {
   "cell_type": "code",
   "execution_count": 9,
   "metadata": {
    "hideCode": false,
    "hidePrompt": false
   },
   "outputs": [],
   "source": [
    "result = pd.read_csv(\"./results/baselines/six-month/six-month-fl-ky-score-comb.csv\")"
   ]
  },
  {
   "cell_type": "code",
   "execution_count": 10,
   "metadata": {
    "hideCode": false,
    "hidePrompt": false
   },
   "outputs": [
    {
     "data": {
      "text/html": [
       "<div>\n",
       "<style scoped>\n",
       "    .dataframe tbody tr th:only-of-type {\n",
       "        vertical-align: middle;\n",
       "    }\n",
       "\n",
       "    .dataframe tbody tr th {\n",
       "        vertical-align: top;\n",
       "    }\n",
       "\n",
       "    .dataframe thead th {\n",
       "        text-align: right;\n",
       "    }\n",
       "</style>\n",
       "<table border=\"1\" class=\"dataframe\">\n",
       "  <thead>\n",
       "    <tr style=\"text-align: right;\">\n",
       "      <th></th>\n",
       "      <th>Unnamed: 0</th>\n",
       "      <th>Logistic</th>\n",
       "      <th>Lasso</th>\n",
       "      <th>Linear SVM</th>\n",
       "      <th>Random Forest</th>\n",
       "      <th>XGBoost</th>\n",
       "      <th>CART</th>\n",
       "      <th>EBM</th>\n",
       "      <th>Lasso Stumps</th>\n",
       "      <th>RiskSLIM</th>\n",
       "    </tr>\n",
       "  </thead>\n",
       "  <tbody>\n",
       "    <tr>\n",
       "      <th>0</th>\n",
       "      <td>General</td>\n",
       "      <td>0.676 (0.006)</td>\n",
       "      <td>0.665 (0.004)</td>\n",
       "      <td>0.601 (0.011)</td>\n",
       "      <td>0.698 (0.009)</td>\n",
       "      <td>0.685 (0.01)</td>\n",
       "      <td>0.613 (0.018)</td>\n",
       "      <td>0.709 (0.005)</td>\n",
       "      <td>0.663 (0.012)</td>\n",
       "      <td>0.602 (0.046)</td>\n",
       "    </tr>\n",
       "    <tr>\n",
       "      <th>1</th>\n",
       "      <td>Violent</td>\n",
       "      <td>0.653 (0.015)</td>\n",
       "      <td>0.662 (0.021)</td>\n",
       "      <td>0.533 (0.011)</td>\n",
       "      <td>0.762 (0.047)</td>\n",
       "      <td>0.773 (0.007)</td>\n",
       "      <td>0.625 (0.059)</td>\n",
       "      <td>0.757 (0.004)</td>\n",
       "      <td>0.728 (0.026)</td>\n",
       "      <td>0.723 (0.004)</td>\n",
       "    </tr>\n",
       "    <tr>\n",
       "      <th>2</th>\n",
       "      <td>Drug</td>\n",
       "      <td>0.663 (0.031)</td>\n",
       "      <td>0.678 (0.008)</td>\n",
       "      <td>0.521 (0.006)</td>\n",
       "      <td>0.682 (0.009)</td>\n",
       "      <td>0.658 (0.027)</td>\n",
       "      <td>0.6 (0.082)</td>\n",
       "      <td>0.609 (0.037)</td>\n",
       "      <td>0.619 (0.025)</td>\n",
       "      <td>0.635 (0.017)</td>\n",
       "    </tr>\n",
       "    <tr>\n",
       "      <th>3</th>\n",
       "      <td>Property</td>\n",
       "      <td>0.681 (0.012)</td>\n",
       "      <td>0.708 (0.009)</td>\n",
       "      <td>0.529 (0.012)</td>\n",
       "      <td>0.719 (0.053)</td>\n",
       "      <td>0.718 (0.01)</td>\n",
       "      <td>0.555 (0.007)</td>\n",
       "      <td>0.715 (0.018)</td>\n",
       "      <td>0.643 (0.022)</td>\n",
       "      <td>0.696 (0.053)</td>\n",
       "    </tr>\n",
       "    <tr>\n",
       "      <th>4</th>\n",
       "      <td>Felony</td>\n",
       "      <td>0.685 (0.008)</td>\n",
       "      <td>0.679 (0.008)</td>\n",
       "      <td>0.556 (0.011)</td>\n",
       "      <td>0.719 (0.018)</td>\n",
       "      <td>0.683 (0.025)</td>\n",
       "      <td>0.552 (0.049)</td>\n",
       "      <td>0.724 (0.01)</td>\n",
       "      <td>0.652 (0.039)</td>\n",
       "      <td>0.621 (0.036)</td>\n",
       "    </tr>\n",
       "    <tr>\n",
       "      <th>5</th>\n",
       "      <td>Misdemeanor</td>\n",
       "      <td>0.664 (0.003)</td>\n",
       "      <td>0.658 (0.008)</td>\n",
       "      <td>0.558 (0.016)</td>\n",
       "      <td>0.67 (0.004)</td>\n",
       "      <td>0.662 (0.006)</td>\n",
       "      <td>0.604 (0.019)</td>\n",
       "      <td>0.676 (0.006)</td>\n",
       "      <td>0.615 (0.019)</td>\n",
       "      <td>0.583 (0.07)</td>\n",
       "    </tr>\n",
       "  </tbody>\n",
       "</table>\n",
       "</div>"
      ],
      "text/plain": [
       "    Unnamed: 0       Logistic          Lasso     Linear SVM  Random Forest  \\\n",
       "0      General  0.676 (0.006)  0.665 (0.004)  0.601 (0.011)  0.698 (0.009)   \n",
       "1      Violent  0.653 (0.015)  0.662 (0.021)  0.533 (0.011)  0.762 (0.047)   \n",
       "2         Drug  0.663 (0.031)  0.678 (0.008)  0.521 (0.006)  0.682 (0.009)   \n",
       "3     Property  0.681 (0.012)  0.708 (0.009)  0.529 (0.012)  0.719 (0.053)   \n",
       "4       Felony  0.685 (0.008)  0.679 (0.008)  0.556 (0.011)  0.719 (0.018)   \n",
       "5  Misdemeanor  0.664 (0.003)  0.658 (0.008)  0.558 (0.016)   0.67 (0.004)   \n",
       "\n",
       "         XGBoost           CART            EBM   Lasso Stumps       RiskSLIM  \n",
       "0   0.685 (0.01)  0.613 (0.018)  0.709 (0.005)  0.663 (0.012)  0.602 (0.046)  \n",
       "1  0.773 (0.007)  0.625 (0.059)  0.757 (0.004)  0.728 (0.026)  0.723 (0.004)  \n",
       "2  0.658 (0.027)    0.6 (0.082)  0.609 (0.037)  0.619 (0.025)  0.635 (0.017)  \n",
       "3   0.718 (0.01)  0.555 (0.007)  0.715 (0.018)  0.643 (0.022)  0.696 (0.053)  \n",
       "4  0.683 (0.025)  0.552 (0.049)   0.724 (0.01)  0.652 (0.039)  0.621 (0.036)  \n",
       "5  0.662 (0.006)  0.604 (0.019)  0.676 (0.006)  0.615 (0.019)   0.583 (0.07)  "
      ]
     },
     "execution_count": 10,
     "metadata": {},
     "output_type": "execute_result"
    }
   ],
   "source": [
    "result"
   ]
  },
  {
   "cell_type": "code",
   "execution_count": 11,
   "metadata": {
    "hideCode": false,
    "hidePrompt": false
   },
   "outputs": [],
   "source": [
    "cols = result.columns.to_list()\n",
    "values = result.values.tolist()"
   ]
  },
  {
   "cell_type": "code",
   "execution_count": 12,
   "metadata": {
    "hideCode": false,
    "hideOutput": true,
    "hidePrompt": false
   },
   "outputs": [
    {
     "name": "stdout",
     "output_type": "stream",
     "text": [
      "\\begin{array}{l | l | l | l | l | l | l | l | l | l} \\hline\n",
      "    General     & \\verb|0.676 (0.006)| & \\verb|0.665 (0.004)| & \\verb|0.601 (0.011)| & \\verb|0.698 (0.009)| & \\verb|0.685 (0.01) | & \\verb|0.613 (0.018)| & \\verb|0.709 (0.005)| & \\verb|0.663 (0.012)| & \\verb|0.602 (0.046)| \\\\ \\hline\n",
      "    Violent     & \\verb|0.653 (0.015)| & \\verb|0.662 (0.021)| & \\verb|0.533 (0.011)| & \\verb|0.762 (0.047)| & \\verb|0.773 (0.007)| & \\verb|0.625 (0.059)| & \\verb|0.757 (0.004)| & \\verb|0.728 (0.026)| & \\verb|0.723 (0.004)| \\\\ \\hline\n",
      "    Drug        & \\verb|0.663 (0.031)| & \\verb|0.678 (0.008)| & \\verb|0.521 (0.006)| & \\verb|0.682 (0.009)| & \\verb|0.658 (0.027)| & \\verb|0.6 (0.082)  | & \\verb|0.609 (0.037)| & \\verb|0.619 (0.025)| & \\verb|0.635 (0.017)| \\\\ \\hline\n",
      "    Property    & \\verb|0.681 (0.012)| & \\verb|0.708 (0.009)| & \\verb|0.529 (0.012)| & \\verb|0.719 (0.053)| & \\verb|0.718 (0.01) | & \\verb|0.555 (0.007)| & \\verb|0.715 (0.018)| & \\verb|0.643 (0.022)| & \\verb|0.696 (0.053)| \\\\ \\hline\n",
      "    Felony      & \\verb|0.685 (0.008)| & \\verb|0.679 (0.008)| & \\verb|0.556 (0.011)| & \\verb|0.719 (0.018)| & \\verb|0.683 (0.025)| & \\verb|0.552 (0.049)| & \\verb|0.724 (0.01) | & \\verb|0.652 (0.039)| & \\verb|0.621 (0.036)| \\\\ \\hline\n",
      "    Misdemeanor & \\verb|0.664 (0.003)| & \\verb|0.658 (0.008)| & \\verb|0.558 (0.016)| & \\verb|0.67 (0.004) | & \\verb|0.662 (0.006)| & \\verb|0.604 (0.019)| & \\verb|0.676 (0.006)| & \\verb|0.615 (0.019)| & \\verb|0.583 (0.07) | \\\\ \\hline\n",
      "\\end{array}\n"
     ]
    }
   ],
   "source": [
    "writer = pytablewriter.LatexTableWriter()\n",
    "writer.value_matrix = values\n",
    "writer.write_table()"
   ]
  }
 ],
 "metadata": {
  "hide_code_all_hidden": false,
  "kernelspec": {
   "display_name": "Python 3",
   "language": "python",
   "name": "python3"
  },
  "language_info": {
   "codemirror_mode": {
    "name": "ipython",
    "version": 3
   },
   "file_extension": ".py",
   "mimetype": "text/x-python",
   "name": "python",
   "nbconvert_exporter": "python",
   "pygments_lexer": "ipython3",
   "version": "3.7.4"
  }
 },
 "nbformat": 4,
 "nbformat_minor": 4
}
