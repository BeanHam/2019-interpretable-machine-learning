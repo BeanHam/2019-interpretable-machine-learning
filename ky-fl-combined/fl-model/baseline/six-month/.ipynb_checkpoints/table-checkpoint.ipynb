{
 "cells": [
  {
   "cell_type": "code",
   "execution_count": 1,
   "metadata": {
    "hideCode": false,
    "hidePrompt": false
   },
   "outputs": [
    {
     "name": "stdout",
     "output_type": "stream",
     "text": [
      "Current working directory is now:  C:\\Users\\binha\\Documents\\Duke\\Cynthia Research\\interpretable-machine-learning\\ky-fl-combined\\fl-model\n"
     ]
    }
   ],
   "source": [
    "import os \n",
    "os.chdir('../../')\n",
    "print(\"Current working directory is now: \", os.getcwd())\n",
    "\n",
    "import pytablewriter\n",
    "import pandas as pd\n",
    "import numpy as np"
   ]
  },
  {
   "cell_type": "code",
   "execution_count": 2,
   "metadata": {
    "hideCode": false,
    "hidePrompt": false
   },
   "outputs": [],
   "source": [
    "result = pd.read_csv(\"./results/baselines/six-month/six-month-fl-comb.csv\")"
   ]
  },
  {
   "cell_type": "code",
   "execution_count": 3,
   "metadata": {
    "hideCode": false,
    "hidePrompt": false
   },
   "outputs": [
    {
     "data": {
      "text/html": [
       "<div>\n",
       "<style scoped>\n",
       "    .dataframe tbody tr th:only-of-type {\n",
       "        vertical-align: middle;\n",
       "    }\n",
       "\n",
       "    .dataframe tbody tr th {\n",
       "        vertical-align: top;\n",
       "    }\n",
       "\n",
       "    .dataframe thead th {\n",
       "        text-align: right;\n",
       "    }\n",
       "</style>\n",
       "<table border=\"1\" class=\"dataframe\">\n",
       "  <thead>\n",
       "    <tr style=\"text-align: right;\">\n",
       "      <th></th>\n",
       "      <th>Unnamed: 0</th>\n",
       "      <th>Logistic</th>\n",
       "      <th>Lasso</th>\n",
       "      <th>Linear SVM</th>\n",
       "      <th>Random Forest</th>\n",
       "      <th>XGBoost</th>\n",
       "      <th>CART</th>\n",
       "      <th>EBM</th>\n",
       "      <th>Lasso Stumps</th>\n",
       "      <th>RiskSLIM</th>\n",
       "    </tr>\n",
       "  </thead>\n",
       "  <tbody>\n",
       "    <tr>\n",
       "      <th>0</th>\n",
       "      <td>General</td>\n",
       "      <td>0.661 (0.006)</td>\n",
       "      <td>0.656 (0.004)</td>\n",
       "      <td>0.597 (0.009)</td>\n",
       "      <td>0.68 (0.009)</td>\n",
       "      <td>0.67 (0.008)</td>\n",
       "      <td>0.6 (0.016)</td>\n",
       "      <td>0.691 (0.004)</td>\n",
       "      <td>0.647 (0.011)</td>\n",
       "      <td>0.591 (0.041)</td>\n",
       "    </tr>\n",
       "    <tr>\n",
       "      <th>1</th>\n",
       "      <td>Violent</td>\n",
       "      <td>0.657 (0.015)</td>\n",
       "      <td>0.666 (0.019)</td>\n",
       "      <td>0.542 (0.011)</td>\n",
       "      <td>0.765 (0.043)</td>\n",
       "      <td>0.78 (0.005)</td>\n",
       "      <td>0.635 (0.064)</td>\n",
       "      <td>0.747 (0.005)</td>\n",
       "      <td>0.735 (0.027)</td>\n",
       "      <td>0.721 (0.006)</td>\n",
       "    </tr>\n",
       "    <tr>\n",
       "      <th>2</th>\n",
       "      <td>Drug</td>\n",
       "      <td>0.651 (0.03)</td>\n",
       "      <td>0.667 (0.008)</td>\n",
       "      <td>0.52 (0.005)</td>\n",
       "      <td>0.67 (0.008)</td>\n",
       "      <td>0.643 (0.023)</td>\n",
       "      <td>0.593 (0.076)</td>\n",
       "      <td>0.594 (0.034)</td>\n",
       "      <td>0.578 (0.03)</td>\n",
       "      <td>0.626 (0.015)</td>\n",
       "    </tr>\n",
       "    <tr>\n",
       "      <th>3</th>\n",
       "      <td>Property</td>\n",
       "      <td>0.682 (0.012)</td>\n",
       "      <td>0.706 (0.01)</td>\n",
       "      <td>0.533 (0.014)</td>\n",
       "      <td>0.716 (0.052)</td>\n",
       "      <td>0.716 (0.009)</td>\n",
       "      <td>0.555 (0.007)</td>\n",
       "      <td>0.705 (0.017)</td>\n",
       "      <td>0.646 (0.019)</td>\n",
       "      <td>0.695 (0.053)</td>\n",
       "    </tr>\n",
       "    <tr>\n",
       "      <th>4</th>\n",
       "      <td>Felony</td>\n",
       "      <td>0.678 (0.009)</td>\n",
       "      <td>0.674 (0.007)</td>\n",
       "      <td>0.556 (0.011)</td>\n",
       "      <td>0.706 (0.016)</td>\n",
       "      <td>0.671 (0.022)</td>\n",
       "      <td>0.548 (0.043)</td>\n",
       "      <td>0.709 (0.01)</td>\n",
       "      <td>0.64 (0.035)</td>\n",
       "      <td>0.612 (0.031)</td>\n",
       "    </tr>\n",
       "    <tr>\n",
       "      <th>5</th>\n",
       "      <td>Misdemeanor</td>\n",
       "      <td>0.648 (0.003)</td>\n",
       "      <td>0.647 (0.008)</td>\n",
       "      <td>0.555 (0.015)</td>\n",
       "      <td>0.653 (0.003)</td>\n",
       "      <td>0.647 (0.005)</td>\n",
       "      <td>0.594 (0.018)</td>\n",
       "      <td>0.659 (0.006)</td>\n",
       "      <td>0.605 (0.017)</td>\n",
       "      <td>0.575 (0.063)</td>\n",
       "    </tr>\n",
       "  </tbody>\n",
       "</table>\n",
       "</div>"
      ],
      "text/plain": [
       "    Unnamed: 0       Logistic          Lasso     Linear SVM  Random Forest  \\\n",
       "0      General  0.661 (0.006)  0.656 (0.004)  0.597 (0.009)   0.68 (0.009)   \n",
       "1      Violent  0.657 (0.015)  0.666 (0.019)  0.542 (0.011)  0.765 (0.043)   \n",
       "2         Drug   0.651 (0.03)  0.667 (0.008)   0.52 (0.005)   0.67 (0.008)   \n",
       "3     Property  0.682 (0.012)   0.706 (0.01)  0.533 (0.014)  0.716 (0.052)   \n",
       "4       Felony  0.678 (0.009)  0.674 (0.007)  0.556 (0.011)  0.706 (0.016)   \n",
       "5  Misdemeanor  0.648 (0.003)  0.647 (0.008)  0.555 (0.015)  0.653 (0.003)   \n",
       "\n",
       "         XGBoost           CART            EBM   Lasso Stumps       RiskSLIM  \n",
       "0   0.67 (0.008)    0.6 (0.016)  0.691 (0.004)  0.647 (0.011)  0.591 (0.041)  \n",
       "1   0.78 (0.005)  0.635 (0.064)  0.747 (0.005)  0.735 (0.027)  0.721 (0.006)  \n",
       "2  0.643 (0.023)  0.593 (0.076)  0.594 (0.034)   0.578 (0.03)  0.626 (0.015)  \n",
       "3  0.716 (0.009)  0.555 (0.007)  0.705 (0.017)  0.646 (0.019)  0.695 (0.053)  \n",
       "4  0.671 (0.022)  0.548 (0.043)   0.709 (0.01)   0.64 (0.035)  0.612 (0.031)  \n",
       "5  0.647 (0.005)  0.594 (0.018)  0.659 (0.006)  0.605 (0.017)  0.575 (0.063)  "
      ]
     },
     "execution_count": 3,
     "metadata": {},
     "output_type": "execute_result"
    }
   ],
   "source": [
    "result"
   ]
  },
  {
   "cell_type": "code",
   "execution_count": 4,
   "metadata": {
    "hideCode": false,
    "hidePrompt": false
   },
   "outputs": [],
   "source": [
    "cols = result.columns.to_list()\n",
    "values = result.values.tolist()"
   ]
  },
  {
   "cell_type": "code",
   "execution_count": 5,
   "metadata": {
    "hideCode": false,
    "hideOutput": true,
    "hidePrompt": false
   },
   "outputs": [
    {
     "name": "stdout",
     "output_type": "stream",
     "text": [
      "\\begin{array}{l | l | l | l | l | l | l | l | l | l} \\hline\n",
      "    General     & \\verb|0.661 (0.006)| & \\verb|0.656 (0.004)| & \\verb|0.597 (0.009)| & \\verb|0.68 (0.009) | & \\verb|0.67 (0.008) | & \\verb|0.6 (0.016)  | & \\verb|0.691 (0.004)| & \\verb|0.647 (0.011)| & \\verb|0.591 (0.041)| \\\\ \\hline\n",
      "    Violent     & \\verb|0.657 (0.015)| & \\verb|0.666 (0.019)| & \\verb|0.542 (0.011)| & \\verb|0.765 (0.043)| & \\verb|0.78 (0.005) | & \\verb|0.635 (0.064)| & \\verb|0.747 (0.005)| & \\verb|0.735 (0.027)| & \\verb|0.721 (0.006)| \\\\ \\hline\n",
      "    Drug        & \\verb|0.651 (0.03) | & \\verb|0.667 (0.008)| & \\verb|0.52 (0.005) | & \\verb|0.67 (0.008) | & \\verb|0.643 (0.023)| & \\verb|0.593 (0.076)| & \\verb|0.594 (0.034)| & \\verb|0.578 (0.03) | & \\verb|0.626 (0.015)| \\\\ \\hline\n",
      "    Property    & \\verb|0.682 (0.012)| & \\verb|0.706 (0.01) | & \\verb|0.533 (0.014)| & \\verb|0.716 (0.052)| & \\verb|0.716 (0.009)| & \\verb|0.555 (0.007)| & \\verb|0.705 (0.017)| & \\verb|0.646 (0.019)| & \\verb|0.695 (0.053)| \\\\ \\hline\n",
      "    Felony      & \\verb|0.678 (0.009)| & \\verb|0.674 (0.007)| & \\verb|0.556 (0.011)| & \\verb|0.706 (0.016)| & \\verb|0.671 (0.022)| & \\verb|0.548 (0.043)| & \\verb|0.709 (0.01) | & \\verb|0.64 (0.035) | & \\verb|0.612 (0.031)| \\\\ \\hline\n",
      "    Misdemeanor & \\verb|0.648 (0.003)| & \\verb|0.647 (0.008)| & \\verb|0.555 (0.015)| & \\verb|0.653 (0.003)| & \\verb|0.647 (0.005)| & \\verb|0.594 (0.018)| & \\verb|0.659 (0.006)| & \\verb|0.605 (0.017)| & \\verb|0.575 (0.063)| \\\\ \\hline\n",
      "\\end{array}\n"
     ]
    }
   ],
   "source": [
    "writer = pytablewriter.LatexTableWriter()\n",
    "writer.value_matrix = values\n",
    "writer.write_table()"
   ]
  }
 ],
 "metadata": {
  "hide_code_all_hidden": false,
  "kernelspec": {
   "display_name": "Python 3",
   "language": "python",
   "name": "python3"
  },
  "language_info": {
   "codemirror_mode": {
    "name": "ipython",
    "version": 3
   },
   "file_extension": ".py",
   "mimetype": "text/x-python",
   "name": "python",
   "nbconvert_exporter": "python",
   "pygments_lexer": "ipython3",
   "version": "3.7.4"
  }
 },
 "nbformat": 4,
 "nbformat_minor": 4
}
