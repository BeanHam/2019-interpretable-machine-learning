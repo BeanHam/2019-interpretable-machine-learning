{
 "cells": [
  {
   "cell_type": "code",
   "execution_count": 1,
   "metadata": {},
   "outputs": [
    {
     "name": "stdout",
     "output_type": "stream",
     "text": [
      "Current working directory is now:  C:\\Users\\binha\\Documents\\Duke\\Cynthia Research\\interpretable-machine-learning\\ky-fl-combined\\fl-model\n"
     ]
    }
   ],
   "source": [
    "import os \n",
    "os.chdir('../../')\n",
    "print(\"Current working directory is now: \", os.getcwd())\n",
    "\n",
    "import pandas as pd\n",
    "import numpy as np\n",
    "import csv\n",
    "import fl_utils.fl_baseline_functions as base"
   ]
  },
  {
   "cell_type": "code",
   "execution_count": 2,
   "metadata": {},
   "outputs": [],
   "source": [
    "KY_data = pd.read_csv(\"~/Documents/Duke/Cynthia Research/data/ky-fl-data/KY-cleaned.csv\").sort_values('person_id')\n",
    "FL_data = pd.read_csv(\"~/Documents/Duke/Cynthia Research/data/ky-fl-data/FL-cleaned.csv\").sort_values('person_id')\n",
    "\n",
    "## split x and y \n",
    "KY_X = KY_data.loc[:,:'current_violence20']\n",
    "KY_Y = KY_data['drug_six_month'].values\n",
    "FL_X = FL_data.loc[:,:'current_violence20']\n",
    "FL_Y = FL_data['drug_six_month'].values"
   ]
  },
  {
   "cell_type": "markdown",
   "metadata": {},
   "source": [
    "### Model"
   ]
  },
  {
   "cell_type": "code",
   "execution_count": 3,
   "metadata": {},
   "outputs": [
    {
     "name": "stderr",
     "output_type": "stream",
     "text": [
      "C:\\Users\\binha\\Anaconda3\\lib\\site-packages\\sklearn\\model_selection\\_search.py:813: DeprecationWarning: The default of the `iid` parameter will change from True to False in version 0.22 and will be removed in 0.24. This will change numeric results when test-set sizes are unequal.\n",
      "  DeprecationWarning)\n"
     ]
    }
   ],
   "source": [
    "#### Logistic\n",
    "c = np.linspace(1e-5, 1e-2, 100).tolist()\n",
    "logistic_summary = base.Logistic(KY_X, KY_Y, FL_X, FL_Y, C=c,seed=816)\n",
    "\n",
    "#### Lasso\n",
    "c = np.linspace(1e-5, 1e-2, 100).tolist()\n",
    "lasso_summary = base.Lasso(KY_X, KY_Y, FL_X, FL_Y, C=c,seed=816)\n",
    "\n",
    "#### LinearSVM\n",
    "c = np.linspace(1e-5, 1e-2, 100).tolist()\n",
    "svm_summary = base.LinearSVM(KY_X, KY_Y, FL_X, FL_Y, C=c,seed=816)\n",
    "\n",
    "#### Random Forest\n",
    "n_estimators =  [50,100,200,400,600]\n",
    "depth = [1,2,3]\n",
    "impurity = [0.001, 0.002, 0.003, 0.004, 0.005, \\\n",
    "            0.006, 0.007, 0.008, 0.009, 0.01]\n",
    "rf_summary = base.RF(KY_X, KY_Y, FL_X, FL_Y,  \n",
    "                     depth=depth, \n",
    "                     estimators=n_estimators, \n",
    "                     impurity=impurity,\n",
    "                     seed=816)\n",
    "\n",
    "#### XGBoost\n",
    "learning_rate = [0.05]\n",
    "depth = [1,2,3]\n",
    "n_estimators = [50,100,200,400,600]\n",
    "gamma = [6,8,10,12]\n",
    "child_weight = [6,8,10,12]\n",
    "subsample = [0.5]\n",
    "xgb_summary = base.XGB(KY_X, KY_Y, FL_X, FL_Y, \n",
    "                       learning_rate=learning_rate, \n",
    "                       depth=depth, \n",
    "                       estimators=n_estimators,\n",
    "                       gamma=gamma, \n",
    "                       child_weight=child_weight, \n",
    "                       subsample=subsample, \n",
    "                       seed=816)\n",
    "\n",
    "#### save results\n",
    "summary_drug6_fl_model = {\"Logistic\": logistic_summary,\n",
    "                          \"Lasso\": lasso_summary,\n",
    "                          \"LinearSVM\": svm_summary,\n",
    "                          \"RF\": rf_summary,\n",
    "                          \"XGBoost\": xgb_summary}"
   ]
  },
  {
   "cell_type": "code",
   "execution_count": 6,
   "metadata": {},
   "outputs": [
    {
     "data": {
      "text/plain": [
       "[['Logistic', 0.6928509210616202, 0.04128233670770685, 0.6239689618427782],\n",
       " ['Lasso', 0.7019303892758779, 0.007690880717967796, 0.6489437119572653],\n",
       " ['LinearSVM', 0.6579865191780574, 0.03897921360717418, 0.528426740233053],\n",
       " ['RF', 0.6599569371888765, 0.1156103776258542, 0.6515536661795053],\n",
       " ['XGBoost', 0.6951470733096421, 0.05599736789768195, 0.6342902918497477]]"
      ]
     },
     "execution_count": 6,
     "metadata": {},
     "output_type": "execute_result"
    }
   ],
   "source": [
    "results = []\n",
    "for model_name, model_summary in summary_drug6_fl_model.items():\n",
    "    results.append([model_name, \n",
    "                    np.mean(model_summary['FL_validation']), \n",
    "                    np.mean(model_summary['auc_diff']), \n",
    "                    np.mean(model_summary['KY_score'])])\n",
    "results"
   ]
  },
  {
   "cell_type": "code",
   "execution_count": 7,
   "metadata": {},
   "outputs": [],
   "source": [
    "path = \"./results/baselines/six-month/\"\n",
    "results = [[\"Drug\",             \n",
    "            np.str(round(np.mean(logistic_summary['KY_score']),3)) + \" (\" + np.str(round(np.std(logistic_summary['KY_score']),3)) + \")\", \n",
    "            np.str(round(np.mean(lasso_summary['KY_score']), 3)) + \" (\" + np.str(round(np.std(lasso_summary['KY_score']),3)) + \")\", \n",
    "            np.str(round(np.mean(svm_summary['KY_score']),3)) + \" (\" + np.str(round(np.std(svm_summary['KY_score']),3)) + \")\", \n",
    "            np.str(round(np.mean(rf_summary['KY_score']),3)) + \" (\" + np.str(round(np.std(rf_summary['KY_score']),3)) + \")\", \n",
    "            np.str(round(np.mean(xgb_summary['KY_score']),3)) + \" (\" + np.str(round(np.std(xgb_summary['KY_score']),3)) + \")\"]]\n",
    "with open(path + 'six-month-fl-baseline.csv', 'a') as writeFile:\n",
    "    writer = csv.writer(writeFile)\n",
    "    writer.writerows(results)"
   ]
  }
 ],
 "metadata": {
  "kernelspec": {
   "display_name": "Python 3",
   "language": "python",
   "name": "python3"
  },
  "language_info": {
   "codemirror_mode": {
    "name": "ipython",
    "version": 3
   },
   "file_extension": ".py",
   "mimetype": "text/x-python",
   "name": "python",
   "nbconvert_exporter": "python",
   "pygments_lexer": "ipython3",
   "version": "3.7.4"
  }
 },
 "nbformat": 4,
 "nbformat_minor": 4
}
