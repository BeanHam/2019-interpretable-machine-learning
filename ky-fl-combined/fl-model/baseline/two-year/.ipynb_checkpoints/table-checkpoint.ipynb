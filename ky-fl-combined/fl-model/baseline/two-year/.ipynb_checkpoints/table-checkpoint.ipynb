{
 "cells": [
  {
   "cell_type": "code",
   "execution_count": 1,
   "metadata": {
    "hideCode": false,
    "hidePrompt": false
   },
   "outputs": [
    {
     "name": "stdout",
     "output_type": "stream",
     "text": [
      "Current working directory is now:  C:\\Users\\binha\\Documents\\Duke\\Cynthia Research\\interpretable-machine-learning\\ky-fl-combined\\fl-model\n"
     ]
    }
   ],
   "source": [
    "import os \n",
    "os.chdir('../../')\n",
    "print(\"Current working directory is now: \", os.getcwd())\n",
    "\n",
    "import pytablewriter\n",
    "import pandas as pd\n",
    "import numpy as np"
   ]
  },
  {
   "cell_type": "code",
   "execution_count": 2,
   "metadata": {
    "hideCode": false,
    "hidePrompt": false
   },
   "outputs": [],
   "source": [
    "result = pd.read_csv(\"./results/baselines/two-year/two-year-fl-comb.csv\")"
   ]
  },
  {
   "cell_type": "code",
   "execution_count": 3,
   "metadata": {
    "hideCode": false,
    "hidePrompt": false
   },
   "outputs": [
    {
     "data": {
      "text/html": [
       "<div>\n",
       "<style scoped>\n",
       "    .dataframe tbody tr th:only-of-type {\n",
       "        vertical-align: middle;\n",
       "    }\n",
       "\n",
       "    .dataframe tbody tr th {\n",
       "        vertical-align: top;\n",
       "    }\n",
       "\n",
       "    .dataframe thead th {\n",
       "        text-align: right;\n",
       "    }\n",
       "</style>\n",
       "<table border=\"1\" class=\"dataframe\">\n",
       "  <thead>\n",
       "    <tr style=\"text-align: right;\">\n",
       "      <th></th>\n",
       "      <th>Unnamed: 0</th>\n",
       "      <th>Logistic</th>\n",
       "      <th>Lasso</th>\n",
       "      <th>Linear SVM</th>\n",
       "      <th>Random Forest</th>\n",
       "      <th>XGBoost</th>\n",
       "      <th>CART</th>\n",
       "      <th>EBM</th>\n",
       "      <th>Lasso Stumps</th>\n",
       "      <th>RiskSLIM</th>\n",
       "    </tr>\n",
       "  </thead>\n",
       "  <tbody>\n",
       "    <tr>\n",
       "      <th>0</th>\n",
       "      <td>General</td>\n",
       "      <td>0.654 (0.006)</td>\n",
       "      <td>0.645 (0.001)</td>\n",
       "      <td>0.648 (0.006)</td>\n",
       "      <td>0.687 (0.005)</td>\n",
       "      <td>0.678 (0.005)</td>\n",
       "      <td>0.618 (0.023)</td>\n",
       "      <td>0.69 (0.003)</td>\n",
       "      <td>0.642 (0.009)</td>\n",
       "      <td>0.641 (0.035)</td>\n",
       "    </tr>\n",
       "    <tr>\n",
       "      <th>1</th>\n",
       "      <td>Violent</td>\n",
       "      <td>0.674 (0.005)</td>\n",
       "      <td>0.651 (0.007)</td>\n",
       "      <td>0.614 (0.013)</td>\n",
       "      <td>0.725 (0.005)</td>\n",
       "      <td>0.724 (0.005)</td>\n",
       "      <td>0.589 (0.052)</td>\n",
       "      <td>0.715 (0.005)</td>\n",
       "      <td>0.66 (0.025)</td>\n",
       "      <td>0.663 (0.022)</td>\n",
       "    </tr>\n",
       "    <tr>\n",
       "      <th>2</th>\n",
       "      <td>Drug</td>\n",
       "      <td>0.638 (0.008)</td>\n",
       "      <td>0.625 (0.003)</td>\n",
       "      <td>0.552 (0.005)</td>\n",
       "      <td>0.646 (0.021)</td>\n",
       "      <td>0.64 (0.005)</td>\n",
       "      <td>0.606 (0.013)</td>\n",
       "      <td>0.642 (0.008)</td>\n",
       "      <td>0.618 (0.009)</td>\n",
       "      <td>0.626 (0.011)</td>\n",
       "    </tr>\n",
       "    <tr>\n",
       "      <th>3</th>\n",
       "      <td>Property</td>\n",
       "      <td>0.63 (0.022)</td>\n",
       "      <td>0.665 (0.013)</td>\n",
       "      <td>0.56 (0.016)</td>\n",
       "      <td>0.694 (0.017)</td>\n",
       "      <td>0.673 (0.021)</td>\n",
       "      <td>0.549 (0.018)</td>\n",
       "      <td>0.68 (0.01)</td>\n",
       "      <td>0.595 (0.014)</td>\n",
       "      <td>0.6 (0.05)</td>\n",
       "    </tr>\n",
       "    <tr>\n",
       "      <th>4</th>\n",
       "      <td>Felony</td>\n",
       "      <td>0.665 (0.006)</td>\n",
       "      <td>0.657 (0.001)</td>\n",
       "      <td>0.593 (0.011)</td>\n",
       "      <td>0.713 (0.003)</td>\n",
       "      <td>0.698 (0.013)</td>\n",
       "      <td>0.589 (0.041)</td>\n",
       "      <td>0.714 (0.007)</td>\n",
       "      <td>0.667 (0.023)</td>\n",
       "      <td>0.624 (0.055)</td>\n",
       "    </tr>\n",
       "    <tr>\n",
       "      <th>5</th>\n",
       "      <td>Misdemeanor</td>\n",
       "      <td>0.627 (0.006)</td>\n",
       "      <td>0.614 (0.025)</td>\n",
       "      <td>0.576 (0.01)</td>\n",
       "      <td>0.651 (0.01)</td>\n",
       "      <td>0.635 (0.013)</td>\n",
       "      <td>0.567 (0.047)</td>\n",
       "      <td>0.655 (0.007)</td>\n",
       "      <td>0.612 (0.015)</td>\n",
       "      <td>0.621 (0.024)</td>\n",
       "    </tr>\n",
       "  </tbody>\n",
       "</table>\n",
       "</div>"
      ],
      "text/plain": [
       "    Unnamed: 0       Logistic          Lasso     Linear SVM  Random Forest  \\\n",
       "0      General  0.654 (0.006)  0.645 (0.001)  0.648 (0.006)  0.687 (0.005)   \n",
       "1      Violent  0.674 (0.005)  0.651 (0.007)  0.614 (0.013)  0.725 (0.005)   \n",
       "2         Drug  0.638 (0.008)  0.625 (0.003)  0.552 (0.005)  0.646 (0.021)   \n",
       "3     Property   0.63 (0.022)  0.665 (0.013)   0.56 (0.016)  0.694 (0.017)   \n",
       "4       Felony  0.665 (0.006)  0.657 (0.001)  0.593 (0.011)  0.713 (0.003)   \n",
       "5  Misdemeanor  0.627 (0.006)  0.614 (0.025)   0.576 (0.01)   0.651 (0.01)   \n",
       "\n",
       "         XGBoost           CART            EBM   Lasso Stumps       RiskSLIM  \n",
       "0  0.678 (0.005)  0.618 (0.023)   0.69 (0.003)  0.642 (0.009)  0.641 (0.035)  \n",
       "1  0.724 (0.005)  0.589 (0.052)  0.715 (0.005)   0.66 (0.025)  0.663 (0.022)  \n",
       "2   0.64 (0.005)  0.606 (0.013)  0.642 (0.008)  0.618 (0.009)  0.626 (0.011)  \n",
       "3  0.673 (0.021)  0.549 (0.018)    0.68 (0.01)  0.595 (0.014)     0.6 (0.05)  \n",
       "4  0.698 (0.013)  0.589 (0.041)  0.714 (0.007)  0.667 (0.023)  0.624 (0.055)  \n",
       "5  0.635 (0.013)  0.567 (0.047)  0.655 (0.007)  0.612 (0.015)  0.621 (0.024)  "
      ]
     },
     "execution_count": 3,
     "metadata": {},
     "output_type": "execute_result"
    }
   ],
   "source": [
    "result"
   ]
  },
  {
   "cell_type": "code",
   "execution_count": 4,
   "metadata": {
    "hideCode": false,
    "hidePrompt": false
   },
   "outputs": [],
   "source": [
    "cols = result.columns.to_list()\n",
    "values = result.values.tolist()"
   ]
  },
  {
   "cell_type": "code",
   "execution_count": 5,
   "metadata": {
    "hideCode": false,
    "hideOutput": true,
    "hidePrompt": false
   },
   "outputs": [
    {
     "name": "stdout",
     "output_type": "stream",
     "text": [
      "\\begin{array}{l | l | l | l | l | l | l | l | l | l} \\hline\n",
      "    General     & \\verb|0.654 (0.006)| & \\verb|0.645 (0.001)| & \\verb|0.648 (0.006)| & \\verb|0.687 (0.005)| & \\verb|0.678 (0.005)| & \\verb|0.618 (0.023)| & \\verb|0.69 (0.003) | & \\verb|0.642 (0.009)| & \\verb|0.641 (0.035)| \\\\ \\hline\n",
      "    Violent     & \\verb|0.674 (0.005)| & \\verb|0.651 (0.007)| & \\verb|0.614 (0.013)| & \\verb|0.725 (0.005)| & \\verb|0.724 (0.005)| & \\verb|0.589 (0.052)| & \\verb|0.715 (0.005)| & \\verb|0.66 (0.025) | & \\verb|0.663 (0.022)| \\\\ \\hline\n",
      "    Drug        & \\verb|0.638 (0.008)| & \\verb|0.625 (0.003)| & \\verb|0.552 (0.005)| & \\verb|0.646 (0.021)| & \\verb|0.64 (0.005) | & \\verb|0.606 (0.013)| & \\verb|0.642 (0.008)| & \\verb|0.618 (0.009)| & \\verb|0.626 (0.011)| \\\\ \\hline\n",
      "    Property    & \\verb|0.63 (0.022) | & \\verb|0.665 (0.013)| & \\verb|0.56 (0.016) | & \\verb|0.694 (0.017)| & \\verb|0.673 (0.021)| & \\verb|0.549 (0.018)| & \\verb|0.68 (0.01)  | & \\verb|0.595 (0.014)| & \\verb|0.6 (0.05)   | \\\\ \\hline\n",
      "    Felony      & \\verb|0.665 (0.006)| & \\verb|0.657 (0.001)| & \\verb|0.593 (0.011)| & \\verb|0.713 (0.003)| & \\verb|0.698 (0.013)| & \\verb|0.589 (0.041)| & \\verb|0.714 (0.007)| & \\verb|0.667 (0.023)| & \\verb|0.624 (0.055)| \\\\ \\hline\n",
      "    Misdemeanor & \\verb|0.627 (0.006)| & \\verb|0.614 (0.025)| & \\verb|0.576 (0.01) | & \\verb|0.651 (0.01) | & \\verb|0.635 (0.013)| & \\verb|0.567 (0.047)| & \\verb|0.655 (0.007)| & \\verb|0.612 (0.015)| & \\verb|0.621 (0.024)| \\\\ \\hline\n",
      "\\end{array}\n"
     ]
    }
   ],
   "source": [
    "writer = pytablewriter.LatexTableWriter()\n",
    "writer.value_matrix = values\n",
    "writer.write_table()"
   ]
  }
 ],
 "metadata": {
  "hide_code_all_hidden": false,
  "kernelspec": {
   "display_name": "Python 3",
   "language": "python",
   "name": "python3"
  },
  "language_info": {
   "codemirror_mode": {
    "name": "ipython",
    "version": 3
   },
   "file_extension": ".py",
   "mimetype": "text/x-python",
   "name": "python",
   "nbconvert_exporter": "python",
   "pygments_lexer": "ipython3",
   "version": "3.7.4"
  }
 },
 "nbformat": 4,
 "nbformat_minor": 4
}
