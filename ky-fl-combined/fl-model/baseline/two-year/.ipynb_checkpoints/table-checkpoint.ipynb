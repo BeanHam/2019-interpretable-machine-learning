{
 "cells": [
  {
   "cell_type": "code",
   "execution_count": 1,
   "metadata": {
    "hideCode": false,
    "hidePrompt": false
   },
   "outputs": [
    {
     "name": "stdout",
     "output_type": "stream",
     "text": [
      "Current working directory is now:  C:\\Users\\binha\\Documents\\Duke\\Cynthia Research\\interpretable-machine-learning\\ky-fl-combined\\fl-model\n"
     ]
    }
   ],
   "source": [
    "import os \n",
    "os.chdir('../../')\n",
    "print(\"Current working directory is now: \", os.getcwd())\n",
    "\n",
    "import pytablewriter\n",
    "import pandas as pd\n",
    "import numpy as np"
   ]
  },
  {
   "cell_type": "markdown",
   "metadata": {},
   "source": [
    "### FL-score"
   ]
  },
  {
   "cell_type": "code",
   "execution_count": 2,
   "metadata": {
    "hideCode": false,
    "hidePrompt": false
   },
   "outputs": [],
   "source": [
    "result = pd.read_csv(\"./results/baselines/two-year/two-year-fl-fl-score-comb.csv\")"
   ]
  },
  {
   "cell_type": "code",
   "execution_count": 3,
   "metadata": {
    "hideCode": false,
    "hidePrompt": false
   },
   "outputs": [
    {
     "data": {
      "text/html": [
       "<div>\n",
       "<style scoped>\n",
       "    .dataframe tbody tr th:only-of-type {\n",
       "        vertical-align: middle;\n",
       "    }\n",
       "\n",
       "    .dataframe tbody tr th {\n",
       "        vertical-align: top;\n",
       "    }\n",
       "\n",
       "    .dataframe thead th {\n",
       "        text-align: right;\n",
       "    }\n",
       "</style>\n",
       "<table border=\"1\" class=\"dataframe\">\n",
       "  <thead>\n",
       "    <tr style=\"text-align: right;\">\n",
       "      <th></th>\n",
       "      <th>Unnamed: 0</th>\n",
       "      <th>Logistic</th>\n",
       "      <th>Lasso</th>\n",
       "      <th>Linear SVM</th>\n",
       "      <th>Random Forest</th>\n",
       "      <th>XGBoost</th>\n",
       "      <th>CART</th>\n",
       "      <th>EBM</th>\n",
       "      <th>Lasso Stumps</th>\n",
       "      <th>RiskSLIM</th>\n",
       "    </tr>\n",
       "  </thead>\n",
       "  <tbody>\n",
       "    <tr>\n",
       "      <th>0</th>\n",
       "      <td>General</td>\n",
       "      <td>0.669 (0.02)</td>\n",
       "      <td>0.649 (0.021)</td>\n",
       "      <td>0.67 (0.02)</td>\n",
       "      <td>0.657 (0.034)</td>\n",
       "      <td>0.659 (0.019)</td>\n",
       "      <td>0.629 (0.028)</td>\n",
       "      <td>0.663 (0.031)</td>\n",
       "      <td>0.644 (0.027)</td>\n",
       "      <td>0.605 (0.029)</td>\n",
       "    </tr>\n",
       "    <tr>\n",
       "      <th>1</th>\n",
       "      <td>Violent</td>\n",
       "      <td>0.679 (0.038)</td>\n",
       "      <td>0.662 (0.035)</td>\n",
       "      <td>0.662 (0.034)</td>\n",
       "      <td>0.675 (0.037)</td>\n",
       "      <td>0.677 (0.05)</td>\n",
       "      <td>0.6 (0.037)</td>\n",
       "      <td>0.675 (0.049)</td>\n",
       "      <td>0.673 (0.035)</td>\n",
       "      <td>0.629 (0.038)</td>\n",
       "    </tr>\n",
       "    <tr>\n",
       "      <th>2</th>\n",
       "      <td>Drug</td>\n",
       "      <td>0.716 (0.047)</td>\n",
       "      <td>0.734 (0.034)</td>\n",
       "      <td>0.702 (0.043)</td>\n",
       "      <td>0.688 (0.044)</td>\n",
       "      <td>0.72 (0.034)</td>\n",
       "      <td>0.672 (0.041)</td>\n",
       "      <td>0.69 (0.054)</td>\n",
       "      <td>0.709 (0.044)</td>\n",
       "      <td>0.63 (0.022)</td>\n",
       "    </tr>\n",
       "    <tr>\n",
       "      <th>3</th>\n",
       "      <td>Property</td>\n",
       "      <td>0.721 (0.057)</td>\n",
       "      <td>0.731 (0.057)</td>\n",
       "      <td>0.687 (0.052)</td>\n",
       "      <td>0.725 (0.039)</td>\n",
       "      <td>0.729 (0.04)</td>\n",
       "      <td>0.685 (0.058)</td>\n",
       "      <td>0.738 (0.031)</td>\n",
       "      <td>0.733 (0.039)</td>\n",
       "      <td>0.635 (0.056)</td>\n",
       "    </tr>\n",
       "    <tr>\n",
       "      <th>4</th>\n",
       "      <td>Felony</td>\n",
       "      <td>0.651 (0.04)</td>\n",
       "      <td>0.652 (0.053)</td>\n",
       "      <td>0.622 (0.036)</td>\n",
       "      <td>0.649 (0.045)</td>\n",
       "      <td>0.647 (0.039)</td>\n",
       "      <td>0.598 (0.034)</td>\n",
       "      <td>0.656 (0.05)</td>\n",
       "      <td>0.64 (0.031)</td>\n",
       "      <td>0.56 (0.05)</td>\n",
       "    </tr>\n",
       "    <tr>\n",
       "      <th>5</th>\n",
       "      <td>Misdemeanor</td>\n",
       "      <td>0.634 (0.017)</td>\n",
       "      <td>0.602 (0.012)</td>\n",
       "      <td>0.632 (0.017)</td>\n",
       "      <td>0.629 (0.022)</td>\n",
       "      <td>0.624 (0.02)</td>\n",
       "      <td>0.585 (0.041)</td>\n",
       "      <td>0.633 (0.025)</td>\n",
       "      <td>0.603 (0.016)</td>\n",
       "      <td>0.552 (0.022)</td>\n",
       "    </tr>\n",
       "  </tbody>\n",
       "</table>\n",
       "</div>"
      ],
      "text/plain": [
       "    Unnamed: 0       Logistic          Lasso     Linear SVM  Random Forest  \\\n",
       "0      General   0.669 (0.02)  0.649 (0.021)    0.67 (0.02)  0.657 (0.034)   \n",
       "1      Violent  0.679 (0.038)  0.662 (0.035)  0.662 (0.034)  0.675 (0.037)   \n",
       "2         Drug  0.716 (0.047)  0.734 (0.034)  0.702 (0.043)  0.688 (0.044)   \n",
       "3     Property  0.721 (0.057)  0.731 (0.057)  0.687 (0.052)  0.725 (0.039)   \n",
       "4       Felony   0.651 (0.04)  0.652 (0.053)  0.622 (0.036)  0.649 (0.045)   \n",
       "5  Misdemeanor  0.634 (0.017)  0.602 (0.012)  0.632 (0.017)  0.629 (0.022)   \n",
       "\n",
       "         XGBoost           CART            EBM   Lasso Stumps       RiskSLIM  \n",
       "0  0.659 (0.019)  0.629 (0.028)  0.663 (0.031)  0.644 (0.027)  0.605 (0.029)  \n",
       "1   0.677 (0.05)    0.6 (0.037)  0.675 (0.049)  0.673 (0.035)  0.629 (0.038)  \n",
       "2   0.72 (0.034)  0.672 (0.041)   0.69 (0.054)  0.709 (0.044)   0.63 (0.022)  \n",
       "3   0.729 (0.04)  0.685 (0.058)  0.738 (0.031)  0.733 (0.039)  0.635 (0.056)  \n",
       "4  0.647 (0.039)  0.598 (0.034)   0.656 (0.05)   0.64 (0.031)    0.56 (0.05)  \n",
       "5   0.624 (0.02)  0.585 (0.041)  0.633 (0.025)  0.603 (0.016)  0.552 (0.022)  "
      ]
     },
     "execution_count": 3,
     "metadata": {},
     "output_type": "execute_result"
    }
   ],
   "source": [
    "result"
   ]
  },
  {
   "cell_type": "code",
   "execution_count": 4,
   "metadata": {
    "hideCode": false,
    "hidePrompt": false
   },
   "outputs": [],
   "source": [
    "cols = result.columns.to_list()\n",
    "values = result.values.tolist()"
   ]
  },
  {
   "cell_type": "code",
   "execution_count": 5,
   "metadata": {
    "hideCode": false,
    "hideOutput": true,
    "hidePrompt": false
   },
   "outputs": [
    {
     "name": "stdout",
     "output_type": "stream",
     "text": [
      "\\begin{array}{l | l | l | l | l | l | l | l | l | l} \\hline\n",
      "    General     & \\verb|0.669 (0.02) | & \\verb|0.649 (0.021)| & \\verb|0.67 (0.02)  | & \\verb|0.657 (0.034)| & \\verb|0.659 (0.019)| & \\verb|0.629 (0.028)| & \\verb|0.663 (0.031)| & \\verb|0.644 (0.027)| & \\verb|0.605 (0.029)| \\\\ \\hline\n",
      "    Violent     & \\verb|0.679 (0.038)| & \\verb|0.662 (0.035)| & \\verb|0.662 (0.034)| & \\verb|0.675 (0.037)| & \\verb|0.677 (0.05) | & \\verb|0.6 (0.037)  | & \\verb|0.675 (0.049)| & \\verb|0.673 (0.035)| & \\verb|0.629 (0.038)| \\\\ \\hline\n",
      "    Drug        & \\verb|0.716 (0.047)| & \\verb|0.734 (0.034)| & \\verb|0.702 (0.043)| & \\verb|0.688 (0.044)| & \\verb|0.72 (0.034) | & \\verb|0.672 (0.041)| & \\verb|0.69 (0.054) | & \\verb|0.709 (0.044)| & \\verb|0.63 (0.022) | \\\\ \\hline\n",
      "    Property    & \\verb|0.721 (0.057)| & \\verb|0.731 (0.057)| & \\verb|0.687 (0.052)| & \\verb|0.725 (0.039)| & \\verb|0.729 (0.04) | & \\verb|0.685 (0.058)| & \\verb|0.738 (0.031)| & \\verb|0.733 (0.039)| & \\verb|0.635 (0.056)| \\\\ \\hline\n",
      "    Felony      & \\verb|0.651 (0.04) | & \\verb|0.652 (0.053)| & \\verb|0.622 (0.036)| & \\verb|0.649 (0.045)| & \\verb|0.647 (0.039)| & \\verb|0.598 (0.034)| & \\verb|0.656 (0.05) | & \\verb|0.64 (0.031) | & \\verb|0.56 (0.05)  | \\\\ \\hline\n",
      "    Misdemeanor & \\verb|0.634 (0.017)| & \\verb|0.602 (0.012)| & \\verb|0.632 (0.017)| & \\verb|0.629 (0.022)| & \\verb|0.624 (0.02) | & \\verb|0.585 (0.041)| & \\verb|0.633 (0.025)| & \\verb|0.603 (0.016)| & \\verb|0.552 (0.022)| \\\\ \\hline\n",
      "\\end{array}\n"
     ]
    }
   ],
   "source": [
    "writer = pytablewriter.LatexTableWriter()\n",
    "writer.value_matrix = values\n",
    "writer.write_table()"
   ]
  },
  {
   "cell_type": "markdown",
   "metadata": {},
   "source": [
    "### KY-score"
   ]
  },
  {
   "cell_type": "code",
   "execution_count": 8,
   "metadata": {
    "hideCode": false,
    "hidePrompt": false
   },
   "outputs": [],
   "source": [
    "result = pd.read_csv(\"./results/baselines/two-year/two-year-fl-ky-score-comb.csv\")"
   ]
  },
  {
   "cell_type": "code",
   "execution_count": 9,
   "metadata": {
    "hideCode": false,
    "hidePrompt": false
   },
   "outputs": [
    {
     "data": {
      "text/html": [
       "<div>\n",
       "<style scoped>\n",
       "    .dataframe tbody tr th:only-of-type {\n",
       "        vertical-align: middle;\n",
       "    }\n",
       "\n",
       "    .dataframe tbody tr th {\n",
       "        vertical-align: top;\n",
       "    }\n",
       "\n",
       "    .dataframe thead th {\n",
       "        text-align: right;\n",
       "    }\n",
       "</style>\n",
       "<table border=\"1\" class=\"dataframe\">\n",
       "  <thead>\n",
       "    <tr style=\"text-align: right;\">\n",
       "      <th></th>\n",
       "      <th>Unnamed: 0</th>\n",
       "      <th>Logistic</th>\n",
       "      <th>Lasso</th>\n",
       "      <th>Linear SVM</th>\n",
       "      <th>Random Forest</th>\n",
       "      <th>XGBoost</th>\n",
       "      <th>CART</th>\n",
       "      <th>EBM</th>\n",
       "      <th>Lasso Stumps</th>\n",
       "      <th>RiskSLIM</th>\n",
       "    </tr>\n",
       "  </thead>\n",
       "  <tbody>\n",
       "    <tr>\n",
       "      <th>0</th>\n",
       "      <td>General</td>\n",
       "      <td>0.664 (0.007)</td>\n",
       "      <td>0.653 (0.001)</td>\n",
       "      <td>0.658 (0.007)</td>\n",
       "      <td>0.701 (0.005)</td>\n",
       "      <td>0.689 (0.006)</td>\n",
       "      <td>0.626 (0.025)</td>\n",
       "      <td>0.704 (0.003)</td>\n",
       "      <td>0.653 (0.009)</td>\n",
       "      <td>0.649 (0.037)</td>\n",
       "    </tr>\n",
       "    <tr>\n",
       "      <th>1</th>\n",
       "      <td>Violent</td>\n",
       "      <td>0.674 (0.005)</td>\n",
       "      <td>0.65 (0.007)</td>\n",
       "      <td>0.611 (0.013)</td>\n",
       "      <td>0.729 (0.005)</td>\n",
       "      <td>0.724 (0.005)</td>\n",
       "      <td>0.589 (0.053)</td>\n",
       "      <td>0.72 (0.005)</td>\n",
       "      <td>0.657 (0.018)</td>\n",
       "      <td>0.663 (0.025)</td>\n",
       "    </tr>\n",
       "    <tr>\n",
       "      <th>2</th>\n",
       "      <td>Drug</td>\n",
       "      <td>0.649 (0.008)</td>\n",
       "      <td>0.632 (0.003)</td>\n",
       "      <td>0.554 (0.005)</td>\n",
       "      <td>0.655 (0.022)</td>\n",
       "      <td>0.65 (0.006)</td>\n",
       "      <td>0.613 (0.013)</td>\n",
       "      <td>0.656 (0.008)</td>\n",
       "      <td>0.626 (0.009)</td>\n",
       "      <td>0.634 (0.012)</td>\n",
       "    </tr>\n",
       "    <tr>\n",
       "      <th>3</th>\n",
       "      <td>Property</td>\n",
       "      <td>0.628 (0.022)</td>\n",
       "      <td>0.663 (0.014)</td>\n",
       "      <td>0.556 (0.017)</td>\n",
       "      <td>0.695 (0.018)</td>\n",
       "      <td>0.669 (0.023)</td>\n",
       "      <td>0.548 (0.018)</td>\n",
       "      <td>0.687 (0.011)</td>\n",
       "      <td>0.59 (0.014)</td>\n",
       "      <td>0.593 (0.052)</td>\n",
       "    </tr>\n",
       "    <tr>\n",
       "      <th>4</th>\n",
       "      <td>Felony</td>\n",
       "      <td>0.671 (0.006)</td>\n",
       "      <td>0.661 (0.002)</td>\n",
       "      <td>0.592 (0.014)</td>\n",
       "      <td>0.724 (0.003)</td>\n",
       "      <td>0.706 (0.014)</td>\n",
       "      <td>0.592 (0.042)</td>\n",
       "      <td>0.725 (0.006)</td>\n",
       "      <td>0.676 (0.023)</td>\n",
       "      <td>0.631 (0.059)</td>\n",
       "    </tr>\n",
       "    <tr>\n",
       "      <th>5</th>\n",
       "      <td>Misdemeanor</td>\n",
       "      <td>0.638 (0.007)</td>\n",
       "      <td>0.619 (0.026)</td>\n",
       "      <td>0.579 (0.01)</td>\n",
       "      <td>0.665 (0.011)</td>\n",
       "      <td>0.645 (0.014)</td>\n",
       "      <td>0.574 (0.053)</td>\n",
       "      <td>0.669 (0.007)</td>\n",
       "      <td>0.621 (0.017)</td>\n",
       "      <td>0.631 (0.025)</td>\n",
       "    </tr>\n",
       "  </tbody>\n",
       "</table>\n",
       "</div>"
      ],
      "text/plain": [
       "    Unnamed: 0       Logistic          Lasso     Linear SVM  Random Forest  \\\n",
       "0      General  0.664 (0.007)  0.653 (0.001)  0.658 (0.007)  0.701 (0.005)   \n",
       "1      Violent  0.674 (0.005)   0.65 (0.007)  0.611 (0.013)  0.729 (0.005)   \n",
       "2         Drug  0.649 (0.008)  0.632 (0.003)  0.554 (0.005)  0.655 (0.022)   \n",
       "3     Property  0.628 (0.022)  0.663 (0.014)  0.556 (0.017)  0.695 (0.018)   \n",
       "4       Felony  0.671 (0.006)  0.661 (0.002)  0.592 (0.014)  0.724 (0.003)   \n",
       "5  Misdemeanor  0.638 (0.007)  0.619 (0.026)   0.579 (0.01)  0.665 (0.011)   \n",
       "\n",
       "         XGBoost           CART            EBM   Lasso Stumps       RiskSLIM  \n",
       "0  0.689 (0.006)  0.626 (0.025)  0.704 (0.003)  0.653 (0.009)  0.649 (0.037)  \n",
       "1  0.724 (0.005)  0.589 (0.053)   0.72 (0.005)  0.657 (0.018)  0.663 (0.025)  \n",
       "2   0.65 (0.006)  0.613 (0.013)  0.656 (0.008)  0.626 (0.009)  0.634 (0.012)  \n",
       "3  0.669 (0.023)  0.548 (0.018)  0.687 (0.011)   0.59 (0.014)  0.593 (0.052)  \n",
       "4  0.706 (0.014)  0.592 (0.042)  0.725 (0.006)  0.676 (0.023)  0.631 (0.059)  \n",
       "5  0.645 (0.014)  0.574 (0.053)  0.669 (0.007)  0.621 (0.017)  0.631 (0.025)  "
      ]
     },
     "execution_count": 9,
     "metadata": {},
     "output_type": "execute_result"
    }
   ],
   "source": [
    "result"
   ]
  },
  {
   "cell_type": "code",
   "execution_count": 10,
   "metadata": {
    "hideCode": false,
    "hidePrompt": false
   },
   "outputs": [],
   "source": [
    "cols = result.columns.to_list()\n",
    "values = result.values.tolist()"
   ]
  },
  {
   "cell_type": "code",
   "execution_count": 11,
   "metadata": {
    "hideCode": false,
    "hideOutput": true,
    "hidePrompt": false
   },
   "outputs": [
    {
     "name": "stdout",
     "output_type": "stream",
     "text": [
      "\\begin{array}{l | l | l | l | l | l | l | l | l | l} \\hline\n",
      "    General     & \\verb|0.664 (0.007)| & \\verb|0.653 (0.001)| & \\verb|0.658 (0.007)| & \\verb|0.701 (0.005)| & \\verb|0.689 (0.006)| & \\verb|0.626 (0.025)| & \\verb|0.704 (0.003)| & \\verb|0.653 (0.009)| & \\verb|0.649 (0.037)| \\\\ \\hline\n",
      "    Violent     & \\verb|0.674 (0.005)| & \\verb|0.65 (0.007) | & \\verb|0.611 (0.013)| & \\verb|0.729 (0.005)| & \\verb|0.724 (0.005)| & \\verb|0.589 (0.053)| & \\verb|0.72 (0.005) | & \\verb|0.657 (0.018)| & \\verb|0.663 (0.025)| \\\\ \\hline\n",
      "    Drug        & \\verb|0.649 (0.008)| & \\verb|0.632 (0.003)| & \\verb|0.554 (0.005)| & \\verb|0.655 (0.022)| & \\verb|0.65 (0.006) | & \\verb|0.613 (0.013)| & \\verb|0.656 (0.008)| & \\verb|0.626 (0.009)| & \\verb|0.634 (0.012)| \\\\ \\hline\n",
      "    Property    & \\verb|0.628 (0.022)| & \\verb|0.663 (0.014)| & \\verb|0.556 (0.017)| & \\verb|0.695 (0.018)| & \\verb|0.669 (0.023)| & \\verb|0.548 (0.018)| & \\verb|0.687 (0.011)| & \\verb|0.59 (0.014) | & \\verb|0.593 (0.052)| \\\\ \\hline\n",
      "    Felony      & \\verb|0.671 (0.006)| & \\verb|0.661 (0.002)| & \\verb|0.592 (0.014)| & \\verb|0.724 (0.003)| & \\verb|0.706 (0.014)| & \\verb|0.592 (0.042)| & \\verb|0.725 (0.006)| & \\verb|0.676 (0.023)| & \\verb|0.631 (0.059)| \\\\ \\hline\n",
      "    Misdemeanor & \\verb|0.638 (0.007)| & \\verb|0.619 (0.026)| & \\verb|0.579 (0.01) | & \\verb|0.665 (0.011)| & \\verb|0.645 (0.014)| & \\verb|0.574 (0.053)| & \\verb|0.669 (0.007)| & \\verb|0.621 (0.017)| & \\verb|0.631 (0.025)| \\\\ \\hline\n",
      "\\end{array}\n"
     ]
    }
   ],
   "source": [
    "writer = pytablewriter.LatexTableWriter()\n",
    "writer.value_matrix = values\n",
    "writer.write_table()"
   ]
  }
 ],
 "metadata": {
  "hide_code_all_hidden": false,
  "kernelspec": {
   "display_name": "Python 3",
   "language": "python",
   "name": "python3"
  },
  "language_info": {
   "codemirror_mode": {
    "name": "ipython",
    "version": 3
   },
   "file_extension": ".py",
   "mimetype": "text/x-python",
   "name": "python",
   "nbconvert_exporter": "python",
   "pygments_lexer": "ipython3",
   "version": "3.7.4"
  }
 },
 "nbformat": 4,
 "nbformat_minor": 4
}
