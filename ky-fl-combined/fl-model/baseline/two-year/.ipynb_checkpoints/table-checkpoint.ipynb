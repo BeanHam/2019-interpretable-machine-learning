{
 "cells": [
  {
   "cell_type": "code",
   "execution_count": 1,
   "metadata": {
    "hideCode": false,
    "hidePrompt": false
   },
   "outputs": [
    {
     "name": "stdout",
     "output_type": "stream",
     "text": [
      "Current working directory is now:  C:\\Users\\binha\\Documents\\Duke\\Cynthia Research\\interpretable-machine-learning\\ky-fl-combined\\fl-model\n"
     ]
    }
   ],
   "source": [
    "import os \n",
    "os.chdir('../../')\n",
    "print(\"Current working directory is now: \", os.getcwd())\n",
    "\n",
    "import pytablewriter\n",
    "import pandas as pd\n",
    "import numpy as np"
   ]
  },
  {
   "cell_type": "code",
   "execution_count": 2,
   "metadata": {
    "hideCode": false,
    "hidePrompt": false
   },
   "outputs": [],
   "source": [
    "result = pd.read_csv(\"./results/baselines/two-year/two-year-fl-comb.csv\")"
   ]
  },
  {
   "cell_type": "code",
   "execution_count": 3,
   "metadata": {
    "hideCode": false,
    "hidePrompt": false
   },
   "outputs": [
    {
     "data": {
      "text/html": [
       "<div>\n",
       "<style scoped>\n",
       "    .dataframe tbody tr th:only-of-type {\n",
       "        vertical-align: middle;\n",
       "    }\n",
       "\n",
       "    .dataframe tbody tr th {\n",
       "        vertical-align: top;\n",
       "    }\n",
       "\n",
       "    .dataframe thead th {\n",
       "        text-align: right;\n",
       "    }\n",
       "</style>\n",
       "<table border=\"1\" class=\"dataframe\">\n",
       "  <thead>\n",
       "    <tr style=\"text-align: right;\">\n",
       "      <th></th>\n",
       "      <th>Unnamed: 0</th>\n",
       "      <th>Logistic</th>\n",
       "      <th>Lasso</th>\n",
       "      <th>Linear SVM</th>\n",
       "      <th>Random Forest</th>\n",
       "      <th>XGBoost</th>\n",
       "      <th>CART</th>\n",
       "      <th>EBM</th>\n",
       "      <th>Lasso Stumps</th>\n",
       "      <th>RiskSLIM</th>\n",
       "    </tr>\n",
       "  </thead>\n",
       "  <tbody>\n",
       "    <tr>\n",
       "      <th>0</th>\n",
       "      <td>General</td>\n",
       "      <td>0.645 (0.008)</td>\n",
       "      <td>0.628 (0.001)</td>\n",
       "      <td>0.641 (0.006)</td>\n",
       "      <td>0.672 (0.003)</td>\n",
       "      <td>0.654 (0.007)</td>\n",
       "      <td>0.596 (0.027)</td>\n",
       "      <td>0.679 (0.004)</td>\n",
       "      <td>0.629 (0.004)</td>\n",
       "      <td>0.616 (0.024)</td>\n",
       "    </tr>\n",
       "    <tr>\n",
       "      <th>1</th>\n",
       "      <td>Violent</td>\n",
       "      <td>0.748 (0.01)</td>\n",
       "      <td>0.711 (0.01)</td>\n",
       "      <td>0.717 (0.01)</td>\n",
       "      <td>0.762 (0.008)</td>\n",
       "      <td>0.774 (0.008)</td>\n",
       "      <td>0.66 (0.04)</td>\n",
       "      <td>0.744 (0.006)</td>\n",
       "      <td>0.767 (0.008)</td>\n",
       "      <td>0.745 (0.003)</td>\n",
       "    </tr>\n",
       "    <tr>\n",
       "      <th>2</th>\n",
       "      <td>Drug</td>\n",
       "      <td>0.625 (0.009)</td>\n",
       "      <td>0.619 (0.004)</td>\n",
       "      <td>0.549 (0.004)</td>\n",
       "      <td>0.64 (0.016)</td>\n",
       "      <td>0.639 (0.006)</td>\n",
       "      <td>0.595 (0.011)</td>\n",
       "      <td>0.634 (0.01)</td>\n",
       "      <td>0.599 (0.018)</td>\n",
       "      <td>0.625 (0.006)</td>\n",
       "    </tr>\n",
       "    <tr>\n",
       "      <th>3</th>\n",
       "      <td>Property</td>\n",
       "      <td>0.669 (0.011)</td>\n",
       "      <td>0.662 (0.002)</td>\n",
       "      <td>0.593 (0.009)</td>\n",
       "      <td>0.676 (0.014)</td>\n",
       "      <td>0.679 (0.013)</td>\n",
       "      <td>0.54 (0.015)</td>\n",
       "      <td>0.672 (0.01)</td>\n",
       "      <td>0.625 (0.013)</td>\n",
       "      <td>0.614 (0.043)</td>\n",
       "    </tr>\n",
       "    <tr>\n",
       "      <th>4</th>\n",
       "      <td>Felony</td>\n",
       "      <td>0.65 (0.012)</td>\n",
       "      <td>0.628 (0.003)</td>\n",
       "      <td>0.583 (0.014)</td>\n",
       "      <td>0.703 (0.004)</td>\n",
       "      <td>0.672 (0.016)</td>\n",
       "      <td>0.581 (0.036)</td>\n",
       "      <td>0.705 (0.005)</td>\n",
       "      <td>0.67 (0.016)</td>\n",
       "      <td>0.616 (0.047)</td>\n",
       "    </tr>\n",
       "    <tr>\n",
       "      <th>5</th>\n",
       "      <td>Misdemeanor</td>\n",
       "      <td>0.631 (0.006)</td>\n",
       "      <td>0.595 (0.024)</td>\n",
       "      <td>0.591 (0.01)</td>\n",
       "      <td>0.639 (0.004)</td>\n",
       "      <td>0.627 (0.013)</td>\n",
       "      <td>0.569 (0.043)</td>\n",
       "      <td>0.642 (0.005)</td>\n",
       "      <td>0.611 (0.012)</td>\n",
       "      <td>0.604 (0.024)</td>\n",
       "    </tr>\n",
       "  </tbody>\n",
       "</table>\n",
       "</div>"
      ],
      "text/plain": [
       "    Unnamed: 0       Logistic          Lasso     Linear SVM  Random Forest  \\\n",
       "0      General  0.645 (0.008)  0.628 (0.001)  0.641 (0.006)  0.672 (0.003)   \n",
       "1      Violent   0.748 (0.01)   0.711 (0.01)   0.717 (0.01)  0.762 (0.008)   \n",
       "2         Drug  0.625 (0.009)  0.619 (0.004)  0.549 (0.004)   0.64 (0.016)   \n",
       "3     Property  0.669 (0.011)  0.662 (0.002)  0.593 (0.009)  0.676 (0.014)   \n",
       "4       Felony   0.65 (0.012)  0.628 (0.003)  0.583 (0.014)  0.703 (0.004)   \n",
       "5  Misdemeanor  0.631 (0.006)  0.595 (0.024)   0.591 (0.01)  0.639 (0.004)   \n",
       "\n",
       "         XGBoost           CART            EBM   Lasso Stumps       RiskSLIM  \n",
       "0  0.654 (0.007)  0.596 (0.027)  0.679 (0.004)  0.629 (0.004)  0.616 (0.024)  \n",
       "1  0.774 (0.008)    0.66 (0.04)  0.744 (0.006)  0.767 (0.008)  0.745 (0.003)  \n",
       "2  0.639 (0.006)  0.595 (0.011)   0.634 (0.01)  0.599 (0.018)  0.625 (0.006)  \n",
       "3  0.679 (0.013)   0.54 (0.015)   0.672 (0.01)  0.625 (0.013)  0.614 (0.043)  \n",
       "4  0.672 (0.016)  0.581 (0.036)  0.705 (0.005)   0.67 (0.016)  0.616 (0.047)  \n",
       "5  0.627 (0.013)  0.569 (0.043)  0.642 (0.005)  0.611 (0.012)  0.604 (0.024)  "
      ]
     },
     "execution_count": 3,
     "metadata": {},
     "output_type": "execute_result"
    }
   ],
   "source": [
    "result"
   ]
  },
  {
   "cell_type": "code",
   "execution_count": 4,
   "metadata": {
    "hideCode": false,
    "hidePrompt": false
   },
   "outputs": [],
   "source": [
    "cols = result.columns.to_list()\n",
    "values = result.values.tolist()"
   ]
  },
  {
   "cell_type": "code",
   "execution_count": 5,
   "metadata": {
    "hideCode": false,
    "hideOutput": true,
    "hidePrompt": false
   },
   "outputs": [
    {
     "name": "stdout",
     "output_type": "stream",
     "text": [
      "\\begin{array}{l | l | l | l | l | l | l | l | l | l} \\hline\n",
      "    General     & \\verb|0.645 (0.008)| & \\verb|0.628 (0.001)| & \\verb|0.641 (0.006)| & \\verb|0.672 (0.003)| & \\verb|0.654 (0.007)| & \\verb|0.596 (0.027)| & \\verb|0.679 (0.004)| & \\verb|0.629 (0.004)| & \\verb|0.616 (0.024)| \\\\ \\hline\n",
      "    Violent     & \\verb|0.748 (0.01) | & \\verb|0.711 (0.01) | & \\verb|0.717 (0.01) | & \\verb|0.762 (0.008)| & \\verb|0.774 (0.008)| & \\verb|0.66 (0.04)  | & \\verb|0.744 (0.006)| & \\verb|0.767 (0.008)| & \\verb|0.745 (0.003)| \\\\ \\hline\n",
      "    Drug        & \\verb|0.625 (0.009)| & \\verb|0.619 (0.004)| & \\verb|0.549 (0.004)| & \\verb|0.64 (0.016) | & \\verb|0.639 (0.006)| & \\verb|0.595 (0.011)| & \\verb|0.634 (0.01) | & \\verb|0.599 (0.018)| & \\verb|0.625 (0.006)| \\\\ \\hline\n",
      "    Property    & \\verb|0.669 (0.011)| & \\verb|0.662 (0.002)| & \\verb|0.593 (0.009)| & \\verb|0.676 (0.014)| & \\verb|0.679 (0.013)| & \\verb|0.54 (0.015) | & \\verb|0.672 (0.01) | & \\verb|0.625 (0.013)| & \\verb|0.614 (0.043)| \\\\ \\hline\n",
      "    Felony      & \\verb|0.65 (0.012) | & \\verb|0.628 (0.003)| & \\verb|0.583 (0.014)| & \\verb|0.703 (0.004)| & \\verb|0.672 (0.016)| & \\verb|0.581 (0.036)| & \\verb|0.705 (0.005)| & \\verb|0.67 (0.016) | & \\verb|0.616 (0.047)| \\\\ \\hline\n",
      "    Misdemeanor & \\verb|0.631 (0.006)| & \\verb|0.595 (0.024)| & \\verb|0.591 (0.01) | & \\verb|0.639 (0.004)| & \\verb|0.627 (0.013)| & \\verb|0.569 (0.043)| & \\verb|0.642 (0.005)| & \\verb|0.611 (0.012)| & \\verb|0.604 (0.024)| \\\\ \\hline\n",
      "\\end{array}\n"
     ]
    }
   ],
   "source": [
    "writer = pytablewriter.LatexTableWriter()\n",
    "writer.value_matrix = values\n",
    "writer.write_table()"
   ]
  }
 ],
 "metadata": {
  "hide_code_all_hidden": false,
  "kernelspec": {
   "display_name": "Python 3",
   "language": "python",
   "name": "python3"
  },
  "language_info": {
   "codemirror_mode": {
    "name": "ipython",
    "version": 3
   },
   "file_extension": ".py",
   "mimetype": "text/x-python",
   "name": "python",
   "nbconvert_exporter": "python",
   "pygments_lexer": "ipython3",
   "version": "3.7.4"
  }
 },
 "nbformat": 4,
 "nbformat_minor": 4
}
