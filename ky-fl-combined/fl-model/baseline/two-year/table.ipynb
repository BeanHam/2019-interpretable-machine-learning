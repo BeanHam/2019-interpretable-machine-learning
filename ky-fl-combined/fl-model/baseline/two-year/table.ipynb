{
 "cells": [
  {
   "cell_type": "code",
   "execution_count": 1,
   "metadata": {
    "hideCode": false,
    "hidePrompt": false
   },
   "outputs": [
    {
     "name": "stdout",
     "output_type": "stream",
     "text": [
      "Current working directory is now:  C:\\Users\\binha\\Documents\\Duke\\Cynthia Research\\interpretable-machine-learning\\ky-fl-combined\\fl-model\n"
     ]
    }
   ],
   "source": [
    "import os \n",
    "os.chdir('../../')\n",
    "print(\"Current working directory is now: \", os.getcwd())\n",
    "\n",
    "import pytablewriter\n",
    "import pandas as pd\n",
    "import numpy as np"
   ]
  },
  {
   "cell_type": "code",
   "execution_count": 2,
   "metadata": {
    "hideCode": false,
    "hidePrompt": false
   },
   "outputs": [],
   "source": [
    "result = pd.read_csv(\"./results/baselines/two-year/two-year-fl-comb.csv\")"
   ]
  },
  {
   "cell_type": "code",
   "execution_count": 3,
   "metadata": {
    "hideCode": false,
    "hidePrompt": false
   },
   "outputs": [
    {
     "data": {
      "text/html": [
       "<div>\n",
       "<style scoped>\n",
       "    .dataframe tbody tr th:only-of-type {\n",
       "        vertical-align: middle;\n",
       "    }\n",
       "\n",
       "    .dataframe tbody tr th {\n",
       "        vertical-align: top;\n",
       "    }\n",
       "\n",
       "    .dataframe thead th {\n",
       "        text-align: right;\n",
       "    }\n",
       "</style>\n",
       "<table border=\"1\" class=\"dataframe\">\n",
       "  <thead>\n",
       "    <tr style=\"text-align: right;\">\n",
       "      <th></th>\n",
       "      <th>Unnamed: 0</th>\n",
       "      <th>Logistic</th>\n",
       "      <th>Lasso</th>\n",
       "      <th>Linear SVM</th>\n",
       "      <th>Random Forest</th>\n",
       "      <th>XGBoost</th>\n",
       "      <th>CART</th>\n",
       "      <th>EBM</th>\n",
       "      <th>Lasso Stumps</th>\n",
       "      <th>RiskSLIM</th>\n",
       "    </tr>\n",
       "  </thead>\n",
       "  <tbody>\n",
       "    <tr>\n",
       "      <th>0</th>\n",
       "      <td>General</td>\n",
       "      <td>0.664 (0.007)</td>\n",
       "      <td>0.653 (0.001)</td>\n",
       "      <td>0.658 (0.007)</td>\n",
       "      <td>0.701 (0.005)</td>\n",
       "      <td>0.689 (0.006)</td>\n",
       "      <td>0.626 (0.025)</td>\n",
       "      <td>0.704 (0.003)</td>\n",
       "      <td>0.653 (0.009)</td>\n",
       "      <td>0.649 (0.037)</td>\n",
       "    </tr>\n",
       "    <tr>\n",
       "      <th>1</th>\n",
       "      <td>Violent</td>\n",
       "      <td>0.674 (0.005)</td>\n",
       "      <td>0.65 (0.007)</td>\n",
       "      <td>0.611 (0.013)</td>\n",
       "      <td>0.729 (0.005)</td>\n",
       "      <td>0.724 (0.005)</td>\n",
       "      <td>0.589 (0.053)</td>\n",
       "      <td>0.72 (0.005)</td>\n",
       "      <td>0.657 (0.018)</td>\n",
       "      <td>0.663 (0.025)</td>\n",
       "    </tr>\n",
       "    <tr>\n",
       "      <th>2</th>\n",
       "      <td>Drug</td>\n",
       "      <td>0.649 (0.008)</td>\n",
       "      <td>0.632 (0.003)</td>\n",
       "      <td>0.554 (0.005)</td>\n",
       "      <td>0.655 (0.022)</td>\n",
       "      <td>0.65 (0.006)</td>\n",
       "      <td>0.613 (0.013)</td>\n",
       "      <td>0.656 (0.008)</td>\n",
       "      <td>0.626 (0.009)</td>\n",
       "      <td>0.634 (0.012)</td>\n",
       "    </tr>\n",
       "    <tr>\n",
       "      <th>3</th>\n",
       "      <td>Property</td>\n",
       "      <td>0.628 (0.022)</td>\n",
       "      <td>0.663 (0.014)</td>\n",
       "      <td>0.556 (0.017)</td>\n",
       "      <td>0.695 (0.018)</td>\n",
       "      <td>0.669 (0.023)</td>\n",
       "      <td>0.548 (0.018)</td>\n",
       "      <td>0.687 (0.011)</td>\n",
       "      <td>0.59 (0.014)</td>\n",
       "      <td>0.593 (0.052)</td>\n",
       "    </tr>\n",
       "    <tr>\n",
       "      <th>4</th>\n",
       "      <td>Felony</td>\n",
       "      <td>0.671 (0.006)</td>\n",
       "      <td>0.661 (0.002)</td>\n",
       "      <td>0.592 (0.014)</td>\n",
       "      <td>0.724 (0.003)</td>\n",
       "      <td>0.706 (0.014)</td>\n",
       "      <td>0.592 (0.042)</td>\n",
       "      <td>0.725 (0.006)</td>\n",
       "      <td>0.676 (0.023)</td>\n",
       "      <td>0.631 (0.059)</td>\n",
       "    </tr>\n",
       "    <tr>\n",
       "      <th>5</th>\n",
       "      <td>Misdemeanor</td>\n",
       "      <td>0.638 (0.007)</td>\n",
       "      <td>0.619 (0.026)</td>\n",
       "      <td>0.579 (0.01)</td>\n",
       "      <td>0.665 (0.011)</td>\n",
       "      <td>0.645 (0.014)</td>\n",
       "      <td>0.574 (0.053)</td>\n",
       "      <td>0.669 (0.007)</td>\n",
       "      <td>0.621 (0.017)</td>\n",
       "      <td>0.631 (0.025)</td>\n",
       "    </tr>\n",
       "  </tbody>\n",
       "</table>\n",
       "</div>"
      ],
      "text/plain": [
       "    Unnamed: 0       Logistic          Lasso     Linear SVM  Random Forest  \\\n",
       "0      General  0.664 (0.007)  0.653 (0.001)  0.658 (0.007)  0.701 (0.005)   \n",
       "1      Violent  0.674 (0.005)   0.65 (0.007)  0.611 (0.013)  0.729 (0.005)   \n",
       "2         Drug  0.649 (0.008)  0.632 (0.003)  0.554 (0.005)  0.655 (0.022)   \n",
       "3     Property  0.628 (0.022)  0.663 (0.014)  0.556 (0.017)  0.695 (0.018)   \n",
       "4       Felony  0.671 (0.006)  0.661 (0.002)  0.592 (0.014)  0.724 (0.003)   \n",
       "5  Misdemeanor  0.638 (0.007)  0.619 (0.026)   0.579 (0.01)  0.665 (0.011)   \n",
       "\n",
       "         XGBoost           CART            EBM   Lasso Stumps       RiskSLIM  \n",
       "0  0.689 (0.006)  0.626 (0.025)  0.704 (0.003)  0.653 (0.009)  0.649 (0.037)  \n",
       "1  0.724 (0.005)  0.589 (0.053)   0.72 (0.005)  0.657 (0.018)  0.663 (0.025)  \n",
       "2   0.65 (0.006)  0.613 (0.013)  0.656 (0.008)  0.626 (0.009)  0.634 (0.012)  \n",
       "3  0.669 (0.023)  0.548 (0.018)  0.687 (0.011)   0.59 (0.014)  0.593 (0.052)  \n",
       "4  0.706 (0.014)  0.592 (0.042)  0.725 (0.006)  0.676 (0.023)  0.631 (0.059)  \n",
       "5  0.645 (0.014)  0.574 (0.053)  0.669 (0.007)  0.621 (0.017)  0.631 (0.025)  "
      ]
     },
     "execution_count": 3,
     "metadata": {},
     "output_type": "execute_result"
    }
   ],
   "source": [
    "result"
   ]
  },
  {
   "cell_type": "code",
   "execution_count": 4,
   "metadata": {
    "hideCode": false,
    "hidePrompt": false
   },
   "outputs": [],
   "source": [
    "cols = result.columns.to_list()\n",
    "values = result.values.tolist()"
   ]
  },
  {
   "cell_type": "code",
   "execution_count": 5,
   "metadata": {
    "hideCode": false,
    "hideOutput": true,
    "hidePrompt": false
   },
   "outputs": [
    {
     "name": "stdout",
     "output_type": "stream",
     "text": [
      "\\begin{array}{l | l | l | l | l | l | l | l | l | l} \\hline\n",
      "    General     & \\verb|0.664 (0.007)| & \\verb|0.653 (0.001)| & \\verb|0.658 (0.007)| & \\verb|0.701 (0.005)| & \\verb|0.689 (0.006)| & \\verb|0.626 (0.025)| & \\verb|0.704 (0.003)| & \\verb|0.653 (0.009)| & \\verb|0.649 (0.037)| \\\\ \\hline\n",
      "    Violent     & \\verb|0.674 (0.005)| & \\verb|0.65 (0.007) | & \\verb|0.611 (0.013)| & \\verb|0.729 (0.005)| & \\verb|0.724 (0.005)| & \\verb|0.589 (0.053)| & \\verb|0.72 (0.005) | & \\verb|0.657 (0.018)| & \\verb|0.663 (0.025)| \\\\ \\hline\n",
      "    Drug        & \\verb|0.649 (0.008)| & \\verb|0.632 (0.003)| & \\verb|0.554 (0.005)| & \\verb|0.655 (0.022)| & \\verb|0.65 (0.006) | & \\verb|0.613 (0.013)| & \\verb|0.656 (0.008)| & \\verb|0.626 (0.009)| & \\verb|0.634 (0.012)| \\\\ \\hline\n",
      "    Property    & \\verb|0.628 (0.022)| & \\verb|0.663 (0.014)| & \\verb|0.556 (0.017)| & \\verb|0.695 (0.018)| & \\verb|0.669 (0.023)| & \\verb|0.548 (0.018)| & \\verb|0.687 (0.011)| & \\verb|0.59 (0.014) | & \\verb|0.593 (0.052)| \\\\ \\hline\n",
      "    Felony      & \\verb|0.671 (0.006)| & \\verb|0.661 (0.002)| & \\verb|0.592 (0.014)| & \\verb|0.724 (0.003)| & \\verb|0.706 (0.014)| & \\verb|0.592 (0.042)| & \\verb|0.725 (0.006)| & \\verb|0.676 (0.023)| & \\verb|0.631 (0.059)| \\\\ \\hline\n",
      "    Misdemeanor & \\verb|0.638 (0.007)| & \\verb|0.619 (0.026)| & \\verb|0.579 (0.01) | & \\verb|0.665 (0.011)| & \\verb|0.645 (0.014)| & \\verb|0.574 (0.053)| & \\verb|0.669 (0.007)| & \\verb|0.621 (0.017)| & \\verb|0.631 (0.025)| \\\\ \\hline\n",
      "\\end{array}\n"
     ]
    }
   ],
   "source": [
    "writer = pytablewriter.LatexTableWriter()\n",
    "writer.value_matrix = values\n",
    "writer.write_table()"
   ]
  }
 ],
 "metadata": {
  "hide_code_all_hidden": false,
  "kernelspec": {
   "display_name": "Python 3",
   "language": "python",
   "name": "python3"
  },
  "language_info": {
   "codemirror_mode": {
    "name": "ipython",
    "version": 3
   },
   "file_extension": ".py",
   "mimetype": "text/x-python",
   "name": "python",
   "nbconvert_exporter": "python",
   "pygments_lexer": "ipython3",
   "version": "3.7.4"
  }
 },
 "nbformat": 4,
 "nbformat_minor": 4
}
