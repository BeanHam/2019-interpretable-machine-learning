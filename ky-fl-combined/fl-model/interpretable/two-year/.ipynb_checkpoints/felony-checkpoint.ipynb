{
 "cells": [
  {
   "cell_type": "code",
   "execution_count": null,
   "metadata": {},
   "outputs": [],
   "source": [
    "import os \n",
    "os.chdir('../../')\n",
    "print(\"Current working directory is now: \", os.getcwd())\n",
    "\n",
    "import pandas as pd \n",
    "import numpy as np\n",
    "import csv\n",
    "from sklearn.linear_model import LogisticRegression\n",
    "\n",
    "import fl_utils.fl_interpretable_functions as interpret\n",
    "import fl_utils.fl_riskslim as slim\n",
    "import fl_utils.fl_stumps as stumps"
   ]
  },
  {
   "cell_type": "code",
   "execution_count": null,
   "metadata": {},
   "outputs": [],
   "source": [
    "### EBM & CART"
   ]
  },
  {
   "cell_type": "code",
   "execution_count": null,
   "metadata": {},
   "outputs": [],
   "source": [
    "KY_data = pd.read_csv(\"~/Documents/Duke/Cynthia Research/data/ky-fl-data/KY-cleaned.csv\").sort_values('person_id')\n",
    "FL_data = pd.read_csv(\"~/Documents/Duke/Cynthia Research/data/ky-fl-data/FL-cleaned.csv\").sort_values('person_id')\n",
    "\n",
    "## split x and y \n",
    "KY_X = KY_data.loc[:,:'current_violence20']\n",
    "KY_Y = KY_data['felony_two_year'].values\n",
    "FL_X = FL_data.loc[:,:'current_violence20']\n",
    "FL_Y = FL_data['felony_two_year'].values"
   ]
  },
  {
   "cell_type": "code",
   "execution_count": null,
   "metadata": {},
   "outputs": [],
   "source": [
    "#### CART\n",
    "depth = [1,2,3,4,5]\n",
    "impurity = [0.001, 0.002, 0.003, 0.004, 0.005]\n",
    "cart_summary = interpret.CART(KY_X, KY_Y, FL_X, FL_Y, depth, impurity, seed=816)\n",
    "\n",
    "### EBM\n",
    "estimators = [40,60,80,100]\n",
    "depth = [1,2,3]\n",
    "learning_rate = [0.01]\n",
    "holdout_split = [0.7, 0.9]\n",
    "ebm_summary = interpret.EBM(KY_X, KY_Y, FL_X, FL_Y, learning_rate, depth, estimators, holdout_split, seed=816)"
   ]
  },
  {
   "cell_type": "code",
   "execution_count": null,
   "metadata": {},
   "outputs": [],
   "source": [
    "print(\"CART: \", np.mean(cart_summary['KY_score']), np.mean(cart_summary['FL_score']))\n",
    "print(\"EMB: \", np.mean(ebm_summary['KY_score']), np.mean(ebm_summary['FL_score']))"
   ]
  },
  {
   "cell_type": "code",
   "execution_count": null,
   "metadata": {},
   "outputs": [],
   "source": [
    "---"
   ]
  },
  {
   "cell_type": "code",
   "execution_count": null,
   "metadata": {},
   "outputs": [],
   "source": [
    "### Lasso Stumps"
   ]
  },
  {
   "cell_type": "code",
   "execution_count": null,
   "metadata": {},
   "outputs": [],
   "source": [
    "KY_stumps = pd.read_csv(\"~/Documents/Duke/Cynthia Research/data/ky-fl-data/KY-stumps.csv\").sort_values('person_id')\n",
    "FL_stumps = pd.read_csv(\"~/Documents/Duke/Cynthia Research/data/ky-fl-data/FL-stumps.csv\").sort_values('person_id')\n",
    "\n",
    "## split x and y \n",
    "KY_X = KY_stumps.loc[:,:'current_violence201']\n",
    "KY_Y = KY_stumps['felony_two_year'].values\n",
    "FL_X = FL_stumps.loc[:,:'current_violence201']\n",
    "FL_Y = FL_stumps['felony_two_year'].values\n",
    "\n",
    "## columns \n",
    "cols = KY_X.columns[1:]"
   ]
  },
  {
   "cell_type": "code",
   "execution_count": null,
   "metadata": {},
   "outputs": [],
   "source": [
    "single_stump_model = stumps.stump_model(KY_X, \n",
    "                                        KY_Y, \n",
    "                                        FL_X, \n",
    "                                        FL_Y, \n",
    "                                        0.1, \n",
    "                                        cols, \n",
    "                                        816)\n",
    "## unique original features\n",
    "unique_stumps = []\n",
    "for i in single_stump_model['features']:\n",
    "    unique_stumps.append(''.join([j for j in i if not j.isdigit()]))\n",
    "print(len(np.unique(unique_stumps)))"
   ]
  },
  {
   "cell_type": "code",
   "execution_count": null,
   "metadata": {},
   "outputs": [],
   "source": [
    "c_grid={'C': [0.01, 0.02, 0.03, 0.04, 0.05, 0.06, 0.07, 0.08, 0.09, 0.1]}\n",
    "stumps_summary = stumps.stump_cv(KY_X, KY_Y, FL_X, FL_Y, cols, c_grid, seed=816)"
   ]
  },
  {
   "cell_type": "code",
   "execution_count": null,
   "metadata": {},
   "outputs": [],
   "source": [
    "print(\"CART: \", np.mean(cart_summary['KY_score']), np.mean(cart_summary['FL_score']))\n",
    "print(\"EMB: \", np.mean(ebm_summary['KY_score']), np.mean(ebm_summary['FL_score']))\n",
    "print(\"Additive: \", np.mean(stumps_summary['KY_score']), np.mean(stumps_summary['FL_score']))"
   ]
  },
  {
   "cell_type": "code",
   "execution_count": null,
   "metadata": {},
   "outputs": [],
   "source": [
    "---"
   ]
  },
  {
   "cell_type": "code",
   "execution_count": null,
   "metadata": {},
   "outputs": [],
   "source": [
    "### RiskSLIM"
   ]
  },
  {
   "cell_type": "code",
   "execution_count": null,
   "metadata": {},
   "outputs": [],
   "source": [
    "single_stump_model = stumps.stump_model(KY_X, \n",
    "                                        KY_Y, \n",
    "                                        FL_X, \n",
    "                                        FL_Y, \n",
    "                                        0.07,  \n",
    "                                        cols, 816)\n",
    "selected_features = single_stump_model['features']\n",
    "len(selected_features)"
   ]
  },
  {
   "cell_type": "code",
   "execution_count": null,
   "metadata": {},
   "outputs": [],
   "source": [
    "### Subset features\n",
    "sub_FL_X = FL_stumps.loc[:, selected_features]\n",
    "sub_KY_X = KY_stumps.loc[:, selected_features]\n",
    "sub_FL_X.insert(0, '(Intercept)', 1)"
   ]
  },
  {
   "cell_type": "code",
   "execution_count": null,
   "metadata": {},
   "outputs": [],
   "source": [
    "riskslim_summary = slim.risk_cv(sub_KY_X, \n",
    "                                KY_Y, \n",
    "                                sub_FL_X, \n",
    "                                FL_Y, \n",
    "                                y_label = 'felony_two_year', \n",
    "                                max_coef = 5, \n",
    "                                max_coef_number = 5, \n",
    "                                max_runtime=1000,\n",
    "                                max_offset=100,\n",
    "                                c=1e-3,  \n",
    "                                seed=816)"
   ]
  },
  {
   "cell_type": "code",
   "execution_count": null,
   "metadata": {},
   "outputs": [],
   "source": [
    "print(\"CART: \", np.mean(cart_summary['KY_score']), np.mean(cart_summary['FL_score']))\n",
    "print(\"EMB: \", np.mean(ebm_summary['KY_score']), np.mean(ebm_summary['FL_score']))\n",
    "print(\"Additive: \", np.mean(stumps_summary['KY_score']), np.mean(stumps_summary['FL_score']))\n",
    "print(\"RiskSLIM: \", np.mean(riskslim_summary['KY_score']), np.mean(riskslim_summary['FL_score']))"
   ]
  },
  {
   "cell_type": "code",
   "execution_count": null,
   "metadata": {},
   "outputs": [],
   "source": [
    "#### save results\n",
    "summary_felony2_fl_inter_model = {\"cart\": cart_summary,\n",
    "                                  \"ebm\": ebm_summary,\n",
    "                                  \"stumps\": stumps_summary,\n",
    "                                  \"riskslim\": riskslim_summary}"
   ]
  },
  {
   "cell_type": "code",
   "execution_count": null,
   "metadata": {},
   "outputs": [],
   "source": [
    "path = \"./results/interpretable/two-year/\"\n",
    "results = [[\"Felony\",             \n",
    "            np.str(round(np.mean(cart_summary['KY_score']),3)) + \" (\" + np.str(round(np.std(cart_summary['KY_score']),3)) + \")\", \n",
    "            np.str(round(np.mean(ebm_summary['KY_score']), 3)) + \" (\" + np.str(round(np.std(ebm_summary['KY_score']),3)) + \")\", \n",
    "            np.str(round(np.mean(stumps_summary['KY_score']),3)) + \" (\" + np.str(round(np.std(stumps_summary['KY_score']),3)) + \")\", \n",
    "            np.str(round(np.mean(riskslim_summary['KY_score']), 3)) + \" (\" + np.str(round(np.std(riskslim_summary['KY_score']),3)) + \")\"]]\n",
    "with open(path + 'two-year-fl-interpretable-ky-score.csv', 'a') as writeFile:\n",
    "    writer = csv.writer(writeFile)\n",
    "    writer.writerows(results)"
   ]
  },
  {
   "cell_type": "code",
   "execution_count": null,
   "metadata": {},
   "outputs": [],
   "source": [
    "path = \"./results/interpretable/two-year/\"\n",
    "results = [[\"Felony\",             \n",
    "            np.str(round(np.mean(cart_summary['FL_score']),3)) + \" (\" + np.str(round(np.std(cart_summary['FL_score']),3)) + \")\", \n",
    "            np.str(round(np.mean(ebm_summary['FL_score']), 3)) + \" (\" + np.str(round(np.std(ebm_summary['FL_score']),3)) + \")\", \n",
    "            np.str(round(np.mean(stumps_summary['FL_score']),3)) + \" (\" + np.str(round(np.std(stumps_summary['FL_score']),3)) + \")\", \n",
    "            np.str(round(np.mean(riskslim_summary['FL_score']), 3)) + \" (\" + np.str(round(np.std(riskslim_summary['FL_score']),3)) + \")\"]]\n",
    "with open(path + 'two-year-fl-interpretable-fl-score.csv', 'a') as writeFile:\n",
    "    writer = csv.writer(writeFile)\n",
    "    writer.writerows(results)"
   ]
  }
 ],
 "metadata": {
  "kernelspec": {
   "display_name": "Python 3",
   "language": "python",
   "name": "python3"
  },
  "language_info": {
   "codemirror_mode": {
    "name": "ipython",
    "version": 3
   },
   "file_extension": ".py",
   "mimetype": "text/x-python",
   "name": "python",
   "nbconvert_exporter": "python",
   "pygments_lexer": "ipython3",
   "version": "3.8.8"
  }
 },
 "nbformat": 4,
 "nbformat_minor": 4
}
