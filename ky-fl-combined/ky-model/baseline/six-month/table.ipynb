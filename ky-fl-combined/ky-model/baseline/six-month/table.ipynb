{
 "cells": [
  {
   "cell_type": "code",
   "execution_count": 1,
   "metadata": {
    "hideCode": false,
    "hidePrompt": false
   },
   "outputs": [
    {
     "name": "stdout",
     "output_type": "stream",
     "text": [
      "Current working directory is now:  C:\\Users\\binha\\Documents\\Duke\\Cynthia Research\\interpretable-machine-learning\\ky-fl-combined\\ky-model\n"
     ]
    }
   ],
   "source": [
    "import os \n",
    "os.chdir('../../')\n",
    "print(\"Current working directory is now: \", os.getcwd())\n",
    "\n",
    "import pytablewriter\n",
    "import pandas as pd\n",
    "import numpy as np"
   ]
  },
  {
   "cell_type": "code",
   "execution_count": 2,
   "metadata": {
    "hideCode": false,
    "hidePrompt": false
   },
   "outputs": [],
   "source": [
    "result = pd.read_csv(\"./results/baselines/six-month/six-month-ky-comb.csv\")"
   ]
  },
  {
   "cell_type": "code",
   "execution_count": 3,
   "metadata": {
    "hideCode": false,
    "hidePrompt": false
   },
   "outputs": [
    {
     "data": {
      "text/html": [
       "<div>\n",
       "<style scoped>\n",
       "    .dataframe tbody tr th:only-of-type {\n",
       "        vertical-align: middle;\n",
       "    }\n",
       "\n",
       "    .dataframe tbody tr th {\n",
       "        vertical-align: top;\n",
       "    }\n",
       "\n",
       "    .dataframe thead th {\n",
       "        text-align: right;\n",
       "    }\n",
       "</style>\n",
       "<table border=\"1\" class=\"dataframe\">\n",
       "  <thead>\n",
       "    <tr style=\"text-align: right;\">\n",
       "      <th></th>\n",
       "      <th>Unnamed: 0</th>\n",
       "      <th>Logistic</th>\n",
       "      <th>Lasso</th>\n",
       "      <th>Linear SVM</th>\n",
       "      <th>Random Forest</th>\n",
       "      <th>XGBoost</th>\n",
       "      <th>CART</th>\n",
       "      <th>EBM</th>\n",
       "      <th>Lasso Stumps</th>\n",
       "      <th>RiskSLIM</th>\n",
       "    </tr>\n",
       "  </thead>\n",
       "  <tbody>\n",
       "    <tr>\n",
       "      <th>0</th>\n",
       "      <td>General</td>\n",
       "      <td>0.577 (0.002)</td>\n",
       "      <td>0.576 (0.001)</td>\n",
       "      <td>0.569 (0.0)</td>\n",
       "      <td>0.577 (0.001)</td>\n",
       "      <td>0.581 (0.002)</td>\n",
       "      <td>0.562 (0.007)</td>\n",
       "      <td>0.571 (0.004)</td>\n",
       "      <td>0.562 (0.001)</td>\n",
       "      <td>0.553 (0.0)</td>\n",
       "    </tr>\n",
       "    <tr>\n",
       "      <th>1</th>\n",
       "      <td>Violent</td>\n",
       "      <td>0.641 (0.002)</td>\n",
       "      <td>0.644 (0.001)</td>\n",
       "      <td>0.614 (0.0)</td>\n",
       "      <td>0.643 (0.001)</td>\n",
       "      <td>0.626 (0.004)</td>\n",
       "      <td>0.611 (0.013)</td>\n",
       "      <td>0.622 (0.009)</td>\n",
       "      <td>0.65 (0.001)</td>\n",
       "      <td>0.637 (0.002)</td>\n",
       "    </tr>\n",
       "    <tr>\n",
       "      <th>2</th>\n",
       "      <td>Drug</td>\n",
       "      <td>0.607 (0.004)</td>\n",
       "      <td>0.604 (0.003)</td>\n",
       "      <td>0.589 (0.0)</td>\n",
       "      <td>0.567 (0.005)</td>\n",
       "      <td>0.593 (0.007)</td>\n",
       "      <td>0.58 (0.018)</td>\n",
       "      <td>0.618 (0.006)</td>\n",
       "      <td>0.576 (0.001)</td>\n",
       "      <td>0.566 (0.02)</td>\n",
       "    </tr>\n",
       "    <tr>\n",
       "      <th>3</th>\n",
       "      <td>Property</td>\n",
       "      <td>0.662 (0.001)</td>\n",
       "      <td>0.665 (0.002)</td>\n",
       "      <td>0.635 (0.0)</td>\n",
       "      <td>0.652 (0.002)</td>\n",
       "      <td>0.656 (0.013)</td>\n",
       "      <td>0.634 (0.016)</td>\n",
       "      <td>0.657 (0.008)</td>\n",
       "      <td>0.64 (0.004)</td>\n",
       "      <td>0.619 (0.0)</td>\n",
       "    </tr>\n",
       "    <tr>\n",
       "      <th>4</th>\n",
       "      <td>Felony</td>\n",
       "      <td>0.586 (0.001)</td>\n",
       "      <td>0.584 (0.002)</td>\n",
       "      <td>0.575 (0.0)</td>\n",
       "      <td>0.589 (0.002)</td>\n",
       "      <td>0.58 (0.002)</td>\n",
       "      <td>0.563 (0.003)</td>\n",
       "      <td>0.571 (0.005)</td>\n",
       "      <td>0.574 (0.001)</td>\n",
       "      <td>0.55 (0.001)</td>\n",
       "    </tr>\n",
       "    <tr>\n",
       "      <th>5</th>\n",
       "      <td>Misdemeanor</td>\n",
       "      <td>0.558 (0.002)</td>\n",
       "      <td>0.558 (0.0)</td>\n",
       "      <td>0.55 (0.0)</td>\n",
       "      <td>0.552 (0.002)</td>\n",
       "      <td>0.563 (0.004)</td>\n",
       "      <td>0.554 (0.012)</td>\n",
       "      <td>0.559 (0.002)</td>\n",
       "      <td>0.542 (0.001)</td>\n",
       "      <td>0.526 (0.003)</td>\n",
       "    </tr>\n",
       "  </tbody>\n",
       "</table>\n",
       "</div>"
      ],
      "text/plain": [
       "    Unnamed: 0       Logistic          Lasso   Linear SVM  Random Forest  \\\n",
       "0      General  0.577 (0.002)  0.576 (0.001)  0.569 (0.0)  0.577 (0.001)   \n",
       "1      Violent  0.641 (0.002)  0.644 (0.001)  0.614 (0.0)  0.643 (0.001)   \n",
       "2         Drug  0.607 (0.004)  0.604 (0.003)  0.589 (0.0)  0.567 (0.005)   \n",
       "3     Property  0.662 (0.001)  0.665 (0.002)  0.635 (0.0)  0.652 (0.002)   \n",
       "4       Felony  0.586 (0.001)  0.584 (0.002)  0.575 (0.0)  0.589 (0.002)   \n",
       "5  Misdemeanor  0.558 (0.002)    0.558 (0.0)   0.55 (0.0)  0.552 (0.002)   \n",
       "\n",
       "         XGBoost           CART            EBM   Lasso Stumps       RiskSLIM  \n",
       "0  0.581 (0.002)  0.562 (0.007)  0.571 (0.004)  0.562 (0.001)    0.553 (0.0)  \n",
       "1  0.626 (0.004)  0.611 (0.013)  0.622 (0.009)   0.65 (0.001)  0.637 (0.002)  \n",
       "2  0.593 (0.007)   0.58 (0.018)  0.618 (0.006)  0.576 (0.001)   0.566 (0.02)  \n",
       "3  0.656 (0.013)  0.634 (0.016)  0.657 (0.008)   0.64 (0.004)    0.619 (0.0)  \n",
       "4   0.58 (0.002)  0.563 (0.003)  0.571 (0.005)  0.574 (0.001)   0.55 (0.001)  \n",
       "5  0.563 (0.004)  0.554 (0.012)  0.559 (0.002)  0.542 (0.001)  0.526 (0.003)  "
      ]
     },
     "execution_count": 3,
     "metadata": {},
     "output_type": "execute_result"
    }
   ],
   "source": [
    "result"
   ]
  },
  {
   "cell_type": "code",
   "execution_count": 4,
   "metadata": {
    "hideCode": false,
    "hidePrompt": false
   },
   "outputs": [],
   "source": [
    "cols = result.columns.to_list()\n",
    "values = result.values.tolist()"
   ]
  },
  {
   "cell_type": "code",
   "execution_count": 5,
   "metadata": {
    "hideCode": false,
    "hideOutput": true,
    "hidePrompt": false
   },
   "outputs": [
    {
     "name": "stdout",
     "output_type": "stream",
     "text": [
      "\\begin{array}{l | l | l | l | l | l | l | l | l | l} \\hline\n",
      "    General     & \\verb|0.577 (0.002)| & \\verb|0.576 (0.001)| & \\verb|0.569 (0.0)| & \\verb|0.577 (0.001)| & \\verb|0.581 (0.002)| & \\verb|0.562 (0.007)| & \\verb|0.571 (0.004)| & \\verb|0.562 (0.001)| & \\verb|0.553 (0.0)  | \\\\ \\hline\n",
      "    Violent     & \\verb|0.641 (0.002)| & \\verb|0.644 (0.001)| & \\verb|0.614 (0.0)| & \\verb|0.643 (0.001)| & \\verb|0.626 (0.004)| & \\verb|0.611 (0.013)| & \\verb|0.622 (0.009)| & \\verb|0.65 (0.001) | & \\verb|0.637 (0.002)| \\\\ \\hline\n",
      "    Drug        & \\verb|0.607 (0.004)| & \\verb|0.604 (0.003)| & \\verb|0.589 (0.0)| & \\verb|0.567 (0.005)| & \\verb|0.593 (0.007)| & \\verb|0.58 (0.018) | & \\verb|0.618 (0.006)| & \\verb|0.576 (0.001)| & \\verb|0.566 (0.02) | \\\\ \\hline\n",
      "    Property    & \\verb|0.662 (0.001)| & \\verb|0.665 (0.002)| & \\verb|0.635 (0.0)| & \\verb|0.652 (0.002)| & \\verb|0.656 (0.013)| & \\verb|0.634 (0.016)| & \\verb|0.657 (0.008)| & \\verb|0.64 (0.004) | & \\verb|0.619 (0.0)  | \\\\ \\hline\n",
      "    Felony      & \\verb|0.586 (0.001)| & \\verb|0.584 (0.002)| & \\verb|0.575 (0.0)| & \\verb|0.589 (0.002)| & \\verb|0.58 (0.002) | & \\verb|0.563 (0.003)| & \\verb|0.571 (0.005)| & \\verb|0.574 (0.001)| & \\verb|0.55 (0.001) | \\\\ \\hline\n",
      "    Misdemeanor & \\verb|0.558 (0.002)| & \\verb|0.558 (0.0)  | & \\verb|0.55 (0.0) | & \\verb|0.552 (0.002)| & \\verb|0.563 (0.004)| & \\verb|0.554 (0.012)| & \\verb|0.559 (0.002)| & \\verb|0.542 (0.001)| & \\verb|0.526 (0.003)| \\\\ \\hline\n",
      "\\end{array}\n"
     ]
    }
   ],
   "source": [
    "writer = pytablewriter.LatexTableWriter()\n",
    "writer.value_matrix = values\n",
    "writer.write_table()"
   ]
  }
 ],
 "metadata": {
  "hide_code_all_hidden": false,
  "kernelspec": {
   "display_name": "Python 3",
   "language": "python",
   "name": "python3"
  },
  "language_info": {
   "codemirror_mode": {
    "name": "ipython",
    "version": 3
   },
   "file_extension": ".py",
   "mimetype": "text/x-python",
   "name": "python",
   "nbconvert_exporter": "python",
   "pygments_lexer": "ipython3",
   "version": "3.7.4"
  }
 },
 "nbformat": 4,
 "nbformat_minor": 4
}
