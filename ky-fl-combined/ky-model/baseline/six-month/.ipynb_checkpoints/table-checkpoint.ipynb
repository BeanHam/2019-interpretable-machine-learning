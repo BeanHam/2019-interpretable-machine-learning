{
 "cells": [
  {
   "cell_type": "code",
   "execution_count": 1,
   "metadata": {
    "hideCode": false,
    "hidePrompt": false
   },
   "outputs": [
    {
     "name": "stdout",
     "output_type": "stream",
     "text": [
      "Current working directory is now:  C:\\Users\\binha\\Documents\\Duke\\Cynthia Research\\interpretable-machine-learning\\ky-fl-combined\\ky-model\n"
     ]
    }
   ],
   "source": [
    "import os \n",
    "os.chdir('../../')\n",
    "print(\"Current working directory is now: \", os.getcwd())\n",
    "\n",
    "import pytablewriter\n",
    "import pandas as pd\n",
    "import numpy as np"
   ]
  },
  {
   "cell_type": "markdown",
   "metadata": {},
   "source": [
    "### FL-score"
   ]
  },
  {
   "cell_type": "code",
   "execution_count": 2,
   "metadata": {
    "hideCode": false,
    "hidePrompt": false
   },
   "outputs": [],
   "source": [
    "result = pd.read_csv(\"./results/baselines/six-month/six-month-ky-fl-score-comb.csv\")"
   ]
  },
  {
   "cell_type": "code",
   "execution_count": 3,
   "metadata": {
    "hideCode": false,
    "hidePrompt": false
   },
   "outputs": [
    {
     "data": {
      "text/html": [
       "<div>\n",
       "<style scoped>\n",
       "    .dataframe tbody tr th:only-of-type {\n",
       "        vertical-align: middle;\n",
       "    }\n",
       "\n",
       "    .dataframe tbody tr th {\n",
       "        vertical-align: top;\n",
       "    }\n",
       "\n",
       "    .dataframe thead th {\n",
       "        text-align: right;\n",
       "    }\n",
       "</style>\n",
       "<table border=\"1\" class=\"dataframe\">\n",
       "  <thead>\n",
       "    <tr style=\"text-align: right;\">\n",
       "      <th></th>\n",
       "      <th>Unnamed: 0</th>\n",
       "      <th>Logistic</th>\n",
       "      <th>Lasso</th>\n",
       "      <th>Linear SVM</th>\n",
       "      <th>Random Forest</th>\n",
       "      <th>XGBoost</th>\n",
       "      <th>CART</th>\n",
       "      <th>EBM</th>\n",
       "      <th>Lasso Stumps</th>\n",
       "      <th>RiskSLIM</th>\n",
       "    </tr>\n",
       "  </thead>\n",
       "  <tbody>\n",
       "    <tr>\n",
       "      <th>0</th>\n",
       "      <td>General</td>\n",
       "      <td>0.577 (0.002)</td>\n",
       "      <td>0.576 (0.001)</td>\n",
       "      <td>0.569 (0.0)</td>\n",
       "      <td>0.577 (0.001)</td>\n",
       "      <td>0.581 (0.002)</td>\n",
       "      <td>0.562 (0.007)</td>\n",
       "      <td>0.571 (0.004)</td>\n",
       "      <td>0.562 (0.001)</td>\n",
       "      <td>0.553 (0.0)</td>\n",
       "    </tr>\n",
       "    <tr>\n",
       "      <th>1</th>\n",
       "      <td>Violent</td>\n",
       "      <td>0.641 (0.002)</td>\n",
       "      <td>0.644 (0.001)</td>\n",
       "      <td>0.614 (0.0)</td>\n",
       "      <td>0.643 (0.001)</td>\n",
       "      <td>0.626 (0.004)</td>\n",
       "      <td>0.611 (0.013)</td>\n",
       "      <td>0.622 (0.009)</td>\n",
       "      <td>0.65 (0.001)</td>\n",
       "      <td>0.637 (0.002)</td>\n",
       "    </tr>\n",
       "    <tr>\n",
       "      <th>2</th>\n",
       "      <td>Drug</td>\n",
       "      <td>0.607 (0.004)</td>\n",
       "      <td>0.604 (0.003)</td>\n",
       "      <td>0.589 (0.0)</td>\n",
       "      <td>0.567 (0.005)</td>\n",
       "      <td>0.593 (0.007)</td>\n",
       "      <td>0.58 (0.018)</td>\n",
       "      <td>0.618 (0.006)</td>\n",
       "      <td>0.576 (0.001)</td>\n",
       "      <td>0.566 (0.02)</td>\n",
       "    </tr>\n",
       "    <tr>\n",
       "      <th>3</th>\n",
       "      <td>Property</td>\n",
       "      <td>0.662 (0.001)</td>\n",
       "      <td>0.665 (0.002)</td>\n",
       "      <td>0.635 (0.0)</td>\n",
       "      <td>0.652 (0.002)</td>\n",
       "      <td>0.656 (0.013)</td>\n",
       "      <td>0.634 (0.016)</td>\n",
       "      <td>0.657 (0.008)</td>\n",
       "      <td>0.64 (0.004)</td>\n",
       "      <td>0.619 (0.0)</td>\n",
       "    </tr>\n",
       "    <tr>\n",
       "      <th>4</th>\n",
       "      <td>Felony</td>\n",
       "      <td>0.586 (0.001)</td>\n",
       "      <td>0.584 (0.002)</td>\n",
       "      <td>0.575 (0.0)</td>\n",
       "      <td>0.589 (0.002)</td>\n",
       "      <td>0.58 (0.002)</td>\n",
       "      <td>0.563 (0.003)</td>\n",
       "      <td>0.571 (0.005)</td>\n",
       "      <td>0.574 (0.001)</td>\n",
       "      <td>0.55 (0.001)</td>\n",
       "    </tr>\n",
       "    <tr>\n",
       "      <th>5</th>\n",
       "      <td>Misdemeanor</td>\n",
       "      <td>0.558 (0.002)</td>\n",
       "      <td>0.558 (0.0)</td>\n",
       "      <td>0.55 (0.0)</td>\n",
       "      <td>0.552 (0.002)</td>\n",
       "      <td>0.563 (0.004)</td>\n",
       "      <td>0.554 (0.012)</td>\n",
       "      <td>0.559 (0.002)</td>\n",
       "      <td>0.542 (0.001)</td>\n",
       "      <td>0.526 (0.003)</td>\n",
       "    </tr>\n",
       "  </tbody>\n",
       "</table>\n",
       "</div>"
      ],
      "text/plain": [
       "    Unnamed: 0       Logistic          Lasso   Linear SVM  Random Forest  \\\n",
       "0      General  0.577 (0.002)  0.576 (0.001)  0.569 (0.0)  0.577 (0.001)   \n",
       "1      Violent  0.641 (0.002)  0.644 (0.001)  0.614 (0.0)  0.643 (0.001)   \n",
       "2         Drug  0.607 (0.004)  0.604 (0.003)  0.589 (0.0)  0.567 (0.005)   \n",
       "3     Property  0.662 (0.001)  0.665 (0.002)  0.635 (0.0)  0.652 (0.002)   \n",
       "4       Felony  0.586 (0.001)  0.584 (0.002)  0.575 (0.0)  0.589 (0.002)   \n",
       "5  Misdemeanor  0.558 (0.002)    0.558 (0.0)   0.55 (0.0)  0.552 (0.002)   \n",
       "\n",
       "         XGBoost           CART            EBM   Lasso Stumps       RiskSLIM  \n",
       "0  0.581 (0.002)  0.562 (0.007)  0.571 (0.004)  0.562 (0.001)    0.553 (0.0)  \n",
       "1  0.626 (0.004)  0.611 (0.013)  0.622 (0.009)   0.65 (0.001)  0.637 (0.002)  \n",
       "2  0.593 (0.007)   0.58 (0.018)  0.618 (0.006)  0.576 (0.001)   0.566 (0.02)  \n",
       "3  0.656 (0.013)  0.634 (0.016)  0.657 (0.008)   0.64 (0.004)    0.619 (0.0)  \n",
       "4   0.58 (0.002)  0.563 (0.003)  0.571 (0.005)  0.574 (0.001)   0.55 (0.001)  \n",
       "5  0.563 (0.004)  0.554 (0.012)  0.559 (0.002)  0.542 (0.001)  0.526 (0.003)  "
      ]
     },
     "execution_count": 3,
     "metadata": {},
     "output_type": "execute_result"
    }
   ],
   "source": [
    "result"
   ]
  },
  {
   "cell_type": "code",
   "execution_count": 4,
   "metadata": {
    "hideCode": false,
    "hidePrompt": false
   },
   "outputs": [],
   "source": [
    "cols = result.columns.to_list()\n",
    "values = result.values.tolist()"
   ]
  },
  {
   "cell_type": "code",
   "execution_count": 5,
   "metadata": {
    "hideCode": false,
    "hideOutput": true,
    "hidePrompt": false
   },
   "outputs": [
    {
     "name": "stdout",
     "output_type": "stream",
     "text": [
      "\\begin{array}{l | l | l | l | l | l | l | l | l | l} \\hline\n",
      "    General     & \\verb|0.577 (0.002)| & \\verb|0.576 (0.001)| & \\verb|0.569 (0.0)| & \\verb|0.577 (0.001)| & \\verb|0.581 (0.002)| & \\verb|0.562 (0.007)| & \\verb|0.571 (0.004)| & \\verb|0.562 (0.001)| & \\verb|0.553 (0.0)  | \\\\ \\hline\n",
      "    Violent     & \\verb|0.641 (0.002)| & \\verb|0.644 (0.001)| & \\verb|0.614 (0.0)| & \\verb|0.643 (0.001)| & \\verb|0.626 (0.004)| & \\verb|0.611 (0.013)| & \\verb|0.622 (0.009)| & \\verb|0.65 (0.001) | & \\verb|0.637 (0.002)| \\\\ \\hline\n",
      "    Drug        & \\verb|0.607 (0.004)| & \\verb|0.604 (0.003)| & \\verb|0.589 (0.0)| & \\verb|0.567 (0.005)| & \\verb|0.593 (0.007)| & \\verb|0.58 (0.018) | & \\verb|0.618 (0.006)| & \\verb|0.576 (0.001)| & \\verb|0.566 (0.02) | \\\\ \\hline\n",
      "    Property    & \\verb|0.662 (0.001)| & \\verb|0.665 (0.002)| & \\verb|0.635 (0.0)| & \\verb|0.652 (0.002)| & \\verb|0.656 (0.013)| & \\verb|0.634 (0.016)| & \\verb|0.657 (0.008)| & \\verb|0.64 (0.004) | & \\verb|0.619 (0.0)  | \\\\ \\hline\n",
      "    Felony      & \\verb|0.586 (0.001)| & \\verb|0.584 (0.002)| & \\verb|0.575 (0.0)| & \\verb|0.589 (0.002)| & \\verb|0.58 (0.002) | & \\verb|0.563 (0.003)| & \\verb|0.571 (0.005)| & \\verb|0.574 (0.001)| & \\verb|0.55 (0.001) | \\\\ \\hline\n",
      "    Misdemeanor & \\verb|0.558 (0.002)| & \\verb|0.558 (0.0)  | & \\verb|0.55 (0.0) | & \\verb|0.552 (0.002)| & \\verb|0.563 (0.004)| & \\verb|0.554 (0.012)| & \\verb|0.559 (0.002)| & \\verb|0.542 (0.001)| & \\verb|0.526 (0.003)| \\\\ \\hline\n",
      "\\end{array}\n"
     ]
    }
   ],
   "source": [
    "writer = pytablewriter.LatexTableWriter()\n",
    "writer.value_matrix = values\n",
    "writer.write_table()"
   ]
  },
  {
   "cell_type": "markdown",
   "metadata": {},
   "source": [
    "### KY-score"
   ]
  },
  {
   "cell_type": "code",
   "execution_count": 6,
   "metadata": {
    "hideCode": false,
    "hidePrompt": false
   },
   "outputs": [],
   "source": [
    "result = pd.read_csv(\"./results/baselines/six-month/six-month-ky-ky-score-comb.csv\")"
   ]
  },
  {
   "cell_type": "code",
   "execution_count": 7,
   "metadata": {
    "hideCode": false,
    "hidePrompt": false
   },
   "outputs": [
    {
     "data": {
      "text/html": [
       "<div>\n",
       "<style scoped>\n",
       "    .dataframe tbody tr th:only-of-type {\n",
       "        vertical-align: middle;\n",
       "    }\n",
       "\n",
       "    .dataframe tbody tr th {\n",
       "        vertical-align: top;\n",
       "    }\n",
       "\n",
       "    .dataframe thead th {\n",
       "        text-align: right;\n",
       "    }\n",
       "</style>\n",
       "<table border=\"1\" class=\"dataframe\">\n",
       "  <thead>\n",
       "    <tr style=\"text-align: right;\">\n",
       "      <th></th>\n",
       "      <th>Unnamed: 0</th>\n",
       "      <th>Logistic</th>\n",
       "      <th>Lasso</th>\n",
       "      <th>Linear SVM</th>\n",
       "      <th>Random Forest</th>\n",
       "      <th>XGBoost</th>\n",
       "      <th>CART</th>\n",
       "      <th>EBM</th>\n",
       "      <th>Lasso Stumps</th>\n",
       "      <th>RiskSLIM</th>\n",
       "    </tr>\n",
       "  </thead>\n",
       "  <tbody>\n",
       "    <tr>\n",
       "      <th>0</th>\n",
       "      <td>General</td>\n",
       "      <td>0.752 (0.004)</td>\n",
       "      <td>0.752 (0.004)</td>\n",
       "      <td>0.757 (0.004)</td>\n",
       "      <td>0.775 (0.003)</td>\n",
       "      <td>0.78 (0.003)</td>\n",
       "      <td>0.769 (0.005)</td>\n",
       "      <td>0.77 (0.004)</td>\n",
       "      <td>0.768 (0.004)</td>\n",
       "      <td>0.686 (0.018)</td>\n",
       "    </tr>\n",
       "    <tr>\n",
       "      <th>1</th>\n",
       "      <td>Violent</td>\n",
       "      <td>0.828 (0.006)</td>\n",
       "      <td>0.83 (0.005)</td>\n",
       "      <td>0.834 (0.005)</td>\n",
       "      <td>0.843 (0.005)</td>\n",
       "      <td>0.846 (0.005)</td>\n",
       "      <td>0.821 (0.011)</td>\n",
       "      <td>0.842 (0.005)</td>\n",
       "      <td>0.837 (0.004)</td>\n",
       "      <td>0.785 (0.011)</td>\n",
       "    </tr>\n",
       "    <tr>\n",
       "      <th>2</th>\n",
       "      <td>Drug</td>\n",
       "      <td>0.77 (0.003)</td>\n",
       "      <td>0.771 (0.003)</td>\n",
       "      <td>0.777 (0.004)</td>\n",
       "      <td>0.794 (0.004)</td>\n",
       "      <td>0.799 (0.002)</td>\n",
       "      <td>0.783 (0.005)</td>\n",
       "      <td>0.785 (0.004)</td>\n",
       "      <td>0.786 (0.004)</td>\n",
       "      <td>0.72 (0.01)</td>\n",
       "    </tr>\n",
       "    <tr>\n",
       "      <th>3</th>\n",
       "      <td>Property</td>\n",
       "      <td>0.83 (0.01)</td>\n",
       "      <td>0.829 (0.011)</td>\n",
       "      <td>0.83 (0.013)</td>\n",
       "      <td>0.856 (0.009)</td>\n",
       "      <td>0.86 (0.011)</td>\n",
       "      <td>0.839 (0.014)</td>\n",
       "      <td>0.849 (0.011)</td>\n",
       "      <td>0.851 (0.01)</td>\n",
       "      <td>0.591 (0.014)</td>\n",
       "    </tr>\n",
       "    <tr>\n",
       "      <th>4</th>\n",
       "      <td>Felony</td>\n",
       "      <td>0.79 (0.002)</td>\n",
       "      <td>0.791 (0.002)</td>\n",
       "      <td>0.798 (0.003)</td>\n",
       "      <td>0.823 (0.003)</td>\n",
       "      <td>0.829 (0.003)</td>\n",
       "      <td>0.811 (0.005)</td>\n",
       "      <td>0.818 (0.004)</td>\n",
       "      <td>0.812 (0.004)</td>\n",
       "      <td>0.676 (0.093)</td>\n",
       "    </tr>\n",
       "    <tr>\n",
       "      <th>5</th>\n",
       "      <td>Misdemeanor</td>\n",
       "      <td>0.735 (0.006)</td>\n",
       "      <td>0.735 (0.006)</td>\n",
       "      <td>0.74 (0.007)</td>\n",
       "      <td>0.76 (0.005)</td>\n",
       "      <td>0.766 (0.005)</td>\n",
       "      <td>0.754 (0.005)</td>\n",
       "      <td>0.753 (0.006)</td>\n",
       "      <td>0.75 (0.006)</td>\n",
       "      <td>0.63 (0.071)</td>\n",
       "    </tr>\n",
       "  </tbody>\n",
       "</table>\n",
       "</div>"
      ],
      "text/plain": [
       "    Unnamed: 0       Logistic          Lasso     Linear SVM  Random Forest  \\\n",
       "0      General  0.752 (0.004)  0.752 (0.004)  0.757 (0.004)  0.775 (0.003)   \n",
       "1      Violent  0.828 (0.006)   0.83 (0.005)  0.834 (0.005)  0.843 (0.005)   \n",
       "2         Drug   0.77 (0.003)  0.771 (0.003)  0.777 (0.004)  0.794 (0.004)   \n",
       "3     Property    0.83 (0.01)  0.829 (0.011)   0.83 (0.013)  0.856 (0.009)   \n",
       "4       Felony   0.79 (0.002)  0.791 (0.002)  0.798 (0.003)  0.823 (0.003)   \n",
       "5  Misdemeanor  0.735 (0.006)  0.735 (0.006)   0.74 (0.007)   0.76 (0.005)   \n",
       "\n",
       "         XGBoost           CART            EBM   Lasso Stumps       RiskSLIM  \n",
       "0   0.78 (0.003)  0.769 (0.005)   0.77 (0.004)  0.768 (0.004)  0.686 (0.018)  \n",
       "1  0.846 (0.005)  0.821 (0.011)  0.842 (0.005)  0.837 (0.004)  0.785 (0.011)  \n",
       "2  0.799 (0.002)  0.783 (0.005)  0.785 (0.004)  0.786 (0.004)    0.72 (0.01)  \n",
       "3   0.86 (0.011)  0.839 (0.014)  0.849 (0.011)   0.851 (0.01)  0.591 (0.014)  \n",
       "4  0.829 (0.003)  0.811 (0.005)  0.818 (0.004)  0.812 (0.004)  0.676 (0.093)  \n",
       "5  0.766 (0.005)  0.754 (0.005)  0.753 (0.006)   0.75 (0.006)   0.63 (0.071)  "
      ]
     },
     "execution_count": 7,
     "metadata": {},
     "output_type": "execute_result"
    }
   ],
   "source": [
    "result"
   ]
  },
  {
   "cell_type": "code",
   "execution_count": 8,
   "metadata": {
    "hideCode": false,
    "hidePrompt": false
   },
   "outputs": [],
   "source": [
    "cols = result.columns.to_list()\n",
    "values = result.values.tolist()"
   ]
  },
  {
   "cell_type": "code",
   "execution_count": 9,
   "metadata": {
    "hideCode": false,
    "hideOutput": true,
    "hidePrompt": false
   },
   "outputs": [
    {
     "name": "stdout",
     "output_type": "stream",
     "text": [
      "\\begin{array}{l | l | l | l | l | l | l | l | l | l} \\hline\n",
      "    General     & \\verb|0.752 (0.004)| & \\verb|0.752 (0.004)| & \\verb|0.757 (0.004)| & \\verb|0.775 (0.003)| & \\verb|0.78 (0.003) | & \\verb|0.769 (0.005)| & \\verb|0.77 (0.004) | & \\verb|0.768 (0.004)| & \\verb|0.686 (0.018)| \\\\ \\hline\n",
      "    Violent     & \\verb|0.828 (0.006)| & \\verb|0.83 (0.005) | & \\verb|0.834 (0.005)| & \\verb|0.843 (0.005)| & \\verb|0.846 (0.005)| & \\verb|0.821 (0.011)| & \\verb|0.842 (0.005)| & \\verb|0.837 (0.004)| & \\verb|0.785 (0.011)| \\\\ \\hline\n",
      "    Drug        & \\verb|0.77 (0.003) | & \\verb|0.771 (0.003)| & \\verb|0.777 (0.004)| & \\verb|0.794 (0.004)| & \\verb|0.799 (0.002)| & \\verb|0.783 (0.005)| & \\verb|0.785 (0.004)| & \\verb|0.786 (0.004)| & \\verb|0.72 (0.01)  | \\\\ \\hline\n",
      "    Property    & \\verb|0.83 (0.01)  | & \\verb|0.829 (0.011)| & \\verb|0.83 (0.013) | & \\verb|0.856 (0.009)| & \\verb|0.86 (0.011) | & \\verb|0.839 (0.014)| & \\verb|0.849 (0.011)| & \\verb|0.851 (0.01) | & \\verb|0.591 (0.014)| \\\\ \\hline\n",
      "    Felony      & \\verb|0.79 (0.002) | & \\verb|0.791 (0.002)| & \\verb|0.798 (0.003)| & \\verb|0.823 (0.003)| & \\verb|0.829 (0.003)| & \\verb|0.811 (0.005)| & \\verb|0.818 (0.004)| & \\verb|0.812 (0.004)| & \\verb|0.676 (0.093)| \\\\ \\hline\n",
      "    Misdemeanor & \\verb|0.735 (0.006)| & \\verb|0.735 (0.006)| & \\verb|0.74 (0.007) | & \\verb|0.76 (0.005) | & \\verb|0.766 (0.005)| & \\verb|0.754 (0.005)| & \\verb|0.753 (0.006)| & \\verb|0.75 (0.006) | & \\verb|0.63 (0.071) | \\\\ \\hline\n",
      "\\end{array}\n"
     ]
    }
   ],
   "source": [
    "writer = pytablewriter.LatexTableWriter()\n",
    "writer.value_matrix = values\n",
    "writer.write_table()"
   ]
  }
 ],
 "metadata": {
  "hide_code_all_hidden": false,
  "kernelspec": {
   "display_name": "Python 3",
   "language": "python",
   "name": "python3"
  },
  "language_info": {
   "codemirror_mode": {
    "name": "ipython",
    "version": 3
   },
   "file_extension": ".py",
   "mimetype": "text/x-python",
   "name": "python",
   "nbconvert_exporter": "python",
   "pygments_lexer": "ipython3",
   "version": "3.7.4"
  }
 },
 "nbformat": 4,
 "nbformat_minor": 4
}
