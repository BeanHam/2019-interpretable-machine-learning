{
 "cells": [
  {
   "cell_type": "code",
   "execution_count": 1,
   "metadata": {
    "hideCode": false,
    "hidePrompt": false
   },
   "outputs": [
    {
     "name": "stdout",
     "output_type": "stream",
     "text": [
      "Current working directory is now:  C:\\Users\\binha\\Documents\\Duke\\Cynthia Research\\interpretable-machine-learning\\ky-fl-combined\\ky-model\n"
     ]
    }
   ],
   "source": [
    "import os \n",
    "os.chdir('../../')\n",
    "print(\"Current working directory is now: \", os.getcwd())\n",
    "\n",
    "import pytablewriter\n",
    "import pandas as pd\n",
    "import numpy as np"
   ]
  },
  {
   "cell_type": "code",
   "execution_count": 2,
   "metadata": {
    "hideCode": false,
    "hidePrompt": false
   },
   "outputs": [],
   "source": [
    "result = pd.read_csv(\"./results/baselines/six-month/six-month-ky-comb.csv\")"
   ]
  },
  {
   "cell_type": "code",
   "execution_count": 3,
   "metadata": {
    "hideCode": false,
    "hidePrompt": false
   },
   "outputs": [
    {
     "data": {
      "text/html": [
       "<div>\n",
       "<style scoped>\n",
       "    .dataframe tbody tr th:only-of-type {\n",
       "        vertical-align: middle;\n",
       "    }\n",
       "\n",
       "    .dataframe tbody tr th {\n",
       "        vertical-align: top;\n",
       "    }\n",
       "\n",
       "    .dataframe thead th {\n",
       "        text-align: right;\n",
       "    }\n",
       "</style>\n",
       "<table border=\"1\" class=\"dataframe\">\n",
       "  <thead>\n",
       "    <tr style=\"text-align: right;\">\n",
       "      <th></th>\n",
       "      <th>Unnamed: 0</th>\n",
       "      <th>Logistic</th>\n",
       "      <th>Lasso</th>\n",
       "      <th>Linear SVM</th>\n",
       "      <th>Random Forest</th>\n",
       "      <th>XGBoost</th>\n",
       "      <th>CART</th>\n",
       "      <th>EBM</th>\n",
       "      <th>Lasso Stumps</th>\n",
       "      <th>RiskSLIM</th>\n",
       "    </tr>\n",
       "  </thead>\n",
       "  <tbody>\n",
       "    <tr>\n",
       "      <th>0</th>\n",
       "      <td>General</td>\n",
       "      <td>0.571 (0.0)</td>\n",
       "      <td>0.57 (0.001)</td>\n",
       "      <td>0.567 (0.0)</td>\n",
       "      <td>0.575 (0.002)</td>\n",
       "      <td>0.568 (0.004)</td>\n",
       "      <td>0.553 (0.005)</td>\n",
       "      <td>0.557 (0.003)</td>\n",
       "      <td>0.561 (0.001)</td>\n",
       "      <td>0.541 (0.0)</td>\n",
       "    </tr>\n",
       "    <tr>\n",
       "      <th>1</th>\n",
       "      <td>Violent</td>\n",
       "      <td>0.634 (0.003)</td>\n",
       "      <td>0.634 (0.003)</td>\n",
       "      <td>0.625 (0.0)</td>\n",
       "      <td>0.655 (0.003)</td>\n",
       "      <td>0.626 (0.003)</td>\n",
       "      <td>0.629 (0.008)</td>\n",
       "      <td>0.622 (0.007)</td>\n",
       "      <td>0.655 (0.001)</td>\n",
       "      <td>0.641 (0.001)</td>\n",
       "    </tr>\n",
       "    <tr>\n",
       "      <th>2</th>\n",
       "      <td>Drug</td>\n",
       "      <td>0.584 (0.001)</td>\n",
       "      <td>0.586 (0.002)</td>\n",
       "      <td>0.581 (0.0)</td>\n",
       "      <td>0.582 (0.006)</td>\n",
       "      <td>0.592 (0.01)</td>\n",
       "      <td>0.601 (0.027)</td>\n",
       "      <td>0.588 (0.005)</td>\n",
       "      <td>0.586 (0.002)</td>\n",
       "      <td>0.564 (0.003)</td>\n",
       "    </tr>\n",
       "    <tr>\n",
       "      <th>3</th>\n",
       "      <td>Property</td>\n",
       "      <td>0.617 (0.002)</td>\n",
       "      <td>0.625 (0.005)</td>\n",
       "      <td>0.6 (0.0)</td>\n",
       "      <td>0.634 (0.005)</td>\n",
       "      <td>0.647 (0.005)</td>\n",
       "      <td>0.626 (0.02)</td>\n",
       "      <td>0.594 (0.058)</td>\n",
       "      <td>0.64 (0.003)</td>\n",
       "      <td>0.62 (0.001)</td>\n",
       "    </tr>\n",
       "    <tr>\n",
       "      <th>4</th>\n",
       "      <td>Felony</td>\n",
       "      <td>0.598 (0.001)</td>\n",
       "      <td>0.598 (0.001)</td>\n",
       "      <td>0.596 (0.0)</td>\n",
       "      <td>0.595 (0.003)</td>\n",
       "      <td>0.581 (0.002)</td>\n",
       "      <td>0.563 (0.009)</td>\n",
       "      <td>0.541 (0.007)</td>\n",
       "      <td>0.581 (0.0)</td>\n",
       "      <td>0.573 (0.001)</td>\n",
       "    </tr>\n",
       "    <tr>\n",
       "      <th>5</th>\n",
       "      <td>Misdemeanor</td>\n",
       "      <td>0.544 (0.001)</td>\n",
       "      <td>0.545 (0.0)</td>\n",
       "      <td>0.54 (0.0)</td>\n",
       "      <td>0.548 (0.002)</td>\n",
       "      <td>0.556 (0.004)</td>\n",
       "      <td>0.543 (0.004)</td>\n",
       "      <td>0.552 (0.002)</td>\n",
       "      <td>0.541 (0.001)</td>\n",
       "      <td>0.525 (0.002)</td>\n",
       "    </tr>\n",
       "  </tbody>\n",
       "</table>\n",
       "</div>"
      ],
      "text/plain": [
       "    Unnamed: 0       Logistic          Lasso   Linear SVM  Random Forest  \\\n",
       "0      General    0.571 (0.0)   0.57 (0.001)  0.567 (0.0)  0.575 (0.002)   \n",
       "1      Violent  0.634 (0.003)  0.634 (0.003)  0.625 (0.0)  0.655 (0.003)   \n",
       "2         Drug  0.584 (0.001)  0.586 (0.002)  0.581 (0.0)  0.582 (0.006)   \n",
       "3     Property  0.617 (0.002)  0.625 (0.005)    0.6 (0.0)  0.634 (0.005)   \n",
       "4       Felony  0.598 (0.001)  0.598 (0.001)  0.596 (0.0)  0.595 (0.003)   \n",
       "5  Misdemeanor  0.544 (0.001)    0.545 (0.0)   0.54 (0.0)  0.548 (0.002)   \n",
       "\n",
       "         XGBoost           CART            EBM   Lasso Stumps       RiskSLIM  \n",
       "0  0.568 (0.004)  0.553 (0.005)  0.557 (0.003)  0.561 (0.001)    0.541 (0.0)  \n",
       "1  0.626 (0.003)  0.629 (0.008)  0.622 (0.007)  0.655 (0.001)  0.641 (0.001)  \n",
       "2   0.592 (0.01)  0.601 (0.027)  0.588 (0.005)  0.586 (0.002)  0.564 (0.003)  \n",
       "3  0.647 (0.005)   0.626 (0.02)  0.594 (0.058)   0.64 (0.003)   0.62 (0.001)  \n",
       "4  0.581 (0.002)  0.563 (0.009)  0.541 (0.007)    0.581 (0.0)  0.573 (0.001)  \n",
       "5  0.556 (0.004)  0.543 (0.004)  0.552 (0.002)  0.541 (0.001)  0.525 (0.002)  "
      ]
     },
     "execution_count": 3,
     "metadata": {},
     "output_type": "execute_result"
    }
   ],
   "source": [
    "result"
   ]
  },
  {
   "cell_type": "code",
   "execution_count": 4,
   "metadata": {
    "hideCode": false,
    "hidePrompt": false
   },
   "outputs": [],
   "source": [
    "cols = result.columns.to_list()\n",
    "values = result.values.tolist()"
   ]
  },
  {
   "cell_type": "code",
   "execution_count": 5,
   "metadata": {
    "hideCode": false,
    "hideOutput": true,
    "hidePrompt": false
   },
   "outputs": [
    {
     "name": "stdout",
     "output_type": "stream",
     "text": [
      "\\begin{array}{l | l | l | l | l | l | l | l | l | l} \\hline\n",
      "    General     & \\verb|0.571 (0.0)  | & \\verb|0.57 (0.001) | & \\verb|0.567 (0.0)| & \\verb|0.575 (0.002)| & \\verb|0.568 (0.004)| & \\verb|0.553 (0.005)| & \\verb|0.557 (0.003)| & \\verb|0.561 (0.001)| & \\verb|0.541 (0.0)  | \\\\ \\hline\n",
      "    Violent     & \\verb|0.634 (0.003)| & \\verb|0.634 (0.003)| & \\verb|0.625 (0.0)| & \\verb|0.655 (0.003)| & \\verb|0.626 (0.003)| & \\verb|0.629 (0.008)| & \\verb|0.622 (0.007)| & \\verb|0.655 (0.001)| & \\verb|0.641 (0.001)| \\\\ \\hline\n",
      "    Drug        & \\verb|0.584 (0.001)| & \\verb|0.586 (0.002)| & \\verb|0.581 (0.0)| & \\verb|0.582 (0.006)| & \\verb|0.592 (0.01) | & \\verb|0.601 (0.027)| & \\verb|0.588 (0.005)| & \\verb|0.586 (0.002)| & \\verb|0.564 (0.003)| \\\\ \\hline\n",
      "    Property    & \\verb|0.617 (0.002)| & \\verb|0.625 (0.005)| & \\verb|0.6 (0.0)  | & \\verb|0.634 (0.005)| & \\verb|0.647 (0.005)| & \\verb|0.626 (0.02) | & \\verb|0.594 (0.058)| & \\verb|0.64 (0.003) | & \\verb|0.62 (0.001) | \\\\ \\hline\n",
      "    Felony      & \\verb|0.598 (0.001)| & \\verb|0.598 (0.001)| & \\verb|0.596 (0.0)| & \\verb|0.595 (0.003)| & \\verb|0.581 (0.002)| & \\verb|0.563 (0.009)| & \\verb|0.541 (0.007)| & \\verb|0.581 (0.0)  | & \\verb|0.573 (0.001)| \\\\ \\hline\n",
      "    Misdemeanor & \\verb|0.544 (0.001)| & \\verb|0.545 (0.0)  | & \\verb|0.54 (0.0) | & \\verb|0.548 (0.002)| & \\verb|0.556 (0.004)| & \\verb|0.543 (0.004)| & \\verb|0.551 (0.001)| & \\verb|0.541 (0.001)| & \\verb|0.525 (0.002)| \\\\ \\hline\n",
      "\\end{array}\n"
     ]
    }
   ],
   "source": [
    "writer = pytablewriter.LatexTableWriter()\n",
    "writer.value_matrix = values\n",
    "writer.write_table()"
   ]
  }
 ],
 "metadata": {
  "hide_code_all_hidden": false,
  "kernelspec": {
   "display_name": "Python 3",
   "language": "python",
   "name": "python3"
  },
  "language_info": {
   "codemirror_mode": {
    "name": "ipython",
    "version": 3
   },
   "file_extension": ".py",
   "mimetype": "text/x-python",
   "name": "python",
   "nbconvert_exporter": "python",
   "pygments_lexer": "ipython3",
   "version": "3.7.4"
  }
 },
 "nbformat": 4,
 "nbformat_minor": 4
}
