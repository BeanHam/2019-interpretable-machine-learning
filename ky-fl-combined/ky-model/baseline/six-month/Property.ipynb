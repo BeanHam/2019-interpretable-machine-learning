{
 "cells": [
  {
   "cell_type": "code",
   "execution_count": 1,
   "metadata": {},
   "outputs": [
    {
     "name": "stdout",
     "output_type": "stream",
     "text": [
      "Current working directory is now:  C:\\Users\\binha\\Documents\\Duke\\Cynthia Research\\psa-analysis - test2\\kentucky\\ky_fl_combined\\KY Model\n"
     ]
    }
   ],
   "source": [
    "import os \n",
    "os.chdir('../../')\n",
    "print(\"Current working directory is now: \", os.getcwd())\n",
    "\n",
    "import pandas as pd \n",
    "import numpy as np\n",
    "import csv\n",
    "import KY_utils.KY_baseline_functions as base"
   ]
  },
  {
   "cell_type": "code",
   "execution_count": 2,
   "metadata": {},
   "outputs": [],
   "source": [
    "KY_data = pd.read_csv(\"~/Documents/Duke/Cynthia Research/psa-analysis - test2/kentucky/ky_fl_combined/data preparation/KY_cleaned\")\n",
    "FL_data = pd.read_csv(\"~/Documents/Duke/Cynthia Research/psa-analysis - test2/kentucky/ky_fl_combined/data preparation/FL_cleaned\")\n",
    "\n",
    "## split x and y \n",
    "KY_X = KY_data.loc[:,:'current_violence20']\n",
    "KY_Y = KY_data['property_six_month'].values\n",
    "FL_X = FL_data.loc[:,:'current_violence20']\n",
    "FL_Y = FL_data['property_six_month'].values"
   ]
  },
  {
   "cell_type": "markdown",
   "metadata": {},
   "source": [
    "### Model"
   ]
  },
  {
   "cell_type": "code",
   "execution_count": 3,
   "metadata": {},
   "outputs": [
    {
     "name": "stdout",
     "output_type": "stream",
     "text": [
      "Stored 'summary_property6_ky_model' (dict)\n"
     ]
    }
   ],
   "source": [
    "#### Logistic\n",
    "c = [1e-4, 1e-3, 0.01, 0.1, 1]\n",
    "logistic_summary = base.Logistic(KY_X, KY_Y, FL_X, FL_Y,C=c,seed=816)\n",
    "\n",
    "#### Lasso\n",
    "c = [1e-4, 1e-3, 0.01, 0.1, 1]\n",
    "lasso_summary = base.Lasso(KY_X, KY_Y, FL_X, FL_Y,C=c,seed=816)\n",
    "\n",
    "#### LinearSVM\n",
    "c = [1e-4, 1e-3, 0.01, 0.1, 1]\n",
    "svm_summary = base.LinearSVM(KY_X, KY_Y, FL_X, FL_Y,C=c,seed=816)\n",
    "\n",
    "#### Random Forest\n",
    "n_estimators =  [100,150,200]\n",
    "depth = [7,8,9]\n",
    "rf_summary = base.RF(KY_X, KY_Y, FL_X, FL_Y,\n",
    "                     depth=depth, \n",
    "                     estimators=n_estimators, \n",
    "                     seed=816)\n",
    "\n",
    "#### XGBoost\n",
    "learning_rate = [0.1]\n",
    "depth = [4,5,6]\n",
    "n_estimators = [100,150]\n",
    "xgb_summary = base.XGB(KY_X, KY_Y, FL_X, FL_Y,\n",
    "                       learning_rate=learning_rate, \n",
    "                       depth=depth, \n",
    "                       estimators=n_estimators,\n",
    "                       seed=816)\n",
    "\n",
    "#### save results\n",
    "summary_property6_ky_model = {\"Logistic\": logistic_summary,\n",
    "                              \"Lasso\": lasso_summary,\n",
    "                              \"LinearSVM\": svm_summary,\n",
    "                              \"RF\": rf_summary,\n",
    "                              \"XGBoost\": xgb_summary}"
   ]
  },
  {
   "cell_type": "code",
   "execution_count": 4,
   "metadata": {},
   "outputs": [
    {
     "data": {
      "text/plain": [
       "[['Logistic', 0.8426797188623696, 0.00685426223751151, 0.6791047237860661],\n",
       " ['Lasso', 0.8430946025843612, 0.006185012401135559, 0.6800338669950738],\n",
       " ['LinearSVM', 0.8427997959601332, 0.005493348234643536, 0.6714983946164672],\n",
       " ['RF', 0.8543375443150334, 0.03596975744918485, 0.6420242127023223],\n",
       " ['XGBoost', 0.8613677701472617, 0.028283607324475435, 0.6165579917311752]]"
      ]
     },
     "execution_count": 4,
     "metadata": {},
     "output_type": "execute_result"
    }
   ],
   "source": [
    "results = []\n",
    "for model_name, model_summary in summary_property6_ky_model.items():\n",
    "    results.append([model_name, \n",
    "                    model_summary['best_auc'], \n",
    "                    model_summary['auc_diff'], \n",
    "                    model_summary['FL_score']])\n",
    "results"
   ]
  },
  {
   "cell_type": "code",
   "execution_count": 5,
   "metadata": {},
   "outputs": [],
   "source": [
    "path = \"C:\\\\Users\\\\binha\\\\Documents\\\\Duke\\\\Cynthia Research\\\\KY-analysis-mytrials\\\\KY Recidivism\\\\KY Results\\\\KY_FL\\\\KY Model\\\\baselines\\\\Six Month\\\\\"\n",
    "results = [[\"Property\",             \n",
    "            round(logistic_summary['FL_score'],3), \n",
    "            round(lasso_summary['FL_score'], 3), \n",
    "            round(svm_summary['FL_score'],3), \n",
    "            round(rf_summary['FL_score'],3), \n",
    "            round(xgb_summary['FL_score'],3)]]\n",
    "with open(path + 'Six Month KY_model.csv', 'a') as writeFile:\n",
    "    writer = csv.writer(writeFile)\n",
    "    writer.writerows(results)"
   ]
  }
 ],
 "metadata": {
  "kernelspec": {
   "display_name": "Python 3",
   "language": "python",
   "name": "python3"
  },
  "language_info": {
   "codemirror_mode": {
    "name": "ipython",
    "version": 3
   },
   "file_extension": ".py",
   "mimetype": "text/x-python",
   "name": "python",
   "nbconvert_exporter": "python",
   "pygments_lexer": "ipython3",
   "version": "3.7.4"
  }
 },
 "nbformat": 4,
 "nbformat_minor": 4
}
