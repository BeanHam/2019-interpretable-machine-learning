{
 "cells": [
  {
   "cell_type": "code",
   "execution_count": 1,
   "metadata": {},
   "outputs": [
    {
     "name": "stdout",
     "output_type": "stream",
     "text": [
      "Current working directory is now:  C:\\Users\\binha\\Documents\\Duke\\Cynthia Research\\interpretable-machine-learning\\ky-fl-combined\\ky-model\n"
     ]
    }
   ],
   "source": [
    "import os \n",
    "os.chdir('../../')\n",
    "print(\"Current working directory is now: \", os.getcwd())\n",
    "\n",
    "import pandas as pd\n",
    "import numpy as np\n",
    "import csv\n",
    "import ky_utils.ky_baseline_functions as base"
   ]
  },
  {
   "cell_type": "code",
   "execution_count": 2,
   "metadata": {},
   "outputs": [],
   "source": [
    "KY_data = pd.read_csv(\"~/Documents/Duke/Cynthia Research/data/ky-fl-data/KY_cleaned\").sort_values('person_id')\n",
    "FL_data = pd.read_csv(\"~/Documents/Duke/Cynthia Research/data/ky-fl-data/FL_cleaned\").sort_values('person_id')\n",
    "\n",
    "## split x and y \n",
    "KY_X = KY_data.loc[:,:'current_violence20']\n",
    "KY_Y = KY_data['violent_six_month'].values\n",
    "FL_X = FL_data.loc[:,:'current_violence20']\n",
    "FL_Y = FL_data['violent_six_month'].values"
   ]
  },
  {
   "cell_type": "markdown",
   "metadata": {},
   "source": [
    "### Model"
   ]
  },
  {
   "cell_type": "code",
   "execution_count": 3,
   "metadata": {
    "scrolled": true
   },
   "outputs": [
    {
     "name": "stderr",
     "output_type": "stream",
     "text": [
      "C:\\Users\\binha\\Anaconda3\\lib\\site-packages\\sklearn\\calibration.py:455: RuntimeWarning: invalid value encountered in multiply\n",
      "  TEP_minus_T1P = P * (T * E - T1)\n",
      "C:\\Users\\binha\\Anaconda3\\lib\\site-packages\\sklearn\\calibration.py:455: RuntimeWarning: invalid value encountered in multiply\n",
      "  TEP_minus_T1P = P * (T * E - T1)\n",
      "C:\\Users\\binha\\Anaconda3\\lib\\site-packages\\sklearn\\calibration.py:455: RuntimeWarning: invalid value encountered in multiply\n",
      "  TEP_minus_T1P = P * (T * E - T1)\n",
      "C:\\Users\\binha\\Anaconda3\\lib\\site-packages\\sklearn\\calibration.py:455: RuntimeWarning: invalid value encountered in multiply\n",
      "  TEP_minus_T1P = P * (T * E - T1)\n",
      "C:\\Users\\binha\\Anaconda3\\lib\\site-packages\\sklearn\\calibration.py:455: RuntimeWarning: invalid value encountered in multiply\n",
      "  TEP_minus_T1P = P * (T * E - T1)\n",
      "C:\\Users\\binha\\Anaconda3\\lib\\site-packages\\sklearn\\calibration.py:455: RuntimeWarning: invalid value encountered in multiply\n",
      "  TEP_minus_T1P = P * (T * E - T1)\n",
      "C:\\Users\\binha\\Anaconda3\\lib\\site-packages\\sklearn\\calibration.py:455: RuntimeWarning: invalid value encountered in multiply\n",
      "  TEP_minus_T1P = P * (T * E - T1)\n",
      "C:\\Users\\binha\\Anaconda3\\lib\\site-packages\\sklearn\\calibration.py:455: RuntimeWarning: invalid value encountered in multiply\n",
      "  TEP_minus_T1P = P * (T * E - T1)\n",
      "C:\\Users\\binha\\Anaconda3\\lib\\site-packages\\sklearn\\calibration.py:455: RuntimeWarning: invalid value encountered in multiply\n",
      "  TEP_minus_T1P = P * (T * E - T1)\n",
      "C:\\Users\\binha\\Anaconda3\\lib\\site-packages\\sklearn\\calibration.py:455: RuntimeWarning: invalid value encountered in multiply\n",
      "  TEP_minus_T1P = P * (T * E - T1)\n"
     ]
    }
   ],
   "source": [
    "#### Logistic\n",
    "c = [1e-4, 1e-3, 0.01, 0.1, 1]\n",
    "logistic_summary = base.Logistic(KY_X, KY_Y, FL_X, FL_Y,C=c,seed=816)\n",
    "\n",
    "#### Lasso\n",
    "c = [1e-4, 1e-3, 0.01, 0.1, 1]\n",
    "lasso_summary = base.Lasso(KY_X, KY_Y, FL_X, FL_Y,C=c,seed=816)\n",
    "\n",
    "#### LinearSVM\n",
    "c = [1e-4, 1e-3, 0.01, 0.1, 1]\n",
    "svm_summary = base.LinearSVM(KY_X, KY_Y, FL_X, FL_Y,C=c,seed=816)\n",
    "\n",
    "#### Random Forest\n",
    "n_estimators =  [100,150,200]\n",
    "depth = [7,8,9]\n",
    "rf_summary = base.RF(KY_X, KY_Y, FL_X, FL_Y, \n",
    "                     depth=depth, \n",
    "                     estimators=n_estimators,\n",
    "                     seed=816)\n",
    "\n",
    "#### XGBoost\n",
    "learning_rate = [0.1]\n",
    "depth = [4,5,6]\n",
    "n_estimators = [100,150]\n",
    "xgb_summary = base.XGB(KY_X, KY_Y, FL_X, FL_Y,\n",
    "                       learning_rate=learning_rate, \n",
    "                       depth=depth, \n",
    "                       estimators=n_estimators,\n",
    "                       seed=816)\n",
    "\n",
    "#### save results\n",
    "summary_violent6_ky_model = {\"Logistic\": logistic_summary,\n",
    "                             \"Lasso\": lasso_summary,\n",
    "                             \"LinearSVM\": svm_summary,\n",
    "                             \"RF\": rf_summary,\n",
    "                             \"XGBoost\": xgb_summary}"
   ]
  },
  {
   "cell_type": "code",
   "execution_count": 4,
   "metadata": {},
   "outputs": [
    {
     "data": {
      "text/plain": [
       "[['Logistic', 0.8657332752798863, 0.0014507229062892036, 0.6337340989548925],\n",
       " ['Lasso', 0.865585177480303, 0.0012870551939129892, 0.6335301590527974],\n",
       " ['LinearSVM', 0.8638427909412882, 0.0013870286725506942, 0.6253535918153023],\n",
       " ['RF', 0.8772610784533665, 0.025684046049689303, 0.6549147145010756],\n",
       " ['XGBoost', 0.8803683906421436, 0.014471643066735007, 0.6262946965462337]]"
      ]
     },
     "execution_count": 4,
     "metadata": {},
     "output_type": "execute_result"
    }
   ],
   "source": [
    "results = []\n",
    "for model_name, model_summary in summary_violent6_ky_model.items():\n",
    "    results.append([model_name, \n",
    "                    np.mean(model_summary['KY_validation']), \n",
    "                    np.mean(model_summary['auc_diff']), \n",
    "                    np.mean(model_summary['FL_score'])])\n",
    "results"
   ]
  },
  {
   "cell_type": "code",
   "execution_count": 5,
   "metadata": {},
   "outputs": [],
   "source": [
    "path = \"./results/baselines/six-month/\"\n",
    "results = [[\"Violent\",             \n",
    "            np.str(round(np.mean(logistic_summary['FL_score']),3)) + \" (\" + np.str(round(np.std(logistic_summary['FL_score']),3)) + \")\", \n",
    "            np.str(round(np.mean(lasso_summary['FL_score']), 3)) + \" (\" + np.str(round(np.std(lasso_summary['FL_score']),3)) + \")\", \n",
    "            np.str(round(np.mean(svm_summary['FL_score']),3)) + \" (\" + np.str(round(np.std(svm_summary['FL_score']),3)) + \")\", \n",
    "            np.str(round(np.mean(rf_summary['FL_score']),3)) + \" (\" + np.str(round(np.std(rf_summary['FL_score']),3)) + \")\", \n",
    "            np.str(round(np.mean(xgb_summary['FL_score']),3)) + \" (\" + np.str(round(np.std(xgb_summary['FL_score']),3)) + \")\"]]\n",
    "with open(path + 'six-month-ky-baseline.csv', 'a') as writeFile:\n",
    "    writer = csv.writer(writeFile)\n",
    "    writer.writerows(results)"
   ]
  }
 ],
 "metadata": {
  "kernelspec": {
   "display_name": "Python 3",
   "language": "python",
   "name": "python3"
  },
  "language_info": {
   "codemirror_mode": {
    "name": "ipython",
    "version": 3
   },
   "file_extension": ".py",
   "mimetype": "text/x-python",
   "name": "python",
   "nbconvert_exporter": "python",
   "pygments_lexer": "ipython3",
   "version": "3.7.4"
  }
 },
 "nbformat": 4,
 "nbformat_minor": 4
}
