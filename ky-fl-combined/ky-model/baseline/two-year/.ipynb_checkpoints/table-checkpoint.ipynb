{
 "cells": [
  {
   "cell_type": "code",
   "execution_count": 1,
   "metadata": {
    "hideCode": false,
    "hidePrompt": false
   },
   "outputs": [
    {
     "name": "stdout",
     "output_type": "stream",
     "text": [
      "Current working directory is now:  C:\\Users\\binha\\Documents\\Duke\\Cynthia Research\\interpretable-machine-learning\\ky-fl-combined\\ky-model\n"
     ]
    }
   ],
   "source": [
    "import os \n",
    "os.chdir('../../')\n",
    "print(\"Current working directory is now: \", os.getcwd())\n",
    "\n",
    "import pytablewriter\n",
    "import pandas as pd\n",
    "import numpy as np"
   ]
  },
  {
   "cell_type": "code",
   "execution_count": 2,
   "metadata": {
    "hideCode": false,
    "hidePrompt": false
   },
   "outputs": [],
   "source": [
    "result = pd.read_csv(\"./results/baselines/two-year/two-year-ky-baseline.csv\")"
   ]
  },
  {
   "cell_type": "code",
   "execution_count": 3,
   "metadata": {
    "hideCode": false,
    "hidePrompt": false
   },
   "outputs": [
    {
     "data": {
      "text/html": [
       "<div>\n",
       "<style scoped>\n",
       "    .dataframe tbody tr th:only-of-type {\n",
       "        vertical-align: middle;\n",
       "    }\n",
       "\n",
       "    .dataframe tbody tr th {\n",
       "        vertical-align: top;\n",
       "    }\n",
       "\n",
       "    .dataframe thead th {\n",
       "        text-align: right;\n",
       "    }\n",
       "</style>\n",
       "<table border=\"1\" class=\"dataframe\">\n",
       "  <thead>\n",
       "    <tr style=\"text-align: right;\">\n",
       "      <th></th>\n",
       "      <th>Unnamed: 0</th>\n",
       "      <th>Logistic</th>\n",
       "      <th>Lasso</th>\n",
       "      <th>Linear SVM</th>\n",
       "      <th>Random Forest</th>\n",
       "      <th>XGBoost</th>\n",
       "    </tr>\n",
       "  </thead>\n",
       "  <tbody>\n",
       "    <tr>\n",
       "      <th>0</th>\n",
       "      <td>General</td>\n",
       "      <td>0.6 (0.0)</td>\n",
       "      <td>0.6 (0.0)</td>\n",
       "      <td>0.599 (0.0)</td>\n",
       "      <td>0.613 (0.002)</td>\n",
       "      <td>0.605 (0.003)</td>\n",
       "    </tr>\n",
       "    <tr>\n",
       "      <th>1</th>\n",
       "      <td>Violent</td>\n",
       "      <td>0.639 (0.001)</td>\n",
       "      <td>0.64 (0.002)</td>\n",
       "      <td>0.631 (0.0)</td>\n",
       "      <td>0.651 (0.001)</td>\n",
       "      <td>0.648 (0.005)</td>\n",
       "    </tr>\n",
       "    <tr>\n",
       "      <th>2</th>\n",
       "      <td>Drug</td>\n",
       "      <td>0.624 (0.002)</td>\n",
       "      <td>0.623 (0.001)</td>\n",
       "      <td>0.619 (0.0)</td>\n",
       "      <td>0.642 (0.004)</td>\n",
       "      <td>0.667 (0.004)</td>\n",
       "    </tr>\n",
       "    <tr>\n",
       "      <th>3</th>\n",
       "      <td>Property</td>\n",
       "      <td>0.627 (0.001)</td>\n",
       "      <td>0.614 (0.001)</td>\n",
       "      <td>0.62 (0.0)</td>\n",
       "      <td>0.665 (0.003)</td>\n",
       "      <td>0.658 (0.006)</td>\n",
       "    </tr>\n",
       "    <tr>\n",
       "      <th>4</th>\n",
       "      <td>Felony</td>\n",
       "      <td>0.634 (0.0)</td>\n",
       "      <td>0.636 (0.001)</td>\n",
       "      <td>0.634 (0.0)</td>\n",
       "      <td>0.633 (0.0)</td>\n",
       "      <td>0.632 (0.003)</td>\n",
       "    </tr>\n",
       "    <tr>\n",
       "      <th>5</th>\n",
       "      <td>Misdemeanor</td>\n",
       "      <td>0.542 (0.0)</td>\n",
       "      <td>0.543 (0.001)</td>\n",
       "      <td>0.541 (0.0)</td>\n",
       "      <td>0.561 (0.002)</td>\n",
       "      <td>0.566 (0.005)</td>\n",
       "    </tr>\n",
       "  </tbody>\n",
       "</table>\n",
       "</div>"
      ],
      "text/plain": [
       "    Unnamed: 0       Logistic          Lasso   Linear SVM  Random Forest  \\\n",
       "0      General      0.6 (0.0)      0.6 (0.0)  0.599 (0.0)  0.613 (0.002)   \n",
       "1      Violent  0.639 (0.001)   0.64 (0.002)  0.631 (0.0)  0.651 (0.001)   \n",
       "2         Drug  0.624 (0.002)  0.623 (0.001)  0.619 (0.0)  0.642 (0.004)   \n",
       "3     Property  0.627 (0.001)  0.614 (0.001)   0.62 (0.0)  0.665 (0.003)   \n",
       "4       Felony    0.634 (0.0)  0.636 (0.001)  0.634 (0.0)    0.633 (0.0)   \n",
       "5  Misdemeanor    0.542 (0.0)  0.543 (0.001)  0.541 (0.0)  0.561 (0.002)   \n",
       "\n",
       "         XGBoost  \n",
       "0  0.605 (0.003)  \n",
       "1  0.648 (0.005)  \n",
       "2  0.667 (0.004)  \n",
       "3  0.658 (0.006)  \n",
       "4  0.632 (0.003)  \n",
       "5  0.566 (0.005)  "
      ]
     },
     "execution_count": 3,
     "metadata": {},
     "output_type": "execute_result"
    }
   ],
   "source": [
    "result"
   ]
  },
  {
   "cell_type": "code",
   "execution_count": 5,
   "metadata": {
    "hideCode": false,
    "hidePrompt": false
   },
   "outputs": [],
   "source": [
    "cols = result.columns.to_list()\n",
    "values = result.values.tolist()"
   ]
  },
  {
   "cell_type": "code",
   "execution_count": 6,
   "metadata": {
    "hideCode": false,
    "hideOutput": true,
    "hidePrompt": false
   },
   "outputs": [
    {
     "name": "stdout",
     "output_type": "stream",
     "text": [
      "\\begin{array}{l | l | l | l | l | l | l | l | l | l} \\hline\n",
      "    General     & \\verb|0.6 (0.0)    | & \\verb|0.6 (0.0)    | & \\verb|0.599 (0.0)| & \\verb|0.613 (0.002)| & \\verb|0.605 (0.003)| & \\verb|0.58 (0.006) | & \\verb|0.592 (0.001)| & \\verb|0.599 (0.0)  | & \\verb|0.574 (0.011)| \\\\ \\hline\n",
      "    Violent     & \\verb|0.639 (0.001)| & \\verb|0.64 (0.002) | & \\verb|0.631 (0.0)| & \\verb|0.651 (0.001)| & \\verb|0.648 (0.005)| & \\verb|0.635 (0.008)| & \\verb|0.621 (0.009)| & \\verb|0.66 (0.001) | & \\verb|0.626 (0.0)  | \\\\ \\hline\n",
      "    Drug        & \\verb|0.624 (0.002)| & \\verb|0.623 (0.001)| & \\verb|0.619 (0.0)| & \\verb|0.642 (0.004)| & \\verb|0.667 (0.004)| & \\verb|0.656 (0.005)| & \\verb|0.628 (0.006)| & \\verb|0.654 (0.002)| & \\verb|0.634 (0.004)| \\\\ \\hline\n",
      "    Property    & \\verb|0.627 (0.001)| & \\verb|0.614 (0.001)| & \\verb|0.62 (0.0) | & \\verb|0.665 (0.003)| & \\verb|0.658 (0.006)| & \\verb|0.616 (0.023)| & \\verb|0.67 (0.014) | & \\verb|0.666 (0.003)| & \\verb|0.615 (0.014)| \\\\ \\hline\n",
      "    Felony      & \\verb|0.634 (0.0)  | & \\verb|0.636 (0.001)| & \\verb|0.634 (0.0)| & \\verb|0.633 (0.0)  | & \\verb|0.632 (0.003)| & \\verb|0.62 (0.004) | & \\verb|0.606 (0.005)| & \\verb|0.626 (0.0)  | & \\verb|0.597 (0.012)| \\\\ \\hline\n",
      "    Misdemeanor & \\verb|0.542 (0.0)  | & \\verb|0.543 (0.001)| & \\verb|0.541 (0.0)| & \\verb|0.561 (0.002)| & \\verb|0.566 (0.005)| & \\verb|0.536 (0.006)| & \\verb|0.539 (0.013)| & \\verb|0.556 (0.001)| & \\verb|0.529 (0.0)  | \\\\ \\hline\n",
      "\\end{array}\n"
     ]
    }
   ],
   "source": [
    "writer = pytablewriter.LatexTableWriter()\n",
    "writer.value_matrix = values\n",
    "writer.write_table()"
   ]
  }
 ],
 "metadata": {
  "hide_code_all_hidden": false,
  "kernelspec": {
   "display_name": "Python 3",
   "language": "python",
   "name": "python3"
  },
  "language_info": {
   "codemirror_mode": {
    "name": "ipython",
    "version": 3
   },
   "file_extension": ".py",
   "mimetype": "text/x-python",
   "name": "python",
   "nbconvert_exporter": "python",
   "pygments_lexer": "ipython3",
   "version": "3.7.4"
  }
 },
 "nbformat": 4,
 "nbformat_minor": 4
}
