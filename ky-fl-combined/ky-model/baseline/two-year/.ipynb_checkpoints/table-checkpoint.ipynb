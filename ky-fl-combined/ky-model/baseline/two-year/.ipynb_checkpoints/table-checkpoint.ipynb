{
 "cells": [
  {
   "cell_type": "code",
   "execution_count": 1,
   "metadata": {
    "hideCode": false,
    "hidePrompt": false
   },
   "outputs": [
    {
     "name": "stdout",
     "output_type": "stream",
     "text": [
      "Current working directory is now:  C:\\Users\\binha\\Documents\\Duke\\Cynthia Research\\interpretable-machine-learning\\ky-fl-combined\\ky-model\n"
     ]
    }
   ],
   "source": [
    "import os \n",
    "os.chdir('../../')\n",
    "print(\"Current working directory is now: \", os.getcwd())\n",
    "\n",
    "import pytablewriter\n",
    "import pandas as pd\n",
    "import numpy as np"
   ]
  },
  {
   "cell_type": "markdown",
   "metadata": {},
   "source": [
    "### FL-score"
   ]
  },
  {
   "cell_type": "code",
   "execution_count": 3,
   "metadata": {
    "hideCode": false,
    "hidePrompt": false
   },
   "outputs": [],
   "source": [
    "result = pd.read_csv(\"./results/baselines/two-year/two-year-ky-fl-score-comb.csv\")"
   ]
  },
  {
   "cell_type": "code",
   "execution_count": 4,
   "metadata": {
    "hideCode": false,
    "hidePrompt": false
   },
   "outputs": [
    {
     "data": {
      "text/html": [
       "<div>\n",
       "<style scoped>\n",
       "    .dataframe tbody tr th:only-of-type {\n",
       "        vertical-align: middle;\n",
       "    }\n",
       "\n",
       "    .dataframe tbody tr th {\n",
       "        vertical-align: top;\n",
       "    }\n",
       "\n",
       "    .dataframe thead th {\n",
       "        text-align: right;\n",
       "    }\n",
       "</style>\n",
       "<table border=\"1\" class=\"dataframe\">\n",
       "  <thead>\n",
       "    <tr style=\"text-align: right;\">\n",
       "      <th></th>\n",
       "      <th>Unnamed: 0</th>\n",
       "      <th>Logistic</th>\n",
       "      <th>Lasso</th>\n",
       "      <th>Linear SVM</th>\n",
       "      <th>Random Forest</th>\n",
       "      <th>XGBoost</th>\n",
       "      <th>CART</th>\n",
       "      <th>EBM</th>\n",
       "      <th>Lasso Stumps</th>\n",
       "      <th>RiskSLIM</th>\n",
       "    </tr>\n",
       "  </thead>\n",
       "  <tbody>\n",
       "    <tr>\n",
       "      <th>0</th>\n",
       "      <td>General</td>\n",
       "      <td>0.615 (0.001)</td>\n",
       "      <td>0.614 (0.001)</td>\n",
       "      <td>0.61 (0.0)</td>\n",
       "      <td>0.619 (0.001)</td>\n",
       "      <td>0.617 (0.003)</td>\n",
       "      <td>0.595 (0.009)</td>\n",
       "      <td>0.612 (0.002)</td>\n",
       "      <td>0.608 (0.001)</td>\n",
       "      <td>0.568 (0.0)</td>\n",
       "    </tr>\n",
       "    <tr>\n",
       "      <th>1</th>\n",
       "      <td>Violent</td>\n",
       "      <td>0.655 (0.001)</td>\n",
       "      <td>0.653 (0.002)</td>\n",
       "      <td>0.63 (0.0)</td>\n",
       "      <td>0.652 (0.0)</td>\n",
       "      <td>0.652 (0.004)</td>\n",
       "      <td>0.622 (0.03)</td>\n",
       "      <td>0.64 (0.01)</td>\n",
       "      <td>0.652 (0.002)</td>\n",
       "      <td>0.629 (0.018)</td>\n",
       "    </tr>\n",
       "    <tr>\n",
       "      <th>2</th>\n",
       "      <td>Drug</td>\n",
       "      <td>0.629 (0.001)</td>\n",
       "      <td>0.629 (0.001)</td>\n",
       "      <td>0.618 (0.0)</td>\n",
       "      <td>0.614 (0.002)</td>\n",
       "      <td>0.637 (0.002)</td>\n",
       "      <td>0.621 (0.01)</td>\n",
       "      <td>0.629 (0.003)</td>\n",
       "      <td>0.631 (0.001)</td>\n",
       "      <td>0.625 (0.0)</td>\n",
       "    </tr>\n",
       "    <tr>\n",
       "      <th>3</th>\n",
       "      <td>Property</td>\n",
       "      <td>0.664 (0.001)</td>\n",
       "      <td>0.672 (0.001)</td>\n",
       "      <td>0.649 (0.0)</td>\n",
       "      <td>0.668 (0.002)</td>\n",
       "      <td>0.674 (0.008)</td>\n",
       "      <td>0.649 (0.017)</td>\n",
       "      <td>0.665 (0.011)</td>\n",
       "      <td>0.659 (0.001)</td>\n",
       "      <td>0.639 (0.021)</td>\n",
       "    </tr>\n",
       "    <tr>\n",
       "      <th>4</th>\n",
       "      <td>Felony</td>\n",
       "      <td>0.63 (0.001)</td>\n",
       "      <td>0.63 (0.001)</td>\n",
       "      <td>0.624 (0.0)</td>\n",
       "      <td>0.631 (0.001)</td>\n",
       "      <td>0.627 (0.005)</td>\n",
       "      <td>0.611 (0.003)</td>\n",
       "      <td>0.623 (0.005)</td>\n",
       "      <td>0.624 (0.0)</td>\n",
       "      <td>0.614 (0.0)</td>\n",
       "    </tr>\n",
       "    <tr>\n",
       "      <th>5</th>\n",
       "      <td>Misdemeanor</td>\n",
       "      <td>0.558 (0.0)</td>\n",
       "      <td>0.558 (0.0)</td>\n",
       "      <td>0.551 (0.0)</td>\n",
       "      <td>0.561 (0.001)</td>\n",
       "      <td>0.576 (0.002)</td>\n",
       "      <td>0.555 (0.004)</td>\n",
       "      <td>0.571 (0.003)</td>\n",
       "      <td>0.557 (0.0)</td>\n",
       "      <td>0.539 (0.002)</td>\n",
       "    </tr>\n",
       "  </tbody>\n",
       "</table>\n",
       "</div>"
      ],
      "text/plain": [
       "    Unnamed: 0       Logistic          Lasso   Linear SVM  Random Forest  \\\n",
       "0      General  0.615 (0.001)  0.614 (0.001)   0.61 (0.0)  0.619 (0.001)   \n",
       "1      Violent  0.655 (0.001)  0.653 (0.002)   0.63 (0.0)    0.652 (0.0)   \n",
       "2         Drug  0.629 (0.001)  0.629 (0.001)  0.618 (0.0)  0.614 (0.002)   \n",
       "3     Property  0.664 (0.001)  0.672 (0.001)  0.649 (0.0)  0.668 (0.002)   \n",
       "4       Felony   0.63 (0.001)   0.63 (0.001)  0.624 (0.0)  0.631 (0.001)   \n",
       "5  Misdemeanor    0.558 (0.0)    0.558 (0.0)  0.551 (0.0)  0.561 (0.001)   \n",
       "\n",
       "         XGBoost           CART            EBM   Lasso Stumps       RiskSLIM  \n",
       "0  0.617 (0.003)  0.595 (0.009)  0.612 (0.002)  0.608 (0.001)    0.568 (0.0)  \n",
       "1  0.652 (0.004)   0.622 (0.03)    0.64 (0.01)  0.652 (0.002)  0.629 (0.018)  \n",
       "2  0.637 (0.002)   0.621 (0.01)  0.629 (0.003)  0.631 (0.001)    0.625 (0.0)  \n",
       "3  0.674 (0.008)  0.649 (0.017)  0.665 (0.011)  0.659 (0.001)  0.639 (0.021)  \n",
       "4  0.627 (0.005)  0.611 (0.003)  0.623 (0.005)    0.624 (0.0)    0.614 (0.0)  \n",
       "5  0.576 (0.002)  0.555 (0.004)  0.571 (0.003)    0.557 (0.0)  0.539 (0.002)  "
      ]
     },
     "execution_count": 4,
     "metadata": {},
     "output_type": "execute_result"
    }
   ],
   "source": [
    "result"
   ]
  },
  {
   "cell_type": "code",
   "execution_count": 5,
   "metadata": {
    "hideCode": false,
    "hidePrompt": false
   },
   "outputs": [],
   "source": [
    "cols = result.columns.to_list()\n",
    "values = result.values.tolist()"
   ]
  },
  {
   "cell_type": "code",
   "execution_count": 6,
   "metadata": {
    "hideCode": false,
    "hideOutput": true,
    "hidePrompt": false
   },
   "outputs": [
    {
     "name": "stdout",
     "output_type": "stream",
     "text": [
      "\\begin{array}{l | l | l | l | l | l | l | l | l | l} \\hline\n",
      "    General     & \\verb|0.615 (0.001)| & \\verb|0.614 (0.001)| & \\verb|0.61 (0.0) | & \\verb|0.619 (0.001)| & \\verb|0.617 (0.003)| & \\verb|0.595 (0.009)| & \\verb|0.612 (0.002)| & \\verb|0.608 (0.001)| & \\verb|0.568 (0.0)  | \\\\ \\hline\n",
      "    Violent     & \\verb|0.655 (0.001)| & \\verb|0.653 (0.002)| & \\verb|0.63 (0.0) | & \\verb|0.652 (0.0)  | & \\verb|0.652 (0.004)| & \\verb|0.622 (0.03) | & \\verb|0.64 (0.01)  | & \\verb|0.652 (0.002)| & \\verb|0.629 (0.018)| \\\\ \\hline\n",
      "    Drug        & \\verb|0.629 (0.001)| & \\verb|0.629 (0.001)| & \\verb|0.618 (0.0)| & \\verb|0.614 (0.002)| & \\verb|0.637 (0.002)| & \\verb|0.621 (0.01) | & \\verb|0.629 (0.003)| & \\verb|0.631 (0.001)| & \\verb|0.625 (0.0)  | \\\\ \\hline\n",
      "    Property    & \\verb|0.664 (0.001)| & \\verb|0.672 (0.001)| & \\verb|0.649 (0.0)| & \\verb|0.668 (0.002)| & \\verb|0.674 (0.008)| & \\verb|0.649 (0.017)| & \\verb|0.665 (0.011)| & \\verb|0.659 (0.001)| & \\verb|0.639 (0.021)| \\\\ \\hline\n",
      "    Felony      & \\verb|0.63 (0.001) | & \\verb|0.63 (0.001) | & \\verb|0.624 (0.0)| & \\verb|0.631 (0.001)| & \\verb|0.627 (0.005)| & \\verb|0.611 (0.003)| & \\verb|0.623 (0.005)| & \\verb|0.624 (0.0)  | & \\verb|0.614 (0.0)  | \\\\ \\hline\n",
      "    Misdemeanor & \\verb|0.558 (0.0)  | & \\verb|0.558 (0.0)  | & \\verb|0.551 (0.0)| & \\verb|0.561 (0.001)| & \\verb|0.576 (0.002)| & \\verb|0.555 (0.004)| & \\verb|0.571 (0.003)| & \\verb|0.557 (0.0)  | & \\verb|0.539 (0.002)| \\\\ \\hline\n",
      "\\end{array}\n"
     ]
    }
   ],
   "source": [
    "writer = pytablewriter.LatexTableWriter()\n",
    "writer.value_matrix = values\n",
    "writer.write_table()"
   ]
  },
  {
   "cell_type": "markdown",
   "metadata": {},
   "source": [
    "### KY-score"
   ]
  },
  {
   "cell_type": "code",
   "execution_count": 7,
   "metadata": {
    "hideCode": false,
    "hidePrompt": false
   },
   "outputs": [],
   "source": [
    "result = pd.read_csv(\"./results/baselines/two-year/two-year-ky-ky-score-comb.csv\")"
   ]
  },
  {
   "cell_type": "code",
   "execution_count": 8,
   "metadata": {
    "hideCode": false,
    "hidePrompt": false
   },
   "outputs": [
    {
     "data": {
      "text/html": [
       "<div>\n",
       "<style scoped>\n",
       "    .dataframe tbody tr th:only-of-type {\n",
       "        vertical-align: middle;\n",
       "    }\n",
       "\n",
       "    .dataframe tbody tr th {\n",
       "        vertical-align: top;\n",
       "    }\n",
       "\n",
       "    .dataframe thead th {\n",
       "        text-align: right;\n",
       "    }\n",
       "</style>\n",
       "<table border=\"1\" class=\"dataframe\">\n",
       "  <thead>\n",
       "    <tr style=\"text-align: right;\">\n",
       "      <th></th>\n",
       "      <th>Unnamed: 0</th>\n",
       "      <th>Logistic</th>\n",
       "      <th>Lasso</th>\n",
       "      <th>Linear SVM</th>\n",
       "      <th>Random Forest</th>\n",
       "      <th>XGBoost</th>\n",
       "      <th>CART</th>\n",
       "      <th>EBM</th>\n",
       "      <th>Lasso Stumps</th>\n",
       "      <th>RiskSLIM</th>\n",
       "    </tr>\n",
       "  </thead>\n",
       "  <tbody>\n",
       "    <tr>\n",
       "      <th>0</th>\n",
       "      <td>General</td>\n",
       "      <td>0.739 (0.003)</td>\n",
       "      <td>0.739 (0.003)</td>\n",
       "      <td>0.74 (0.004)</td>\n",
       "      <td>0.752 (0.004)</td>\n",
       "      <td>0.757 (0.003)</td>\n",
       "      <td>0.746 (0.003)</td>\n",
       "      <td>0.75 (0.004)</td>\n",
       "      <td>0.747 (0.004)</td>\n",
       "      <td>0.653 (0.079)</td>\n",
       "    </tr>\n",
       "    <tr>\n",
       "      <th>1</th>\n",
       "      <td>Violent</td>\n",
       "      <td>0.765 (0.001)</td>\n",
       "      <td>0.766 (0.002)</td>\n",
       "      <td>0.767 (0.002)</td>\n",
       "      <td>0.776 (0.004)</td>\n",
       "      <td>0.783 (0.004)</td>\n",
       "      <td>0.763 (0.007)</td>\n",
       "      <td>0.776 (0.004)</td>\n",
       "      <td>0.771 (0.005)</td>\n",
       "      <td>0.552 (0.043)</td>\n",
       "    </tr>\n",
       "    <tr>\n",
       "      <th>2</th>\n",
       "      <td>Drug</td>\n",
       "      <td>0.723 (0.002)</td>\n",
       "      <td>0.723 (0.002)</td>\n",
       "      <td>0.727 (0.002)</td>\n",
       "      <td>0.739 (0.002)</td>\n",
       "      <td>0.745 (0.002)</td>\n",
       "      <td>0.733 (0.002)</td>\n",
       "      <td>0.737 (0.002)</td>\n",
       "      <td>0.734 (0.003)</td>\n",
       "      <td>0.645 (0.008)</td>\n",
       "    </tr>\n",
       "    <tr>\n",
       "      <th>3</th>\n",
       "      <td>Property</td>\n",
       "      <td>0.78 (0.004)</td>\n",
       "      <td>0.779 (0.004)</td>\n",
       "      <td>0.784 (0.004)</td>\n",
       "      <td>0.801 (0.004)</td>\n",
       "      <td>0.805 (0.004)</td>\n",
       "      <td>0.79 (0.004)</td>\n",
       "      <td>0.797 (0.005)</td>\n",
       "      <td>0.796 (0.005)</td>\n",
       "      <td>0.675 (0.022)</td>\n",
       "    </tr>\n",
       "    <tr>\n",
       "      <th>4</th>\n",
       "      <td>Felony</td>\n",
       "      <td>0.758 (0.002)</td>\n",
       "      <td>0.758 (0.002)</td>\n",
       "      <td>0.763 (0.002)</td>\n",
       "      <td>0.778 (0.002)</td>\n",
       "      <td>0.783 (0.001)</td>\n",
       "      <td>0.771 (0.002)</td>\n",
       "      <td>0.775 (0.001)</td>\n",
       "      <td>0.773 (0.001)</td>\n",
       "      <td>0.695 (0.002)</td>\n",
       "    </tr>\n",
       "    <tr>\n",
       "      <th>5</th>\n",
       "      <td>Misdemeanor</td>\n",
       "      <td>0.722 (0.005)</td>\n",
       "      <td>0.722 (0.005)</td>\n",
       "      <td>0.724 (0.006)</td>\n",
       "      <td>0.736 (0.006)</td>\n",
       "      <td>0.742 (0.005)</td>\n",
       "      <td>0.729 (0.005)</td>\n",
       "      <td>0.733 (0.006)</td>\n",
       "      <td>0.729 (0.006)</td>\n",
       "      <td>0.57 (0.061)</td>\n",
       "    </tr>\n",
       "  </tbody>\n",
       "</table>\n",
       "</div>"
      ],
      "text/plain": [
       "    Unnamed: 0       Logistic          Lasso     Linear SVM  Random Forest  \\\n",
       "0      General  0.739 (0.003)  0.739 (0.003)   0.74 (0.004)  0.752 (0.004)   \n",
       "1      Violent  0.765 (0.001)  0.766 (0.002)  0.767 (0.002)  0.776 (0.004)   \n",
       "2         Drug  0.723 (0.002)  0.723 (0.002)  0.727 (0.002)  0.739 (0.002)   \n",
       "3     Property   0.78 (0.004)  0.779 (0.004)  0.784 (0.004)  0.801 (0.004)   \n",
       "4       Felony  0.758 (0.002)  0.758 (0.002)  0.763 (0.002)  0.778 (0.002)   \n",
       "5  Misdemeanor  0.722 (0.005)  0.722 (0.005)  0.724 (0.006)  0.736 (0.006)   \n",
       "\n",
       "         XGBoost           CART            EBM   Lasso Stumps       RiskSLIM  \n",
       "0  0.757 (0.003)  0.746 (0.003)   0.75 (0.004)  0.747 (0.004)  0.653 (0.079)  \n",
       "1  0.783 (0.004)  0.763 (0.007)  0.776 (0.004)  0.771 (0.005)  0.552 (0.043)  \n",
       "2  0.745 (0.002)  0.733 (0.002)  0.737 (0.002)  0.734 (0.003)  0.645 (0.008)  \n",
       "3  0.805 (0.004)   0.79 (0.004)  0.797 (0.005)  0.796 (0.005)  0.675 (0.022)  \n",
       "4  0.783 (0.001)  0.771 (0.002)  0.775 (0.001)  0.773 (0.001)  0.695 (0.002)  \n",
       "5  0.742 (0.005)  0.729 (0.005)  0.733 (0.006)  0.729 (0.006)   0.57 (0.061)  "
      ]
     },
     "execution_count": 8,
     "metadata": {},
     "output_type": "execute_result"
    }
   ],
   "source": [
    "result"
   ]
  },
  {
   "cell_type": "code",
   "execution_count": 9,
   "metadata": {
    "hideCode": false,
    "hidePrompt": false
   },
   "outputs": [],
   "source": [
    "cols = result.columns.to_list()\n",
    "values = result.values.tolist()"
   ]
  },
  {
   "cell_type": "code",
   "execution_count": 10,
   "metadata": {
    "hideCode": false,
    "hideOutput": true,
    "hidePrompt": false
   },
   "outputs": [
    {
     "name": "stdout",
     "output_type": "stream",
     "text": [
      "\\begin{array}{l | l | l | l | l | l | l | l | l | l} \\hline\n",
      "    General     & \\verb|0.739 (0.003)| & \\verb|0.739 (0.003)| & \\verb|0.74 (0.004) | & \\verb|0.752 (0.004)| & \\verb|0.757 (0.003)| & \\verb|0.746 (0.003)| & \\verb|0.75 (0.004) | & \\verb|0.747 (0.004)| & \\verb|0.653 (0.079)| \\\\ \\hline\n",
      "    Violent     & \\verb|0.765 (0.001)| & \\verb|0.766 (0.002)| & \\verb|0.767 (0.002)| & \\verb|0.776 (0.004)| & \\verb|0.783 (0.004)| & \\verb|0.763 (0.007)| & \\verb|0.776 (0.004)| & \\verb|0.771 (0.005)| & \\verb|0.552 (0.043)| \\\\ \\hline\n",
      "    Drug        & \\verb|0.723 (0.002)| & \\verb|0.723 (0.002)| & \\verb|0.727 (0.002)| & \\verb|0.739 (0.002)| & \\verb|0.745 (0.002)| & \\verb|0.733 (0.002)| & \\verb|0.737 (0.002)| & \\verb|0.734 (0.003)| & \\verb|0.645 (0.008)| \\\\ \\hline\n",
      "    Property    & \\verb|0.78 (0.004) | & \\verb|0.779 (0.004)| & \\verb|0.784 (0.004)| & \\verb|0.801 (0.004)| & \\verb|0.805 (0.004)| & \\verb|0.79 (0.004) | & \\verb|0.797 (0.005)| & \\verb|0.796 (0.005)| & \\verb|0.675 (0.022)| \\\\ \\hline\n",
      "    Felony      & \\verb|0.758 (0.002)| & \\verb|0.758 (0.002)| & \\verb|0.763 (0.002)| & \\verb|0.778 (0.002)| & \\verb|0.783 (0.001)| & \\verb|0.771 (0.002)| & \\verb|0.775 (0.001)| & \\verb|0.773 (0.001)| & \\verb|0.695 (0.002)| \\\\ \\hline\n",
      "    Misdemeanor & \\verb|0.722 (0.005)| & \\verb|0.722 (0.005)| & \\verb|0.724 (0.006)| & \\verb|0.736 (0.006)| & \\verb|0.742 (0.005)| & \\verb|0.729 (0.005)| & \\verb|0.733 (0.006)| & \\verb|0.729 (0.006)| & \\verb|0.57 (0.061) | \\\\ \\hline\n",
      "\\end{array}\n"
     ]
    }
   ],
   "source": [
    "writer = pytablewriter.LatexTableWriter()\n",
    "writer.value_matrix = values\n",
    "writer.write_table()"
   ]
  }
 ],
 "metadata": {
  "hide_code_all_hidden": false,
  "kernelspec": {
   "display_name": "Python 3",
   "language": "python",
   "name": "python3"
  },
  "language_info": {
   "codemirror_mode": {
    "name": "ipython",
    "version": 3
   },
   "file_extension": ".py",
   "mimetype": "text/x-python",
   "name": "python",
   "nbconvert_exporter": "python",
   "pygments_lexer": "ipython3",
   "version": "3.7.4"
  }
 },
 "nbformat": 4,
 "nbformat_minor": 4
}
