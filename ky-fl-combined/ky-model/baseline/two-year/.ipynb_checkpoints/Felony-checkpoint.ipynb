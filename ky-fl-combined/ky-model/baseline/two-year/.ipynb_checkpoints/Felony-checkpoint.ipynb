{
 "cells": [
  {
   "cell_type": "code",
   "execution_count": 1,
   "metadata": {},
   "outputs": [
    {
     "name": "stdout",
     "output_type": "stream",
     "text": [
      "Current working directory is now:  C:\\Users\\binha\\Documents\\Duke\\Cynthia Research\\psa-analysis - test2\\kentucky\\ky_fl_combined\\KY Model\n"
     ]
    }
   ],
   "source": [
    "import os \n",
    "os.chdir('../../')\n",
    "print(\"Current working directory is now: \", os.getcwd())\n",
    "\n",
    "import pandas as pd \n",
    "import numpy as np\n",
    "import csv\n",
    "import KY_utils.KY_baseline_functions as base"
   ]
  },
  {
   "cell_type": "code",
   "execution_count": 2,
   "metadata": {},
   "outputs": [],
   "source": [
    "KY_data = pd.read_csv(\"~/Documents/Duke/Cynthia Research/psa-analysis - test2/kentucky/ky_fl_combined/data preparation/KY_cleaned\")\n",
    "FL_data = pd.read_csv(\"~/Documents/Duke/Cynthia Research/psa-analysis - test2/kentucky/ky_fl_combined/data preparation/FL_cleaned\")\n",
    "\n",
    "## split x and y \n",
    "KY_X = KY_data.loc[:,:'current_violence20']\n",
    "KY_Y = KY_data['felony_two_year'].values\n",
    "FL_X = FL_data.loc[:,:'current_violence20']\n",
    "FL_Y = FL_data['felony_two_year'].values"
   ]
  },
  {
   "cell_type": "markdown",
   "metadata": {},
   "source": [
    "### Model"
   ]
  },
  {
   "cell_type": "code",
   "execution_count": 4,
   "metadata": {},
   "outputs": [
    {
     "name": "stdout",
     "output_type": "stream",
     "text": [
      "Stored 'summary_felony2_ky_model' (dict)\n"
     ]
    }
   ],
   "source": [
    "#### Logistic\n",
    "c = [1e-4, 1e-3, 0.01, 0.1, 1]\n",
    "logistic_summary = base.Logistic(KY_X, KY_Y, FL_X, FL_Y, C=c,seed=816)\n",
    "\n",
    "#### Lasso\n",
    "c = [1e-4, 1e-3, 0.01, 0.1, 1]\n",
    "lasso_summary = base.Lasso(KY_X, KY_Y, FL_X, FL_Y, C=c,seed=816)\n",
    "\n",
    "#### LinearSVM\n",
    "c = [1e-4, 1e-3, 0.01, 0.1, 1]\n",
    "svm_summary = base.LinearSVM(KY_X, KY_Y, FL_X, FL_Y, C=c,seed=816)\n",
    "\n",
    "#### Random Forest\n",
    "n_estimators =  [100,150,200]\n",
    "depth = [7,8,9]\n",
    "rf_summary = base.RF(KY_X, KY_Y, FL_X, FL_Y,\n",
    "                     depth=depth, \n",
    "                     estimators=n_estimators, \n",
    "                     seed=816)\n",
    "\n",
    "#### XGBoost\n",
    "learning_rate = [0.1]\n",
    "depth = [4,5,6]\n",
    "n_estimators = [100,150]\n",
    "xgb_summary = base.XGB(KY_X, KY_Y, FL_X, FL_Y,\n",
    "                       learning_rate=learning_rate, \n",
    "                       depth=depth, \n",
    "                       estimators=n_estimators,\n",
    "                       seed=816)\n",
    "\n",
    "#### save results\n",
    "summary_felony2_ky_model = {\"Logistic\": logistic_summary,\n",
    "                            \"Lasso\": lasso_summary,\n",
    "                            \"LinearSVM\": svm_summary,\n",
    "                            \"RF\": rf_summary,\n",
    "                            \"XGBoost\": xgb_summary}"
   ]
  },
  {
   "cell_type": "code",
   "execution_count": 5,
   "metadata": {},
   "outputs": [
    {
     "data": {
      "text/plain": [
       "[['Logistic', 0.7452418100088486, 0.0004037992356544784, 0.6350299725552506],\n",
       " ['Lasso', 0.7449438143537584, 0.0005034301915429751, 0.637649862776253],\n",
       " ['LinearSVM', 0.7470195335533626, 0.0004770105365192734, 0.6343817709085657],\n",
       " ['RF', 0.7644945146288626, 0.02039028748338023, 0.6328705041167124],\n",
       " ['XGBoost', 0.7697444767900803, 0.013170415614244702, 0.6252320164668496]]"
      ]
     },
     "execution_count": 5,
     "metadata": {},
     "output_type": "execute_result"
    }
   ],
   "source": [
    "results = []\n",
    "for model_name, model_summary in summary_felony2_ky_model.items():\n",
    "    results.append([model_name, \n",
    "                    model_summary['best_auc'], \n",
    "                    model_summary['auc_diff'], \n",
    "                    model_summary['FL_score']])\n",
    "results"
   ]
  },
  {
   "cell_type": "code",
   "execution_count": 6,
   "metadata": {},
   "outputs": [],
   "source": [
    "path = \"C:\\\\Users\\\\binha\\\\Documents\\\\Duke\\\\Cynthia Research\\\\KY-analysis-mytrials\\\\KY Recidivism\\\\KY Results\\\\KY_FL\\\\KY Model\\\\baselines\\\\Two Year\\\\\"\n",
    "results = [[\"Felony\",             \n",
    "            round(logistic_summary['FL_score'],3), \n",
    "            round(lasso_summary['FL_score'], 3), \n",
    "            round(svm_summary['FL_score'],3), \n",
    "            round(rf_summary['FL_score'],3), \n",
    "            round(xgb_summary['FL_score'],3)]]\n",
    "with open(path + 'Two Year KY_model.csv', 'a') as writeFile:\n",
    "    writer = csv.writer(writeFile)\n",
    "    writer.writerows(results)"
   ]
  }
 ],
 "metadata": {
  "kernelspec": {
   "display_name": "Python 3",
   "language": "python",
   "name": "python3"
  },
  "language_info": {
   "codemirror_mode": {
    "name": "ipython",
    "version": 3
   },
   "file_extension": ".py",
   "mimetype": "text/x-python",
   "name": "python",
   "nbconvert_exporter": "python",
   "pygments_lexer": "ipython3",
   "version": "3.7.4"
  }
 },
 "nbformat": 4,
 "nbformat_minor": 4
}
