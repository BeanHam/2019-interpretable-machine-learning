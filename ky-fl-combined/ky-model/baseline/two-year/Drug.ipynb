{
 "cells": [
  {
   "cell_type": "code",
   "execution_count": 1,
   "metadata": {},
   "outputs": [
    {
     "name": "stdout",
     "output_type": "stream",
     "text": [
      "Current working directory is now:  /home/jovyan/work/cynthia/interpretable-machine-learning/ky-fl-combined/ky-model\n"
     ]
    }
   ],
   "source": [
    "import os \n",
    "os.chdir('../../')\n",
    "print(\"Current working directory is now: \", os.getcwd())\n",
    "\n",
    "import pandas as pd\n",
    "import numpy as np\n",
    "import csv\n",
    "import ky_utils.ky_baseline_functions as base"
   ]
  },
  {
   "cell_type": "code",
   "execution_count": 2,
   "metadata": {},
   "outputs": [],
   "source": [
    "KY_data = pd.read_csv(\"/home/jovyan/work/cynthia/data/ky-fl-data/KY-cleaned.csv\").sort_values('person_id')\n",
    "FL_data = pd.read_csv(\"/home/jovyan/work/cynthia/data/ky-fl-data/FL-cleaned.csv\").sort_values('person_id')\n",
    "\n",
    "## split x and y \n",
    "KY_X = KY_data.loc[:,:'current_violence20']\n",
    "KY_Y = KY_data['drug_two_year'].values\n",
    "FL_X = FL_data.loc[:,:'current_violence20']\n",
    "FL_Y = FL_data['drug_two_year'].values"
   ]
  },
  {
   "cell_type": "markdown",
   "metadata": {},
   "source": [
    "### Model"
   ]
  },
  {
   "cell_type": "code",
   "execution_count": 3,
   "metadata": {
    "hidePrompt": true,
    "scrolled": true
   },
   "outputs": [],
   "source": [
    "#### Logistic\n",
    "c = [1e-4, 1e-3, 0.01, 0.1, 1]\n",
    "logistic_summary = base.Logistic(KY_X, KY_Y, FL_X, FL_Y,C=c,seed=816)\n",
    "\n",
    "#### Lasso\n",
    "c = [1e-4, 1e-3, 0.01, 0.1, 1]\n",
    "lasso_summary = base.Lasso(KY_X, KY_Y, FL_X, FL_Y, C=c,seed=816)\n",
    "\n",
    "#### LinearSVM\n",
    "c = [1e-4, 1e-3, 0.01, 0.1, 1]\n",
    "svm_summary = base.LinearSVM(KY_X, KY_Y, FL_X, FL_Y, C=c,seed=816)\n",
    "\n",
    "#### Random Forest\n",
    "n_estimators =  [100,150,200]\n",
    "depth = [7,8,9]\n",
    "rf_summary = base.RF(KY_X, KY_Y, FL_X, FL_Y, \n",
    "                     depth=depth, \n",
    "                     estimators=n_estimators, \n",
    "                     seed=816)\n",
    "\n",
    "#### XGBoost\n",
    "learning_rate = [0.1]\n",
    "depth = [4,5,6]\n",
    "n_estimators = [100,150]\n",
    "xgb_summary = base.XGB(KY_X, KY_Y, FL_X, FL_Y,\n",
    "                       learning_rate=learning_rate, \n",
    "                       depth=depth, \n",
    "                       estimators=n_estimators,\n",
    "                       seed=816)\n",
    "\n",
    "#### save results\n",
    "summary_drug2_ky_model = {\"Logistic\": logistic_summary,\n",
    "                          \"Lasso\": lasso_summary,\n",
    "                          \"LinearSVM\": svm_summary,\n",
    "                          \"RF\": rf_summary,\n",
    "                          \"XGBoost\": xgb_summary}"
   ]
  },
  {
   "cell_type": "code",
   "execution_count": 4,
   "metadata": {},
   "outputs": [
    {
     "data": {
      "text/plain": [
       "[['Logistic', 0.7228061416791289, 0.0007026530699703493, 0.6286396447795995],\n",
       " ['Lasso', 0.722773451881461, 0.0006778184651642594, 0.628589412844492],\n",
       " ['LinearSVM', 0.7268939724790379, 0.0006633920647592717, 0.6183365167563812],\n",
       " ['RF', 0.7390738098451785, 0.019261890868069998, 0.6135843276362464],\n",
       " ['XGBoost', 0.7448454946396688, 0.014550554613484335, 0.6369210924515665]]"
      ]
     },
     "execution_count": 4,
     "metadata": {},
     "output_type": "execute_result"
    }
   ],
   "source": [
    "results = []\n",
    "for model_name, model_summary in summary_drug2_ky_model.items():\n",
    "    results.append([model_name, \n",
    "                    np.mean(model_summary['KY_validation']), \n",
    "                    np.mean(model_summary['auc_diff']), \n",
    "                    np.mean(model_summary['FL_score'])])\n",
    "results"
   ]
  },
  {
   "cell_type": "code",
   "execution_count": 5,
   "metadata": {},
   "outputs": [],
   "source": [
    "path = \"./results/baselines/two-year/\"\n",
    "results = [[\"Drug\",             \n",
    "            np.str(round(np.mean(logistic_summary['FL_score']),3)) + \" (\" + np.str(round(np.std(logistic_summary['FL_score']),3)) + \")\", \n",
    "            np.str(round(np.mean(lasso_summary['FL_score']), 3)) + \" (\" + np.str(round(np.std(lasso_summary['FL_score']),3)) + \")\", \n",
    "            np.str(round(np.mean(svm_summary['FL_score']),3)) + \" (\" + np.str(round(np.std(svm_summary['FL_score']),3)) + \")\", \n",
    "            np.str(round(np.mean(rf_summary['FL_score']),3)) + \" (\" + np.str(round(np.std(rf_summary['FL_score']),3)) + \")\", \n",
    "            np.str(round(np.mean(xgb_summary['FL_score']),3)) + \" (\" + np.str(round(np.std(xgb_summary['FL_score']),3)) + \")\"]]\n",
    "with open(path + 'two-year-ky-baseline-fl-score.csv', 'a') as writeFile:\n",
    "    writer = csv.writer(writeFile)\n",
    "    writer.writerows(results)"
   ]
  },
  {
   "cell_type": "code",
   "execution_count": 6,
   "metadata": {},
   "outputs": [],
   "source": [
    "path = \"./results/baselines/two-year/\"\n",
    "results = [[\"Drug\",             \n",
    "            np.str(round(np.mean(logistic_summary['KY_score']),3)) + \" (\" + np.str(round(np.std(logistic_summary['KY_score']),3)) + \")\", \n",
    "            np.str(round(np.mean(lasso_summary['KY_score']), 3)) + \" (\" + np.str(round(np.std(lasso_summary['KY_score']),3)) + \")\", \n",
    "            np.str(round(np.mean(svm_summary['KY_score']),3)) + \" (\" + np.str(round(np.std(svm_summary['KY_score']),3)) + \")\", \n",
    "            np.str(round(np.mean(rf_summary['KY_score']),3)) + \" (\" + np.str(round(np.std(rf_summary['KY_score']),3)) + \")\", \n",
    "            np.str(round(np.mean(xgb_summary['KY_score']),3)) + \" (\" + np.str(round(np.std(xgb_summary['KY_score']),3)) + \")\"]]\n",
    "with open(path + 'two-year-ky-baseline-ky-score.csv', 'a') as writeFile:\n",
    "    writer = csv.writer(writeFile)\n",
    "    writer.writerows(results)"
   ]
  }
 ],
 "metadata": {
  "kernelspec": {
   "display_name": "Python 3",
   "language": "python",
   "name": "python3"
  },
  "language_info": {
   "codemirror_mode": {
    "name": "ipython",
    "version": 3
   },
   "file_extension": ".py",
   "mimetype": "text/x-python",
   "name": "python",
   "nbconvert_exporter": "python",
   "pygments_lexer": "ipython3",
   "version": "3.6.10"
  }
 },
 "nbformat": 4,
 "nbformat_minor": 4
}
