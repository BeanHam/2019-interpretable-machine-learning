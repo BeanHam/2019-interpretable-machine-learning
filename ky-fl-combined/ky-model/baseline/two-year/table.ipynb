{
 "cells": [
  {
   "cell_type": "code",
   "execution_count": 1,
   "metadata": {
    "hideCode": false,
    "hidePrompt": false
   },
   "outputs": [
    {
     "name": "stdout",
     "output_type": "stream",
     "text": [
      "Current working directory is now:  C:\\Users\\binha\\Documents\\Duke\\Cynthia Research\\interpretable-machine-learning\\ky-fl-combined\\ky-model\n"
     ]
    }
   ],
   "source": [
    "import os \n",
    "os.chdir('../../')\n",
    "print(\"Current working directory is now: \", os.getcwd())\n",
    "\n",
    "import pytablewriter\n",
    "import pandas as pd\n",
    "import numpy as np"
   ]
  },
  {
   "cell_type": "code",
   "execution_count": 2,
   "metadata": {
    "hideCode": false,
    "hidePrompt": false
   },
   "outputs": [],
   "source": [
    "result = pd.read_csv(\"./results/baselines/two-year/two-year-ky-comb.csv\")"
   ]
  },
  {
   "cell_type": "code",
   "execution_count": 3,
   "metadata": {
    "hideCode": false,
    "hidePrompt": false
   },
   "outputs": [
    {
     "data": {
      "text/html": [
       "<div>\n",
       "<style scoped>\n",
       "    .dataframe tbody tr th:only-of-type {\n",
       "        vertical-align: middle;\n",
       "    }\n",
       "\n",
       "    .dataframe tbody tr th {\n",
       "        vertical-align: top;\n",
       "    }\n",
       "\n",
       "    .dataframe thead th {\n",
       "        text-align: right;\n",
       "    }\n",
       "</style>\n",
       "<table border=\"1\" class=\"dataframe\">\n",
       "  <thead>\n",
       "    <tr style=\"text-align: right;\">\n",
       "      <th></th>\n",
       "      <th>Unnamed: 0</th>\n",
       "      <th>Logistic</th>\n",
       "      <th>Lasso</th>\n",
       "      <th>Linear SVM</th>\n",
       "      <th>Random Forest</th>\n",
       "      <th>XGBoost</th>\n",
       "      <th>CART</th>\n",
       "      <th>EBM</th>\n",
       "      <th>Lasso Stumps</th>\n",
       "      <th>RiskSLIM</th>\n",
       "    </tr>\n",
       "  </thead>\n",
       "  <tbody>\n",
       "    <tr>\n",
       "      <th>0</th>\n",
       "      <td>General</td>\n",
       "      <td>0.615 (0.001)</td>\n",
       "      <td>0.614 (0.001)</td>\n",
       "      <td>0.61 (0.0)</td>\n",
       "      <td>0.619 (0.001)</td>\n",
       "      <td>0.617 (0.003)</td>\n",
       "      <td>0.595 (0.009)</td>\n",
       "      <td>0.612 (0.002)</td>\n",
       "      <td>0.608 (0.001)</td>\n",
       "      <td>0.568 (0.0)</td>\n",
       "    </tr>\n",
       "    <tr>\n",
       "      <th>1</th>\n",
       "      <td>Violent</td>\n",
       "      <td>0.655 (0.001)</td>\n",
       "      <td>0.653 (0.002)</td>\n",
       "      <td>0.63 (0.0)</td>\n",
       "      <td>0.652 (0.0)</td>\n",
       "      <td>0.652 (0.004)</td>\n",
       "      <td>0.622 (0.03)</td>\n",
       "      <td>0.64 (0.01)</td>\n",
       "      <td>0.652 (0.002)</td>\n",
       "      <td>0.629 (0.018)</td>\n",
       "    </tr>\n",
       "    <tr>\n",
       "      <th>2</th>\n",
       "      <td>Drug</td>\n",
       "      <td>0.629 (0.001)</td>\n",
       "      <td>0.629 (0.001)</td>\n",
       "      <td>0.618 (0.0)</td>\n",
       "      <td>0.614 (0.002)</td>\n",
       "      <td>0.637 (0.002)</td>\n",
       "      <td>0.621 (0.01)</td>\n",
       "      <td>0.629 (0.003)</td>\n",
       "      <td>0.631 (0.001)</td>\n",
       "      <td>0.625 (0.0)</td>\n",
       "    </tr>\n",
       "    <tr>\n",
       "      <th>3</th>\n",
       "      <td>Property</td>\n",
       "      <td>0.664 (0.001)</td>\n",
       "      <td>0.672 (0.001)</td>\n",
       "      <td>0.649 (0.0)</td>\n",
       "      <td>0.668 (0.002)</td>\n",
       "      <td>0.674 (0.008)</td>\n",
       "      <td>0.649 (0.017)</td>\n",
       "      <td>0.665 (0.011)</td>\n",
       "      <td>0.659 (0.001)</td>\n",
       "      <td>0.639 (0.021)</td>\n",
       "    </tr>\n",
       "    <tr>\n",
       "      <th>4</th>\n",
       "      <td>Felony</td>\n",
       "      <td>0.63 (0.001)</td>\n",
       "      <td>0.63 (0.001)</td>\n",
       "      <td>0.624 (0.0)</td>\n",
       "      <td>0.631 (0.001)</td>\n",
       "      <td>0.627 (0.005)</td>\n",
       "      <td>0.611 (0.003)</td>\n",
       "      <td>0.623 (0.005)</td>\n",
       "      <td>0.624 (0.0)</td>\n",
       "      <td>0.614 (0.0)</td>\n",
       "    </tr>\n",
       "    <tr>\n",
       "      <th>5</th>\n",
       "      <td>Misdemeanor</td>\n",
       "      <td>0.558 (0.0)</td>\n",
       "      <td>0.558 (0.0)</td>\n",
       "      <td>0.551 (0.0)</td>\n",
       "      <td>0.561 (0.001)</td>\n",
       "      <td>0.576 (0.002)</td>\n",
       "      <td>0.555 (0.004)</td>\n",
       "      <td>0.571 (0.003)</td>\n",
       "      <td>0.557 (0.0)</td>\n",
       "      <td>0.539 (0.002)</td>\n",
       "    </tr>\n",
       "  </tbody>\n",
       "</table>\n",
       "</div>"
      ],
      "text/plain": [
       "    Unnamed: 0       Logistic          Lasso   Linear SVM  Random Forest  \\\n",
       "0      General  0.615 (0.001)  0.614 (0.001)   0.61 (0.0)  0.619 (0.001)   \n",
       "1      Violent  0.655 (0.001)  0.653 (0.002)   0.63 (0.0)    0.652 (0.0)   \n",
       "2         Drug  0.629 (0.001)  0.629 (0.001)  0.618 (0.0)  0.614 (0.002)   \n",
       "3     Property  0.664 (0.001)  0.672 (0.001)  0.649 (0.0)  0.668 (0.002)   \n",
       "4       Felony   0.63 (0.001)   0.63 (0.001)  0.624 (0.0)  0.631 (0.001)   \n",
       "5  Misdemeanor    0.558 (0.0)    0.558 (0.0)  0.551 (0.0)  0.561 (0.001)   \n",
       "\n",
       "         XGBoost           CART            EBM   Lasso Stumps       RiskSLIM  \n",
       "0  0.617 (0.003)  0.595 (0.009)  0.612 (0.002)  0.608 (0.001)    0.568 (0.0)  \n",
       "1  0.652 (0.004)   0.622 (0.03)    0.64 (0.01)  0.652 (0.002)  0.629 (0.018)  \n",
       "2  0.637 (0.002)   0.621 (0.01)  0.629 (0.003)  0.631 (0.001)    0.625 (0.0)  \n",
       "3  0.674 (0.008)  0.649 (0.017)  0.665 (0.011)  0.659 (0.001)  0.639 (0.021)  \n",
       "4  0.627 (0.005)  0.611 (0.003)  0.623 (0.005)    0.624 (0.0)    0.614 (0.0)  \n",
       "5  0.576 (0.002)  0.555 (0.004)  0.571 (0.003)    0.557 (0.0)  0.539 (0.002)  "
      ]
     },
     "execution_count": 3,
     "metadata": {},
     "output_type": "execute_result"
    }
   ],
   "source": [
    "result"
   ]
  },
  {
   "cell_type": "code",
   "execution_count": 4,
   "metadata": {
    "hideCode": false,
    "hidePrompt": false
   },
   "outputs": [],
   "source": [
    "cols = result.columns.to_list()\n",
    "values = result.values.tolist()"
   ]
  },
  {
   "cell_type": "code",
   "execution_count": 5,
   "metadata": {
    "hideCode": false,
    "hideOutput": true,
    "hidePrompt": false
   },
   "outputs": [
    {
     "name": "stdout",
     "output_type": "stream",
     "text": [
      "\\begin{array}{l | l | l | l | l | l | l | l | l | l} \\hline\n",
      "    General     & \\verb|0.615 (0.001)| & \\verb|0.614 (0.001)| & \\verb|0.61 (0.0) | & \\verb|0.619 (0.001)| & \\verb|0.617 (0.003)| & \\verb|0.595 (0.009)| & \\verb|0.612 (0.002)| & \\verb|0.608 (0.001)| & \\verb|0.568 (0.0)  | \\\\ \\hline\n",
      "    Violent     & \\verb|0.655 (0.001)| & \\verb|0.653 (0.002)| & \\verb|0.63 (0.0) | & \\verb|0.652 (0.0)  | & \\verb|0.652 (0.004)| & \\verb|0.622 (0.03) | & \\verb|0.64 (0.01)  | & \\verb|0.652 (0.002)| & \\verb|0.629 (0.018)| \\\\ \\hline\n",
      "    Drug        & \\verb|0.629 (0.001)| & \\verb|0.629 (0.001)| & \\verb|0.618 (0.0)| & \\verb|0.614 (0.002)| & \\verb|0.637 (0.002)| & \\verb|0.621 (0.01) | & \\verb|0.629 (0.003)| & \\verb|0.631 (0.001)| & \\verb|0.625 (0.0)  | \\\\ \\hline\n",
      "    Property    & \\verb|0.664 (0.001)| & \\verb|0.672 (0.001)| & \\verb|0.649 (0.0)| & \\verb|0.668 (0.002)| & \\verb|0.674 (0.008)| & \\verb|0.649 (0.017)| & \\verb|0.665 (0.011)| & \\verb|0.659 (0.001)| & \\verb|0.639 (0.021)| \\\\ \\hline\n",
      "    Felony      & \\verb|0.63 (0.001) | & \\verb|0.63 (0.001) | & \\verb|0.624 (0.0)| & \\verb|0.631 (0.001)| & \\verb|0.627 (0.005)| & \\verb|0.611 (0.003)| & \\verb|0.623 (0.005)| & \\verb|0.624 (0.0)  | & \\verb|0.614 (0.0)  | \\\\ \\hline\n",
      "    Misdemeanor & \\verb|0.558 (0.0)  | & \\verb|0.558 (0.0)  | & \\verb|0.551 (0.0)| & \\verb|0.561 (0.001)| & \\verb|0.576 (0.002)| & \\verb|0.555 (0.004)| & \\verb|0.571 (0.003)| & \\verb|0.557 (0.0)  | & \\verb|0.539 (0.002)| \\\\ \\hline\n",
      "\\end{array}\n"
     ]
    }
   ],
   "source": [
    "writer = pytablewriter.LatexTableWriter()\n",
    "writer.value_matrix = values\n",
    "writer.write_table()"
   ]
  }
 ],
 "metadata": {
  "hide_code_all_hidden": false,
  "kernelspec": {
   "display_name": "Python 3",
   "language": "python",
   "name": "python3"
  },
  "language_info": {
   "codemirror_mode": {
    "name": "ipython",
    "version": 3
   },
   "file_extension": ".py",
   "mimetype": "text/x-python",
   "name": "python",
   "nbconvert_exporter": "python",
   "pygments_lexer": "ipython3",
   "version": "3.7.4"
  }
 },
 "nbformat": 4,
 "nbformat_minor": 4
}
