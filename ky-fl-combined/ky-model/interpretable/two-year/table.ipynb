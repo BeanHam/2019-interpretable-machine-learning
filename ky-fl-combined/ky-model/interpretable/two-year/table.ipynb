{
 "cells": [
  {
   "cell_type": "code",
   "execution_count": 1,
   "metadata": {
    "hideCode": false,
    "hidePrompt": false
   },
   "outputs": [
    {
     "name": "stdout",
     "output_type": "stream",
     "text": [
      "Current working directory is now:  C:\\Users\\binha\\Documents\\Duke\\Cynthia Research\\interpretable-machine-learning\\ky-fl-combined\\ky-model\n"
     ]
    }
   ],
   "source": [
    "import os \n",
    "os.chdir('../../')\n",
    "print(\"Current working directory is now: \", os.getcwd())\n",
    "\n",
    "import pytablewriter\n",
    "import pandas as pd\n",
    "import numpy as np"
   ]
  },
  {
   "cell_type": "code",
   "execution_count": 2,
   "metadata": {
    "hideCode": false,
    "hidePrompt": false
   },
   "outputs": [],
   "source": [
    "result = pd.read_csv(\"./results/interpretable/two-year/two-year-ky-interpretable.csv\")"
   ]
  },
  {
   "cell_type": "code",
   "execution_count": 3,
   "metadata": {
    "hideCode": false,
    "hidePrompt": false
   },
   "outputs": [
    {
     "data": {
      "text/html": [
       "<div>\n",
       "<style scoped>\n",
       "    .dataframe tbody tr th:only-of-type {\n",
       "        vertical-align: middle;\n",
       "    }\n",
       "\n",
       "    .dataframe tbody tr th {\n",
       "        vertical-align: top;\n",
       "    }\n",
       "\n",
       "    .dataframe thead th {\n",
       "        text-align: right;\n",
       "    }\n",
       "</style>\n",
       "<table border=\"1\" class=\"dataframe\">\n",
       "  <thead>\n",
       "    <tr style=\"text-align: right;\">\n",
       "      <th></th>\n",
       "      <th>Unnamed: 0</th>\n",
       "      <th>CART</th>\n",
       "      <th>EBM</th>\n",
       "      <th>Lasso Stumps</th>\n",
       "      <th>RiskSLIM</th>\n",
       "    </tr>\n",
       "  </thead>\n",
       "  <tbody>\n",
       "    <tr>\n",
       "      <th>0</th>\n",
       "      <td>General</td>\n",
       "      <td>0.58 (0.006)</td>\n",
       "      <td>0.592 (0.001)</td>\n",
       "      <td>0.599 (0.0)</td>\n",
       "      <td>0.574 (0.011)</td>\n",
       "    </tr>\n",
       "    <tr>\n",
       "      <th>1</th>\n",
       "      <td>Violent</td>\n",
       "      <td>0.635 (0.008)</td>\n",
       "      <td>0.621 (0.009)</td>\n",
       "      <td>0.66 (0.001)</td>\n",
       "      <td>0.626 (0.0)</td>\n",
       "    </tr>\n",
       "    <tr>\n",
       "      <th>2</th>\n",
       "      <td>Drug</td>\n",
       "      <td>0.656 (0.005)</td>\n",
       "      <td>0.628 (0.006)</td>\n",
       "      <td>0.654 (0.002)</td>\n",
       "      <td>0.634 (0.004)</td>\n",
       "    </tr>\n",
       "    <tr>\n",
       "      <th>3</th>\n",
       "      <td>Property</td>\n",
       "      <td>0.616 (0.023)</td>\n",
       "      <td>0.67 (0.014)</td>\n",
       "      <td>0.666 (0.003)</td>\n",
       "      <td>0.615 (0.014)</td>\n",
       "    </tr>\n",
       "    <tr>\n",
       "      <th>4</th>\n",
       "      <td>Felony</td>\n",
       "      <td>0.62 (0.004)</td>\n",
       "      <td>0.606 (0.005)</td>\n",
       "      <td>0.626 (0.0)</td>\n",
       "      <td>0.597 (0.012)</td>\n",
       "    </tr>\n",
       "    <tr>\n",
       "      <th>5</th>\n",
       "      <td>Misdemeanor</td>\n",
       "      <td>0.536 (0.006)</td>\n",
       "      <td>0.539 (0.013)</td>\n",
       "      <td>0.556 (0.001)</td>\n",
       "      <td>0.529 (0.0)</td>\n",
       "    </tr>\n",
       "  </tbody>\n",
       "</table>\n",
       "</div>"
      ],
      "text/plain": [
       "    Unnamed: 0           CART            EBM   Lasso Stumps       RiskSLIM\n",
       "0      General   0.58 (0.006)  0.592 (0.001)    0.599 (0.0)  0.574 (0.011)\n",
       "1      Violent  0.635 (0.008)  0.621 (0.009)   0.66 (0.001)    0.626 (0.0)\n",
       "2         Drug  0.656 (0.005)  0.628 (0.006)  0.654 (0.002)  0.634 (0.004)\n",
       "3     Property  0.616 (0.023)   0.67 (0.014)  0.666 (0.003)  0.615 (0.014)\n",
       "4       Felony   0.62 (0.004)  0.606 (0.005)    0.626 (0.0)  0.597 (0.012)\n",
       "5  Misdemeanor  0.536 (0.006)  0.539 (0.013)  0.556 (0.001)    0.529 (0.0)"
      ]
     },
     "execution_count": 3,
     "metadata": {},
     "output_type": "execute_result"
    }
   ],
   "source": [
    "result"
   ]
  },
  {
   "cell_type": "code",
   "execution_count": 4,
   "metadata": {
    "hideCode": false,
    "hidePrompt": false
   },
   "outputs": [],
   "source": [
    "cols = result.columns.to_list()\n",
    "values = result.values.tolist()"
   ]
  },
  {
   "cell_type": "code",
   "execution_count": 5,
   "metadata": {
    "hideCode": false,
    "hideOutput": true,
    "hidePrompt": false
   },
   "outputs": [
    {
     "name": "stdout",
     "output_type": "stream",
     "text": [
      "\\begin{array}{l | r | r | r | r} \\hline\n",
      "    General     & 0.5650 & 0.5780 & 0.575 & 0.5540 \\\\ \\hline\n",
      "    Violent     & 0.6140 & 0.5640 & 0.618 & 0.5850 \\\\ \\hline\n",
      "    Drug        & 0.6510 & 0.6220 & 0.642 & 0.6370 \\\\ \\hline\n",
      "    Property    & 0.6310 & 0.5720 & 0.635 & 0.6310 \\\\ \\hline\n",
      "    Felony      & 0.6000 & 0.5680 & 0.599 & 0.5570 \\\\ \\hline\n",
      "    Misdemeanor & 0.5370 & 0.5500 & 0.544 & 0.5290 \\\\ \\hline\n",
      "\\end{array}\n"
     ]
    }
   ],
   "source": [
    "writer = pytablewriter.LatexTableWriter()\n",
    "writer.value_matrix = values\n",
    "writer.write_table()"
   ]
  }
 ],
 "metadata": {
  "hide_code_all_hidden": false,
  "kernelspec": {
   "display_name": "Python 3",
   "language": "python",
   "name": "python3"
  },
  "language_info": {
   "codemirror_mode": {
    "name": "ipython",
    "version": 3
   },
   "file_extension": ".py",
   "mimetype": "text/x-python",
   "name": "python",
   "nbconvert_exporter": "python",
   "pygments_lexer": "ipython3",
   "version": "3.7.4"
  }
 },
 "nbformat": 4,
 "nbformat_minor": 4
}
