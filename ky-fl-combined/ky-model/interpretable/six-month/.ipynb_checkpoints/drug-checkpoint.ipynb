{
 "cells": [
  {
   "cell_type": "code",
   "execution_count": null,
   "metadata": {},
   "outputs": [],
   "source": [
    "import os \n",
    "os.chdir('../../')\n",
    "print(\"Current working directory is now: \", os.getcwd())\n",
    "\n",
    "import pandas as pd \n",
    "import numpy as np\n",
    "import csv\n",
    "from sklearn.linear_model import LogisticRegression\n",
    "\n",
    "import ky_utils.ky_interpretable_functions as interpret\n",
    "import ky_utils.ky_riskslim as slim\n",
    "import ky_utils.ky_stumps as stumps\n",
    "\n",
    "from pprint import pprint\n",
    "from riskslim.helper_functions import load_data_from_csv, print_model\n",
    "from sklearn.metrics import roc_auc_score"
   ]
  },
  {
   "cell_type": "code",
   "execution_count": null,
   "metadata": {},
   "outputs": [],
   "source": [
    "### EBM & CART"
   ]
  },
  {
   "cell_type": "code",
   "execution_count": null,
   "metadata": {},
   "outputs": [],
   "source": [
    "KY_data = pd.read_csv(\"~/Documents/Duke/Cynthia Research/data/ky-fl-data/KY-cleaned.csv\").sort_values('person_id')\n",
    "FL_data = pd.read_csv(\"~/Documents/Duke/Cynthia Research/data/ky-fl-data/FL-cleaned.csv\").sort_values('person_id')\n",
    "\n",
    "## split x and y \n",
    "KY_X = KY_data.loc[:,:'current_violence20']\n",
    "KY_Y = KY_data['drug_six_month'].values\n",
    "FL_X = FL_data.loc[:,:'current_violence20']\n",
    "FL_Y = FL_data['drug_six_month'].values"
   ]
  },
  {
   "cell_type": "code",
   "execution_count": null,
   "metadata": {},
   "outputs": [],
   "source": [
    "#### CART\n",
    "depth = [5,6,7,8,9,10]\n",
    "cart_summary = interpret.CART(KY_X, KY_Y, FL_X, FL_Y, depth, seed=816)\n",
    "\n",
    "### EBM\n",
    "estimators = [60]\n",
    "depth = [2]\n",
    "learning_rate = [0.1]\n",
    "ebm_summary = interpret.EBM(KY_X, KY_Y, FL_X, FL_Y, learning_rate, depth, estimators, seed=816)"
   ]
  },
  {
   "cell_type": "code",
   "execution_count": null,
   "metadata": {},
   "outputs": [],
   "source": [
    "print(\"CART: \", np.mean(cart_summary['FL_score']), np.mean(cart_summary['KY_score']))\n",
    "print(\"EMB: \", np.mean(ebm_summary['FL_score']), np.mean(ebm_summary['KY_score']))"
   ]
  },
  {
   "cell_type": "code",
   "execution_count": null,
   "metadata": {},
   "outputs": [],
   "source": [
    "---"
   ]
  },
  {
   "cell_type": "code",
   "execution_count": null,
   "metadata": {},
   "outputs": [],
   "source": [
    "### Lasso Stumps"
   ]
  },
  {
   "cell_type": "code",
   "execution_count": null,
   "metadata": {},
   "outputs": [],
   "source": [
    "KY_stumps = pd.read_csv(\"~/Documents/Duke/Cynthia Research/data/ky-fl-data/KY-stumps.csv\").sort_values('person_id')\n",
    "FL_stumps = pd.read_csv(\"~/Documents/Duke/Cynthia Research/data/ky-fl-data/FL-stumps.csv\").sort_values('person_id')\n",
    "\n",
    "## split x and y \n",
    "KY_X = KY_stumps.loc[:,:'current_violence201']\n",
    "KY_Y = KY_stumps['drug_six_month'].values\n",
    "FL_X = FL_stumps.loc[:,:'current_violence201']\n",
    "FL_Y = FL_stumps['drug_six_month'].values\n",
    "\n",
    "## columns \n",
    "cols = KY_X.columns[1:]"
   ]
  },
  {
   "cell_type": "code",
   "execution_count": null,
   "metadata": {},
   "outputs": [],
   "source": [
    "single_stump_model = stumps.stump_model(KY_X, KY_Y, FL_X, FL_Y, 0.0018, cols, 816)\n",
    "## unique original features\n",
    "unique_stumps = []\n",
    "for i in single_stump_model['features']:\n",
    "    unique_stumps.append(''.join([j for j in i if not j.isdigit()]))\n",
    "print(len(np.unique(unique_stumps)))"
   ]
  },
  {
   "cell_type": "code",
   "execution_count": null,
   "metadata": {},
   "outputs": [],
   "source": [
    "c_grid={'C': [0.001, 0.0015, 0.0018]}\n",
    "stumps_summary = stumps.stump_cv(KY_X, KY_Y, FL_X, FL_Y, cols, c_grid, seed=816)"
   ]
  },
  {
   "cell_type": "code",
   "execution_count": null,
   "metadata": {},
   "outputs": [],
   "source": [
    "print(\"CART: \", np.mean(cart_summary['FL_score']), np.mean(cart_summary['KY_score']))\n",
    "print(\"EMB: \", np.mean(ebm_summary['FL_score']), np.mean(ebm_summary['KY_score']))\n",
    "print(\"Additive: \", np.mean(stumps_summary['FL_score']), np.mean(stumps_summary['KY_score']))"
   ]
  },
  {
   "cell_type": "code",
   "execution_count": null,
   "metadata": {},
   "outputs": [],
   "source": [
    "---"
   ]
  },
  {
   "cell_type": "code",
   "execution_count": null,
   "metadata": {},
   "outputs": [],
   "source": [
    "### RiskSLIM"
   ]
  },
  {
   "cell_type": "code",
   "execution_count": null,
   "metadata": {},
   "outputs": [],
   "source": [
    "## train on best param chosen by Lasso Stumps from above\n",
    "single_stump_model = stumps.stump_model(KY_X, \n",
    "                                        KY_Y, \n",
    "                                        FL_X, \n",
    "                                        FL_Y, \n",
    "                                        0.0006, \n",
    "                                        cols, \n",
    "                                        816)\n",
    "selected_features = single_stump_model['features']\n",
    "len(selected_features)"
   ]
  },
  {
   "cell_type": "code",
   "execution_count": null,
   "metadata": {},
   "outputs": [],
   "source": [
    "### Subset features\n",
    "sub_FL_X = FL_stumps.loc[:, selected_features]\n",
    "sub_KY_X = KY_stumps.loc[:, selected_features]\n",
    "sub_KY_X.insert(0, '(Intercept)', 1)"
   ]
  },
  {
   "cell_type": "code",
   "execution_count": null,
   "metadata": {},
   "outputs": [],
   "source": [
    "riskslim_summary = slim.risk_cv(sub_KY_X, \n",
    "                                KY_Y, \n",
    "                                sub_FL_X, \n",
    "                                FL_Y, \n",
    "                                y_label = 'drug_six_month', \n",
    "                                max_coef = 5, \n",
    "                                max_coef_number = 5, \n",
    "                                max_runtime=1000,\n",
    "                                max_offset=100,\n",
    "                                c=1e-6, \n",
    "                                seed=816)"
   ]
  },
  {
   "cell_type": "code",
   "execution_count": null,
   "metadata": {},
   "outputs": [],
   "source": [
    "print(\"CART: \", np.mean(cart_summary['FL_score']), np.mean(cart_summary['KY_score']))\n",
    "print(\"EMB: \", np.mean(ebm_summary['FL_score']), np.mean(ebm_summary['KY_score']))\n",
    "print(\"Additive: \", np.mean(stumps_summary['FL_score']), np.mean(stumps_summary['KY_score']))\n",
    "print(\"RiskSLIM: \", np.mean(riskslim_summary['FL_score']), np.mean(riskslim_summary['KY_score']))"
   ]
  },
  {
   "cell_type": "code",
   "execution_count": null,
   "metadata": {},
   "outputs": [],
   "source": [
    "#### save results\n",
    "summary_drug6_ky_inter_model = {\"cart\": cart_summary,\n",
    "                                \"ebm\": ebm_summary,\n",
    "                                \"stumps\": stumps_summary,\n",
    "                                \"riskslim\": riskslim_summary}"
   ]
  },
  {
   "cell_type": "code",
   "execution_count": null,
   "metadata": {},
   "outputs": [],
   "source": [
    "path = \"./results/interpretable/six-month/\"\n",
    "results = [[\"Drug\",             \n",
    "            np.str(round(np.mean(cart_summary['FL_score']),3)) + \" (\" + np.str(round(np.std(cart_summary['FL_score']),3)) + \")\", \n",
    "            np.str(round(np.mean(ebm_summary['FL_score']), 3)) + \" (\" + np.str(round(np.std(ebm_summary['FL_score']),3)) + \")\", \n",
    "            np.str(round(np.mean(stumps_summary['FL_score']),3)) + \" (\" + np.str(round(np.std(stumps_summary['FL_score']),3)) + \")\", \n",
    "            np.str(round(np.mean(riskslim_summary['FL_score']), 3)) + \" (\" + np.str(round(np.std(riskslim_summary['FL_score']),3)) + \")\"]]\n",
    "with open(path + 'six-month-ky-interpretable-fl-score.csv', 'a') as writeFile:\n",
    "    writer = csv.writer(writeFile)\n",
    "    writer.writerows(results)"
   ]
  },
  {
   "cell_type": "code",
   "execution_count": null,
   "metadata": {},
   "outputs": [],
   "source": [
    "path = \"./results/interpretable/six-month/\"\n",
    "results = [[\"Drug\",             \n",
    "            np.str(round(np.mean(cart_summary['KY_score']),3)) + \" (\" + np.str(round(np.std(cart_summary['KY_score']),3)) + \")\", \n",
    "            np.str(round(np.mean(ebm_summary['KY_score']), 3)) + \" (\" + np.str(round(np.std(ebm_summary['KY_score']),3)) + \")\", \n",
    "            np.str(round(np.mean(stumps_summary['KY_score']),3)) + \" (\" + np.str(round(np.std(stumps_summary['KY_score']),3)) + \")\", \n",
    "            np.str(round(np.mean(riskslim_summary['KY_score']), 3)) + \" (\" + np.str(round(np.std(riskslim_summary['KY_score']),3)) + \")\"]]\n",
    "with open(path + 'six-month-ky-interpretable-ky-score.csv', 'a') as writeFile:\n",
    "    writer = csv.writer(writeFile)\n",
    "    writer.writerows(results)"
   ]
  }
 ],
 "metadata": {
  "kernelspec": {
   "display_name": "Python 3",
   "language": "python",
   "name": "python3"
  },
  "language_info": {
   "codemirror_mode": {
    "name": "ipython",
    "version": 3
   },
   "file_extension": ".py",
   "mimetype": "text/x-python",
   "name": "python",
   "nbconvert_exporter": "python",
   "pygments_lexer": "ipython3",
   "version": "3.8.8"
  }
 },
 "nbformat": 4,
 "nbformat_minor": 4
}
