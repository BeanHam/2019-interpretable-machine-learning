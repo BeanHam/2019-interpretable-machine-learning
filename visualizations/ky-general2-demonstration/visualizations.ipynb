{
 "cells": [
  {
   "cell_type": "code",
   "execution_count": 1,
   "metadata": {},
   "outputs": [
    {
     "name": "stdout",
     "output_type": "stream",
     "text": [
      "Current working directory is now:  C:\\Users\\binha\\Documents\\Duke\\Cynthia Research\\interpretable-machine-learning\n"
     ]
    },
    {
     "name": "stderr",
     "output_type": "stream",
     "text": [
      "C:\\Users\\binha\\Anaconda3\\lib\\site-packages\\sklearn\\externals\\six.py:31: DeprecationWarning:\n",
      "\n",
      "The module is deprecated in version 0.21 and will be removed in version 0.23 since we've dropped support for Python 2.7. Please rely on the official version of six (https://pypi.org/project/six/).\n",
      "\n"
     ]
    }
   ],
   "source": [
    "import os \n",
    "os.chdir('../../')\n",
    "print(\"Current working directory is now: \", os.getcwd())\n",
    "\n",
    "import pandas as pd \n",
    "import numpy as np\n",
    "import csv\n",
    "import utils.RiskSLIM as slim\n",
    "import utils.stumps as stumps\n",
    "import matplotlib.pyplot as plt\n",
    "\n",
    "from sklearn.linear_model import LogisticRegression\n",
    "from interpret.glassbox import ExplainableBoostingClassifier\n",
    "from interpret import show\n",
    "from pprint import pprint\n",
    "from riskslim.helper_functions import load_data_from_csv, print_model"
   ]
  },
  {
   "cell_type": "markdown",
   "metadata": {},
   "source": [
    "### EBM"
   ]
  },
  {
   "cell_type": "code",
   "execution_count": 8,
   "metadata": {},
   "outputs": [],
   "source": [
    "train_data = pd.read_csv(\"~/Documents/Duke/Cynthia Research/data/ky-data/kentucky_train.csv\").sort_values('person_id')\n",
    "train_data = train_data.drop(['person_id', 'screening_date', 'arnold_nca_raw', 'arnold_nvca_raw', 'arnold_fta_raw'], axis=1)\n",
    "train_x = train_data.loc[:, :'current_violence20']\n",
    "train_y = train_data['general_two_year']\n",
    "cols = train_x.columns"
   ]
  },
  {
   "cell_type": "code",
   "execution_count": 4,
   "metadata": {},
   "outputs": [],
   "source": [
    "ebm = ExplainableBoostingClassifier(feature_names=cols,\n",
    "                                    n_estimators=60,  \n",
    "                                    max_tree_splits=2, \n",
    "                                    learning_rate=0.1,\n",
    "                                    random_state=816).fit(train_x, train_y)"
   ]
  },
  {
   "cell_type": "code",
   "execution_count": 5,
   "metadata": {},
   "outputs": [
    {
     "data": {
      "text/html": [
       "\n",
       "            <iframe src=\"http://127.0.0.1:7282/1951673797896/\" width=100% height=800 frameBorder=\"0\"></iframe>\n",
       "        "
      ]
     },
     "metadata": {},
     "output_type": "display_data"
    }
   ],
   "source": [
    "ebm_global = ebm.explain_global()\n",
    "show(ebm_global)"
   ]
  },
  {
   "cell_type": "markdown",
   "metadata": {},
   "source": [
    "### Additive Stumps"
   ]
  },
  {
   "cell_type": "code",
   "execution_count": 16,
   "metadata": {},
   "outputs": [],
   "source": [
    "## load train & test\n",
    "train_stumps = pd.read_csv(\"~/Documents/Duke/Cynthia Research/data/ky-data/kentucky_train_stumps.csv\").sort_values('person_id')\n",
    "test_stumps = pd.read_csv(\"~/Documents/Duke/Cynthia Research/data/ky-data/kentucky_test_stumps.csv\").sort_values('person_id')\n",
    "\n",
    "X_train_stumps = train_stumps.loc[:,:'current_violence201'].copy()\n",
    "X_test_stumps = test_stumps.loc[:,:'current_violence201'].copy()\n",
    "Y_train_stumps = train_stumps['general_two_year'].values.copy()\n",
    "Y_test_stumps = test_stumps['general_two_year'].values.copy()\n",
    "Y_train_stumps[Y_train_stumps == -1] = 0\n",
    "Y_test_stumps[Y_test_stumps == -1] = 0\n",
    "cols = X_train_stumps.columns[3:]"
   ]
  },
  {
   "cell_type": "code",
   "execution_count": 17,
   "metadata": {},
   "outputs": [],
   "source": [
    "best_stump_model = stumps.stump_model(X_train_stumps, \n",
    "                                      Y_train_stumps, \n",
    "                                      X_test_stumps, \n",
    "                                      Y_test_stumps, \n",
    "                                      c=0.002, \n",
    "                                      columns=cols, \n",
    "                                      seed=816)"
   ]
  },
  {
   "cell_type": "code",
   "execution_count": 19,
   "metadata": {},
   "outputs": [
    {
     "name": "stdout",
     "output_type": "stream",
     "text": [
      "14\n"
     ]
    }
   ],
   "source": [
    "## unique original features\n",
    "unique_stumps = []\n",
    "for i in best_stump_model['features']:\n",
    "    unique_stumps.append(''.join([j for j in i if not j.isdigit()]))\n",
    "print(len(np.unique(unique_stumps)))"
   ]
  },
  {
   "cell_type": "code",
   "execution_count": 20,
   "metadata": {
    "scrolled": true
   },
   "outputs": [
    {
     "name": "stdout",
     "output_type": "stream",
     "text": [
      "\\begin{{tabular}}{{|l|r|r|}} \\hline\n",
      "1. age_at_current_charge20 & 0.008172335301239004 & +... \\\\ \\hline\n",
      "2. age_at_current_charge21 & 0.005261389499799182 & +... \\\\ \\hline\n",
      "3. age_at_current_charge24 & 0.03222744863636956 & +... \\\\ \\hline\n",
      "4. age_at_current_charge27 & 0.027026933544165025 & +... \\\\ \\hline\n",
      "5. age_at_current_charge35 & 0.010825266938525603 & +... \\\\ \\hline\n",
      "6. age_at_current_charge39 & 0.1223152119666769 & +... \\\\ \\hline\n",
      "7. age_at_current_charge43 & 0.031064901493189814 & +... \\\\ \\hline\n",
      "8. age_at_current_charge47 & 0.06861394349680994 & +... \\\\ \\hline\n",
      "9. p_arrest2 & 0.6762423397426611 & +... \\\\ \\hline\n",
      "10. p_arrest3 & 0.3488606942593477 & +... \\\\ \\hline\n",
      "11. p_arrest4 & 0.23394585556232336 & +... \\\\ \\hline\n",
      "12. p_arrest5 & 0.12261637081757945 & +... \\\\ \\hline\n",
      "13. p_charges2 & 0.012393311529462426 & +... \\\\ \\hline\n",
      "14. p_charges3 & 0.006542676971580426 & +... \\\\ \\hline\n",
      "15. p_violence1 & 0.047387025264398204 & +... \\\\ \\hline\n",
      "16. p_felony1 & 0.1721159271286281 & +... \\\\ \\hline\n",
      "17. p_misdemeanor2 & 0.016193325467287516 & +... \\\\ \\hline\n",
      "18. p_misdemeanor3 & 0.07640668640048393 & +... \\\\ \\hline\n",
      "19. p_misdemeanor4 & 0.07327948845266015 & +... \\\\ \\hline\n",
      "20. p_traffic1 & 0.03942820860793641 & +... \\\\ \\hline\n",
      "21. ADE1 & 0.15827977488525224 & -... \\\\ \\hline\n",
      "22. p_fta_two_year1 & 0.33984803366921124 & +... \\\\ \\hline\n",
      "23. p_fta_two_year2 & 0.06166594896825341 & +... \\\\ \\hline\n",
      "24. p_pending_charge1 & 0.38744476553765284 & +... \\\\ \\hline\n",
      "25. p_probation1 & 0.22646477591338068 & +... \\\\ \\hline\n",
      "26. p_incarceration1 & 0.3576726176215092 & +... \\\\ \\hline\n",
      "27. six_month1 & 0.014767269970761686 & -... \\\\ \\hline\n",
      "28. three_year1 & 0.00045751309962307655 & +... \\\\ \\hline\n",
      "29. Intercept & -1.15 & +... \\\\ \\hline\n",
      "\\textbf{ADD POINTS FROM ROWS 1 TO 29}  &  \\textbf{SCORE} & = ..... \\\\ \\hline\n",
      "\\multicolumn{{3}}{{l}}{{Pr(Y = 1) = exp(score/100) / (1 + exp(score/100))}} \\\\ \\hline\n"
     ]
    }
   ],
   "source": [
    "stumps.latex_stump_table(best_stump_model['coefs'], \n",
    "                         best_stump_model['features'], \n",
    "                         best_stump_model['intercept'], \n",
    "                         best_stump_model['dictionary'])"
   ]
  },
  {
   "cell_type": "code",
   "execution_count": 21,
   "metadata": {
    "scrolled": true
   },
   "outputs": [
    {
     "data": {
      "image/png": "[encoded data removed]",
      "text/plain": [
       "<Figure size 288x216 with 1 Axes>"
      ]
     },
     "metadata": {
      "needs_background": "light"
     },
     "output_type": "display_data"
    },
    {
     "data": {
      "image/png": "[encoded data removed]",
      "text/plain": [
       "<Figure size 288x216 with 1 Axes>"
      ]
     },
     "metadata": {
      "needs_background": "light"
     },
     "output_type": "display_data"
    },
    {
     "data": {
      "image/png": "[encoded data removed]",
      "text/plain": [
       "<Figure size 288x216 with 1 Axes>"
      ]
     },
     "metadata": {
      "needs_background": "light"
     },
     "output_type": "display_data"
    },
    {
     "data": {
      "image/png": "[encoded data removed]",
      "text/plain": [
       "<Figure size 288x216 with 1 Axes>"
      ]
     },
     "metadata": {
      "needs_background": "light"
     },
     "output_type": "display_data"
    },
    {
     "data": {
      "image/png": "[encoded data removed]",
      "text/plain": [
       "<Figure size 288x216 with 1 Axes>"
      ]
     },
     "metadata": {
      "needs_background": "light"
     },
     "output_type": "display_data"
    },
    {
     "data": {
      "image/png": "[encoded data removed]",
      "text/plain": [
       "<Figure size 288x216 with 1 Axes>"
      ]
     },
     "metadata": {
      "needs_background": "light"
     },
     "output_type": "display_data"
    },
    {
     "data": {
      "image/png": "[encoded data removed]",
      "text/plain": [
       "<Figure size 288x216 with 1 Axes>"
      ]
     },
     "metadata": {
      "needs_background": "light"
     },
     "output_type": "display_data"
    },
    {
     "data": {
      "image/png": "[encoded data removed]",
      "text/plain": [
       "<Figure size 288x216 with 1 Axes>"
      ]
     },
     "metadata": {
      "needs_background": "light"
     },
     "output_type": "display_data"
    },
    {
     "data": {
      "image/png": "[encoded data removed]",
      "text/plain": [
       "<Figure size 288x216 with 1 Axes>"
      ]
     },
     "metadata": {
      "needs_background": "light"
     },
     "output_type": "display_data"
    },
    {
     "data": {
      "image/png": "[encoded data removed]",
      "text/plain": [
       "<Figure size 288x216 with 1 Axes>"
      ]
     },
     "metadata": {
      "needs_background": "light"
     },
     "output_type": "display_data"
    },
    {
     "data": {
      "image/png": "[encoded data removed]",
      "text/plain": [
       "<Figure size 288x216 with 1 Axes>"
      ]
     },
     "metadata": {
      "needs_background": "light"
     },
     "output_type": "display_data"
    },
    {
     "data": {
      "image/png": "[encoded data removed]",
      "text/plain": [
       "<Figure size 288x216 with 1 Axes>"
      ]
     },
     "metadata": {
      "needs_background": "light"
     },
     "output_type": "display_data"
    },
    {
     "data": {
      "image/png": "[encoded data removed]",
      "text/plain": [
       "<Figure size 288x216 with 1 Axes>"
      ]
     },
     "metadata": {
      "needs_background": "light"
     },
     "output_type": "display_data"
    }
   ],
   "source": [
    "stumps.stump_plots(best_stump_model['features'], best_stump_model['coefs'], indicator=\"KY\")"
   ]
  },
  {
   "cell_type": "markdown",
   "metadata": {},
   "source": [
    "### Visualization for 'p_fta_two_year'"
   ]
  },
  {
   "cell_type": "code",
   "execution_count": 34,
   "metadata": {},
   "outputs": [],
   "source": [
    "label = 'p_fta_two_year'\n",
    "features = best_stump_model['features']\n",
    "coefs = best_stump_model['coefs']\n",
    "cutoff_values = []\n",
    "cutoffs = []"
   ]
  },
  {
   "cell_type": "code",
   "execution_count": 35,
   "metadata": {},
   "outputs": [],
   "source": [
    "## sub-features\n",
    "sub_features = np.array(np.array(features)[[label in k for k in features]])\n",
    "\n",
    "for j in sub_features:\n",
    "    cutoff_values.append( round(coefs[np.where(np.array(features) == j)[0][0]], 3))\n",
    "    cutoffs.append(int(j[j.find(label)+len(label):])) \n",
    "    \n",
    "## prepare cutoffs\n",
    "cutoff_prep = []\n",
    "cutoff_values_prep = []\n",
    "\n",
    "for n in range(len(cutoffs)-1):\n",
    "    cutoff_prep.append(np.linspace(cutoffs[n]-0.5, cutoffs[n+1]-0.5, 1000))\n",
    "    cutoff_values_prep.append(np.repeat(round(np.sum(cutoff_values[:n+1]),3), 1000))\n",
    "    \n",
    "cutoff_prep.append(np.linspace(cutoffs[-1]-0.5, cutoffs[-1]+0.5, 1000))\n",
    "cutoff_values_prep.append(np.repeat(np.sum(cutoff_values), 1000))"
   ]
  },
  {
   "cell_type": "code",
   "execution_count": 36,
   "metadata": {},
   "outputs": [
    {
     "data": {
      "image/png": "[encoded data removed]",
      "text/plain": [
       "<Figure size 288x216 with 1 Axes>"
      ]
     },
     "metadata": {
      "needs_background": "light"
     },
     "output_type": "display_data"
    }
   ],
   "source": [
    "## visualization\n",
    "unique = np.unique(cutoff_values_prep)\n",
    "unique_len = len(unique)\n",
    "plt.figure(figsize=(4,3))\n",
    "plt.scatter(cutoff_prep, cutoff_values_prep, s=0.05)\n",
    "plt.title(label, fontsize=14)\n",
    "plt.ylabel('Contribution', fontsize=14)\n",
    "plt.show()  "
   ]
  },
  {
   "cell_type": "markdown",
   "metadata": {},
   "source": [
    "### RiskSLIM"
   ]
  },
  {
   "cell_type": "code",
   "execution_count": 38,
   "metadata": {},
   "outputs": [],
   "source": [
    "## load stumps data\n",
    "data = pd.read_csv(\"~/Documents/Duke/Cynthia Research/data/ky-data/kentucky_train_stumps.csv\").sort_values('person_id')\n",
    "\n",
    "## single stump model\n",
    "single_stump_model = stumps.stump_model(X_train_stumps, \n",
    "                                        Y_train_stumps, \n",
    "                                        X_test_stumps, \n",
    "                                        Y_test_stumps, \n",
    "                                        c=0.0012,    \n",
    "                                        columns=cols, \n",
    "                                        seed=816)"
   ]
  },
  {
   "cell_type": "code",
   "execution_count": 39,
   "metadata": {},
   "outputs": [],
   "source": [
    "selected_features = ['general_two_year'] + single_stump_model['features']\n",
    "sub_train_data = train_stumps[selected_features]\n",
    "sub_test_data = test_stumps[selected_features]\n",
    "\n",
    "## split x \n",
    "sub_train_X = sub_train_data.iloc[:,1:]\n",
    "sub_train_X.insert(0, '(Intercept)', 1)\n",
    "sub_cols = sub_train_X.columns.tolist()\n",
    "sub_train_X = sub_train_X.values\n",
    "sub_test_X = sub_test_data.iloc[:,1:].values\n",
    "\n",
    "## split y\n",
    "sub_train_Y = sub_train_data.iloc[:,0].values.reshape(-1,1)\n",
    "sub_test_Y = sub_test_data.iloc[:,0].values.reshape(-1,1)\n",
    "\n",
    "## sample weight\n",
    "sample_weights = np.repeat(1, len(sub_train_Y))"
   ]
  },
  {
   "cell_type": "code",
   "execution_count": 40,
   "metadata": {},
   "outputs": [],
   "source": [
    "new_train_data = {\n",
    "    'X': sub_train_X,\n",
    "    'Y': sub_train_Y,\n",
    "    'variable_names': sub_cols,\n",
    "    'outcome_name': 'general_two_year',\n",
    "    'sample_weights': sample_weights\n",
    "}"
   ]
  },
  {
   "cell_type": "code",
   "execution_count": 41,
   "metadata": {
    "scrolled": true
   },
   "outputs": [
    {
     "name": "stdout",
     "output_type": "stream",
     "text": [
      "setting c0 = 0.0 to ensure that intercept is not penalized\n",
      "04/05/20 @ 12:47 PM | 233 rows in lookup table\n",
      "04/05/20 @ 12:47 PM | ------------------------------------------------------------\n",
      "04/05/20 @ 12:47 PM | runnning initialization procedure\n",
      "04/05/20 @ 12:47 PM | ------------------------------------------------------------\n",
      "04/05/20 @ 12:47 PM | CPA produced 2 cuts\n",
      "04/05/20 @ 12:47 PM | running naive rounding on 4 solutions\n",
      "04/05/20 @ 12:47 PM | best objective value: 0.6930\n",
      "04/05/20 @ 12:47 PM | rounding produced 4 integer solutions\n",
      "04/05/20 @ 12:47 PM | best objective value is 0.6931\n",
      "04/05/20 @ 12:47 PM | running sequential rounding on 4 solutions\n",
      "04/05/20 @ 12:47 PM | best objective value: 0.6930\n",
      "04/05/20 @ 12:47 PM | sequential rounding produced 1 integer solutions\n",
      "04/05/20 @ 12:47 PM | best objective value: 0.5457\n",
      "04/05/20 @ 12:47 PM | polishing 5 solutions\n",
      "04/05/20 @ 12:47 PM | best objective value: 0.5457\n",
      "04/05/20 @ 12:47 PM | polishing produced 4 integer solutions\n",
      "04/05/20 @ 12:47 PM | initialization produced 8 feasible solutions\n",
      "04/05/20 @ 12:47 PM | best objective value: 0.4683\n",
      "04/05/20 @ 12:47 PM | ------------------------------------------------------------\n",
      "04/05/20 @ 12:47 PM | completed initialization procedure\n",
      "04/05/20 @ 12:47 PM | ------------------------------------------------------------\n",
      "04/05/20 @ 12:47 PM | 233 rows in lookup table\n",
      "CPXPARAM_Read_DataCheck                          1\n",
      "CPXPARAM_Threads                                 1\n",
      "CPXPARAM_Parallel                                1\n",
      "CPXPARAM_RandomSeed                              0\n",
      "CPXPARAM_TimeLimit                               1000\n",
      "CPXPARAM_MIP_Tolerances_LowerCutoff              0.43470816192532996\n",
      "CPXPARAM_MIP_Tolerances_UpperCutoff              0.46828356667480686\n"
     ]
    },
    {
     "name": "stderr",
     "output_type": "stream",
     "text": [
      "Warning: Control callbacks may disable some MIP features.\n"
     ]
    },
    {
     "name": "stdout",
     "output_type": "stream",
     "text": [
      "Lazy constraint(s) or lazy constraint callback is present.\n",
      "    Disabling dual reductions (CPX_PARAM_REDUCE) in presolve.\n",
      "    Disabling non-linear reductions (CPX_PARAM_PRELINEAR) in presolve.\n",
      "         Disabling repeat represolve because of lazy constraint/incumbent callback.\n",
      "04/05/20 @ 12:47 PM | adding 260 initial cuts\n",
      "1 of 1 MIP starts provided solutions.\n",
      "MIP start 'mip_start_0' defined initial solution with objective 0.4683.\n",
      "Tried aggregator 1 time.\n",
      "Reduced MIP has 38 rows, 40 columns, and 111 nonzeros.\n",
      "Reduced MIP has 18 binaries, 20 generals, 0 SOSs, and 0 indicators.\n",
      "Presolve time = 0.00 sec. (0.05 ticks)\n",
      "Probing time = 0.00 sec. (0.01 ticks)\n",
      "MIP emphasis: balance optimality and feasibility.\n",
      "MIP search method: traditional branch-and-cut.\n",
      "Parallel mode: none, using 1 thread.\n",
      "Root relaxation solution time = 0.00 sec. (0.05 ticks)\n",
      "\n",
      "        Nodes                                         Cuts/\n",
      "   Node  Left     Objective  IInf  Best Integer    Best Bound    ItCnt     Gap         Variable B NodeID Parent  Depth\n",
      "\n",
      "*     0+    0                            0.4683        0.4347             7.17%\n",
      "      0     0        0.4347     1        0.4683        0.4347       19    7.17%\n",
      "      0     0        0.4347     2        0.4683      Fract: 3       21    7.17%\n",
      "      0     2        0.4347     6        0.4683        0.4347       21    7.17%                        0             0\n",
      "Elapsed time = 0.11 sec. (2.00 ticks, tree = 0.01 MB, solutions = 1)\n",
      "*  2180+  831                            0.4664        0.4347             6.80%\n",
      "*  2218   835      integral     0        0.4654        0.4347    12821    6.60%\n",
      "   2250   850        0.4504     3        0.4654        0.4347    12983    6.60%         alpha_5 U   2250   2191     19\n",
      "*  2520+  842                            0.4614        0.4347             5.79%\n",
      "*  3330+ 1141                            0.4587        0.4347             5.23%\n",
      "*  3334  1143      integral     0        0.4587        0.4347    20132    5.23%         alpha_8 D   3334   3333     42\n",
      "   4188  1402        0.4368     8        0.4587        0.4347    27319    5.23%           rho_9 U   4188   3130     31\n",
      "   4978  1671        0.4347    15        0.4587        0.4347    34340    5.23%           rho_6 U   4978   4977     10\n",
      "   5806  1947        0.4347    11        0.4587        0.4347    40820    5.23%          rho_12 U   5806   5776     20\n",
      "*  6229  2005      integral     0        0.4565        0.4347    43837    4.77%          rho_15 U   6229   6228     25\n",
      "*  6230+ 1658                            0.4503        0.4347             3.47%\n",
      "*  6246  1667      integral     0        0.4503        0.4347    43896    3.47%           rho_2 D   6246   6245     35\n",
      "*  6599  1768      integral     0        0.4501        0.4347    47642    3.43%          rho_16 U   6599   6598     40\n",
      "   7297  1990        0.4374     4        0.4501        0.4347    53911    3.43%          rho_17 U   7297   7259     24\n",
      "  10050  2705        cutoff              0.4501        0.4347    78919    3.43%          rho_12 U  10050  10049     22\n",
      "Elapsed time = 3.88 sec. (2614.99 ticks, tree = 0.75 MB, solutions = 10)\n",
      "  12580  3342        cutoff              0.4501        0.4347   102784    3.43%           rho_4 U  12580  12570     16\n",
      "  15085  4037        0.4379    11        0.4501        0.4347   126272    3.43%           rho_0 D  15085  15084     22\n",
      "  17568  4627        0.4377    13        0.4501        0.4347   148782    3.43%          rho_16 N  17568  17567     21\n",
      "  20047  5336        cutoff              0.4501        0.4347   169716    3.43%          rho_11 U  20047  20027     17\n",
      "  22267  6084        0.4447     1        0.4501        0.4347   191331    3.43%          rho_14 N  22267  22265     34\n",
      "  24580  6790        0.4347    18        0.4501        0.4347   210837    3.43%           rho_1 U  24580  13751     16\n",
      "  26550  7331        0.4448    11        0.4501        0.4347   230342    3.43%          rho_11 D  26550  26548     32\n",
      "  28456  7854        0.4347    24        0.4501        0.4347   249672    3.43%          rho_18 U  28456  28455     18\n",
      "  30310  8411        0.4471    12        0.4501        0.4347   268766    3.43%           rho_2 U  30310  30309     25\n",
      "  32100  8983        0.4347    14        0.4501        0.4347   287107    3.43%           rho_0 U  32100  32083     23\n",
      "Elapsed time = 11.97 sec. (12154.81 ticks, tree = 2.73 MB, solutions = 10)\n",
      "  34107  9642        cutoff              0.4501        0.4347   304501    3.43%          rho_10 D  34107  34105     31\n",
      "  35977 10172        cutoff              0.4501        0.4347   322332    3.43%           rho_1 U  35977  35798     16\n",
      "  37811 10830        cutoff              0.4501        0.4347   339987    3.43%           rho_2 U  37811  37796     23\n",
      "  39760 11522        0.4383    17        0.4501        0.4347   357308    3.43%          rho_10 D  39760  39754     24\n",
      "  41506 12071        0.4463    11        0.4501        0.4347   374441    3.43%        alpha_15 D  41506  41505     27\n",
      "  43497 12810        cutoff              0.4501        0.4347   389929    3.43%          rho_12 D  43497  43496     32\n",
      "  45350 13492        0.4374    15        0.4501        0.4347   405043    3.43%           rho_2 U  45350  45349     25\n",
      "  47077 14249        0.4481    11        0.4501        0.4347   420351    3.43%          rho_12 N  47077  47075     29\n",
      "  48400 14676        0.4347    15        0.4501        0.4347   435957    3.43%          rho_12 U  48400  48390     29\n",
      "  49892 15175        cutoff              0.4501        0.4347   451319    3.43%        alpha_17 U  49892  49890     32\n",
      "Elapsed time = 18.92 sec. (21697.85 ticks, tree = 4.35 MB, solutions = 10)\n",
      "  51428 15726        0.4387    14        0.4501        0.4347   466885    3.43%           rho_0 D  51428  51427     27\n",
      "  52956 16309        0.4360    16        0.4501        0.4347   481535    3.43%           rho_5 D  52956  52954     26\n",
      "  54325 16785        0.4347    16        0.4501        0.4347   496772    3.43%          rho_16 D  54325  54323     20\n",
      "  55660 17222        0.4355    24        0.4501        0.4347   511451    3.43%          rho_10 D  55660  16604     18\n",
      "  57052 17727        0.4407    24        0.4501        0.4347   526247    3.43%           rho_0 U  57052  57051     16\n",
      "  58356 18152        0.4347    15        0.4501        0.4347   542078    3.43%           rho_2 U  58356  58355     25\n",
      "  59879 18770        cutoff              0.4501        0.4347   556371    3.43%           rho_5 D  59879  59878     19\n",
      "  61368 19285        0.4367    16        0.4501        0.4347   571147    3.43%           rho_4 D  61368  61358     30\n",
      "  62781 19803        cutoff              0.4501        0.4347   585659    3.43%           rho_1 U  62781  62780     23\n",
      "  64100 20220        0.4427    12        0.4501        0.4347   600535    3.43%          rho_10 U  64100  64099     28\n",
      "Elapsed time = 24.97 sec. (31242.94 ticks, tree = 6.40 MB, solutions = 10)\n",
      "  65414 20748        0.4347    13        0.4501        0.4347   614811    3.43%          rho_11 U  65414  65413     15\n",
      "  66879 21232        0.4390    15        0.4501        0.4347   629001    3.43%           rho_0 U  66879  66871     27\n",
      "  68113 21633        0.4493    13        0.4501        0.4347   643416    3.43%           rho_5 D  68113  68111     24\n",
      "  69361 21991        0.4377    20        0.4501        0.4347   658397    3.43%          rho_13 D  69361  69360     16\n",
      "  70683 22301        0.4390    15        0.4501        0.4349   671951    3.39%           rho_9 U  70683  70681     27\n",
      "  72336 22587        0.4362    21        0.4501        0.4352   682774    3.32%           rho_0 D  72336  72335     19\n",
      "  73976 22856        cutoff              0.4501        0.4354   693907    3.27%          rho_18 U  73976  25339     30\n",
      "  75542 23038        0.4406    19        0.4501        0.4357   704795    3.22%           rho_4 D  75542  36131     22\n",
      "  77223 23349        0.4438    12        0.4501        0.4359   715394    3.17%           rho_1 D  77223  73887     28\n",
      "  78787 23495        0.4447    11        0.4501        0.4361   726096    3.12%           rho_9 N  78787  24813     21\n",
      "Elapsed time = 30.77 sec. (40783.33 ticks, tree = 7.36 MB, solutions = 10)\n"
     ]
    },
    {
     "name": "stdout",
     "output_type": "stream",
     "text": [
      "  80371 23714        cutoff              0.4501        0.4363   736909    3.08%          rho_16 U  80371  57471     34\n",
      "  81907 23795        cutoff              0.4501        0.4365   747578    3.03%          rho_14 D  81907  81905     33\n",
      "  83474 23907        cutoff              0.4501        0.4367   758357    2.98%           rho_1 U  83474  21133     25\n",
      "  85048 24046        0.4413    10        0.4501        0.4369   768739    2.95%        alpha_15 D  85048  85047     33\n",
      "  86572 24174        0.4461    12        0.4501        0.4371   779465    2.91%           rho_6 N  86572   3847     20\n",
      "  88063 24216        0.4464    17        0.4501        0.4372   789776    2.87%          rho_18 D  88063  33641     16\n",
      "  89597 24273        0.4446    16        0.4501        0.4374   800131    2.83%           rho_4 D  89597  28247     28\n",
      "  91111 24314        0.4487    12        0.4501        0.4376   810198    2.79%          rho_12 D  91111  91110     23\n",
      "  92661 24377        cutoff              0.4501        0.4378   820412    2.75%           rho_1 N  92661  92660     22\n",
      "  94197 24470        cutoff              0.4501        0.4380   830609    2.70%          rho_11 U  94197  47234     23\n",
      "Elapsed time = 37.00 sec. (50323.86 ticks, tree = 7.75 MB, solutions = 10)\n",
      "  95696 24456        cutoff              0.4501        0.4382   840750    2.66%          rho_16 U  95696  95694     31\n",
      "  97198 24453        0.4479     9        0.4501        0.4384   850494    2.61%        alpha_15 D  97198  97197     36\n",
      "  98731 24425        0.4447    10        0.4501        0.4386   860253    2.56%        alpha_15 U  98731  98729     33\n",
      " 100268 24459        cutoff              0.4501        0.4388   869943    2.53%          rho_15 U 100268 100267     36\n",
      " 101735 24363        cutoff              0.4501        0.4390   879206    2.48%          rho_16 N 101735 101733     30\n",
      " 103190 24330        cutoff              0.4501        0.4392   888945    2.44%           rho_3 U 103190  92657     19\n",
      " 104705 24281        0.4488    11        0.4501        0.4393   898449    2.40%           rho_1 U 104705 104704     39\n",
      " 106131 24156        cutoff              0.4501        0.4395   908109    2.35%          rho_12 U 106131 106130     32\n",
      " 107633 24065        cutoff              0.4501        0.4397   917356    2.31%        alpha_15 D 107633 107632     32\n",
      " 109109 23992        0.4474    19        0.4501        0.4399   926358    2.27%           rho_9 U 109109  51372     26\n",
      "Elapsed time = 42.63 sec. (59863.42 ticks, tree = 7.75 MB, solutions = 10)\n",
      " 110519 23789        cutoff              0.4501        0.4401   935442    2.22%           rho_3 U 110519  64643     16\n",
      " 111958 23661        cutoff              0.4501        0.4403   944951    2.18%          rho_11 D 111958 111957     27\n",
      " 113400 23506        0.4444    11        0.4501        0.4405   953837    2.13%           rho_1 U 113400 113399     29\n",
      " 114894 23414        0.4474    12        0.4501        0.4407   962597    2.09%           rho_6 D 114894 114892     30\n",
      " 116308 23217        0.4498    12        0.4501        0.4409   971288    2.05%          rho_11 N 116308 116306     23\n",
      " 117784 23012        cutoff              0.4501        0.4411   980135    2.01%          rho_12 U 117784 117783     34\n",
      " 119254 22819        cutoff              0.4501        0.4413   988586    1.97%        alpha_17 U 119254 119253     29\n",
      " 120704 22541        cutoff              0.4501        0.4415   997146    1.92%          rho_14 D 120704 120703     34\n",
      " 122176 22345        cutoff              0.4501        0.4417  1005982    1.88%          rho_13 D 122176  15079     20\n",
      " 123600 22102        0.4493     7        0.4501        0.4419  1014657    1.84%         alpha_2 D 123600 123599     38\n",
      "Elapsed time = 47.59 sec. (69406.36 ticks, tree = 7.34 MB, solutions = 10)\n",
      "*123800 22049      integral     0        0.4501        0.4419  1015868    1.83%           rho_8 U 123800 123799     29\n",
      " 125254 21757        0.4468    17        0.4501        0.4421  1024042    1.79%           rho_5 U 125254  99656     21\n",
      " 126690 21490        cutoff              0.4501        0.4423  1031965    1.75%           rho_5 D 126690 113086     37\n",
      " 128138 21136        cutoff              0.4501        0.4425  1040019    1.71%           rho_1 D 128138 107877     28\n",
      " 129645 20782        cutoff              0.4501        0.4427  1048926    1.66%        alpha_15 D 129645 129643     31\n",
      " 131134 20360        0.4496    13        0.4501        0.4429  1057401    1.61%          rho_16 D 131134 131133     31\n",
      " 132665 19910        cutoff              0.4501        0.4431  1065560    1.57%           rho_0 D 132665  10183      9\n",
      " 134172 19479        cutoff              0.4501        0.4433  1073887    1.52%           rho_1 U 134172  59623     25\n",
      " 135647 19002        cutoff              0.4501        0.4435  1082191    1.48%          rho_12 U 135647 112706     26\n",
      " 137193 18643        cutoff              0.4501        0.4437  1090462    1.43%           rho_5 D 137193 137191     35\n",
      "Elapsed time = 52.31 sec. (78127.13 ticks, tree = 6.47 MB, solutions = 11)\n",
      " 138686 18169        cutoff              0.4501        0.4439  1098485    1.39%          rho_11 D 138686 114796     26\n",
      " 140216 17747        0.4487     2        0.4501        0.4441  1106708    1.34%        alpha_17 U 140216 140214     32\n",
      " 141746 17250        cutoff              0.4501        0.4443  1114365    1.29%          rho_12 D 141746 141744     27\n",
      " 143290 16761        cutoff              0.4501        0.4446  1122153    1.24%           rho_9 U 143290  76926     33\n",
      " 144830 16193        cutoff              0.4501        0.4448  1129500    1.19%          rho_13 U 144830  57999     20\n",
      " 146325 15587        cutoff              0.4501        0.4450  1136633    1.14%          rho_11 D 146325   6873     28\n",
      " 147837 14981        0.4481     4        0.4501        0.4452  1144031    1.09%        alpha_14 D 147837 147836     34\n",
      " 149322 14352        cutoff              0.4501        0.4455  1151324    1.04%          rho_16 U 149322 149321     25\n",
      " 150853 13754        cutoff              0.4501        0.4457  1158378    0.99%           rho_0 U 150853  51230     25\n",
      " 156822 10884        cutoff              0.4501        0.4467  1184764    0.77%           rho_9 U 156822  42885     23\n",
      "Elapsed time = 58.17 sec. (90528.67 ticks, tree = 4.39 MB, solutions = 11)\n",
      " 162797  7374        cutoff              0.4501        0.4477  1207704    0.53%           rho_4 U 162797  41553     27\n",
      " 168599  3046        cutoff              0.4501        0.4490  1227022    0.25%          rho_12 U 168599  99337     31\n",
      "\n",
      "Gomory fractional cuts applied:  1\n",
      "User cuts applied:  986\n",
      "\n",
      "Root node processing (before b&c):\n",
      "  Real time             =    0.09 sec. (2.07 ticks)\n",
      "Sequential b&c:\n",
      "  Real time             =   62.47 sec. (100463.12 ticks)\n",
      "                          ------------\n",
      "Total (root+branch&cut) =   62.56 sec. (100465.19 ticks)\n",
      "+----------------------------------------------+------------------+-----------+\n",
      "| Pr(Y = +1) = 1.0/(1.0 + exp(-(-2 + score))   |                  |           |\n",
      "| ============================================ | ================ | ========= |\n",
      "| p_arrest2                                    |         1 points |   + ..... |\n",
      "| p_arrest3                                    |         1 points |   + ..... |\n",
      "| p_arrest5                                    |         1 points |   + ..... |\n",
      "| ============================================ | ================ | ========= |\n",
      "| ADD POINTS FROM ROWS 1 to 3                  |            SCORE |   = ..... |\n",
      "+----------------------------------------------+------------------+-----------+\n"
     ]
    },
    {
     "data": {
      "text/plain": [
       "<prettytable.PrettyTable at 0x1c601a52d08>"
      ]
     },
     "execution_count": 41,
     "metadata": {},
     "output_type": "execute_result"
    }
   ],
   "source": [
    "model_info, mip_info, lcpa_info = slim.risk_slim(new_train_data, \n",
    "                                                 max_coefficient=5, \n",
    "                                                 max_L0_value=5, \n",
    "                                                 c0_value=1e-6, \n",
    "                                                 max_offset=100, \n",
    "                                                 max_runtime=1000)\n",
    "print_model(model_info['solution'], new_train_data)"
   ]
  }
 ],
 "metadata": {
  "kernelspec": {
   "display_name": "Python 3",
   "language": "python",
   "name": "python3"
  },
  "language_info": {
   "codemirror_mode": {
    "name": "ipython",
    "version": 3
   },
   "file_extension": ".py",
   "mimetype": "text/x-python",
   "name": "python",
   "nbconvert_exporter": "python",
   "pygments_lexer": "ipython3",
   "version": "3.7.4"
  }
 },
 "nbformat": 4,
 "nbformat_minor": 4
}
