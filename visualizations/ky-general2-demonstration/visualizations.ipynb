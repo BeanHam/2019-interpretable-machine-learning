{
 "cells": [
  {
   "cell_type": "code",
   "execution_count": 1,
   "metadata": {},
   "outputs": [
    {
     "name": "stdout",
     "output_type": "stream",
     "text": [
      "Current working directory is now:  C:\\Users\\binha\\Documents\\Duke\\Cynthia Research\\psa-analysis - test2\n"
     ]
    },
    {
     "name": "stderr",
     "output_type": "stream",
     "text": [
      "C:\\Users\\binha\\Anaconda3\\lib\\site-packages\\sklearn\\externals\\six.py:31: DeprecationWarning:\n",
      "\n",
      "The module is deprecated in version 0.21 and will be removed in version 0.23 since we've dropped support for Python 2.7. Please rely on the official version of six (https://pypi.org/project/six/).\n",
      "\n"
     ]
    }
   ],
   "source": [
    "import os \n",
    "os.chdir('../../../')\n",
    "print(\"Current working directory is now: \", os.getcwd())\n",
    "\n",
    "import pandas as pd \n",
    "import numpy as np\n",
    "import csv\n",
    "import utils.RiskSLIM as slim\n",
    "import utils.stumps as stumps\n",
    "#import utils.Corel as Corel\n",
    "from sklearn.linear_model import LogisticRegression\n",
    "from interpret.glassbox import ExplainableBoostingClassifier\n",
    "from interpret import show\n",
    "import corels"
   ]
  },
  {
   "cell_type": "markdown",
   "metadata": {},
   "source": [
    "## EBM"
   ]
  },
  {
   "cell_type": "code",
   "execution_count": 6,
   "metadata": {},
   "outputs": [],
   "source": [
    "### load data\n",
    "train_data = pd.read_csv(\"~/Documents/Duke/Cynthia Research/KY-analysis-mytrials/KY Recidivism/KY data/kentucky_train.csv\")\n",
    "train_data = train_data.drop(['screening_date', 'person_id', 'race', 'fta_risk_score_raw','nca_risk_score_raw','pvf_risk_score_raw', 'fta_calc', 'nca_calc', 'pvf_calc'], axis=1)\n",
    "test_data = pd.read_csv(\"~/Documents/Duke/Cynthia Research/KY-analysis-mytrials/KY Recidivism/KY data/kentucky_train.csv\")\n",
    "test_data = test_data.drop(['screening_date', 'person_id', 'race', 'fta_risk_score_raw','nca_risk_score_raw','pvf_risk_score_raw', 'fta_calc', 'nca_calc', 'pvf_calc'], axis=1)\n",
    "\n",
    "## split x and y\n",
    "train_x = train_data.loc[:,:'current_violence']\n",
    "test_x = test_data.loc[:, :'current_violence']\n",
    "train_y = train_data['recid_two_year'].values\n",
    "test_y = test_data['recid_two_year'].values\n",
    "cols = train_x.columns"
   ]
  },
  {
   "cell_type": "code",
   "execution_count": 7,
   "metadata": {},
   "outputs": [],
   "source": [
    "ebm = ExplainableBoostingClassifier(feature_names=cols,\n",
    "                                    n_estimators=40, \n",
    "                                    max_tree_splits=2, \n",
    "                                    learning_rate=0.5,\n",
    "                                    random_state=816).fit(train_x, train_y)"
   ]
  },
  {
   "cell_type": "code",
   "execution_count": 8,
   "metadata": {},
   "outputs": [
    {
     "data": {
      "text/html": [
       "\n",
       "            <iframe src=\"http://127.0.0.1:7001/2082239680392/\" width=100% height=800 frameBorder=\"0\"></iframe>\n",
       "        "
      ]
     },
     "metadata": {},
     "output_type": "display_data"
    }
   ],
   "source": [
    "ebm_global = ebm.explain_global()\n",
    "show(ebm_global)"
   ]
  },
  {
   "cell_type": "markdown",
   "metadata": {},
   "source": [
    "## Lasso Stumps"
   ]
  },
  {
   "cell_type": "code",
   "execution_count": 2,
   "metadata": {},
   "outputs": [],
   "source": [
    "## load train & test data\n",
    "train_stumps = pd.read_csv(\"~/Documents/Duke/Cynthia Research/KY-analysis-mytrials/KY Recidivism/KY data/kentucky_train_stumps.csv\")\n",
    "test_stumps = pd.read_csv(\"~/Documents/Duke/Cynthia Research/KY-analysis-mytrials/KY Recidivism/KY data/kentucky_test_stumps.csv\")\n",
    "\n",
    "## split x and y\n",
    "X_train_stumps, Y_train_stumps = train_stumps.loc[:,:'current_violence>=1'], train_stumps['recid_two_year'].values\n",
    "X_test_stumps, Y_test_stumps = test_stumps.loc[:,:'current_violence>=1'], test_stumps['recid_two_year'].values\n",
    "Y_train_stumps[Y_train_stumps == -1] = 0\n",
    "Y_test_stumps[Y_test_stumps == -1] = 0\n",
    "cols = X_train_stumps.columns[3:]"
   ]
  },
  {
   "cell_type": "code",
   "execution_count": 3,
   "metadata": {},
   "outputs": [],
   "source": [
    "best_stump_model = stumps.stump_model(X_train_stumps, \n",
    "                                      Y_train_stumps, \n",
    "                                      X_test_stumps, \n",
    "                                      Y_test_stumps, \n",
    "                                      c=0.003, \n",
    "                                      columns=cols, \n",
    "                                      seed=816)"
   ]
  },
  {
   "cell_type": "code",
   "execution_count": 4,
   "metadata": {},
   "outputs": [
    {
     "name": "stdout",
     "output_type": "stream",
     "text": [
      "\begin{tabular}{|l|r|r|} \\hline\n",
      "1. sex>=1 & 2.3 & +... \\ \\hline\n",
      "2. age_at_current_charge<=38 & 7.8 & +... \\ \\hline\n",
      "3. p_arrest>=1 & 36.2 & -... \\ \\hline\n",
      "4. p_arrest>=2 & 59.6 & +... \\ \\hline\n",
      "5. p_arrest>=3 & 39.8 & +... \\ \\hline\n",
      "6. p_arrest>=4 & 25.1 & +... \\ \\hline\n",
      "7. p_arrest>=5 & 16.8 & +... \\ \\hline\n",
      "8. p_charges>=1 & 17.1 & -... \\ \\hline\n",
      "9. p_charges>=2 & 1.4 & +... \\ \\hline\n",
      "10. p_violence>=1 & 16.4 & +... \\ \\hline\n",
      "11. p_felony>=1 & 12.9 & +... \\ \\hline\n",
      "12. p_stealing>=1 & 3.3 & -... \\ \\hline\n",
      "13. ADE>=1 & 4.0 & -... \\ \\hline\n",
      "14. p_jail30>=1 & 20.8 & +... \\ \\hline\n",
      "15. p_pending_charge>=1 & 44.7 & +... \\ \\hline\n",
      "16. p_probation>=1 & 24.3 & +... \\ \\hline\n",
      "17. one_year>=1 & 3.2 & +... \\ \\hline\n",
      "18. Intercept & -0.268 & +... \\ \\hline\n",
      "\textbf{ADD POINTS FROM ROWS 1 TO 18}  &  \textbf{SCORE} & = ..... \\ \\hline\n",
      "\\multicolumn{3}{l}{Pr(Y = 1) = exp(score/100) / (1 + exp(score/100))} \\ \\hline\n"
     ]
    }
   ],
   "source": [
    "stumps.latex_stump_table(best_stump_model['coefs'], \n",
    "                         best_stump_model['features'], \n",
    "                         best_stump_model['intercept'], \n",
    "                         best_stump_model['dictionary'])"
   ]
  },
  {
   "cell_type": "code",
   "execution_count": 5,
   "metadata": {
    "scrolled": true
   },
   "outputs": [
    {
     "data": {
      "image/png": "[encoded data removed]",
      "text/plain": [
       "<Figure size 288x216 with 1 Axes>"
      ]
     },
     "metadata": {
      "needs_background": "light"
     },
     "output_type": "display_data"
    },
    {
     "data": {
      "image/png": "[encoded data removed]",
      "text/plain": [
       "<Figure size 288x216 with 1 Axes>"
      ]
     },
     "metadata": {
      "needs_background": "light"
     },
     "output_type": "display_data"
    },
    {
     "data": {
      "image/png": "[encoded data removed]",
      "text/plain": [
       "<Figure size 288x216 with 1 Axes>"
      ]
     },
     "metadata": {
      "needs_background": "light"
     },
     "output_type": "display_data"
    },
    {
     "data": {
      "image/png": "[encoded data removed]",
      "text/plain": [
       "<Figure size 288x216 with 1 Axes>"
      ]
     },
     "metadata": {
      "needs_background": "light"
     },
     "output_type": "display_data"
    },
    {
     "data": {
      "image/png": "[encoded data removed]",
      "text/plain": [
       "<Figure size 288x216 with 1 Axes>"
      ]
     },
     "metadata": {
      "needs_background": "light"
     },
     "output_type": "display_data"
    },
    {
     "data": {
      "image/png": "[encoded data removed]",
      "text/plain": [
       "<Figure size 288x216 with 1 Axes>"
      ]
     },
     "metadata": {
      "needs_background": "light"
     },
     "output_type": "display_data"
    },
    {
     "data": {
      "image/png": "[encoded data removed]",
      "text/plain": [
       "<Figure size 288x216 with 1 Axes>"
      ]
     },
     "metadata": {
      "needs_background": "light"
     },
     "output_type": "display_data"
    },
    {
     "data": {
      "image/png": "[encoded data removed]",
      "text/plain": [
       "<Figure size 288x216 with 1 Axes>"
      ]
     },
     "metadata": {
      "needs_background": "light"
     },
     "output_type": "display_data"
    },
    {
     "data": {
      "image/png": "[encoded data removed]",
      "text/plain": [
       "<Figure size 288x216 with 1 Axes>"
      ]
     },
     "metadata": {
      "needs_background": "light"
     },
     "output_type": "display_data"
    },
    {
     "data": {
      "image/png": "[encoded data removed]",
      "text/plain": [
       "<Figure size 288x216 with 1 Axes>"
      ]
     },
     "metadata": {
      "needs_background": "light"
     },
     "output_type": "display_data"
    },
    {
     "data": {
      "image/png": "[encoded data removed]",
      "text/plain": [
       "<Figure size 288x216 with 1 Axes>"
      ]
     },
     "metadata": {
      "needs_background": "light"
     },
     "output_type": "display_data"
    },
    {
     "data": {
      "image/png": "[encoded data removed]",
      "text/plain": [
       "<Figure size 288x216 with 1 Axes>"
      ]
     },
     "metadata": {
      "needs_background": "light"
     },
     "output_type": "display_data"
    }
   ],
   "source": [
    "stumps.stump_plots(best_stump_model['features'], best_stump_model['coefs'], indicator=\"KY\")"
   ]
  },
  {
   "cell_type": "markdown",
   "metadata": {},
   "source": [
    "## RiskSLIM"
   ]
  },
  {
   "cell_type": "code",
   "execution_count": 6,
   "metadata": {},
   "outputs": [],
   "source": [
    "## load stumps data\n",
    "train_data = pd.read_csv(\"~/Documents/Duke/Cynthia Research/KY-analysis-mytrials/KY Recidivism/KY data/kentucky_train_stumps.csv\")\n",
    "test_data = pd.read_csv(\"~/Documents/Duke/Cynthia Research/KY-analysis-mytrials/KY Recidivism/KY data/kentucky_test_stumps.csv\")\n",
    "\n",
    "## drop features\n",
    "train_data = train_data.drop(['person_id', 'screening_date', 'race'], axis=1)\n",
    "test_data = test_data.drop(['person_id', 'screening_date', 'race'], axis=1)\n",
    "\n",
    "## split x & y\n",
    "train_x, train_y = train_data.loc[:,:'current_violence>=1'], train_data['recid_two_year'].values\n",
    "test_x, test_y = test_data.loc[:,:'current_violence>=1'], test_data['recid_two_year'].values\n",
    "cols = train_x.columns"
   ]
  },
  {
   "cell_type": "code",
   "execution_count": 7,
   "metadata": {},
   "outputs": [
    {
     "data": {
      "text/plain": [
       "33"
      ]
     },
     "execution_count": 7,
     "metadata": {},
     "output_type": "execute_result"
    }
   ],
   "source": [
    "## train on best param chosen by Lasso Stumps from above\n",
    "lasso = LogisticRegression(class_weight='balanced', solver='liblinear', penalty='l1', C=0.009, random_state=816).fit(train_x, train_y)\n",
    "selected_features = cols[lasso.coef_[0] != 0].tolist()\n",
    "len(selected_features)"
   ]
  },
  {
   "cell_type": "code",
   "execution_count": 9,
   "metadata": {},
   "outputs": [],
   "source": [
    "sub_X = train_data[selected_features]\n",
    "sub_X.insert(0, '(Intercept)', 1)\n",
    "cols = sub_X.columns.tolist()\n",
    "sub_X = sub_X.values\n",
    "sub_Y = train_y.copy().reshape(-1,1)\n",
    "sample_weights = np.repeat(1, len(sub_Y))\n",
    "\n",
    "## create new data dictionary\n",
    "new_train_data = {\n",
    "    'X': sub_X,\n",
    "    'Y': sub_Y,\n",
    "    'variable_names': cols,\n",
    "    'outcome_name': \"ky_general2\",\n",
    "    'sample_weights': sample_weights\n",
    "}"
   ]
  },
  {
   "cell_type": "code",
   "execution_count": 10,
   "metadata": {
    "scrolled": true
   },
   "outputs": [
    {
     "name": "stdout",
     "output_type": "stream",
     "text": [
      "setting c0 = 0.0 to ensure that intercept is not penalized\n",
      "10/02/19 @ 04:05 PM | 761 rows in lookup table\n",
      "10/02/19 @ 04:05 PM | ------------------------------------------------------------\n",
      "10/02/19 @ 04:05 PM | runnning initialization procedure\n",
      "10/02/19 @ 04:05 PM | ------------------------------------------------------------\n",
      "10/02/19 @ 04:05 PM | CPA produced 2 cuts\n",
      "10/02/19 @ 04:05 PM | running naive rounding on 12 solutions\n",
      "10/02/19 @ 04:05 PM | best objective value: 0.5915\n",
      "10/02/19 @ 04:05 PM | rounding produced 5 integer solutions\n",
      "10/02/19 @ 04:05 PM | best objective value is 0.6047\n",
      "10/02/19 @ 04:05 PM | running sequential rounding on 12 solutions\n",
      "10/02/19 @ 04:05 PM | best objective value: 0.5915\n",
      "10/02/19 @ 04:05 PM | sequential rounding produced 2 integer solutions\n",
      "10/02/19 @ 04:05 PM | best objective value: 0.6047\n",
      "10/02/19 @ 04:05 PM | polishing 7 solutions\n",
      "10/02/19 @ 04:05 PM | best objective value: 0.6047\n",
      "10/02/19 @ 04:05 PM | polishing produced 5 integer solutions\n",
      "10/02/19 @ 04:05 PM | initialization produced 9 feasible solutions\n",
      "10/02/19 @ 04:05 PM | best objective value: 0.6000\n",
      "10/02/19 @ 04:05 PM | ------------------------------------------------------------\n",
      "10/02/19 @ 04:05 PM | completed initialization procedure\n",
      "10/02/19 @ 04:05 PM | ------------------------------------------------------------\n",
      "10/02/19 @ 04:05 PM | 761 rows in lookup table\n",
      "CPXPARAM_Read_DataCheck                          1\n",
      "CPXPARAM_Threads                                 1\n",
      "CPXPARAM_Parallel                                1\n",
      "CPXPARAM_RandomSeed                              0\n",
      "CPXPARAM_TimeLimit                               200\n",
      "CPXPARAM_MIP_Tolerances_LowerCutoff              0.57510586155489651\n",
      "CPXPARAM_MIP_Tolerances_UpperCutoff              0.60000590664509901\n"
     ]
    },
    {
     "name": "stderr",
     "output_type": "stream",
     "text": [
      "Warning: Control callbacks may disable some MIP features.\n"
     ]
    },
    {
     "name": "stdout",
     "output_type": "stream",
     "text": [
      "Lazy constraint(s) or lazy constraint callback is present.\n",
      "    Disabling dual reductions (CPX_PARAM_REDUCE) in presolve.\n",
      "    Disabling non-linear reductions (CPX_PARAM_PRELINEAR) in presolve.\n",
      "         Disabling repeat represolve because of lazy constraint/incumbent callback.\n",
      "10/02/19 @ 04:05 PM | adding 250 initial cuts\n",
      "1 of 1 MIP starts provided solutions.\n",
      "MIP start 'mip_start_0' defined initial solution with objective 0.6000.\n",
      "Tried aggregator 1 time.\n",
      "Reduced MIP has 35 rows, 70 columns, and 135 nonzeros.\n",
      "Reduced MIP has 33 binaries, 35 generals, 0 SOSs, and 0 indicators.\n",
      "Presolve time = 0.00 sec. (0.08 ticks)\n",
      "Probing time = 0.00 sec. (0.02 ticks)\n",
      "MIP emphasis: balance optimality and feasibility.\n",
      "MIP search method: traditional branch-and-cut.\n",
      "Parallel mode: none, using 1 thread.\n",
      "Root relaxation solution time = 0.00 sec. (0.04 ticks)\n",
      "\n",
      "        Nodes                                         Cuts/\n",
      "   Node  Left     Objective  IInf  Best Integer    Best Bound    ItCnt     Gap         Variable B NodeID Parent  Depth\n",
      "\n",
      "*     0+    0                            0.6000        0.5751             4.15%\n",
      "      0     0        0.5751     1        0.6000        0.5751        1    4.15%\n",
      "      0     0        0.5751     1        0.6000      Fract: 1        2    4.15%\n",
      "      0     0        0.5751     1        0.6000       Cuts: 3        4    4.15%\n",
      "      0     0        0.5751     2        0.6000    MIRcuts: 1        5    4.15%\n",
      "      0     2        0.5751     5        0.6000        0.5751        5    4.15%                        0             0\n",
      "Elapsed time = 0.16 sec. (2.66 ticks, tree = 0.01 MB, solutions = 1)\n",
      "*   559   299      integral     0        0.5952        0.5751     2096    3.37%\n",
      "   2172   994        0.5751     4        0.5952        0.5751     8283    3.37%          rho_10 U   2172   2131     33\n",
      "*  3470+ 1432                            0.5948        0.5751             3.31%\n",
      "   3649  1495        0.5899     9        0.5948        0.5751    14040    3.31%          rho_16 D   3649   3647     27\n",
      "   4976  2005        0.5751    13        0.5948        0.5751    19136    3.31%          rho_15 D   4976   4975     28\n",
      "   6217  2419        cutoff              0.5948        0.5751    23943    3.31%           rho_0 U   6217   6216     22\n",
      "*  6396  2496      integral     0        0.5945        0.5751    24808    3.26%\n",
      "   7232  2802        cutoff              0.5945        0.5751    28783    3.26%          rho_17 D   7232   7231     32\n",
      "   8293  3145        cutoff              0.5945        0.5751    32732    3.26%          rho_13 U   8293   8291     16\n",
      "   9190  3391        0.5752    10        0.5945        0.5751    36844    3.26%          rho_27 D   9190   9189     27\n",
      "  10085  3590        0.5798    17        0.5945        0.5751    40805    3.26%           rho_8 U  10085   3574     14\n",
      "  10930  3811        0.5751    10        0.5945        0.5751    44775    3.26%           rho_6 D  10930  10929     28\n",
      "  14787  5186        0.5770    12        0.5945        0.5751    61195    3.26%           rho_0 D  14787  14785     27\n",
      "Elapsed time = 3.50 sec. (3105.55 ticks, tree = 1.56 MB, solutions = 4)\n",
      "  18401  6151        0.5907     3        0.5945        0.5751    76598    3.26%        alpha_21 D  18401  18400     35\n",
      "  21850  7064        0.5905     8        0.5945        0.5751    91820    3.26%          rho_27 D  21850  21849     37\n",
      "  25067  8716        0.5751     8        0.5945        0.5751   106938    3.26%           rho_0 D  25067  25065     43\n",
      "  28375  9732        cutoff              0.5945        0.5751   122167    3.26%          rho_14 U  28375  28373     36\n",
      "  31762 10540        0.5876     8        0.5945        0.5751   135831    3.26%           rho_2 D  31762  31761     29\n",
      "  34706 11470        0.5762    14        0.5945        0.5751   151138    3.26%          rho_14 D  34706  34703     36\n",
      "  37648 12387        0.5837    15        0.5945        0.5751   166450    3.26%           rho_5 D  37648  37646     32\n",
      "  40466 13286        0.5751     9        0.5945        0.5751   180825    3.26%          rho_10 U  40466  40442     24\n",
      "  43618 14324        0.5898     8        0.5945        0.5751   194781    3.26%          rho_22 D  43618  43617     29\n",
      "  46370 15087        0.5893     9        0.5945        0.5751   208792    3.26%          rho_16 D  46370  46369     35\n",
      "Elapsed time = 9.75 sec. (12644.04 ticks, tree = 4.54 MB, solutions = 4)\n",
      "  49142 16325        0.5752    13        0.5945        0.5751   224105    3.26%           rho_6 D  49142  49141     24\n",
      "  51734 17253        0.5844    14        0.5945        0.5751   238596    3.26%          rho_29 D  51734  51732     53\n",
      "  54571 18167        0.5852    21        0.5945        0.5751   251332    3.26%           rho_5 D  54571  54569     30\n",
      "  57148 19102        0.5751    15        0.5945        0.5751   264767    3.26%           rho_6 D  57148  57147     36\n",
      "  59978 20149        0.5772    20        0.5945        0.5751   277166    3.26%          rho_18 D  59978  59977     45\n",
      "  62645 21287        0.5751     9        0.5945        0.5751   291282    3.26%           rho_0 D  62645  62643     34\n",
      "* 65000+22128                            0.5945        0.5751             3.26%\n",
      "  65133 22170        0.5905     7        0.5945        0.5751   304953    3.26%          rho_26 D  65133  65132     30\n",
      "  67694 23275        0.5935     5        0.5945        0.5751   319958    3.26%          rho_14 D  67694  67692     41\n",
      "  70160 24188        0.5751    21        0.5945        0.5751   334130    3.26%           rho_8 D  70160  70159     22\n",
      "  72505 24737        0.5893    11        0.5945        0.5751   346800    3.26%           rho_0 U  72505  72504     45\n",
      "Elapsed time = 15.14 sec. (22182.75 ticks, tree = 7.88 MB, solutions = 5)\n",
      "* 74000+25429                            0.5945        0.5751             3.26%\n",
      "  74814 25775        0.5774    18        0.5945        0.5751   361792    3.26%          rho_22 D  74814  74813     51\n",
      "  77160 26653        0.5805    12        0.5945        0.5751   376090    3.26%           rho_5 D  77160  77158     34\n",
      "  79783 27509        0.5779     2        0.5945        0.5751   389502    3.26%          rho_17 U  79783  79781     40\n",
      "  82171 27939        0.5901    13        0.5945        0.5751   402273    3.26%          rho_15 D  82171  82169     34\n",
      "  84576 28349        0.5796    13        0.5945        0.5751   414665    3.26%          rho_21 U  84576  65527     19\n",
      "  87045 29085        0.5767    18        0.5945        0.5751   427907    3.26%          rho_17 D  87045  87044     41\n",
      "  89330 29869        0.5751     8        0.5945        0.5751   441156    3.26%          rho_10 U  89330  89299     30\n",
      "  91619 30632        0.5796    16        0.5945        0.5751   454811    3.26%           rho_4 D  91619  91618     40\n",
      "  93848 31414        0.5935     5        0.5945        0.5751   467906    3.26%          rho_14 D  93848  93846     39\n",
      "  95831 32350        0.5785    26        0.5945        0.5751   484435    3.26%           rho_5 D  95831  95830     45\n",
      "Elapsed time = 20.45 sec. (31722.00 ticks, tree = 10.01 MB, solutions = 6)\n",
      "  97810 33266        cutoff              0.5945        0.5751   501104    3.26%          rho_14 U  97810  97809     58\n",
      "  99951 33719        0.5908     8        0.5945        0.5751   514479    3.26%           rho_3 D  99951  99950     38\n",
      " 102227 34338        0.5920     7        0.5945        0.5751   527814    3.26%          rho_27 D 102227 102225     48\n",
      " 104424 34984        0.5751    16        0.5945        0.5751   541019    3.26%          rho_17 U 104424 104423     19\n",
      " 106690 35592        0.5751    14        0.5945        0.5751   553918    3.26%           rho_6 D 106690 106689     25\n",
      " 108805 36207        0.5879    12        0.5945        0.5751   566962    3.26%           rho_2 D 108805 108803     32\n",
      " 110989 36656        cutoff              0.5945        0.5751   579708    3.26%           rho_0 U 110989 110988     37\n",
      " 113137 37385        cutoff              0.5945        0.5751   592475    3.26%          rho_14 U 113137 113136     26\n",
      " 115304 37981        0.5771     1        0.5945        0.5751   604892    3.26%          rho_17 U 115304 115302     48\n"
     ]
    },
    {
     "name": "stdout",
     "output_type": "stream",
     "text": [
      " 117395 38528        0.5784    18        0.5945        0.5751   617599    3.26%           rho_4 D 117395 117394     29\n",
      "Elapsed time = 25.77 sec. (41259.76 ticks, tree = 13.16 MB, solutions = 6)\n",
      " 119535 39186        0.5761    22        0.5945        0.5751   630950    3.26%          rho_21 D 119535 119534     26\n",
      " 121575 39816        0.5751    10        0.5945        0.5751   644314    3.26%          rho_17 U 121575 121574     31\n",
      " 123752 40996        0.5860    15        0.5945        0.5751   659559    3.26%           rho_2 D 123752 123751     30\n",
      " 125588 41499        0.5782    15        0.5945        0.5751   672738    3.26%          rho_17 D 125588 125586     22\n",
      " 127483 41877        0.5908     1        0.5945        0.5751   684538    3.26%          rho_17 U 127483 127481     26\n",
      " 129700 42716        0.5813    19        0.5945        0.5751   697801    3.26%           rho_5 D 129700 129699     28\n",
      " 131599 43369        0.5751    14        0.5945        0.5751   711578    3.26%           rho_0 D 131599 131570     37\n",
      " 133524 43792        0.5871    11        0.5945        0.5751   724854    3.26%           rho_8 D 133524 133522     54\n",
      " 135652 44331        0.5751    20        0.5945        0.5751   736980    3.26%           rho_6 D 135652 135651     36\n",
      " 137288 44807        0.5845    16        0.5945        0.5751   750352    3.26%           rho_0 U 137288 137287     27\n",
      "Elapsed time = 31.09 sec. (50800.19 ticks, tree = 14.96 MB, solutions = 6)\n",
      " 138914 45201        0.5901    24        0.5945        0.5751   762856    3.26%          rho_18 D 138914 138913     55\n",
      " 140485 45638        cutoff              0.5945        0.5751   775751    3.26%          rho_16 U 140485   5219     36\n",
      " 142150 46156        0.5751    14        0.5945        0.5751   788439    3.26%          rho_17 U 142150 142142     21\n",
      " 143793 46625        0.5864    14        0.5945        0.5751   801112    3.26%           rho_0 U 143793 143792     34\n",
      " 145560 46877        0.5816    19        0.5945        0.5751   814554    3.26%          rho_21 D 145560 145559     30\n",
      " 147442 47483        0.5894    11        0.5945        0.5751   827223    3.26%          rho_15 D 147442 147441     42\n",
      " 149230 48080        0.5914     8        0.5945        0.5751   840360    3.26%          rho_14 D 149230 149228     39\n",
      " 150919 48699        0.5751    15        0.5945        0.5751   854468    3.26%           rho_0 D 150919 150824     46\n",
      " 152593 49295        cutoff              0.5945        0.5751   868472    3.26%           rho_8 U 152593 133507     51\n",
      " 154465 49876        0.5828    15        0.5945        0.5751   881435    3.26%           rho_0 U 154465 154464     37\n",
      "Elapsed time = 36.74 sec. (60342.33 ticks, tree = 16.41 MB, solutions = 6)\n",
      " 156140 50384        0.5846    16        0.5945        0.5751   895099    3.26%           rho_0 U 156140 156139     28\n",
      " 158005 50815        0.5837    12        0.5945        0.5751   907191    3.26%          rho_15 D 158005 158003     32\n",
      " 160071 51237        cutoff              0.5945        0.5751   919625    3.26%          rho_13 U 160071  12379     36\n",
      " 161955 51872        0.5767    20        0.5945        0.5751   933203    3.26%          rho_24 D 161955 161954     57\n",
      " 163782 52349        cutoff              0.5945        0.5751   947054    3.26%           rho_6 U 163782 163781     26\n",
      " 165640 52882        cutoff              0.5945        0.5751   961010    3.26%           rho_6 U 165640  87534     31\n",
      " 167511 53252        0.5751    14        0.5945        0.5751   973814    3.26%           rho_0 D 167511 167509     48\n",
      " 169291 53871        0.5908     9        0.5945        0.5751   987701    3.26%           rho_4 D 169291 169289     58\n",
      " 171070 54639        0.5751    14        0.5945        0.5751  1000742    3.26%          rho_17 U 171070 171068     26\n",
      " 172820 55226        0.5894    11        0.5945        0.5751  1013640    3.26%          rho_15 D 172820 172819     42\n",
      "Elapsed time = 42.19 sec. (69886.32 ticks, tree = 17.95 MB, solutions = 6)\n",
      " 174636 55652        0.5837    27        0.5945        0.5751  1025888    3.26%          rho_19 U 174636  34817     20\n",
      " 176456 56172        0.5761    25        0.5945        0.5751  1038693    3.26%          rho_17 D 176456 176455     27\n",
      " 178283 56690        0.5839    19        0.5945        0.5751  1052101    3.26%          rho_19 D 178283 178282     23\n",
      " 180246 57251        cutoff              0.5945        0.5751  1064308    3.26%          rho_22 D 180246 180244     42\n",
      " 182113 57930        0.5751    17        0.5945        0.5751  1077457    3.26%           rho_0 D 182113  99075     19\n",
      " 183975 58499        0.5862    16        0.5945        0.5751  1090110    3.26%          rho_18 D 183975 183974     35\n",
      " 185687 58957        0.5816    16        0.5945        0.5751  1103016    3.26%          rho_21 U 185687  46736     43\n",
      " 187410 59448        0.5861    16        0.5945        0.5751  1116118    3.26%          rho_27 D 187410 187408     48\n",
      " 189191 60092        0.5839    19        0.5945        0.5751  1129172    3.26%           rho_5 D 189191 189190     48\n",
      " 190947 60564        cutoff              0.5945        0.5751  1142584    3.26%          rho_18 U 190947  78198     16\n",
      "Elapsed time = 47.34 sec. (79430.78 ticks, tree = 19.49 MB, solutions = 6)\n",
      " 192715 61143        0.5853    16        0.5945        0.5751  1156381    3.26%           rho_0 U 192715 192714     44\n",
      " 194415 61654        0.5893    10        0.5945        0.5751  1171582    3.26%           rho_5 U 194415  37231     40\n",
      " 196206 62203        0.5751    17        0.5945        0.5751  1184766    3.26%           rho_0 D 196206 196167     20\n",
      " 198187 62911        0.5851    16        0.5945        0.5751  1197712    3.26%           rho_1 D 198187 198185     28\n",
      " 200218 63411        0.5822    25        0.5945        0.5751  1209081    3.26%           rho_1 D 200218 200217     10\n",
      " 202177 63974        0.5813    15        0.5945        0.5751  1221559    3.26%          rho_12 U 202177 202176     19\n",
      " 203987 64416        0.5861    16        0.5945        0.5751  1233633    3.26%          rho_27 D 203987 203985     55\n",
      " 205799 64969        0.5751    14        0.5945        0.5751  1245879    3.26%           rho_0 D 205799 205796     31\n",
      " 207677 65588        0.5751    19        0.5945        0.5751  1257773    3.26%           rho_0 D 207677 207661     20\n",
      " 214593 67277        0.5843    20        0.5945        0.5751  1310549    3.26%           rho_7 D 214593 214591     27\n",
      "Elapsed time = 53.83 sec. (91833.21 ticks, tree = 24.25 MB, solutions = 6)\n",
      " 221587 69359        0.5934     6        0.5945        0.5751  1361888    3.26%          rho_23 U 221587 221586     44\n",
      " 228690 71885        cutoff              0.5945        0.5751  1413803    3.26%          rho_15 U 228690 228689     34\n",
      " 235542 73507        cutoff              0.5945        0.5751  1464815    3.26%          rho_25 D 235542 235540     48\n",
      " 242360 75690        0.5843    16        0.5945        0.5751  1518938    3.26%           rho_6 D 242360 242359     28\n",
      " 248960 78003        0.5886    15        0.5945        0.5751  1571157    3.26%          rho_18 D 248960 248958     27\n",
      " 255781 80175        0.5888    24        0.5945        0.5751  1624119    3.26%           rho_6 D 255781 255780     28\n",
      " 261834 82357        0.5931    10        0.5945        0.5751  1679109    3.26%          rho_17 U 261834 261813     43\n",
      "*268102 83998      integral     0        0.5940        0.5751  1728493    3.18%\n",
      " 268502 84178        0.5887    19        0.5940        0.5751  1731736    3.18%          rho_16 D 268502 268500     44\n",
      " 275063 86505        0.5899     6        0.5940        0.5751  1786065    3.18%          rho_29 D 275063 275062     43\n",
      " 281970 88751        0.5906    15        0.5940        0.5751  1836681    3.18%          rho_27 D 281970 281968     53\n",
      "Elapsed time = 73.89 sec. (129983.78 ticks, tree = 30.46 MB, solutions = 7)\n",
      " 289149 92174        0.5790    20        0.5940        0.5751  1889225    3.18%           rho_8 D 289149 289147     52\n",
      " 294800 94390        0.5900    15        0.5940        0.5751  1944931    3.18%           rho_7 D 294800 294798     47\n"
     ]
    },
    {
     "name": "stdout",
     "output_type": "stream",
     "text": [
      " 301425 96592        0.5751    22        0.5940        0.5751  1992139    3.18%          rho_17 U 301425 301412     26\n",
      " 308198 98431        0.5751    23        0.5940        0.5751  2040045    3.18%          rho_13 D 308198 290198     24\n",
      " 315670 100982        0.5869    15        0.5940        0.5752  2084124    3.16%          rho_15 D 315670 315668     55\n",
      " 323740 104197        cutoff              0.5940        0.5753  2129985    3.15%          rho_23 U 323740 323738     55\n",
      " 331550 106759        0.5909    12        0.5940        0.5754  2176158    3.14%          rho_22 N 331550 331548     34\n",
      " 339295 109344        cutoff              0.5940        0.5754  2218535    3.13%           rho_6 U 339295 339294     45\n",
      " 347135 111698        cutoff              0.5940        0.5755  2263215    3.12%           rho_6 U 347135 347134     36\n",
      " 355103 114184        0.5857    18        0.5940        0.5755  2305715    3.11%          rho_14 D 355103 355101     52\n",
      "Elapsed time = 95.67 sec. (168137.42 ticks, tree = 37.85 MB, solutions = 7)\n",
      " 362886 117253        0.5885    19        0.5940        0.5756  2350685    3.11%          rho_18 D 362886 362885     40\n",
      " 370533 119237        0.5901    10        0.5940        0.5757  2392203    3.08%          rho_16 D 370533 370532     41\n",
      " 378177 121582        0.5763    18        0.5940        0.5757  2433281    3.08%          rho_13 D 378177 378175     38\n",
      " 386274 123747        0.5900    19        0.5940        0.5758  2472890    3.07%           rho_5 D 386274 386273     45\n",
      " 394211 125600        0.5865     1        0.5940        0.5759  2512290    3.05%           rho_0 D 394211 394209     39\n",
      " 401303 127918        0.5882     7        0.5940        0.5760  2555445    3.04%          rho_26 D 401303 401301     44\n",
      " 409412 130795        cutoff              0.5940        0.5760  2598012    3.03%           rho_7 U 409412 409411     24\n",
      " 417244 131898        0.5898    13        0.5940        0.5761  2635401    3.02%           rho_0 U 417244 417243     24\n",
      " 425561 134378        cutoff              0.5940        0.5761  2672945    3.01%          rho_14 U 425561 182575     44\n",
      " 433071 136171        0.5855    16        0.5940        0.5762  2714045    2.99%           rho_9 D 433071 433070     24\n",
      "Elapsed time = 115.19 sec. (206287.40 ticks, tree = 47.21 MB, solutions = 7)\n",
      " 439949 137196        cutoff              0.5940        0.5763  2754288    2.98%          rho_13 U 439949 439947     33\n",
      " 448040 140822        0.5764    19        0.5940        0.5764  2796968    2.97%          rho_10 U 448040 448009     35\n",
      " 455012 141549        0.5841    16        0.5940        0.5764  2837477    2.96%          rho_18 D 455012 455011     27\n",
      " 461487 142401        0.5770    34        0.5940        0.5765  2880814    2.95%          rho_17 D 461487 461486     15\n",
      " 468423 143689        0.5816    17        0.5940        0.5766  2921218    2.93%          rho_24 D 468423 468422     51\n",
      " 475591 144986        0.5889    10        0.5940        0.5767  2962014    2.92%          rho_29 D 475591 475589     43\n",
      " 482834 146480        0.5922    13        0.5940        0.5767  3003275    2.91%          rho_23 D 482834 482832     26\n",
      " 490360 147439        0.5832    21        0.5940        0.5769  3042546    2.89%          rho_17 D 490360 490358     23\n",
      " 497471 148965        0.5939    21        0.5940        0.5769  3085453    2.87%           rho_1 N 497471 497470     42\n",
      " 504487 150121        0.5938    23        0.5940        0.5771  3128364    2.85%           rho_0 D 504487 504486     24\n",
      "Elapsed time = 136.25 sec. (244437.02 ticks, tree = 51.30 MB, solutions = 7)\n",
      " 511469 151888        cutoff              0.5940        0.5771  3172857    2.84%          rho_18 U 511469 100781     28\n",
      " 518389 152795        0.5903    21        0.5940        0.5772  3212407    2.82%          rho_18 N 518389 518388     58\n",
      " 524246 153509        0.5859    24        0.5940        0.5773  3251380    2.81%          rho_18 D 524246 524245     25\n",
      " 530709 154446        0.5927    15        0.5940        0.5774  3291682    2.80%           rho_5 D 530709 530707     41\n",
      " 538022 155219        0.5837    17        0.5940        0.5776  3330553    2.77%          rho_18 U 538022 298250     28\n",
      " 545031 156194        0.5837    19        0.5940        0.5777  3370174    2.75%          rho_18 D 545031 545029     38\n",
      " 552365 157289        0.5898    11        0.5940        0.5778  3408892    2.73%          rho_29 D 552365 552363     62\n",
      " 559880 158376        0.5872    16        0.5940        0.5779  3447024    2.71%          rho_33 U 559880 559879     26\n",
      " 567620 160192        0.5822    18        0.5940        0.5779  3486152    2.71%           rho_6 D 567620 567619     45\n",
      " 574783 161588        cutoff              0.5940        0.5780  3526798    2.69%          rho_31 D 574783 574782     36\n",
      "Elapsed time = 155.63 sec. (282589.92 ticks, tree = 56.43 MB, solutions = 7)\n",
      " 581076 162919        cutoff              0.5940        0.5781  3563726    2.68%          rho_24 U 581076 581074     32\n",
      " 588300 163648        0.5882    16        0.5940        0.5782  3600333    2.67%          rho_14 U 588300 588299     21\n",
      " 595269 165173        0.5850    18        0.5940        0.5782  3640766    2.67%           rho_7 N 595269 595266     32\n",
      " 601407 165896        0.5848    21        0.5940        0.5783  3681346    2.65%          rho_24 U 601407 601406     36\n",
      " 607887 167161        0.5808    18        0.5940        0.5783  3724122    2.65%          rho_21 D 607887 607886     36\n",
      " 615295 168811        0.5886    15        0.5940        0.5784  3761694    2.64%          rho_16 D 615295 615293     28\n",
      " 622388 170099        0.5897    14        0.5940        0.5784  3799444    2.63%          rho_14 D 622388 622387     52\n",
      " 629015 170620        0.5893    19        0.5940        0.5785  3837361    2.62%          rho_12 D 629015 629013     22\n",
      " 636555 172647        0.5825    17        0.5940        0.5785  3873605    2.61%           rho_0 U 636555 636554     39\n",
      " 643696 174400        0.5867    22        0.5940        0.5785  3912732    2.61%           rho_7 D 643696 643694     47\n",
      "Elapsed time = 175.22 sec. (320740.07 ticks, tree = 60.24 MB, solutions = 7)\n",
      " 650492 175173        0.5903    14        0.5940        0.5786  3952264    2.59%           rho_7 D 650492 650490     36\n",
      " 657328 176113        0.5890    27        0.5940        0.5787  3990753    2.58%           rho_6 D 657328 657327     25\n",
      " 663690 176493        0.5918    16        0.5940        0.5788  4029304    2.56%          rho_21 D 663690 663688     37\n",
      " 670974 177638        0.5887    17        0.5940        0.5788  4064896    2.56%          rho_21 U 670974 670972     47\n",
      " 677272 177928        0.5888    15        0.5940        0.5789  4101781    2.55%          rho_15 D 677272 677271     38\n",
      " 684400 179051        0.5789    24        0.5940        0.5789  4137769    2.54%          rho_17 U 684400 684367     30\n",
      " 690986 179897        0.5879    23        0.5940        0.5790  4178340    2.53%           rho_9 D 690986 690984     37\n",
      " 697912 181852        0.5878     8        0.5940        0.5790  4214763    2.52%          rho_15 D 697912 697910     35\n",
      " 704517 182983        cutoff              0.5940        0.5791  4252985    2.51%           rho_0 D 704517 704516     44\n",
      " 711400 184467        0.5796    22        0.5940        0.5791  4290032    2.50%           rho_0 U 711400 711399     37\n",
      "Elapsed time = 193.77 sec. (358901.44 ticks, tree = 63.25 MB, solutions = 7)\n",
      " 717800 185677        0.5808    25        0.5940        0.5792  4330750    2.50%          rho_24 D 717800 717798     20\n",
      " 724239 186777        0.5850    15        0.5940        0.5793  4370000    2.48%          rho_13 U 724239 724238     29\n",
      " 730810 187312        0.5794    19        0.5940        0.5794  4407056    2.46%          rho_17 U 730810 730803     28\n",
      "\n",
      "Gomory fractional cuts applied:  1\n",
      "User cuts applied:  620\n",
      "\n",
      "Root node processing (before b&c):\n",
      "  Real time             =    0.14 sec. (2.73 ticks)\n",
      "Sequential b&c:\n",
      "  Real time             =  199.88 sec. (370942.02 ticks)\n",
      "                          ------------\n",
      "Total (root+branch&cut) =  200.02 sec. (370944.75 ticks)\n",
      "+----------------------------------------------+------------------+-----------+\n",
      "| Pr(Y = +1) = 1.0/(1.0 + exp(-(-7 + score))   |                  |           |\n",
      "| ============================================ | ================ | ========= |\n",
      "| p_arrest>=1                                  |         5 points |   + ..... |\n",
      "| age_at_current_charge<=47                    |         1 points |   + ..... |\n",
      "| p_arrest>=2                                  |         1 points |   + ..... |\n",
      "| p_arrest>=4                                  |         1 points |   + ..... |\n",
      "| p_arrest>=7                                  |         1 points |   + ..... |\n",
      "| ============================================ | ================ | ========= |\n",
      "| ADD POINTS FROM ROWS 1 to 5                  |            SCORE |   = ..... |\n",
      "+----------------------------------------------+------------------+-----------+\n"
     ]
    },
    {
     "data": {
      "text/plain": [
       "<prettytable.PrettyTable at 0x17c2c2dd108>"
      ]
     },
     "execution_count": 10,
     "metadata": {},
     "output_type": "execute_result"
    }
   ],
   "source": [
    "model_info, mip_info, lcpa_info = slim.risk_slim(new_train_data, \n",
    "                                                 max_coefficient=10, \n",
    "                                                 max_L0_value=5, \n",
    "                                                 c0_value=1e-6, \n",
    "                                                 max_runtime=200)\n",
    "slim.print_model(model_info['solution'], new_train_data)"
   ]
  },
  {
   "cell_type": "code",
   "execution_count": 83,
   "metadata": {},
   "outputs": [
    {
     "name": "stdout",
     "output_type": "stream",
     "text": [
      "+----------------------------------------------+------------------+-----------+\n",
      "| Pr(Y = +1) = 1.0/(1.0 + exp(-(-7 + score))   |                  |           |\n",
      "| ============================================ | ================ | ========= |\n",
      "| p_arrest>=1                                  |         5 points |   + ..... |\n",
      "| age_at_current_charge<=47                    |         1 points |   + ..... |\n",
      "| p_arrest>=2                                  |         1 points |   + ..... |\n",
      "| p_arrest>=4                                  |         1 points |   + ..... |\n",
      "| p_arrest>=7                                  |         1 points |   + ..... |\n",
      "| ============================================ | ================ | ========= |\n",
      "| ADD POINTS FROM ROWS 1 to 5                  |            SCORE |   = ..... |\n",
      "+----------------------------------------------+------------------+-----------+\n"
     ]
    },
    {
     "data": {
      "text/plain": [
       "<prettytable.PrettyTable at 0x1e4d8ae1548>"
      ]
     },
     "execution_count": 83,
     "metadata": {},
     "output_type": "execute_result"
    }
   ],
   "source": [
    "slim.print_model(model_info['solution'], new_train_data)"
   ]
  },
  {
   "cell_type": "markdown",
   "metadata": {},
   "source": [
    "## Corel"
   ]
  },
  {
   "cell_type": "code",
   "execution_count": 99,
   "metadata": {},
   "outputs": [],
   "source": [
    "## load stumps data\n",
    "train_data = pd.read_csv(\"~/Documents/Duke/Cynthia Research/KY-analysis-mytrials/KY Recidivism/KY data/kentucky_train_stumps.csv\")\n",
    "test_data = pd.read_csv(\"~/Documents/Duke/Cynthia Research/KY-analysis-mytrials/KY Recidivism/KY data/kentucky_test_stumps.csv\")\n",
    "\n",
    "## drop features\n",
    "train_data = train_data.drop(['person_id', 'screening_date', 'race'], axis=1)\n",
    "test_data = test_data.drop(['person_id', 'screening_date', 'race'], axis=1)\n",
    "\n",
    "## split x & y\n",
    "train_x, train_y = train_data.loc[:,:'current_violence>=1'], train_data['recid_two_year'].values\n",
    "test_x, test_y = test_data.loc[:,:'current_violence>=1'], test_data['recid_two_year'].values\n",
    "\n",
    "train_y[train_y == -1]=0\n",
    "test_y[test_y == -1]=0\n",
    "\n",
    "cols = train_x.columns.tolist()"
   ]
  },
  {
   "cell_type": "code",
   "execution_count": 101,
   "metadata": {},
   "outputs": [],
   "source": [
    "COREL = corels.CorelsClassifier(n_iter=10000, \n",
    "                                verbosity=[],\n",
    "                                c=1e-4).fit(train_x, train_y, features=cols)"
   ]
  },
  {
   "cell_type": "code",
   "execution_count": 102,
   "metadata": {},
   "outputs": [
    {
     "name": "stdout",
     "output_type": "stream",
     "text": [
      "RULELIST:\n",
      "if [age_at_current_charge<=61 && p_arrest>=3]:\n",
      "  prediction = True\n",
      "else \n",
      "  prediction = False\n"
     ]
    }
   ],
   "source": [
    "print(COREL.rl_)"
   ]
  }
 ],
 "metadata": {
  "kernelspec": {
   "display_name": "Python 3",
   "language": "python",
   "name": "python3"
  },
  "language_info": {
   "codemirror_mode": {
    "name": "ipython",
    "version": 3
   },
   "file_extension": ".py",
   "mimetype": "text/x-python",
   "name": "python",
   "nbconvert_exporter": "python",
   "pygments_lexer": "ipython3",
   "version": "3.7.4"
  }
 },
 "nbformat": 4,
 "nbformat_minor": 4
}
