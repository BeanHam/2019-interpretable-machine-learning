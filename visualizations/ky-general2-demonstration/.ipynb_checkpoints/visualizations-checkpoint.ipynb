{
 "cells": [
  {
   "cell_type": "code",
   "execution_count": 1,
   "metadata": {},
   "outputs": [
    {
     "name": "stdout",
     "output_type": "stream",
     "text": [
      "Current working directory is now:  C:\\Users\\binha\\Documents\\Duke\\Cynthia Research\\interpretable-machine-learning\n"
     ]
    },
    {
     "name": "stderr",
     "output_type": "stream",
     "text": [
      "C:\\Users\\binha\\Anaconda3\\lib\\site-packages\\sklearn\\externals\\six.py:31: DeprecationWarning:\n",
      "\n",
      "The module is deprecated in version 0.21 and will be removed in version 0.23 since we've dropped support for Python 2.7. Please rely on the official version of six (https://pypi.org/project/six/).\n",
      "\n"
     ]
    }
   ],
   "source": [
    "import os \n",
    "os.chdir('../../')\n",
    "print(\"Current working directory is now: \", os.getcwd())\n",
    "\n",
    "import pandas as pd \n",
    "import numpy as np\n",
    "import csv\n",
    "import utils.RiskSLIM as slim\n",
    "import utils.stumps as stumps\n",
    "from sklearn.linear_model import LogisticRegression\n",
    "from interpret.glassbox import ExplainableBoostingClassifier\n",
    "from interpret import show\n",
    "from pprint import pprint\n",
    "from riskslim.helper_functions import load_data_from_csv, print_model"
   ]
  },
  {
   "cell_type": "markdown",
   "metadata": {},
   "source": [
    "### EBM"
   ]
  },
  {
   "cell_type": "code",
   "execution_count": 17,
   "metadata": {},
   "outputs": [],
   "source": [
    "train_data = pd.read_csv(\"~/Documents/Duke/Cynthia Research/data/ky-data/kentucky_train.csv\").sort_values('person_id')\n",
    "train_data = train_data.drop(['person_id', 'screening_date'], axis=1)\n",
    "train_x = train_data.loc[:, :'current_violence20']\n",
    "train_y = train_data['general_two_year']\n",
    "cols = train_x.columns"
   ]
  },
  {
   "cell_type": "code",
   "execution_count": 18,
   "metadata": {},
   "outputs": [],
   "source": [
    "ebm = ExplainableBoostingClassifier(feature_names=cols,\n",
    "                                    n_estimators=40, \n",
    "                                    max_tree_splits=2, \n",
    "                                    learning_rate=0.7,\n",
    "                                    random_state=816).fit(train_x, train_y)"
   ]
  },
  {
   "cell_type": "code",
   "execution_count": 19,
   "metadata": {},
   "outputs": [
    {
     "data": {
      "text/html": [
       "\n",
       "            <iframe src=\"http://127.0.0.1:7514/2156933107400/\" width=100% height=800 frameBorder=\"0\"></iframe>\n",
       "        "
      ]
     },
     "metadata": {},
     "output_type": "display_data"
    }
   ],
   "source": [
    "ebm_global = ebm.explain_global()\n",
    "show(ebm_global)"
   ]
  },
  {
   "cell_type": "markdown",
   "metadata": {},
   "source": [
    "### Additive Stumps"
   ]
  },
  {
   "cell_type": "code",
   "execution_count": 2,
   "metadata": {},
   "outputs": [],
   "source": [
    "## load train & test\n",
    "train_stumps = pd.read_csv(\"~/Documents/Duke/Cynthia Research/data/ky-data/kentucky_train_stumps.csv\").sort_values('person_id')\n",
    "test_stumps = pd.read_csv(\"~/Documents/Duke/Cynthia Research/data/ky-data/kentucky_test_stumps.csv\").sort_values('person_id')\n",
    "\n",
    "X_train_stumps = train_stumps.loc[:,:'current_violence201'].copy()\n",
    "X_test_stumps = test_stumps.loc[:,:'current_violence201'].copy()\n",
    "Y_train_stumps = train_stumps['general_two_year'].values.copy()\n",
    "Y_test_stumps = test_stumps['general_two_year'].values.copy()\n",
    "Y_train_stumps[Y_train_stumps == -1] = 0\n",
    "Y_test_stumps[Y_test_stumps == -1] = 0\n",
    "cols = X_train_stumps.columns[3:]"
   ]
  },
  {
   "cell_type": "code",
   "execution_count": 3,
   "metadata": {},
   "outputs": [],
   "source": [
    "best_stump_model = stumps.stump_model(X_train_stumps, \n",
    "                                      Y_train_stumps, \n",
    "                                      X_test_stumps, \n",
    "                                      Y_test_stumps, \n",
    "                                      c=0.004, \n",
    "                                      columns=cols, \n",
    "                                      seed=816)"
   ]
  },
  {
   "cell_type": "code",
   "execution_count": 4,
   "metadata": {
    "scrolled": true
   },
   "outputs": [
    {
     "name": "stdout",
     "output_type": "stream",
     "text": [
      "\\begin{{tabular}}{{|l|r|r|}} \\hline\n",
      "1. age_at_current_charge19 & 0.014583473379432766 & +... \\\\ \\hline\n",
      "2. age_at_current_charge20 & 0.07673178011004948 & +... \\\\ \\hline\n",
      "3. age_at_current_charge21 & 0.040665070970010576 & +... \\\\ \\hline\n",
      "4. age_at_current_charge24 & 0.011930815303350509 & +... \\\\ \\hline\n",
      "5. age_at_current_charge27 & 0.03874987715241306 & +... \\\\ \\hline\n",
      "6. age_at_current_charge30 & 0.010846680686898192 & +... \\\\ \\hline\n",
      "7. age_at_current_charge35 & 0.06721886515499984 & +... \\\\ \\hline\n",
      "8. age_at_current_charge39 & 0.10798837503959213 & +... \\\\ \\hline\n",
      "9. age_at_current_charge47 & 0.12294349691481472 & +... \\\\ \\hline\n",
      "10. p_arrest2 & 0.6701051984956774 & +... \\\\ \\hline\n",
      "11. p_arrest3 & 0.41188626770240566 & +... \\\\ \\hline\n",
      "12. p_arrest4 & 0.2536594802769596 & +... \\\\ \\hline\n",
      "13. p_arrest5 & 0.17022441972050606 & +... \\\\ \\hline\n",
      "14. p_arrest6 & 0.13417468836119725 & +... \\\\ \\hline\n",
      "15. p_arrest7 & 0.18767860902452033 & +... \\\\ \\hline\n",
      "16. p_violence1 & 0.20393470551881596 & +... \\\\ \\hline\n",
      "17. p_felony1 & 0.176068661200459 & +... \\\\ \\hline\n",
      "18. p_misdemeanor1 & 0.024196438884868034 & -... \\\\ \\hline\n",
      "19. p_drug1 & 0.02566795514859635 & +... \\\\ \\hline\n",
      "20. p_drug2 & 0.05233473020083071 & +... \\\\ \\hline\n",
      "21. ADE1 & 0.2038145528816126 & -... \\\\ \\hline\n",
      "22. p_pending_charge1 & 0.3121162481643337 & +... \\\\ \\hline\n",
      "23. p_pending_charge2 & 0.030115870999241137 & -... \\\\ \\hline\n",
      "24. p_probation1 & 0.2293448299269497 & +... \\\\ \\hline\n",
      "25. p_incarceration1 & 0.41258370579413706 & +... \\\\ \\hline\n",
      "26. six_month1 & 0.02629178165632713 & -... \\\\ \\hline\n",
      "27. five_year1 & 0.003772921937772868 & -... \\\\ \\hline\n",
      "28. Intercept & -1.15 & -... \\\\ \\hline\n",
      "\\textbf{ADD POINTS FROM ROWS 1 TO 28}  &  \\textbf{SCORE} & = ..... \\\\ \\hline\n",
      "\\multicolumn{{3}}{{l}}{{Pr(Y = 1) = exp(score/100) / (1 + exp(score/100))}} \\\\ \\hline\n"
     ]
    }
   ],
   "source": [
    "stumps.latex_stump_table(best_stump_model['coefs'], \n",
    "                         best_stump_model['features'], \n",
    "                         best_stump_model['intercept'], \n",
    "                         best_stump_model['dictionary'])"
   ]
  },
  {
   "cell_type": "code",
   "execution_count": 45,
   "metadata": {
    "scrolled": true
   },
   "outputs": [
    {
     "data": {
      "image/png": "[encoded data removed]",
      "text/plain": [
       "<Figure size 288x216 with 1 Axes>"
      ]
     },
     "metadata": {
      "needs_background": "light"
     },
     "output_type": "display_data"
    },
    {
     "data": {
      "image/png": "[encoded data removed]",
      "text/plain": [
       "<Figure size 288x216 with 1 Axes>"
      ]
     },
     "metadata": {
      "needs_background": "light"
     },
     "output_type": "display_data"
    },
    {
     "data": {
      "image/png": "[encoded data removed]",
      "text/plain": [
       "<Figure size 288x216 with 1 Axes>"
      ]
     },
     "metadata": {
      "needs_background": "light"
     },
     "output_type": "display_data"
    },
    {
     "data": {
      "image/png": "[encoded data removed]",
      "text/plain": [
       "<Figure size 288x216 with 1 Axes>"
      ]
     },
     "metadata": {
      "needs_background": "light"
     },
     "output_type": "display_data"
    },
    {
     "data": {
      "image/png": "[encoded data removed]",
      "text/plain": [
       "<Figure size 288x216 with 1 Axes>"
      ]
     },
     "metadata": {
      "needs_background": "light"
     },
     "output_type": "display_data"
    },
    {
     "data": {
      "image/png": "[encoded data removed]",
      "text/plain": [
       "<Figure size 288x216 with 1 Axes>"
      ]
     },
     "metadata": {
      "needs_background": "light"
     },
     "output_type": "display_data"
    },
    {
     "data": {
      "image/png": "[encoded data removed]",
      "text/plain": [
       "<Figure size 288x216 with 1 Axes>"
      ]
     },
     "metadata": {
      "needs_background": "light"
     },
     "output_type": "display_data"
    },
    {
     "data": {
      "image/png": "[encoded data removed]",
      "text/plain": [
       "<Figure size 288x216 with 1 Axes>"
      ]
     },
     "metadata": {
      "needs_background": "light"
     },
     "output_type": "display_data"
    },
    {
     "data": {
      "image/png": "[encoded data removed]",
      "text/plain": [
       "<Figure size 288x216 with 1 Axes>"
      ]
     },
     "metadata": {
      "needs_background": "light"
     },
     "output_type": "display_data"
    },
    {
     "data": {
      "image/png": "[encoded data removed]",
      "text/plain": [
       "<Figure size 288x216 with 1 Axes>"
      ]
     },
     "metadata": {
      "needs_background": "light"
     },
     "output_type": "display_data"
    },
    {
     "data": {
      "image/png": "[encoded data removed]",
      "text/plain": [
       "<Figure size 288x216 with 1 Axes>"
      ]
     },
     "metadata": {
      "needs_background": "light"
     },
     "output_type": "display_data"
    },
    {
     "data": {
      "image/png": "[encoded data removed]",
      "text/plain": [
       "<Figure size 288x216 with 1 Axes>"
      ]
     },
     "metadata": {
      "needs_background": "light"
     },
     "output_type": "display_data"
    }
   ],
   "source": [
    "stumps.stump_plots(best_stump_model['features'], best_stump_model['coefs'], indicator=\"KY\")"
   ]
  },
  {
   "cell_type": "markdown",
   "metadata": {},
   "source": [
    "### RiskSLIM"
   ]
  },
  {
   "cell_type": "code",
   "execution_count": 58,
   "metadata": {},
   "outputs": [],
   "source": [
    "## load stumps data\n",
    "data = pd.read_csv(\"~/Documents/Duke/Cynthia Research/data/ky-data/kentucky_stumps.csv\").sort_values('person_id')\n",
    "\n",
    "## single stump model\n",
    "single_stump_model = stumps.stump_model(X_train_stumps, \n",
    "                                        Y_train_stumps, \n",
    "                                        X_test_stumps, \n",
    "                                        Y_test_stumps, \n",
    "                                        c=0.0015,    \n",
    "                                        columns=cols, \n",
    "                                        seed=816)"
   ]
  },
  {
   "cell_type": "code",
   "execution_count": 59,
   "metadata": {},
   "outputs": [],
   "source": [
    "selected_features = ['general_two_year'] + single_stump_model['features']\n",
    "sub_train_data = train_stumps[selected_features]\n",
    "sub_test_data = test_stumps[selected_features]\n",
    "\n",
    "## split x \n",
    "sub_train_X = sub_train_data.iloc[:,1:]\n",
    "sub_train_X.insert(0, '(Intercept)', 1)\n",
    "sub_cols = sub_train_X.columns.tolist()\n",
    "sub_train_X = sub_train_X.values\n",
    "sub_test_X = sub_test_data.iloc[:,1:].values\n",
    "\n",
    "## split y\n",
    "sub_train_Y = sub_train_data.iloc[:,0].values.reshape(-1,1)\n",
    "sub_test_Y = sub_test_data.iloc[:,0].values.reshape(-1,1)\n",
    "\n",
    "## sample weight\n",
    "sample_weights = np.repeat(1, len(sub_train_Y))"
   ]
  },
  {
   "cell_type": "code",
   "execution_count": 60,
   "metadata": {},
   "outputs": [],
   "source": [
    "new_train_data = {\n",
    "    'X': sub_train_X,\n",
    "    'Y': sub_train_Y,\n",
    "    'variable_names': sub_cols,\n",
    "    'outcome_name': 'general_two_year',\n",
    "    'sample_weights': sample_weights\n",
    "}"
   ]
  },
  {
   "cell_type": "code",
   "execution_count": 63,
   "metadata": {
    "scrolled": true
   },
   "outputs": [
    {
     "name": "stdout",
     "output_type": "stream",
     "text": [
      "setting c0 = 0.0 to ensure that intercept is not penalized\n",
      "01/02/20 @ 03:26 PM | 213 rows in lookup table\n",
      "01/02/20 @ 03:26 PM | ------------------------------------------------------------\n",
      "01/02/20 @ 03:26 PM | runnning initialization procedure\n",
      "01/02/20 @ 03:26 PM | ------------------------------------------------------------\n",
      "01/02/20 @ 03:26 PM | CPA produced 2 cuts\n",
      "01/02/20 @ 03:26 PM | running naive rounding on 4 solutions\n",
      "01/02/20 @ 03:26 PM | best objective value: 0.6931\n",
      "01/02/20 @ 03:26 PM | rounding produced 4 integer solutions\n",
      "01/02/20 @ 03:26 PM | best objective value is 0.6931\n",
      "01/02/20 @ 03:26 PM | running sequential rounding on 4 solutions\n",
      "01/02/20 @ 03:26 PM | best objective value: 0.6931\n",
      "01/02/20 @ 03:26 PM | sequential rounding produced 0 integer solutions\n",
      "01/02/20 @ 03:26 PM | polishing 4 solutions\n",
      "01/02/20 @ 03:26 PM | best objective value: 0.6931\n",
      "01/02/20 @ 03:26 PM | polishing produced 4 integer solutions\n",
      "01/02/20 @ 03:26 PM | initialization produced 7 feasible solutions\n",
      "01/02/20 @ 03:26 PM | best objective value: 0.5578\n",
      "01/02/20 @ 03:26 PM | ------------------------------------------------------------\n",
      "01/02/20 @ 03:26 PM | completed initialization procedure\n",
      "01/02/20 @ 03:26 PM | ------------------------------------------------------------\n",
      "01/02/20 @ 03:26 PM | 213 rows in lookup table\n",
      "CPXPARAM_Read_DataCheck                          1\n",
      "CPXPARAM_Threads                                 1\n",
      "CPXPARAM_Parallel                                1\n",
      "CPXPARAM_RandomSeed                              0\n",
      "CPXPARAM_TimeLimit                               1000\n",
      "CPXPARAM_MIP_Tolerances_LowerCutoff              0.52766310861996191\n",
      "CPXPARAM_MIP_Tolerances_UpperCutoff              0.55782057956698539\n"
     ]
    },
    {
     "name": "stderr",
     "output_type": "stream",
     "text": [
      "Warning: Control callbacks may disable some MIP features.\n"
     ]
    },
    {
     "name": "stdout",
     "output_type": "stream",
     "text": [
      "Lazy constraint(s) or lazy constraint callback is present.\n",
      "    Disabling dual reductions (CPX_PARAM_REDUCE) in presolve.\n",
      "    Disabling non-linear reductions (CPX_PARAM_PRELINEAR) in presolve.\n",
      "         Disabling repeat represolve because of lazy constraint/incumbent callback.\n",
      "01/02/20 @ 03:26 PM | adding 249 initial cuts\n",
      "1 of 1 MIP starts provided solutions.\n",
      "MIP start 'mip_start_0' defined initial solution with objective 0.5578.\n",
      "Tried aggregator 1 time.\n",
      "Reduced MIP has 34 rows, 36 columns, and 99 nonzeros.\n",
      "Reduced MIP has 16 binaries, 18 generals, 0 SOSs, and 0 indicators.\n",
      "Presolve time = 0.00 sec. (0.05 ticks)\n",
      "Probing time = 0.00 sec. (0.01 ticks)\n",
      "MIP emphasis: balance optimality and feasibility.\n",
      "MIP search method: traditional branch-and-cut.\n",
      "Parallel mode: none, using 1 thread.\n",
      "Root relaxation solution time = 0.00 sec. (0.04 ticks)\n",
      "\n",
      "        Nodes                                         Cuts/\n",
      "   Node  Left     Objective  IInf  Best Integer    Best Bound    ItCnt     Gap         Variable B NodeID Parent  Depth\n",
      "\n",
      "*     0+    0                            0.5578        0.5277             5.41%\n",
      "      0     0        0.5277     1        0.5578        0.5277       17    5.41%\n",
      "      0     2        0.5277     5        0.5578        0.5277       17    5.41%                        0             0\n",
      "Elapsed time = 0.06 sec. (1.69 ticks, tree = 0.01 MB, solutions = 1)\n",
      "*   470+  163                            0.5566        0.5277             5.19%\n",
      "   2350   912        0.5433    10        0.5566        0.5277    13800    5.19%          rho_12 D   2350   2348     14\n",
      "*  3160+ 1159                            0.5563        0.5277             5.15%\n",
      "*  3632  1261      integral     0        0.5546        0.5277    21518    4.85%         alpha_9 D   3632   3631     32\n",
      "   4760  1592        0.5529     8        0.5546        0.5277    29969    4.85%        alpha_14 D   4760   4759     19\n",
      "   5821  1873        0.5542     8        0.5546        0.5277    37796    4.85%           rho_4 N   5821   5819     13\n",
      "   6806  2193        0.5292    18        0.5546        0.5277    44759    4.85%           rho_5 U   6806   4288     10\n",
      "*  6923  2120      integral     0        0.5517        0.5277    45516    4.36%          rho_15 D   6923   6922     29\n",
      "*  6981  2107      integral     0        0.5509        0.5277    45781    4.21%           rho_7 U   6981   6980     37\n",
      "   7901  2294        cutoff              0.5509        0.5277    52390    4.21%         alpha_5 D   7901   7900     26\n",
      "   8672  2504        cutoff              0.5509        0.5277    59707    4.21%          rho_12 U   8672   8671     26\n",
      "*  9700  2406      integral     0        0.5469        0.5277    66836    3.52%           rho_8 U   9700   9698     31\n",
      "Elapsed time = 3.00 sec. (1964.29 ticks, tree = 0.65 MB, solutions = 7)\n",
      "  12500  2974        0.5318    13        0.5469        0.5277    90355    3.52%          rho_10 U  12500  12472     19\n",
      "  15365  3631        cutoff              0.5469        0.5277   112458    3.52%           rho_6 D  15365  15364     27\n",
      "  18000  4255        0.5306    14        0.5469        0.5277   133789    3.52%           rho_3 U  18000  17999     23\n",
      "  20564  4916        0.5363    14        0.5469        0.5277   155486    3.52%          rho_12 D  20564  20563     25\n",
      "  23064  5578        0.5277    19        0.5469        0.5277   176073    3.52%           rho_2 D  23064  11899     10\n",
      "  25332  6044        0.5383    13        0.5469        0.5277   196945    3.52%           rho_5 N  25332  25200     13\n",
      "  27697  6716        0.5297    11        0.5469        0.5277   215967    3.52%           rho_1 U  27697  27677     26\n",
      "  29840  7339        0.5307    12        0.5469        0.5277   235365    3.52%           rho_4 D  29840  29839     23\n",
      "  31848  7892        0.5317     8        0.5469        0.5277   254955    3.52%          rho_12 D  31848  31846     30\n",
      "* 31930+ 7924                            0.5469        0.5277             3.52%\n",
      "* 32752  7840      integral     0        0.5456        0.5277   260619    3.28%\n",
      "  33932  8085        cutoff              0.5456        0.5277   271332    3.28%           rho_1 N  33932  33930     19\n",
      "Elapsed time = 11.13 sec. (11506.91 ticks, tree = 2.44 MB, solutions = 9)\n",
      "  35910  8603        0.5277     9        0.5456        0.5277   290399    3.28%           rho_2 U  35910  35908     27\n",
      "  37940  9160        0.5441     0        0.5456        0.5277   308597    3.28%         alpha_9 U  37940  37939     24\n",
      "  39922  9842        0.5318    12        0.5456        0.5277   326785    3.28%           rho_5 U  39922  39921     26\n",
      "  41600 10359        0.5285    20        0.5456        0.5277   345207    3.28%           rho_2 U  41600  41599     14\n",
      "  43315 10823        0.5438     3        0.5456        0.5277   364465    3.28%           rho_2 D  43315  43272     22\n",
      "  45315 11346        0.5364    15        0.5456        0.5282   381039    3.17%           rho_0 D  45315  45314     30\n",
      "  47476 11509        0.5388    12        0.5456        0.5291   395023    3.01%           rho_3 U  47476  47474     27\n",
      "  49608 11589        0.5417     9        0.5456        0.5299   408196    2.88%         alpha_6 U  49608  49606     28\n",
      "  51681 11581        0.5422     9        0.5456        0.5307   420993    2.73%           rho_8 U  51681  51679     30\n",
      "  53784 11503        0.5450     6        0.5456        0.5314   434001    2.59%           rho_8 N  53784  53782     30\n",
      "Elapsed time = 17.27 sec. (21049.69 ticks, tree = 3.33 MB, solutions = 9)\n",
      "  55880 11470        0.5368    16        0.5456        0.5321   446689    2.47%          rho_12 D  55880  49980     27\n",
      "  57963 11331        0.5336    12        0.5456        0.5328   458914    2.33%           rho_3 U  57963  27693     27\n",
      "  60015 11092        0.5395    14        0.5456        0.5336   470864    2.20%           rho_1 U  60015  60014     24\n",
      "  62062 10843        cutoff              0.5456        0.5343   482400    2.07%           rho_0 D  62062  21986     19\n",
      "  64070 10497        0.5436     9        0.5456        0.5350   493950    1.93%          rho_16 D  64070  32965     28\n",
      "  66049 10149        0.5447    11        0.5456        0.5357   504990    1.81%          rho_10 N  66049   7020     22\n",
      "  68110  9768        0.5451    13        0.5456        0.5364   515286    1.68%        alpha_15 D  68110  68109     26\n",
      "  70108  9225        0.5445     8        0.5456        0.5372   525626    1.53%           rho_8 U  70108  70107     28\n",
      "* 71158  8923      integral     0        0.5456        0.5376   530868    1.46%\n",
      "  72166  8554        0.5426    11        0.5456        0.5380   535911    1.38%          rho_11 U  72166  20772     27\n",
      "  74232  7730        cutoff              0.5456        0.5389   545491    1.23%          rho_11 U  74232   2126     23\n",
      "Elapsed time = 23.06 sec. (30590.79 ticks, tree = 2.52 MB, solutions = 10)\n",
      "  76281  6895        cutoff              0.5456        0.5397   554829    1.07%           rho_5 D  76281  59532     19\n",
      "* 76701  6664      integral     0        0.5456        0.5399   556749    1.03%\n",
      "  78292  5851        cutoff              0.5456        0.5407   563599    0.90%        alpha_15 U  78292  78291     21\n",
      "  80384  4773        0.5415     7        0.5456        0.5415   571640    0.74%           rho_8 U  80384  36292     31\n",
      "  82508  3626        cutoff              0.5456        0.5425   578945    0.57%           rho_5 U  82508  52874     21\n",
      "  84554  2225        cutoff              0.5456        0.5436   585326    0.36%        alpha_14 U  84554  63363     24\n",
      "  86625   646        cutoff              0.5456        0.5449   590536    0.11%           rho_0 U  86625   1799     10\n",
      "\n",
      "User cuts applied:  721\n",
      "\n",
      "Root node processing (before b&c):\n",
      "  Real time             =    0.06 sec. (1.74 ticks)\n",
      "Sequential b&c:\n",
      "  Real time             =   26.06 sec. (36649.28 ticks)\n",
      "                          ------------\n",
      "Total (root+branch&cut) =   26.13 sec. (36651.02 ticks)\n",
      "+----------------------------------------------+------------------+-----------+\n",
      "| Pr(Y = +1) = 1.0/(1.0 + exp(-(-2 + score))   |                  |           |\n",
      "| ============================================ | ================ | ========= |\n",
      "| p_arrest2                                    |         1 points |   + ..... |\n",
      "| p_arrest4                                    |         1 points |   + ..... |\n",
      "| p_incarceration1                             |         1 points |   + ..... |\n",
      "| ============================================ | ================ | ========= |\n",
      "| ADD POINTS FROM ROWS 1 to 3                  |            SCORE |   = ..... |\n",
      "+----------------------------------------------+------------------+-----------+\n"
     ]
    },
    {
     "data": {
      "text/plain": [
       "<prettytable.PrettyTable at 0x1f633df3108>"
      ]
     },
     "execution_count": 63,
     "metadata": {},
     "output_type": "execute_result"
    }
   ],
   "source": [
    "model_info, mip_info, lcpa_info = slim.risk_slim(new_train_data, \n",
    "                                                 max_coefficient=5, \n",
    "                                                 max_L0_value=5, \n",
    "                                                 c0_value=1e-6, \n",
    "                                                 max_offset=100, \n",
    "                                                 max_runtime=1000)\n",
    "print_model(model_info['solution'], new_train_data)"
   ]
  }
 ],
 "metadata": {
  "kernelspec": {
   "display_name": "Python 3",
   "language": "python",
   "name": "python3"
  },
  "language_info": {
   "codemirror_mode": {
    "name": "ipython",
    "version": 3
   },
   "file_extension": ".py",
   "mimetype": "text/x-python",
   "name": "python",
   "nbconvert_exporter": "python",
   "pygments_lexer": "ipython3",
   "version": "3.7.4"
  }
 },
 "nbformat": 4,
 "nbformat_minor": 4
}
