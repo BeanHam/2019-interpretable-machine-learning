{
 "cells": [
  {
   "cell_type": "code",
   "execution_count": 1,
   "metadata": {},
   "outputs": [
    {
     "name": "stdout",
     "output_type": "stream",
     "text": [
      "Current working directory is now:  C:\\Users\\Caroline Wang\\OneDrive\\Duke\\Criminal Recidivism\\psa-analysis\n"
     ]
    }
   ],
   "source": [
    "import os \n",
    "os.chdir('../../')\n",
    "print(\"Current working directory is now: \", os.getcwd())\n",
    "\n",
    "import numpy as np\n",
    "import pandas as pd\n",
    "import matplotlib.pyplot as plt\n",
    "import seaborn as sns"
   ]
  },
  {
   "cell_type": "markdown",
   "metadata": {},
   "source": [
    "### KY data"
   ]
  },
  {
   "cell_type": "code",
   "execution_count": 5,
   "metadata": {},
   "outputs": [],
   "source": [
    "KY_data = pd.read_csv(\"kentucky/data/processed/kentucky_data.csv\")\n",
    "KY_plot = KY_data.loc[:, ['age_at_current_charge', 'general_two_year', 'violent_two_year', 'drug_two_year', 'property_two_year',\n",
    "                      'felony_two_year', 'misdemeanor_two_year', 'general_six_month', 'violent_six_month', 'drug_six_month', \n",
    "                      'property_six_month','felony_six_month', 'misdemeanor_six_month']]"
   ]
  },
  {
   "cell_type": "code",
   "execution_count": 6,
   "metadata": {},
   "outputs": [],
   "source": [
    "## calculate probability\n",
    "KY_plot = KY_plot.groupby('age_at_current_charge').mean().reset_index()\n",
    "colnames = ['age_at_current_charge', 'probability']\n",
    "\n",
    "## split each problem and two time period\n",
    "KY_general2 = KY_plot.loc[:, ['age_at_current_charge', 'general_two_year']]\n",
    "KY_general2.columns = colnames\n",
    "\n",
    "KY_violent2 = KY_plot.loc[:, ['age_at_current_charge', 'violent_two_year']]\n",
    "KY_violent2.columns = colnames\n",
    "\n",
    "KY_drug2 = KY_plot.loc[:, ['age_at_current_charge', 'drug_two_year']]\n",
    "KY_drug2.columns = colnames\n",
    "\n",
    "KY_property2 = KY_plot.loc[:, ['age_at_current_charge', 'property_two_year']]\n",
    "KY_property2.columns = colnames\n",
    "\n",
    "KY_felony2 = KY_plot.loc[:, ['age_at_current_charge', 'felony_two_year']]\n",
    "KY_felony2.columns = colnames\n",
    "\n",
    "KY_misdemeanor2 = KY_plot.loc[:, ['age_at_current_charge', 'misdemeanor_two_year']]\n",
    "KY_misdemeanor2.columns = colnames\n",
    "\n",
    "KY_general6 = KY_plot.loc[:, ['age_at_current_charge', 'general_six_month']]\n",
    "KY_general6.columns = colnames\n",
    "\n",
    "KY_violent6 = KY_plot.loc[:, ['age_at_current_charge', 'violent_six_month']]\n",
    "KY_violent6.columns = colnames\n",
    "\n",
    "KY_drug6 = KY_plot.loc[:, ['age_at_current_charge', 'drug_six_month']]\n",
    "KY_drug6.columns = colnames\n",
    "\n",
    "KY_property6 = KY_plot.loc[:, ['age_at_current_charge', 'property_six_month']]\n",
    "KY_property6.columns = colnames\n",
    "\n",
    "KY_felony6 = KY_plot.loc[:, ['age_at_current_charge', 'felony_six_month']]\n",
    "KY_felony6.columns = colnames\n",
    "\n",
    "KY_misdemeanor6 = KY_plot.loc[:, ['age_at_current_charge', 'misdemeanor_six_month']]\n",
    "KY_misdemeanor6.columns = colnames\n",
    "\n",
    "## time index\n",
    "time_index = np.repeat(\"two_year\", KY_general2.shape[0]*6).tolist() + \\\n",
    "np.repeat(\"six_month\", KY_general2.shape[0]*6).tolist()\n",
    "\n",
    "## problem index\n",
    "problem_index = np.repeat('general', KY_general2.shape[0]).tolist() + \\\n",
    "np.repeat('violent', KY_violent2.shape[0]).tolist() + \\\n",
    "np.repeat('drug', KY_drug2.shape[0]).tolist() + \\\n",
    "np.repeat('property', KY_property2.shape[0]).tolist() + \\\n",
    "np.repeat('felony', KY_felony2.shape[0]).tolist() + \\\n",
    "np.repeat('misdemeanor', KY_misdemeanor2.shape[0]).tolist() + \\\n",
    "np.repeat('general', KY_general2.shape[0]).tolist() + \\\n",
    "np.repeat('violent', KY_violent2.shape[0]).tolist() + \\\n",
    "np.repeat('drug', KY_drug2.shape[0]).tolist() + \\\n",
    "np.repeat('property', KY_property2.shape[0]).tolist() + \\\n",
    "np.repeat('felony', KY_felony2.shape[0]).tolist() + \\\n",
    "np.repeat('misdemeanor', KY_misdemeanor2.shape[0]).tolist()\n",
    "\n",
    "## stack data\n",
    "KY_final = pd.concat([KY_general2, KY_violent2, KY_drug2, KY_property2, KY_felony2, KY_misdemeanor2, \n",
    "                      KY_general6, KY_violent6, KY_drug6, KY_property6, KY_felony6, KY_misdemeanor6])\n",
    "KY_final['Time'] = time_index\n",
    "KY_final['problem_index'] = problem_index"
   ]
  },
  {
   "cell_type": "markdown",
   "metadata": {},
   "source": [
    "### FL data"
   ]
  },
  {
   "cell_type": "code",
   "execution_count": 7,
   "metadata": {},
   "outputs": [],
   "source": [
    "### load FL data\n",
    "FL_data = pd.read_csv(\"broward/data/broward_full_data.csv\")\n",
    "FL_plot = FL_data.loc[:, ['age_at_current_charge', 'general_two_year', 'violent_two_year', 'drug_two_year', 'property_two_year',\n",
    "                      'felony_two_year', 'misdemeanor_two_year', 'general_six_month', 'violent_six_month', 'drug_six_month', \n",
    "                      'property_six_month','felony_six_month', 'misdemeanor_six_month']]"
   ]
  },
  {
   "cell_type": "code",
   "execution_count": 8,
   "metadata": {},
   "outputs": [],
   "source": [
    "## calculate probability\n",
    "FL_plot = FL_plot.groupby('age_at_current_charge').mean().reset_index()\n",
    "colnames = ['age_at_current_charge', 'probability']\n",
    "\n",
    "## split each problem and two time period\n",
    "FL_general2 = FL_plot.loc[:, ['age_at_current_charge', 'general_two_year']]\n",
    "FL_general2.columns = colnames\n",
    "\n",
    "FL_violent2 = FL_plot.loc[:, ['age_at_current_charge', 'violent_two_year']]\n",
    "FL_violent2.columns = colnames\n",
    "\n",
    "FL_drug2 = FL_plot.loc[:, ['age_at_current_charge', 'drug_two_year']]\n",
    "FL_drug2.columns = colnames\n",
    "\n",
    "FL_property2 = FL_plot.loc[:, ['age_at_current_charge', 'property_two_year']]\n",
    "FL_property2.columns = colnames\n",
    "\n",
    "FL_felony2 = FL_plot.loc[:, ['age_at_current_charge', 'felony_two_year']]\n",
    "FL_felony2.columns = colnames\n",
    "\n",
    "FL_misdemeanor2 = FL_plot.loc[:, ['age_at_current_charge', 'misdemeanor_two_year']]\n",
    "FL_misdemeanor2.columns = colnames\n",
    "\n",
    "FL_general6 = FL_plot.loc[:, ['age_at_current_charge', 'general_six_month']]\n",
    "FL_general6.columns = colnames\n",
    "\n",
    "FL_violent6 = FL_plot.loc[:, ['age_at_current_charge', 'violent_six_month']]\n",
    "FL_violent6.columns = colnames\n",
    "\n",
    "FL_drug6 = FL_plot.loc[:, ['age_at_current_charge', 'drug_six_month']]\n",
    "FL_drug6.columns = colnames\n",
    "\n",
    "FL_property6 = FL_plot.loc[:, ['age_at_current_charge', 'property_six_month']]\n",
    "FL_property6.columns = colnames\n",
    "\n",
    "FL_felony6 = FL_plot.loc[:, ['age_at_current_charge', 'felony_six_month']]\n",
    "FL_felony6.columns = colnames\n",
    "\n",
    "FL_misdemeanor6 = FL_plot.loc[:, ['age_at_current_charge', 'misdemeanor_six_month']]\n",
    "FL_misdemeanor6.columns = colnames\n",
    "\n",
    "## time index\n",
    "time_index = np.repeat(\"two_year\", FL_general2.shape[0]*6).tolist() + \\\n",
    "np.repeat(\"six_month\", FL_general2.shape[0]*6).tolist()\n",
    "\n",
    "## problem index\n",
    "problem_index = np.repeat('general', FL_general2.shape[0]).tolist() + \\\n",
    "np.repeat('violent', FL_violent2.shape[0]).tolist() + \\\n",
    "np.repeat('drug', FL_drug2.shape[0]).tolist() + \\\n",
    "np.repeat('property', FL_property2.shape[0]).tolist() + \\\n",
    "np.repeat('felony', FL_felony2.shape[0]).tolist() + \\\n",
    "np.repeat('misdemeanor', FL_misdemeanor2.shape[0]).tolist() + \\\n",
    "np.repeat('general', FL_general2.shape[0]).tolist() + \\\n",
    "np.repeat('violent', FL_violent2.shape[0]).tolist() + \\\n",
    "np.repeat('drug', FL_drug2.shape[0]).tolist() + \\\n",
    "np.repeat('property', FL_property2.shape[0]).tolist() + \\\n",
    "np.repeat('felony', FL_felony2.shape[0]).tolist() + \\\n",
    "np.repeat('misdemeanor', FL_misdemeanor2.shape[0]).tolist()\n",
    "\n",
    "## stack data\n",
    "FL_final = pd.concat([FL_general2, FL_violent2, FL_drug2, FL_property2, FL_felony2, FL_misdemeanor2, \n",
    "                      FL_general6, FL_violent6, FL_drug6, FL_property6, FL_felony6, FL_misdemeanor6])\n",
    "FL_final['Time'] = time_index\n",
    "FL_final['problem_index'] = problem_index"
   ]
  },
  {
   "cell_type": "markdown",
   "metadata": {},
   "source": [
    "### Stack KY and FL data"
   ]
  },
  {
   "cell_type": "code",
   "execution_count": 25,
   "metadata": {},
   "outputs": [
    {
     "data": {
      "text/html": [
       "<div>\n",
       "<style scoped>\n",
       "    .dataframe tbody tr th:only-of-type {\n",
       "        vertical-align: middle;\n",
       "    }\n",
       "\n",
       "    .dataframe tbody tr th {\n",
       "        vertical-align: top;\n",
       "    }\n",
       "\n",
       "    .dataframe thead th {\n",
       "        text-align: right;\n",
       "    }\n",
       "</style>\n",
       "<table border=\"1\" class=\"dataframe\">\n",
       "  <thead>\n",
       "    <tr style=\"text-align: right;\">\n",
       "      <th></th>\n",
       "      <th>age_at_current_charge</th>\n",
       "      <th>probability</th>\n",
       "      <th>Time</th>\n",
       "      <th>problem_index</th>\n",
       "      <th>location</th>\n",
       "    </tr>\n",
       "  </thead>\n",
       "  <tbody>\n",
       "    <tr>\n",
       "      <th>0</th>\n",
       "      <td>18</td>\n",
       "      <td>0.279772</td>\n",
       "      <td>two_year</td>\n",
       "      <td>general</td>\n",
       "      <td>KY</td>\n",
       "    </tr>\n",
       "    <tr>\n",
       "      <th>1</th>\n",
       "      <td>19</td>\n",
       "      <td>0.288844</td>\n",
       "      <td>two_year</td>\n",
       "      <td>general</td>\n",
       "      <td>KY</td>\n",
       "    </tr>\n",
       "    <tr>\n",
       "      <th>2</th>\n",
       "      <td>20</td>\n",
       "      <td>0.291327</td>\n",
       "      <td>two_year</td>\n",
       "      <td>general</td>\n",
       "      <td>KY</td>\n",
       "    </tr>\n",
       "    <tr>\n",
       "      <th>3</th>\n",
       "      <td>21</td>\n",
       "      <td>0.284402</td>\n",
       "      <td>two_year</td>\n",
       "      <td>general</td>\n",
       "      <td>KY</td>\n",
       "    </tr>\n",
       "    <tr>\n",
       "      <th>4</th>\n",
       "      <td>22</td>\n",
       "      <td>0.289389</td>\n",
       "      <td>two_year</td>\n",
       "      <td>general</td>\n",
       "      <td>KY</td>\n",
       "    </tr>\n",
       "  </tbody>\n",
       "</table>\n",
       "</div>"
      ],
      "text/plain": [
       "   age_at_current_charge  probability      Time problem_index location\n",
       "0                     18     0.279772  two_year       general       KY\n",
       "1                     19     0.288844  two_year       general       KY\n",
       "2                     20     0.291327  two_year       general       KY\n",
       "3                     21     0.284402  two_year       general       KY\n",
       "4                     22     0.289389  two_year       general       KY"
      ]
     },
     "execution_count": 25,
     "metadata": {},
     "output_type": "execute_result"
    }
   ],
   "source": [
    "location_index = np.repeat('KY', KY_final.shape[0]).tolist() + np.repeat('FL', FL_final.shape[0]).tolist() \n",
    "final = pd.concat([KY_final, FL_final])\n",
    "final['location'] = location_index\n",
    "final = final[final['age_at_current_charge'] <= 65]\n",
    "final.head()"
   ]
  },
  {
   "cell_type": "markdown",
   "metadata": {},
   "source": [
    "## Visualization"
   ]
  },
  {
   "cell_type": "markdown",
   "metadata": {},
   "source": [
    "### General"
   ]
  },
  {
   "cell_type": "code",
   "execution_count": null,
   "metadata": {},
   "outputs": [
    {
     "name": "stderr",
     "output_type": "stream",
     "text": [
      "C:\\Users\\Caroline Wang\\Anaconda3\\lib\\site-packages\\seaborn\\axisgrid.py:715: UserWarning: Using the barplot function without specifying `order` is likely to produce an incorrect plot.\n",
      "  warnings.warn(warning)\n"
     ]
    }
   ],
   "source": [
    "plt.style.use('ggplot')\n",
    "problem_indices = ['general', 'violent', 'drug', 'property', 'felony', 'misdemeanor']\n",
    "\n",
    "for problem_index in problem_indices:\n",
    "    ## subset data\n",
    "    problem_age_dists = final[final['problem_index'] == problem_index]\n",
    "    sns.set(font_scale=1.2)\n",
    "    \n",
    "    g = sns.FacetGrid(problem_age_dists, \n",
    "                      row=\"location\",\n",
    "                      hue='Time',\n",
    "                      height=5,\n",
    "                      aspect=4/1.5,\n",
    "                      ylim=(0,0.6),\n",
    "                      xlim=(18, 65))\n",
    "    g.map(sns.barplot, 'age_at_current_charge', 'probability', alpha=0.7)\n",
    "    \n",
    "    # adjust axis label font size on upper plot, add legend\n",
    "    g.axes[0,0].set_ylabel('probability', fontsize=20)\n",
    "    g.axes[0,0].legend(fontsize=20)\n",
    "    \n",
    "    # adjust axis label font size on lower plot\n",
    "    g.axes[1,0].set_ylabel('probability', fontsize=20)\n",
    "    g.axes[1,0].set_xlabel('age_at_current_charge', fontsize=20)\n",
    "    \n",
    "    # titling and spacing subplots\n",
    "    recid_type = problem_index.capitalize()\n",
    "    g.fig.suptitle(f'{recid_type} Recidivism', fontsize=24)\n",
    "    plt.subplots_adjust(top=0.9)\n",
    "    \n",
    "    plt.savefig(f\"visualizations/age_distributions/{problem_index}.pdf\")\n",
    "    plt.show()\n",
    "    plt.close()"
   ]
  },
  {
   "cell_type": "markdown",
   "metadata": {},
   "source": [
    "## Appendix"
   ]
  },
  {
   "cell_type": "code",
   "execution_count": null,
   "metadata": {},
   "outputs": [],
   "source": [
    "plt.style.use('ggplot')\n",
    "g = sns.FacetGrid(general,row = 'time_index',col='location',hue = 'time_index',height=6,aspect=6/4, margin_titles=True)\n",
    "g = g.map(sns.barplot, 'age_at_current_charge','probability', alpha=0.7)\n",
    "#g.add_legend()\n",
    "g.fig.subplots_adjust(wspace=.1, hspace=.1)\n",
    "pass"
   ]
  }
 ],
 "metadata": {
  "kernelspec": {
   "display_name": "Python 3",
   "language": "python",
   "name": "python3"
  },
  "language_info": {
   "codemirror_mode": {
    "name": "ipython",
    "version": 3
   },
   "file_extension": ".py",
   "mimetype": "text/x-python",
   "name": "python",
   "nbconvert_exporter": "python",
   "pygments_lexer": "ipython3",
   "version": "3.6.5"
  }
 },
 "nbformat": 4,
 "nbformat_minor": 2
}
