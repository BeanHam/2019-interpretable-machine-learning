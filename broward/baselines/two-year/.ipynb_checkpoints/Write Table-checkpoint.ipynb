{
 "cells": [
  {
   "cell_type": "code",
   "execution_count": 1,
   "metadata": {
    "hideCode": false,
    "hidePrompt": false
   },
   "outputs": [],
   "source": [
    "import pytablewriter\n",
    "import pandas as pd\n",
    "import numpy as np"
   ]
  },
  {
   "cell_type": "code",
   "execution_count": 2,
   "metadata": {
    "hideCode": false,
    "hidePrompt": false
   },
   "outputs": [],
   "source": [
    "result = pd.read_csv(\"C:\\\\Users\\\\binha\\\\Documents\\\\Duke\\\\Cynthia Research\\\\KY-analysis-mytrials\\\\broward\\\\broward models\\\\model results\\\\Baselines\\\\Two Year\\\\Two Year Baseline Summary.csv\")"
   ]
  },
  {
   "cell_type": "code",
   "execution_count": 3,
   "metadata": {
    "hideCode": false,
    "hidePrompt": false
   },
   "outputs": [
    {
     "data": {
      "text/html": [
       "<div>\n",
       "<style scoped>\n",
       "    .dataframe tbody tr th:only-of-type {\n",
       "        vertical-align: middle;\n",
       "    }\n",
       "\n",
       "    .dataframe tbody tr th {\n",
       "        vertical-align: top;\n",
       "    }\n",
       "\n",
       "    .dataframe thead th {\n",
       "        text-align: right;\n",
       "    }\n",
       "</style>\n",
       "<table border=\"1\" class=\"dataframe\">\n",
       "  <thead>\n",
       "    <tr style=\"text-align: right;\">\n",
       "      <th></th>\n",
       "      <th>Unnamed: 0</th>\n",
       "      <th>Logistic</th>\n",
       "      <th>Lasso</th>\n",
       "      <th>Linear SVM</th>\n",
       "      <th>Random Forest</th>\n",
       "      <th>XGBoost</th>\n",
       "      <th>Performance Range</th>\n",
       "    </tr>\n",
       "  </thead>\n",
       "  <tbody>\n",
       "    <tr>\n",
       "      <th>0</th>\n",
       "      <td>General</td>\n",
       "      <td>0.67 (0.022)</td>\n",
       "      <td>0.665 (0.021)</td>\n",
       "      <td>0.67 (0.02)</td>\n",
       "      <td>0.656 (0.031)</td>\n",
       "      <td>0.659 (0.024)</td>\n",
       "      <td>0.014</td>\n",
       "    </tr>\n",
       "    <tr>\n",
       "      <th>1</th>\n",
       "      <td>Violent</td>\n",
       "      <td>0.672 (0.041)</td>\n",
       "      <td>0.674 (0.045)</td>\n",
       "      <td>0.659 (0.037)</td>\n",
       "      <td>0.672 (0.038)</td>\n",
       "      <td>0.678 (0.046)</td>\n",
       "      <td>0.019</td>\n",
       "    </tr>\n",
       "    <tr>\n",
       "      <th>2</th>\n",
       "      <td>Drug</td>\n",
       "      <td>0.714 (0.049)</td>\n",
       "      <td>0.72 (0.039)</td>\n",
       "      <td>0.695 (0.04)</td>\n",
       "      <td>0.704 (0.041)</td>\n",
       "      <td>0.719 (0.03)</td>\n",
       "      <td>0.025</td>\n",
       "    </tr>\n",
       "    <tr>\n",
       "      <th>3</th>\n",
       "      <td>Property</td>\n",
       "      <td>0.721 (0.066)</td>\n",
       "      <td>0.723 (0.072)</td>\n",
       "      <td>0.702 (0.055)</td>\n",
       "      <td>0.711 (0.028)</td>\n",
       "      <td>0.733 (0.041)</td>\n",
       "      <td>0.032</td>\n",
       "    </tr>\n",
       "    <tr>\n",
       "      <th>4</th>\n",
       "      <td>Felony</td>\n",
       "      <td>0.642 (0.045)</td>\n",
       "      <td>0.642 (0.034)</td>\n",
       "      <td>0.626 (0.039)</td>\n",
       "      <td>0.647 (0.047)</td>\n",
       "      <td>0.646 (0.04)</td>\n",
       "      <td>0.021</td>\n",
       "    </tr>\n",
       "    <tr>\n",
       "      <th>5</th>\n",
       "      <td>Misdemeanor</td>\n",
       "      <td>0.632 (0.022)</td>\n",
       "      <td>0.63 (0.026)</td>\n",
       "      <td>0.63 (0.02)</td>\n",
       "      <td>0.63 (0.027)</td>\n",
       "      <td>0.624 (0.024)</td>\n",
       "      <td>0.008</td>\n",
       "    </tr>\n",
       "  </tbody>\n",
       "</table>\n",
       "</div>"
      ],
      "text/plain": [
       "    Unnamed: 0       Logistic          Lasso     Linear SVM  Random Forest  \\\n",
       "0      General   0.67 (0.022)  0.665 (0.021)    0.67 (0.02)  0.656 (0.031)   \n",
       "1      Violent  0.672 (0.041)  0.674 (0.045)  0.659 (0.037)  0.672 (0.038)   \n",
       "2         Drug  0.714 (0.049)   0.72 (0.039)   0.695 (0.04)  0.704 (0.041)   \n",
       "3     Property  0.721 (0.066)  0.723 (0.072)  0.702 (0.055)  0.711 (0.028)   \n",
       "4       Felony  0.642 (0.045)  0.642 (0.034)  0.626 (0.039)  0.647 (0.047)   \n",
       "5  Misdemeanor  0.632 (0.022)   0.63 (0.026)    0.63 (0.02)   0.63 (0.027)   \n",
       "\n",
       "         XGBoost  Performance Range  \n",
       "0  0.659 (0.024)              0.014  \n",
       "1  0.678 (0.046)              0.019  \n",
       "2   0.719 (0.03)              0.025  \n",
       "3  0.733 (0.041)              0.032  \n",
       "4   0.646 (0.04)              0.021  \n",
       "5  0.624 (0.024)              0.008  "
      ]
     },
     "execution_count": 3,
     "metadata": {},
     "output_type": "execute_result"
    }
   ],
   "source": [
    "result"
   ]
  },
  {
   "cell_type": "code",
   "execution_count": 4,
   "metadata": {
    "hideCode": false,
    "hidePrompt": false
   },
   "outputs": [],
   "source": [
    "cols = result.columns.to_list()\n",
    "values = result.values.tolist()"
   ]
  },
  {
   "cell_type": "code",
   "execution_count": 5,
   "metadata": {
    "hideCode": false,
    "hideOutput": true,
    "hidePrompt": false
   },
   "outputs": [
    {
     "name": "stdout",
     "output_type": "stream",
     "text": [
      "\\begin{array}{l | l | l | l | l | l | r} \\hline\n",
      "    General     & \\verb|0.67 (0.022) | & \\verb|0.665 (0.021)| & \\verb|0.67 (0.02)  | & \\verb|0.656 (0.031)| & \\verb|0.659 (0.024)| & 0.01400 \\\\ \\hline\n",
      "    Violent     & \\verb|0.672 (0.041)| & \\verb|0.674 (0.045)| & \\verb|0.659 (0.037)| & \\verb|0.672 (0.038)| & \\verb|0.678 (0.046)| & 0.01900 \\\\ \\hline\n",
      "    Drug        & \\verb|0.714 (0.049)| & \\verb|0.72 (0.039) | & \\verb|0.695 (0.04) | & \\verb|0.704 (0.041)| & \\verb|0.719 (0.03) | & 0.02500 \\\\ \\hline\n",
      "    Property    & \\verb|0.721 (0.066)| & \\verb|0.723 (0.072)| & \\verb|0.702 (0.055)| & \\verb|0.711 (0.028)| & \\verb|0.733 (0.041)| & 0.03200 \\\\ \\hline\n",
      "    Felony      & \\verb|0.642 (0.045)| & \\verb|0.642 (0.034)| & \\verb|0.626 (0.039)| & \\verb|0.647 (0.047)| & \\verb|0.646 (0.04) | & 0.02100 \\\\ \\hline\n",
      "    Misdemeanor & \\verb|0.632 (0.022)| & \\verb|0.63 (0.026) | & \\verb|0.63 (0.02)  | & \\verb|0.63 (0.027) | & \\verb|0.624 (0.024)| & 0.00800 \\\\ \\hline\n",
      "\\end{array}\n"
     ]
    }
   ],
   "source": [
    "writer = pytablewriter.LatexTableWriter()\n",
    "writer.value_matrix = values\n",
    "writer.write_table()"
   ]
  }
 ],
 "metadata": {
  "hide_code_all_hidden": false,
  "kernelspec": {
   "display_name": "Python 3",
   "language": "python",
   "name": "python3"
  },
  "language_info": {
   "codemirror_mode": {
    "name": "ipython",
    "version": 3
   },
   "file_extension": ".py",
   "mimetype": "text/x-python",
   "name": "python",
   "nbconvert_exporter": "python",
   "pygments_lexer": "ipython3",
   "version": "3.7.4"
  }
 },
 "nbformat": 4,
 "nbformat_minor": 4
}
