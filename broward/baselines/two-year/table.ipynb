{
 "cells": [
  {
   "cell_type": "code",
   "execution_count": 1,
   "metadata": {
    "hideCode": false,
    "hidePrompt": false
   },
   "outputs": [
    {
     "name": "stdout",
     "output_type": "stream",
     "text": [
      "Current working directory is now:  C:\\Users\\binha\\Documents\\Duke\\Cynthia Research\\interpretable-machine-learning\n"
     ]
    }
   ],
   "source": [
    "import os \n",
    "os.chdir('../../../')\n",
    "print(\"Current working directory is now: \", os.getcwd())\n",
    "\n",
    "import pytablewriter\n",
    "import pandas as pd\n",
    "import numpy as np"
   ]
  },
  {
   "cell_type": "code",
   "execution_count": 2,
   "metadata": {
    "hideCode": false,
    "hidePrompt": false
   },
   "outputs": [],
   "source": [
    "result = pd.read_csv(\"./broward/logs/baselines/FL-two-year-baseline-summary.csv\")"
   ]
  },
  {
   "cell_type": "code",
   "execution_count": 3,
   "metadata": {
    "hideCode": false,
    "hidePrompt": false
   },
   "outputs": [
    {
     "data": {
      "text/html": [
       "<div>\n",
       "<style scoped>\n",
       "    .dataframe tbody tr th:only-of-type {\n",
       "        vertical-align: middle;\n",
       "    }\n",
       "\n",
       "    .dataframe tbody tr th {\n",
       "        vertical-align: top;\n",
       "    }\n",
       "\n",
       "    .dataframe thead th {\n",
       "        text-align: right;\n",
       "    }\n",
       "</style>\n",
       "<table border=\"1\" class=\"dataframe\">\n",
       "  <thead>\n",
       "    <tr style=\"text-align: right;\">\n",
       "      <th></th>\n",
       "      <th>Unnamed: 0</th>\n",
       "      <th>Logistic</th>\n",
       "      <th>Lasso</th>\n",
       "      <th>Linear SVM</th>\n",
       "      <th>Random Forest</th>\n",
       "      <th>XGBoost</th>\n",
       "      <th>Performance Range</th>\n",
       "    </tr>\n",
       "  </thead>\n",
       "  <tbody>\n",
       "    <tr>\n",
       "      <th>0</th>\n",
       "      <td>General</td>\n",
       "      <td>0.67 (0.021)</td>\n",
       "      <td>0.65 (0.021)</td>\n",
       "      <td>0.67 (0.021)</td>\n",
       "      <td>0.656 (0.031)</td>\n",
       "      <td>0.656 (0.025)</td>\n",
       "      <td>0.020</td>\n",
       "    </tr>\n",
       "    <tr>\n",
       "      <th>1</th>\n",
       "      <td>Violent</td>\n",
       "      <td>0.672 (0.042)</td>\n",
       "      <td>0.663 (0.04)</td>\n",
       "      <td>0.656 (0.031)</td>\n",
       "      <td>0.671 (0.038)</td>\n",
       "      <td>0.677 (0.052)</td>\n",
       "      <td>0.021</td>\n",
       "    </tr>\n",
       "    <tr>\n",
       "      <th>2</th>\n",
       "      <td>Drug</td>\n",
       "      <td>0.712 (0.05)</td>\n",
       "      <td>0.73 (0.037)</td>\n",
       "      <td>0.693 (0.038)</td>\n",
       "      <td>0.705 (0.038)</td>\n",
       "      <td>0.72 (0.043)</td>\n",
       "      <td>0.037</td>\n",
       "    </tr>\n",
       "    <tr>\n",
       "      <th>3</th>\n",
       "      <td>Property</td>\n",
       "      <td>0.721 (0.066)</td>\n",
       "      <td>0.724 (0.07)</td>\n",
       "      <td>0.683 (0.055)</td>\n",
       "      <td>0.716 (0.028)</td>\n",
       "      <td>0.731 (0.039)</td>\n",
       "      <td>0.048</td>\n",
       "    </tr>\n",
       "    <tr>\n",
       "      <th>4</th>\n",
       "      <td>Felony</td>\n",
       "      <td>0.64 (0.042)</td>\n",
       "      <td>0.644 (0.054)</td>\n",
       "      <td>0.626 (0.037)</td>\n",
       "      <td>0.646 (0.047)</td>\n",
       "      <td>0.646 (0.037)</td>\n",
       "      <td>0.020</td>\n",
       "    </tr>\n",
       "    <tr>\n",
       "      <th>5</th>\n",
       "      <td>Misdemeanor</td>\n",
       "      <td>0.632 (0.021)</td>\n",
       "      <td>0.594 (0.012)</td>\n",
       "      <td>0.629 (0.02)</td>\n",
       "      <td>0.627 (0.027)</td>\n",
       "      <td>0.622 (0.024)</td>\n",
       "      <td>0.037</td>\n",
       "    </tr>\n",
       "  </tbody>\n",
       "</table>\n",
       "</div>"
      ],
      "text/plain": [
       "    Unnamed: 0       Logistic          Lasso     Linear SVM  Random Forest  \\\n",
       "0      General   0.67 (0.021)   0.65 (0.021)   0.67 (0.021)  0.656 (0.031)   \n",
       "1      Violent  0.672 (0.042)   0.663 (0.04)  0.656 (0.031)  0.671 (0.038)   \n",
       "2         Drug   0.712 (0.05)   0.73 (0.037)  0.693 (0.038)  0.705 (0.038)   \n",
       "3     Property  0.721 (0.066)   0.724 (0.07)  0.683 (0.055)  0.716 (0.028)   \n",
       "4       Felony   0.64 (0.042)  0.644 (0.054)  0.626 (0.037)  0.646 (0.047)   \n",
       "5  Misdemeanor  0.632 (0.021)  0.594 (0.012)   0.629 (0.02)  0.627 (0.027)   \n",
       "\n",
       "         XGBoost  Performance Range  \n",
       "0  0.656 (0.025)              0.020  \n",
       "1  0.677 (0.052)              0.021  \n",
       "2   0.72 (0.043)              0.037  \n",
       "3  0.731 (0.039)              0.048  \n",
       "4  0.646 (0.037)              0.020  \n",
       "5  0.622 (0.024)              0.037  "
      ]
     },
     "execution_count": 3,
     "metadata": {},
     "output_type": "execute_result"
    }
   ],
   "source": [
    "result"
   ]
  },
  {
   "cell_type": "code",
   "execution_count": 4,
   "metadata": {
    "hideCode": false,
    "hidePrompt": false
   },
   "outputs": [],
   "source": [
    "cols = result.columns.to_list()\n",
    "values = result.values.tolist()"
   ]
  },
  {
   "cell_type": "code",
   "execution_count": 5,
   "metadata": {
    "hideCode": false,
    "hideOutput": true,
    "hidePrompt": false
   },
   "outputs": [
    {
     "name": "stdout",
     "output_type": "stream",
     "text": [
      "\\begin{array}{l | l | l | l | l | l | r} \\hline\n",
      "    General     & \\verb|0.67 (0.021) | & \\verb|0.65 (0.021) | & \\verb|0.67 (0.021) | & \\verb|0.656 (0.031)| & \\verb|0.656 (0.025)| & 0.02000 \\\\ \\hline\n",
      "    Violent     & \\verb|0.672 (0.042)| & \\verb|0.663 (0.04) | & \\verb|0.656 (0.031)| & \\verb|0.671 (0.038)| & \\verb|0.677 (0.052)| & 0.02100 \\\\ \\hline\n",
      "    Drug        & \\verb|0.712 (0.05) | & \\verb|0.73 (0.037) | & \\verb|0.693 (0.038)| & \\verb|0.705 (0.038)| & \\verb|0.72 (0.043) | & 0.03700 \\\\ \\hline\n",
      "    Property    & \\verb|0.721 (0.066)| & \\verb|0.724 (0.07) | & \\verb|0.683 (0.055)| & \\verb|0.716 (0.028)| & \\verb|0.731 (0.039)| & 0.04800 \\\\ \\hline\n",
      "    Felony      & \\verb|0.64 (0.042) | & \\verb|0.644 (0.054)| & \\verb|0.626 (0.037)| & \\verb|0.646 (0.047)| & \\verb|0.646 (0.037)| & 0.02000 \\\\ \\hline\n",
      "    Misdemeanor & \\verb|0.632 (0.021)| & \\verb|0.594 (0.012)| & \\verb|0.629 (0.02) | & \\verb|0.627 (0.027)| & \\verb|0.622 (0.024)| & 0.03700 \\\\ \\hline\n",
      "\\end{array}\n"
     ]
    }
   ],
   "source": [
    "writer = pytablewriter.LatexTableWriter()\n",
    "writer.value_matrix = values\n",
    "writer.write_table()"
   ]
  }
 ],
 "metadata": {
  "hide_code_all_hidden": false,
  "kernelspec": {
   "display_name": "Python 3",
   "language": "python",
   "name": "python3"
  },
  "language_info": {
   "codemirror_mode": {
    "name": "ipython",
    "version": 3
   },
   "file_extension": ".py",
   "mimetype": "text/x-python",
   "name": "python",
   "nbconvert_exporter": "python",
   "pygments_lexer": "ipython3",
   "version": "3.7.4"
  }
 },
 "nbformat": 4,
 "nbformat_minor": 4
}
