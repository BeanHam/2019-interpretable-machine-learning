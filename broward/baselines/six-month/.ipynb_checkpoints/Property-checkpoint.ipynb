{
 "cells": [
  {
   "cell_type": "code",
   "execution_count": 1,
   "metadata": {},
   "outputs": [
    {
     "name": "stdout",
     "output_type": "stream",
     "text": [
      "Current working directory is now:  C:\\Users\\binha\\Documents\\Duke\\Cynthia Research\\interpretable_ml\n"
     ]
    }
   ],
   "source": [
    "import os \n",
    "os.chdir('../../../')\n",
    "print(\"Current working directory is now: \", os.getcwd())\n",
    "\n",
    "import pandas as pd \n",
    "import numpy as np\n",
    "import csv\n",
    "import utils.baseline_functions as base"
   ]
  },
  {
   "cell_type": "markdown",
   "metadata": {},
   "source": [
    "#### Load Data"
   ]
  },
  {
   "cell_type": "code",
   "execution_count": 2,
   "metadata": {},
   "outputs": [],
   "source": [
    "### train data\n",
    "data = pd.read_csv(\"./broward/data/broward_data.csv\").sort_values('person_id')\n",
    "x = data.loc[:,:'five_year']\n",
    "y = data['property_six_month'].values"
   ]
  },
  {
   "cell_type": "markdown",
   "metadata": {},
   "source": [
    "#### Modeling"
   ]
  },
  {
   "cell_type": "code",
   "execution_count": 3,
   "metadata": {},
   "outputs": [
    {
     "name": "stderr",
     "output_type": "stream",
     "text": [
      "C:\\Users\\binha\\Documents\\Duke\\Cynthia Research\\interpretable_ml\\utils\\fairness_functions.py:88: RuntimeWarning: invalid value encountered in longlong_scalars\n",
      "  prob = labels.sum() / len(labels)\n",
      "C:\\Users\\binha\\Documents\\Duke\\Cynthia Research\\interpretable_ml\\utils\\fairness_functions.py:88: RuntimeWarning: invalid value encountered in longlong_scalars\n",
      "  prob = labels.sum() / len(labels)\n",
      "C:\\Users\\binha\\Documents\\Duke\\Cynthia Research\\interpretable_ml\\utils\\fairness_functions.py:88: RuntimeWarning: invalid value encountered in longlong_scalars\n",
      "  prob = labels.sum() / len(labels)\n",
      "C:\\Users\\binha\\Documents\\Duke\\Cynthia Research\\interpretable_ml\\utils\\fairness_functions.py:43: RuntimeWarning: invalid value encountered in longlong_scalars\n",
      "  ratio = fn / fp if fp is not 0 else 0\n",
      "C:\\Users\\binha\\Documents\\Duke\\Cynthia Research\\interpretable_ml\\utils\\fairness_functions.py:88: RuntimeWarning: invalid value encountered in longlong_scalars\n",
      "  prob = labels.sum() / len(labels)\n",
      "C:\\Users\\binha\\Documents\\Duke\\Cynthia Research\\interpretable_ml\\utils\\fairness_functions.py:88: RuntimeWarning: invalid value encountered in longlong_scalars\n",
      "  prob = labels.sum() / len(labels)\n",
      "C:\\Users\\binha\\Documents\\Duke\\Cynthia Research\\interpretable_ml\\utils\\fairness_functions.py:88: RuntimeWarning: invalid value encountered in longlong_scalars\n",
      "  prob = labels.sum() / len(labels)\n",
      "C:\\Users\\binha\\Documents\\Duke\\Cynthia Research\\interpretable_ml\\utils\\fairness_functions.py:88: RuntimeWarning: invalid value encountered in longlong_scalars\n",
      "  prob = labels.sum() / len(labels)\n",
      "C:\\Users\\binha\\Documents\\Duke\\Cynthia Research\\interpretable_ml\\utils\\fairness_functions.py:88: RuntimeWarning: invalid value encountered in longlong_scalars\n",
      "  prob = labels.sum() / len(labels)\n",
      "C:\\Users\\binha\\Documents\\Duke\\Cynthia Research\\interpretable_ml\\utils\\fairness_functions.py:43: RuntimeWarning: divide by zero encountered in longlong_scalars\n",
      "  ratio = fn / fp if fp is not 0 else 0\n",
      "C:\\Users\\binha\\Documents\\Duke\\Cynthia Research\\interpretable_ml\\utils\\fairness_functions.py:88: RuntimeWarning: invalid value encountered in longlong_scalars\n",
      "  prob = labels.sum() / len(labels)\n",
      "C:\\Users\\binha\\Documents\\Duke\\Cynthia Research\\interpretable_ml\\utils\\fairness_functions.py:88: RuntimeWarning: invalid value encountered in longlong_scalars\n",
      "  prob = labels.sum() / len(labels)\n",
      "C:\\Users\\binha\\Documents\\Duke\\Cynthia Research\\interpretable_ml\\utils\\fairness_functions.py:43: RuntimeWarning: divide by zero encountered in longlong_scalars\n",
      "  ratio = fn / fp if fp is not 0 else 0\n",
      "C:\\Users\\binha\\Documents\\Duke\\Cynthia Research\\interpretable_ml\\utils\\fairness_functions.py:43: RuntimeWarning: invalid value encountered in longlong_scalars\n",
      "  ratio = fn / fp if fp is not 0 else 0\n",
      "C:\\Users\\binha\\Documents\\Duke\\Cynthia Research\\interpretable_ml\\utils\\fairness_functions.py:88: RuntimeWarning: invalid value encountered in longlong_scalars\n",
      "  prob = labels.sum() / len(labels)\n",
      "C:\\Users\\binha\\Documents\\Duke\\Cynthia Research\\interpretable_ml\\utils\\fairness_functions.py:43: RuntimeWarning: divide by zero encountered in longlong_scalars\n",
      "  ratio = fn / fp if fp is not 0 else 0\n",
      "C:\\Users\\binha\\Documents\\Duke\\Cynthia Research\\interpretable_ml\\utils\\fairness_functions.py:43: RuntimeWarning: invalid value encountered in longlong_scalars\n",
      "  ratio = fn / fp if fp is not 0 else 0\n",
      "C:\\Users\\binha\\Documents\\Duke\\Cynthia Research\\interpretable_ml\\utils\\fairness_functions.py:88: RuntimeWarning: invalid value encountered in longlong_scalars\n",
      "  prob = labels.sum() / len(labels)\n",
      "C:\\Users\\binha\\Documents\\Duke\\Cynthia Research\\interpretable_ml\\utils\\fairness_functions.py:43: RuntimeWarning: divide by zero encountered in longlong_scalars\n",
      "  ratio = fn / fp if fp is not 0 else 0\n",
      "C:\\Users\\binha\\Documents\\Duke\\Cynthia Research\\interpretable_ml\\utils\\fairness_functions.py:43: RuntimeWarning: invalid value encountered in longlong_scalars\n",
      "  ratio = fn / fp if fp is not 0 else 0\n",
      "C:\\Users\\binha\\Documents\\Duke\\Cynthia Research\\interpretable_ml\\utils\\fairness_functions.py:88: RuntimeWarning: invalid value encountered in longlong_scalars\n",
      "  prob = labels.sum() / len(labels)\n",
      "C:\\Users\\binha\\Documents\\Duke\\Cynthia Research\\interpretable_ml\\utils\\fairness_functions.py:43: RuntimeWarning: divide by zero encountered in longlong_scalars\n",
      "  ratio = fn / fp if fp is not 0 else 0\n",
      "C:\\Users\\binha\\Documents\\Duke\\Cynthia Research\\interpretable_ml\\utils\\fairness_functions.py:43: RuntimeWarning: invalid value encountered in longlong_scalars\n",
      "  ratio = fn / fp if fp is not 0 else 0\n",
      "C:\\Users\\binha\\Documents\\Duke\\Cynthia Research\\interpretable_ml\\utils\\fairness_functions.py:88: RuntimeWarning: invalid value encountered in longlong_scalars\n",
      "  prob = labels.sum() / len(labels)\n",
      "C:\\Users\\binha\\Documents\\Duke\\Cynthia Research\\interpretable_ml\\utils\\fairness_functions.py:43: RuntimeWarning: divide by zero encountered in longlong_scalars\n",
      "  ratio = fn / fp if fp is not 0 else 0\n",
      "C:\\Users\\binha\\Documents\\Duke\\Cynthia Research\\interpretable_ml\\utils\\fairness_functions.py:88: RuntimeWarning: invalid value encountered in longlong_scalars\n",
      "  prob = labels.sum() / len(labels)\n",
      "C:\\Users\\binha\\Documents\\Duke\\Cynthia Research\\interpretable_ml\\utils\\fairness_functions.py:43: RuntimeWarning: divide by zero encountered in longlong_scalars\n",
      "  ratio = fn / fp if fp is not 0 else 0\n",
      "C:\\Users\\binha\\Documents\\Duke\\Cynthia Research\\interpretable_ml\\utils\\fairness_functions.py:43: RuntimeWarning: invalid value encountered in longlong_scalars\n",
      "  ratio = fn / fp if fp is not 0 else 0\n",
      "C:\\Users\\binha\\Documents\\Duke\\Cynthia Research\\interpretable_ml\\utils\\fairness_functions.py:88: RuntimeWarning: invalid value encountered in longlong_scalars\n",
      "  prob = labels.sum() / len(labels)\n",
      "C:\\Users\\binha\\Documents\\Duke\\Cynthia Research\\interpretable_ml\\utils\\fairness_functions.py:43: RuntimeWarning: divide by zero encountered in longlong_scalars\n",
      "  ratio = fn / fp if fp is not 0 else 0\n",
      "C:\\Users\\binha\\Documents\\Duke\\Cynthia Research\\interpretable_ml\\utils\\fairness_functions.py:43: RuntimeWarning: invalid value encountered in longlong_scalars\n",
      "  ratio = fn / fp if fp is not 0 else 0\n",
      "C:\\Users\\binha\\Documents\\Duke\\Cynthia Research\\interpretable_ml\\utils\\fairness_functions.py:88: RuntimeWarning: invalid value encountered in longlong_scalars\n",
      "  prob = labels.sum() / len(labels)\n",
      "C:\\Users\\binha\\Documents\\Duke\\Cynthia Research\\interpretable_ml\\utils\\fairness_functions.py:43: RuntimeWarning: divide by zero encountered in longlong_scalars\n",
      "  ratio = fn / fp if fp is not 0 else 0\n",
      "C:\\Users\\binha\\Documents\\Duke\\Cynthia Research\\interpretable_ml\\utils\\fairness_functions.py:43: RuntimeWarning: invalid value encountered in longlong_scalars\n",
      "  ratio = fn / fp if fp is not 0 else 0\n",
      "C:\\Users\\binha\\Documents\\Duke\\Cynthia Research\\interpretable_ml\\utils\\fairness_functions.py:88: RuntimeWarning: invalid value encountered in longlong_scalars\n",
      "  prob = labels.sum() / len(labels)\n",
      "C:\\Users\\binha\\Documents\\Duke\\Cynthia Research\\interpretable_ml\\utils\\fairness_functions.py:43: RuntimeWarning: divide by zero encountered in longlong_scalars\n",
      "  ratio = fn / fp if fp is not 0 else 0\n",
      "C:\\Users\\binha\\Documents\\Duke\\Cynthia Research\\interpretable_ml\\utils\\fairness_functions.py:43: RuntimeWarning: invalid value encountered in longlong_scalars\n",
      "  ratio = fn / fp if fp is not 0 else 0\n",
      "C:\\Users\\binha\\Documents\\Duke\\Cynthia Research\\interpretable_ml\\utils\\fairness_functions.py:88: RuntimeWarning: invalid value encountered in longlong_scalars\n",
      "  prob = labels.sum() / len(labels)\n",
      "C:\\Users\\binha\\Documents\\Duke\\Cynthia Research\\interpretable_ml\\utils\\fairness_functions.py:43: RuntimeWarning: divide by zero encountered in longlong_scalars\n",
      "  ratio = fn / fp if fp is not 0 else 0\n",
      "C:\\Users\\binha\\Documents\\Duke\\Cynthia Research\\interpretable_ml\\utils\\fairness_functions.py:88: RuntimeWarning: invalid value encountered in longlong_scalars\n",
      "  prob = labels.sum() / len(labels)\n",
      "C:\\Users\\binha\\Documents\\Duke\\Cynthia Research\\interpretable_ml\\utils\\fairness_functions.py:43: RuntimeWarning: divide by zero encountered in longlong_scalars\n",
      "  ratio = fn / fp if fp is not 0 else 0\n",
      "C:\\Users\\binha\\Documents\\Duke\\Cynthia Research\\interpretable_ml\\utils\\fairness_functions.py:43: RuntimeWarning: invalid value encountered in longlong_scalars\n",
      "  ratio = fn / fp if fp is not 0 else 0\n",
      "C:\\Users\\binha\\Documents\\Duke\\Cynthia Research\\interpretable_ml\\utils\\fairness_functions.py:88: RuntimeWarning: invalid value encountered in longlong_scalars\n",
      "  prob = labels.sum() / len(labels)\n"
     ]
    },
    {
     "name": "stderr",
     "output_type": "stream",
     "text": [
      "C:\\Users\\binha\\Documents\\Duke\\Cynthia Research\\interpretable_ml\\utils\\fairness_functions.py:43: RuntimeWarning: divide by zero encountered in longlong_scalars\n",
      "  ratio = fn / fp if fp is not 0 else 0\n",
      "C:\\Users\\binha\\Documents\\Duke\\Cynthia Research\\interpretable_ml\\utils\\fairness_functions.py:43: RuntimeWarning: invalid value encountered in longlong_scalars\n",
      "  ratio = fn / fp if fp is not 0 else 0\n",
      "C:\\Users\\binha\\Documents\\Duke\\Cynthia Research\\interpretable_ml\\utils\\fairness_functions.py:88: RuntimeWarning: invalid value encountered in longlong_scalars\n",
      "  prob = labels.sum() / len(labels)\n",
      "C:\\Users\\binha\\Documents\\Duke\\Cynthia Research\\interpretable_ml\\utils\\fairness_functions.py:43: RuntimeWarning: divide by zero encountered in longlong_scalars\n",
      "  ratio = fn / fp if fp is not 0 else 0\n",
      "C:\\Users\\binha\\Documents\\Duke\\Cynthia Research\\interpretable_ml\\utils\\fairness_functions.py:43: RuntimeWarning: invalid value encountered in longlong_scalars\n",
      "  ratio = fn / fp if fp is not 0 else 0\n",
      "C:\\Users\\binha\\Documents\\Duke\\Cynthia Research\\interpretable_ml\\utils\\fairness_functions.py:88: RuntimeWarning: invalid value encountered in longlong_scalars\n",
      "  prob = labels.sum() / len(labels)\n",
      "C:\\Users\\binha\\Documents\\Duke\\Cynthia Research\\interpretable_ml\\utils\\fairness_functions.py:43: RuntimeWarning: divide by zero encountered in longlong_scalars\n",
      "  ratio = fn / fp if fp is not 0 else 0\n",
      "C:\\Users\\binha\\Documents\\Duke\\Cynthia Research\\interpretable_ml\\utils\\fairness_functions.py:43: RuntimeWarning: invalid value encountered in longlong_scalars\n",
      "  ratio = fn / fp if fp is not 0 else 0\n",
      "C:\\Users\\binha\\Documents\\Duke\\Cynthia Research\\interpretable_ml\\utils\\fairness_functions.py:88: RuntimeWarning: invalid value encountered in longlong_scalars\n",
      "  prob = labels.sum() / len(labels)\n",
      "C:\\Users\\binha\\Documents\\Duke\\Cynthia Research\\interpretable_ml\\utils\\fairness_functions.py:43: RuntimeWarning: divide by zero encountered in longlong_scalars\n",
      "  ratio = fn / fp if fp is not 0 else 0\n",
      "C:\\Users\\binha\\Documents\\Duke\\Cynthia Research\\interpretable_ml\\utils\\fairness_functions.py:88: RuntimeWarning: invalid value encountered in longlong_scalars\n",
      "  prob = labels.sum() / len(labels)\n"
     ]
    }
   ],
   "source": [
    "#### Logistic\n",
    "c = [1e-5, 5e-5, 1e-4, 5e-4, 1e-3, 3e-5, 1e-2, 5e-2]\n",
    "logistic_summary = base.Logistic(X=x,\n",
    "                                 Y=y, \n",
    "                                 C=c,\n",
    "                                 seed=816)\n",
    "\n",
    "#### Lasso\n",
    "c = [1e-5, 5e-5, 1e-4, 5e-4, 1e-3, 3e-5, 1e-2, 5e-2]\n",
    "lasso_summary = base.Lasso(X=x,\n",
    "                           Y=y,\n",
    "                           C=c,\n",
    "                           seed=816)\n",
    "\n",
    "#### LinearSVM\n",
    "c = [1e-5, 5e-5, 1e-4, 5e-4, 1e-3, 3e-5, 1e-2, 5e-2]\n",
    "svm_summary = base.LinearSVM(X=x,\n",
    "                             Y=y,\n",
    "                             C=c,\n",
    "                             seed=816)\n",
    "\n",
    "#### Random Forest\n",
    "n_estimators =  [50,100,150,200,250]\n",
    "depth = [1,2,3]\n",
    "impurity = [0.001, 0.002, 0.003, 0.004, 0.005, \\\n",
    "            0.006, 0.007, 0.008, 0.009, 0.01]\n",
    "rf_summary = base.RF(X=x,\n",
    "                     Y=y, \n",
    "                     depth=depth, \n",
    "                     estimators=n_estimators, \n",
    "                     impurity=impurity,\n",
    "                     seed=816)\n",
    "\n",
    "#### XGBoost\n",
    "learning_rate = [0.05]\n",
    "depth = [1,2,3]\n",
    "n_estimators = [40,60,80,100,150,200,250]\n",
    "gamma = [6,8,10,12]\n",
    "child_weight = [6,8,10,12]\n",
    "subsample = [0.5]\n",
    "xgb_summary = base.XGB(X=x,\n",
    "                       Y=y,\n",
    "                       learning_rate=learning_rate, \n",
    "                       depth=depth, \n",
    "                       estimators=n_estimators,\n",
    "                       gamma=gamma, \n",
    "                       child_weight=child_weight, \n",
    "                       subsample=subsample, \n",
    "                       seed=816)\n",
    "\n",
    "#### save results\n",
    "summary_property6_FL = {\"Logistic\": logistic_summary,\n",
    "                        \"Lasso\": lasso_summary,\n",
    "                        \"LinearSVM\": svm_summary,\n",
    "                        \"RF\": rf_summary,\n",
    "                        \"XGBoost\": xgb_summary}"
   ]
  },
  {
   "cell_type": "markdown",
   "metadata": {},
   "source": [
    "#### Results"
   ]
  },
  {
   "cell_type": "code",
   "execution_count": 5,
   "metadata": {},
   "outputs": [
    {
     "data": {
      "text/plain": [
       "[['Logistic', 0.7229631915337691, 0.03372977838497053],\n",
       " ['Lasso', 0.7266405435312651, 0.030648512826370645],\n",
       " ['LinearSVM', 0.668375584202437, 0.0684139360045199],\n",
       " ['RF', 0.6872883058833306, 0.0656633385313038],\n",
       " ['XGBoost', 0.7087013446725036, 0.036455617587735814]]"
      ]
     },
     "execution_count": 5,
     "metadata": {},
     "output_type": "execute_result"
    }
   ],
   "source": [
    "results, auc = [], []\n",
    "for model_name, model_summary in summary_property6_FL.items():\n",
    "    results.append([model_name, \n",
    "                    np.mean(model_summary['holdout_test_auc']), \n",
    "                    np.mean(model_summary['auc_diffs'])])\n",
    "    auc.append(np.mean(model_summary['holdout_test_auc']))\n",
    "results"
   ]
  },
  {
   "cell_type": "markdown",
   "metadata": {},
   "source": [
    "#### Save Results"
   ]
  },
  {
   "cell_type": "code",
   "execution_count": 6,
   "metadata": {},
   "outputs": [],
   "source": [
    "path = \"./broward/logs/baselines/\"\n",
    "results = [[\"Property\", np.str((round(np.mean(logistic_summary['holdout_test_auc']), 3))) + \" (\" + np.str(round(np.std(logistic_summary['holdout_test_auc']), 3)) + \")\", \n",
    "            np.str(round(np.mean(lasso_summary['holdout_test_auc']),3)) + \" (\" + np.str(round(np.std(lasso_summary['holdout_test_auc']), 3)) + \")\", \n",
    "            np.str(round(np.mean(svm_summary['holdout_test_auc']),3)) + \" (\" + np.str(round(np.std(svm_summary['holdout_test_auc']), 3)) + \")\", \n",
    "            np.str(round(np.mean(rf_summary['holdout_test_auc']),3)) + \" (\" + np.str(round(np.std(rf_summary['holdout_test_auc']), 3)) + \")\", \n",
    "            np.str(round(np.mean(xgb_summary['holdout_test_auc']),3)) + \" (\" + np.str(round(np.std(xgb_summary['holdout_test_auc']), 3)) + \")\", \n",
    "            round(np.max(auc) - np.min(auc), 3)]]\n",
    "with open(path + 'FL-six-month-baseline-summary.csv', 'a') as writeFile:\n",
    "    writer = csv.writer(writeFile)\n",
    "    writer.writerows(results)"
   ]
  }
 ],
 "metadata": {
  "kernelspec": {
   "display_name": "Python 3",
   "language": "python",
   "name": "python3"
  },
  "language_info": {
   "codemirror_mode": {
    "name": "ipython",
    "version": 3
   },
   "file_extension": ".py",
   "mimetype": "text/x-python",
   "name": "python",
   "nbconvert_exporter": "python",
   "pygments_lexer": "ipython3",
   "version": "3.7.4"
  }
 },
 "nbformat": 4,
 "nbformat_minor": 4
}
