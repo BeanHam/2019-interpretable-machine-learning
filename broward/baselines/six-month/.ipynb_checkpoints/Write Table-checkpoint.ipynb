{
 "cells": [
  {
   "cell_type": "code",
   "execution_count": 1,
   "metadata": {
    "hideCode": false,
    "hidePrompt": false
   },
   "outputs": [],
   "source": [
    "import pytablewriter\n",
    "import pandas as pd\n",
    "import numpy as np"
   ]
  },
  {
   "cell_type": "code",
   "execution_count": 2,
   "metadata": {
    "hideCode": false,
    "hidePrompt": false
   },
   "outputs": [],
   "source": [
    "result = pd.read_csv(\"C:\\\\Users\\\\binha\\\\Documents\\\\Duke\\\\Cynthia Research\\\\KY-analysis-mytrials\\\\broward\\\\broward models\\\\model results\\\\Baselines\\\\Six Month\\\\Six Month Baseline Summary.csv\")"
   ]
  },
  {
   "cell_type": "code",
   "execution_count": 3,
   "metadata": {
    "hideCode": false,
    "hidePrompt": false
   },
   "outputs": [
    {
     "data": {
      "text/html": [
       "<div>\n",
       "<style scoped>\n",
       "    .dataframe tbody tr th:only-of-type {\n",
       "        vertical-align: middle;\n",
       "    }\n",
       "\n",
       "    .dataframe tbody tr th {\n",
       "        vertical-align: top;\n",
       "    }\n",
       "\n",
       "    .dataframe thead th {\n",
       "        text-align: right;\n",
       "    }\n",
       "</style>\n",
       "<table border=\"1\" class=\"dataframe\">\n",
       "  <thead>\n",
       "    <tr style=\"text-align: right;\">\n",
       "      <th></th>\n",
       "      <th>Unnamed: 0</th>\n",
       "      <th>Logistic</th>\n",
       "      <th>Lasso</th>\n",
       "      <th>Linear SVM</th>\n",
       "      <th>Random Forest</th>\n",
       "      <th>XGBoost</th>\n",
       "      <th>Performance Range</th>\n",
       "    </tr>\n",
       "  </thead>\n",
       "  <tbody>\n",
       "    <tr>\n",
       "      <th>0</th>\n",
       "      <td>General</td>\n",
       "      <td>0.624 (0.021)</td>\n",
       "      <td>0.615 (0.025)</td>\n",
       "      <td>0.62 (0.025)</td>\n",
       "      <td>0.619 (0.02)</td>\n",
       "      <td>0.624 (0.016)</td>\n",
       "      <td>0.009</td>\n",
       "    </tr>\n",
       "    <tr>\n",
       "      <th>1</th>\n",
       "      <td>Violent</td>\n",
       "      <td>0.675 (0.029)</td>\n",
       "      <td>0.677 (0.016)</td>\n",
       "      <td>0.661 (0.037)</td>\n",
       "      <td>0.667 (0.044)</td>\n",
       "      <td>0.686 (0.039)</td>\n",
       "      <td>0.025</td>\n",
       "    </tr>\n",
       "    <tr>\n",
       "      <th>2</th>\n",
       "      <td>Drug</td>\n",
       "      <td>0.688 (0.049)</td>\n",
       "      <td>0.687 (0.034)</td>\n",
       "      <td>0.64 (0.073)</td>\n",
       "      <td>0.669 (0.07)</td>\n",
       "      <td>0.677 (0.069)</td>\n",
       "      <td>0.048</td>\n",
       "    </tr>\n",
       "    <tr>\n",
       "      <th>3</th>\n",
       "      <td>Property</td>\n",
       "      <td>0.723 (0.061)</td>\n",
       "      <td>0.727 (0.065)</td>\n",
       "      <td>0.668 (0.077)</td>\n",
       "      <td>0.69 (0.047)</td>\n",
       "      <td>0.707 (0.05)</td>\n",
       "      <td>0.058</td>\n",
       "    </tr>\n",
       "    <tr>\n",
       "      <th>4</th>\n",
       "      <td>Felony</td>\n",
       "      <td>0.608 (0.045)</td>\n",
       "      <td>0.607 (0.054)</td>\n",
       "      <td>0.585 (0.092)</td>\n",
       "      <td>0.603 (0.067)</td>\n",
       "      <td>0.589 (0.055)</td>\n",
       "      <td>0.023</td>\n",
       "    </tr>\n",
       "    <tr>\n",
       "      <th>5</th>\n",
       "      <td>Misdemeanor</td>\n",
       "      <td>0.609 (0.033)</td>\n",
       "      <td>0.6 (0.023)</td>\n",
       "      <td>0.588 (0.02)</td>\n",
       "      <td>0.598 (0.034)</td>\n",
       "      <td>0.602 (0.028)</td>\n",
       "      <td>0.021</td>\n",
       "    </tr>\n",
       "  </tbody>\n",
       "</table>\n",
       "</div>"
      ],
      "text/plain": [
       "    Unnamed: 0       Logistic          Lasso     Linear SVM  Random Forest  \\\n",
       "0      General  0.624 (0.021)  0.615 (0.025)   0.62 (0.025)   0.619 (0.02)   \n",
       "1      Violent  0.675 (0.029)  0.677 (0.016)  0.661 (0.037)  0.667 (0.044)   \n",
       "2         Drug  0.688 (0.049)  0.687 (0.034)   0.64 (0.073)   0.669 (0.07)   \n",
       "3     Property  0.723 (0.061)  0.727 (0.065)  0.668 (0.077)   0.69 (0.047)   \n",
       "4       Felony  0.608 (0.045)  0.607 (0.054)  0.585 (0.092)  0.603 (0.067)   \n",
       "5  Misdemeanor  0.609 (0.033)    0.6 (0.023)   0.588 (0.02)  0.598 (0.034)   \n",
       "\n",
       "         XGBoost  Performance Range  \n",
       "0  0.624 (0.016)              0.009  \n",
       "1  0.686 (0.039)              0.025  \n",
       "2  0.677 (0.069)              0.048  \n",
       "3   0.707 (0.05)              0.058  \n",
       "4  0.589 (0.055)              0.023  \n",
       "5  0.602 (0.028)              0.021  "
      ]
     },
     "execution_count": 3,
     "metadata": {},
     "output_type": "execute_result"
    }
   ],
   "source": [
    "result"
   ]
  },
  {
   "cell_type": "code",
   "execution_count": 4,
   "metadata": {
    "hideCode": false,
    "hidePrompt": false
   },
   "outputs": [],
   "source": [
    "cols = result.columns.to_list()\n",
    "values = result.values.tolist()"
   ]
  },
  {
   "cell_type": "code",
   "execution_count": 5,
   "metadata": {
    "hideCode": false,
    "hideOutput": true,
    "hidePrompt": false
   },
   "outputs": [
    {
     "name": "stdout",
     "output_type": "stream",
     "text": [
      "\\begin{array}{l | l | l | l | l | l | r} \\hline\n",
      "    General     & \\verb|0.624 (0.021)| & \\verb|0.615 (0.025)| & \\verb|0.62 (0.025) | & \\verb|0.619 (0.02) | & \\verb|0.624 (0.016)| &  0.00900 \\\\ \\hline\n",
      "    Violent     & \\verb|0.675 (0.029)| & \\verb|0.677 (0.016)| & \\verb|0.661 (0.037)| & \\verb|0.667 (0.044)| & \\verb|0.686 (0.039)| &  0.02500 \\\\ \\hline\n",
      "    Drug        & \\verb|0.688 (0.049)| & \\verb|0.687 (0.034)| & \\verb|0.64 (0.073) | & \\verb|0.669 (0.07) | & \\verb|0.677 (0.069)| &  0.04800 \\\\ \\hline\n",
      "    Property    & \\verb|0.723 (0.061)| & \\verb|0.727 (0.065)| & \\verb|0.668 (0.077)| & \\verb|0.69 (0.047) | & \\verb|0.707 (0.05) | &  0.05800 \\\\ \\hline\n",
      "    Felony      & \\verb|0.608 (0.045)| & \\verb|0.607 (0.054)| & \\verb|0.585 (0.092)| & \\verb|0.603 (0.067)| & \\verb|0.589 (0.055)| &  0.02300 \\\\ \\hline\n",
      "    Misdemeanor & \\verb|0.609 (0.033)| & \\verb|0.6 (0.023)  | & \\verb|0.588 (0.02) | & \\verb|0.598 (0.034)| & \\verb|0.602 (0.028)| &  0.02100 \\\\ \\hline\n",
      "\\end{array}\n"
     ]
    }
   ],
   "source": [
    "writer = pytablewriter.LatexTableWriter()\n",
    "writer.value_matrix = values\n",
    "writer.write_table()"
   ]
  }
 ],
 "metadata": {
  "hide_code_all_hidden": false,
  "kernelspec": {
   "display_name": "Python 3",
   "language": "python",
   "name": "python3"
  },
  "language_info": {
   "codemirror_mode": {
    "name": "ipython",
    "version": 3
   },
   "file_extension": ".py",
   "mimetype": "text/x-python",
   "name": "python",
   "nbconvert_exporter": "python",
   "pygments_lexer": "ipython3",
   "version": "3.7.4"
  }
 },
 "nbformat": 4,
 "nbformat_minor": 4
}
