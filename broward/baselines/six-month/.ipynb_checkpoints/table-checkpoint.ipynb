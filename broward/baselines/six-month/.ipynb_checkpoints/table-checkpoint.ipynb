{
 "cells": [
  {
   "cell_type": "code",
   "execution_count": 1,
   "metadata": {
    "hideCode": false,
    "hidePrompt": false
   },
   "outputs": [
    {
     "name": "stdout",
     "output_type": "stream",
     "text": [
      "Current working directory is now:  C:\\Users\\binha\\Documents\\Duke\\Cynthia Research\\interpretable-machine-learning\n"
     ]
    }
   ],
   "source": [
    "import os \n",
    "os.chdir('../../../')\n",
    "print(\"Current working directory is now: \", os.getcwd())\n",
    "\n",
    "import pytablewriter\n",
    "import pandas as pd\n",
    "import numpy as np"
   ]
  },
  {
   "cell_type": "code",
   "execution_count": 2,
   "metadata": {
    "hideCode": false,
    "hidePrompt": false
   },
   "outputs": [],
   "source": [
    "result = pd.read_csv(\"./broward/logs/baselines/FL-six-month-baseline-summary.csv\")"
   ]
  },
  {
   "cell_type": "code",
   "execution_count": 3,
   "metadata": {
    "hideCode": false,
    "hidePrompt": false
   },
   "outputs": [
    {
     "data": {
      "text/html": [
       "<div>\n",
       "<style scoped>\n",
       "    .dataframe tbody tr th:only-of-type {\n",
       "        vertical-align: middle;\n",
       "    }\n",
       "\n",
       "    .dataframe tbody tr th {\n",
       "        vertical-align: top;\n",
       "    }\n",
       "\n",
       "    .dataframe thead th {\n",
       "        text-align: right;\n",
       "    }\n",
       "</style>\n",
       "<table border=\"1\" class=\"dataframe\">\n",
       "  <thead>\n",
       "    <tr style=\"text-align: right;\">\n",
       "      <th></th>\n",
       "      <th>Unnamed: 0</th>\n",
       "      <th>Logistic</th>\n",
       "      <th>Lasso</th>\n",
       "      <th>Linear SVM</th>\n",
       "      <th>Random Forest</th>\n",
       "      <th>XGBoost</th>\n",
       "      <th>Performance Range</th>\n",
       "    </tr>\n",
       "  </thead>\n",
       "  <tbody>\n",
       "    <tr>\n",
       "      <th>0</th>\n",
       "      <td>General</td>\n",
       "      <td>0.624 (0.021)</td>\n",
       "      <td>0.615 (0.025)</td>\n",
       "      <td>0.62 (0.025)</td>\n",
       "      <td>0.618 (0.018)</td>\n",
       "      <td>0.622 (0.016)</td>\n",
       "      <td>0.009</td>\n",
       "    </tr>\n",
       "    <tr>\n",
       "      <th>1</th>\n",
       "      <td>Violent</td>\n",
       "      <td>0.675 (0.029)</td>\n",
       "      <td>0.677 (0.016)</td>\n",
       "      <td>0.661 (0.037)</td>\n",
       "      <td>0.673 (0.048)</td>\n",
       "      <td>0.691 (0.035)</td>\n",
       "      <td>0.030</td>\n",
       "    </tr>\n",
       "    <tr>\n",
       "      <th>2</th>\n",
       "      <td>Drug</td>\n",
       "      <td>0.688 (0.049)</td>\n",
       "      <td>0.687 (0.034)</td>\n",
       "      <td>0.64 (0.073)</td>\n",
       "      <td>0.664 (0.067)</td>\n",
       "      <td>0.696 (0.046)</td>\n",
       "      <td>0.056</td>\n",
       "    </tr>\n",
       "    <tr>\n",
       "      <th>3</th>\n",
       "      <td>Property</td>\n",
       "      <td>0.723 (0.061)</td>\n",
       "      <td>0.727 (0.065)</td>\n",
       "      <td>0.668 (0.077)</td>\n",
       "      <td>0.687 (0.046)</td>\n",
       "      <td>0.709 (0.05)</td>\n",
       "      <td>0.058</td>\n",
       "    </tr>\n",
       "    <tr>\n",
       "      <th>4</th>\n",
       "      <td>Felony</td>\n",
       "      <td>0.608 (0.045)</td>\n",
       "      <td>0.607 (0.054)</td>\n",
       "      <td>0.585 (0.092)</td>\n",
       "      <td>0.601 (0.066)</td>\n",
       "      <td>0.59 (0.069)</td>\n",
       "      <td>0.023</td>\n",
       "    </tr>\n",
       "    <tr>\n",
       "      <th>5</th>\n",
       "      <td>Misdemeanor</td>\n",
       "      <td>0.609 (0.033)</td>\n",
       "      <td>0.6 (0.023)</td>\n",
       "      <td>0.588 (0.02)</td>\n",
       "      <td>0.599 (0.034)</td>\n",
       "      <td>0.604 (0.034)</td>\n",
       "      <td>0.021</td>\n",
       "    </tr>\n",
       "  </tbody>\n",
       "</table>\n",
       "</div>"
      ],
      "text/plain": [
       "    Unnamed: 0       Logistic          Lasso     Linear SVM  Random Forest  \\\n",
       "0      General  0.624 (0.021)  0.615 (0.025)   0.62 (0.025)  0.618 (0.018)   \n",
       "1      Violent  0.675 (0.029)  0.677 (0.016)  0.661 (0.037)  0.673 (0.048)   \n",
       "2         Drug  0.688 (0.049)  0.687 (0.034)   0.64 (0.073)  0.664 (0.067)   \n",
       "3     Property  0.723 (0.061)  0.727 (0.065)  0.668 (0.077)  0.687 (0.046)   \n",
       "4       Felony  0.608 (0.045)  0.607 (0.054)  0.585 (0.092)  0.601 (0.066)   \n",
       "5  Misdemeanor  0.609 (0.033)    0.6 (0.023)   0.588 (0.02)  0.599 (0.034)   \n",
       "\n",
       "         XGBoost  Performance Range  \n",
       "0  0.622 (0.016)              0.009  \n",
       "1  0.691 (0.035)              0.030  \n",
       "2  0.696 (0.046)              0.056  \n",
       "3   0.709 (0.05)              0.058  \n",
       "4   0.59 (0.069)              0.023  \n",
       "5  0.604 (0.034)              0.021  "
      ]
     },
     "execution_count": 3,
     "metadata": {},
     "output_type": "execute_result"
    }
   ],
   "source": [
    "result"
   ]
  },
  {
   "cell_type": "code",
   "execution_count": 4,
   "metadata": {
    "hideCode": false,
    "hidePrompt": false
   },
   "outputs": [],
   "source": [
    "cols = result.columns.to_list()\n",
    "values = result.values.tolist()"
   ]
  },
  {
   "cell_type": "code",
   "execution_count": 5,
   "metadata": {
    "hideCode": false,
    "hideOutput": true,
    "hidePrompt": false
   },
   "outputs": [
    {
     "name": "stdout",
     "output_type": "stream",
     "text": [
      "\\begin{array}{l | l | l | l | l | l | r} \\hline\n",
      "    General     & \\verb|0.624 (0.021)| & \\verb|0.615 (0.025)| & \\verb|0.62 (0.025) | & \\verb|0.618 (0.018)| & \\verb|0.622 (0.016)| &  0.00900 \\\\ \\hline\n",
      "    Violent     & \\verb|0.675 (0.029)| & \\verb|0.677 (0.016)| & \\verb|0.661 (0.037)| & \\verb|0.673 (0.048)| & \\verb|0.691 (0.035)| &  0.03000 \\\\ \\hline\n",
      "    Drug        & \\verb|0.688 (0.049)| & \\verb|0.687 (0.034)| & \\verb|0.64 (0.073) | & \\verb|0.664 (0.067)| & \\verb|0.696 (0.046)| &  0.05600 \\\\ \\hline\n",
      "    Property    & \\verb|0.723 (0.061)| & \\verb|0.727 (0.065)| & \\verb|0.668 (0.077)| & \\verb|0.687 (0.046)| & \\verb|0.709 (0.05) | &  0.05800 \\\\ \\hline\n",
      "    Felony      & \\verb|0.608 (0.045)| & \\verb|0.607 (0.054)| & \\verb|0.585 (0.092)| & \\verb|0.601 (0.066)| & \\verb|0.59 (0.069) | &  0.02300 \\\\ \\hline\n",
      "    Misdemeanor & \\verb|0.609 (0.033)| & \\verb|0.6 (0.023)  | & \\verb|0.588 (0.02) | & \\verb|0.599 (0.034)| & \\verb|0.604 (0.034)| &  0.02100 \\\\ \\hline\n",
      "\\end{array}\n"
     ]
    }
   ],
   "source": [
    "writer = pytablewriter.LatexTableWriter()\n",
    "writer.value_matrix = values\n",
    "writer.write_table()"
   ]
  }
 ],
 "metadata": {
  "hide_code_all_hidden": false,
  "kernelspec": {
   "display_name": "Python 3",
   "language": "python",
   "name": "python3"
  },
  "language_info": {
   "codemirror_mode": {
    "name": "ipython",
    "version": 3
   },
   "file_extension": ".py",
   "mimetype": "text/x-python",
   "name": "python",
   "nbconvert_exporter": "python",
   "pygments_lexer": "ipython3",
   "version": "3.7.4"
  }
 },
 "nbformat": 4,
 "nbformat_minor": 4
}
