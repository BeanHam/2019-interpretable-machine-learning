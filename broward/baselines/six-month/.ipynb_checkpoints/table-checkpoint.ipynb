{
 "cells": [
  {
   "cell_type": "code",
   "execution_count": null,
   "metadata": {
    "hideCode": false,
    "hidePrompt": false
   },
   "outputs": [],
   "source": [
    "import os \n",
    "os.chdir('../../../')\n",
    "print(\"Current working directory is now: \", os.getcwd())\n",
    "\n",
    "import pytablewriter\n",
    "import pandas as pd\n",
    "import numpy as np"
   ]
  },
  {
   "cell_type": "code",
   "execution_count": 2,
   "metadata": {
    "hideCode": false,
    "hidePrompt": false
   },
   "outputs": [],
   "source": [
    "result = pd.read_csv(\"./broward/logs/baselines/FL-six-month-baseline-summary.csv\")"
   ]
  },
  {
   "cell_type": "code",
   "execution_count": 3,
   "metadata": {
    "hideCode": false,
    "hidePrompt": false
   },
   "outputs": [
    {
     "data": {
      "text/html": [
       "<div>\n",
       "<style scoped>\n",
       "    .dataframe tbody tr th:only-of-type {\n",
       "        vertical-align: middle;\n",
       "    }\n",
       "\n",
       "    .dataframe tbody tr th {\n",
       "        vertical-align: top;\n",
       "    }\n",
       "\n",
       "    .dataframe thead th {\n",
       "        text-align: right;\n",
       "    }\n",
       "</style>\n",
       "<table border=\"1\" class=\"dataframe\">\n",
       "  <thead>\n",
       "    <tr style=\"text-align: right;\">\n",
       "      <th></th>\n",
       "      <th>Unnamed: 0</th>\n",
       "      <th>Logistic</th>\n",
       "      <th>Lasso</th>\n",
       "      <th>Linear SVM</th>\n",
       "      <th>Random Forest</th>\n",
       "      <th>XGBoost</th>\n",
       "      <th>Performance Range</th>\n",
       "    </tr>\n",
       "  </thead>\n",
       "  <tbody>\n",
       "    <tr>\n",
       "      <th>0</th>\n",
       "      <td>General</td>\n",
       "      <td>0.625 (0.022)</td>\n",
       "      <td>0.608 (0.022)</td>\n",
       "      <td>0.618 (0.028)</td>\n",
       "      <td>0.615 (0.026)</td>\n",
       "      <td>0.623 (0.014)</td>\n",
       "      <td>0.017</td>\n",
       "    </tr>\n",
       "    <tr>\n",
       "      <th>1</th>\n",
       "      <td>Violent</td>\n",
       "      <td>0.685 (0.024)</td>\n",
       "      <td>0.651 (0.038)</td>\n",
       "      <td>0.619 (0.036)</td>\n",
       "      <td>0.668 (0.045)</td>\n",
       "      <td>0.685 (0.033)</td>\n",
       "      <td>0.066</td>\n",
       "    </tr>\n",
       "    <tr>\n",
       "      <th>2</th>\n",
       "      <td>Drug</td>\n",
       "      <td>0.673 (0.084)</td>\n",
       "      <td>0.696 (0.022)</td>\n",
       "      <td>0.64 (0.081)</td>\n",
       "      <td>0.675 (0.055)</td>\n",
       "      <td>0.698 (0.038)</td>\n",
       "      <td>0.058</td>\n",
       "    </tr>\n",
       "    <tr>\n",
       "      <th>3</th>\n",
       "      <td>Property</td>\n",
       "      <td>0.727 (0.047)</td>\n",
       "      <td>0.725 (0.053)</td>\n",
       "      <td>0.659 (0.069)</td>\n",
       "      <td>0.687 (0.047)</td>\n",
       "      <td>0.725 (0.048)</td>\n",
       "      <td>0.068</td>\n",
       "    </tr>\n",
       "    <tr>\n",
       "      <th>4</th>\n",
       "      <td>Felony</td>\n",
       "      <td>0.611 (0.05)</td>\n",
       "      <td>0.613 (0.054)</td>\n",
       "      <td>0.58 (0.086)</td>\n",
       "      <td>0.591 (0.061)</td>\n",
       "      <td>0.585 (0.066)</td>\n",
       "      <td>0.034</td>\n",
       "    </tr>\n",
       "    <tr>\n",
       "      <th>5</th>\n",
       "      <td>Misdemeanor</td>\n",
       "      <td>0.612 (0.038)</td>\n",
       "      <td>0.586 (0.04)</td>\n",
       "      <td>0.586 (0.016)</td>\n",
       "      <td>0.593 (0.039)</td>\n",
       "      <td>0.608 (0.031)</td>\n",
       "      <td>0.027</td>\n",
       "    </tr>\n",
       "  </tbody>\n",
       "</table>\n",
       "</div>"
      ],
      "text/plain": [
       "    Unnamed: 0       Logistic          Lasso     Linear SVM  Random Forest  \\\n",
       "0      General  0.625 (0.022)  0.608 (0.022)  0.618 (0.028)  0.615 (0.026)   \n",
       "1      Violent  0.685 (0.024)  0.651 (0.038)  0.619 (0.036)  0.668 (0.045)   \n",
       "2         Drug  0.673 (0.084)  0.696 (0.022)   0.64 (0.081)  0.675 (0.055)   \n",
       "3     Property  0.727 (0.047)  0.725 (0.053)  0.659 (0.069)  0.687 (0.047)   \n",
       "4       Felony   0.611 (0.05)  0.613 (0.054)   0.58 (0.086)  0.591 (0.061)   \n",
       "5  Misdemeanor  0.612 (0.038)   0.586 (0.04)  0.586 (0.016)  0.593 (0.039)   \n",
       "\n",
       "         XGBoost  Performance Range  \n",
       "0  0.623 (0.014)              0.017  \n",
       "1  0.685 (0.033)              0.066  \n",
       "2  0.698 (0.038)              0.058  \n",
       "3  0.725 (0.048)              0.068  \n",
       "4  0.585 (0.066)              0.034  \n",
       "5  0.608 (0.031)              0.027  "
      ]
     },
     "execution_count": 3,
     "metadata": {},
     "output_type": "execute_result"
    }
   ],
   "source": [
    "result"
   ]
  },
  {
   "cell_type": "code",
   "execution_count": 4,
   "metadata": {
    "hideCode": false,
    "hidePrompt": false
   },
   "outputs": [],
   "source": [
    "cols = result.columns.to_list()\n",
    "values = result.values.tolist()"
   ]
  },
  {
   "cell_type": "code",
   "execution_count": 5,
   "metadata": {
    "hideCode": false,
    "hideOutput": true,
    "hidePrompt": false
   },
   "outputs": [
    {
     "name": "stdout",
     "output_type": "stream",
     "text": [
      "\\begin{array}{l | l | l | l | l | l | r} \\hline\n",
      "    General     & \\verb|0.625 (0.022)| & \\verb|0.608 (0.022)| & \\verb|0.618 (0.028)| & \\verb|0.615 (0.026)| & \\verb|0.623 (0.014)| & 0.01700 \\\\ \\hline\n",
      "    Violent     & \\verb|0.685 (0.024)| & \\verb|0.651 (0.038)| & \\verb|0.619 (0.036)| & \\verb|0.668 (0.045)| & \\verb|0.685 (0.033)| & 0.06600 \\\\ \\hline\n",
      "    Drug        & \\verb|0.673 (0.084)| & \\verb|0.696 (0.022)| & \\verb|0.64 (0.081) | & \\verb|0.675 (0.055)| & \\verb|0.698 (0.038)| & 0.05800 \\\\ \\hline\n",
      "    Property    & \\verb|0.727 (0.047)| & \\verb|0.725 (0.053)| & \\verb|0.659 (0.069)| & \\verb|0.687 (0.047)| & \\verb|0.725 (0.048)| & 0.06800 \\\\ \\hline\n",
      "    Felony      & \\verb|0.611 (0.05) | & \\verb|0.613 (0.054)| & \\verb|0.58 (0.086) | & \\verb|0.591 (0.061)| & \\verb|0.585 (0.066)| & 0.03400 \\\\ \\hline\n",
      "    Misdemeanor & \\verb|0.612 (0.038)| & \\verb|0.586 (0.04) | & \\verb|0.586 (0.016)| & \\verb|0.593 (0.039)| & \\verb|0.608 (0.031)| & 0.02700 \\\\ \\hline\n",
      "\\end{array}\n"
     ]
    }
   ],
   "source": [
    "writer = pytablewriter.LatexTableWriter()\n",
    "writer.value_matrix = values\n",
    "writer.write_table()"
   ]
  }
 ],
 "metadata": {
  "hide_code_all_hidden": false,
  "kernelspec": {
   "display_name": "Python 3",
   "language": "python",
   "name": "python3"
  },
  "language_info": {
   "codemirror_mode": {
    "name": "ipython",
    "version": 3
   },
   "file_extension": ".py",
   "mimetype": "text/x-python",
   "name": "python",
   "nbconvert_exporter": "python",
   "pygments_lexer": "ipython3",
   "version": "3.8.8"
  }
 },
 "nbformat": 4,
 "nbformat_minor": 4
}
