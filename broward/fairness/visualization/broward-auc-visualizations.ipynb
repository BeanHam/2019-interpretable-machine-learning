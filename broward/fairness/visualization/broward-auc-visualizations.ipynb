{
 "cells": [
  {
   "cell_type": "code",
   "execution_count": 1,
   "metadata": {},
   "outputs": [
    {
     "name": "stdout",
     "output_type": "stream",
     "text": [
      "Current working directory is now:  C:\\Users\\Caroline Wang\\OneDrive\\Duke\\Criminal Recidivism\\psa-analysis\n"
     ]
    }
   ],
   "source": [
    "import os \n",
    "os.chdir('../../')\n",
    "print(\"Current working directory is now: \", os.getcwd())\n",
    "\n",
    "import numpy as np \n",
    "import pandas as pd \n",
    "\n",
    "import matplotlib.pyplot as plt \n",
    "\n",
    "from utils.load_settings import load_settings\n",
    "from utils.latex_helpers import df_to_latex\n",
    "from utils.fairness_functions import reshape_general_violent_cond_auc_summaries\n",
    "\n",
    "%matplotlib inline\n",
    "# load parameters\n",
    "settings = load_settings()"
   ]
  },
  {
   "cell_type": "markdown",
   "metadata": {},
   "source": [
    "## AUC Fairness \n",
    "\n",
    "In this notebook, we check the AUC conditioned on the sensitive attributes of race and gender. "
   ]
  },
  {
   "cell_type": "code",
   "execution_count": 2,
   "metadata": {},
   "outputs": [
    {
     "data": {
      "text/plain": [
       "dict_keys(['general-six-month-arnold', 'general-six-month-compas', 'general-six-month-ebm', 'general-two-year-arnold', 'general-two-year-compas', 'general-two-year-ebm', 'violent-two-year-arnold', 'violent-two-year-compas', 'violent-two-year-ebm'])"
      ]
     },
     "execution_count": 2,
     "metadata": {},
     "output_type": "execute_result"
    }
   ],
   "source": [
    "# read in auc data for prediction problems of interest\n",
    "auc_data = {}\n",
    "for time_period in [\n",
    "                    \"six-month\", \n",
    "                    \"two-year\"\n",
    "                    ]:\n",
    "    \n",
    "    for problem in ['general', 'violent']:\n",
    "        problem_path = \"broward/FL AUC/\" + time_period + \"/\" + problem\n",
    "        dircontents = os.listdir()\n",
    "        if os.path.isdir(problem_path):\n",
    "            onlyfiles = [f for f in os.listdir(problem_path) if os.path.isfile(os.path.join(problem_path, f))]\n",
    "        else: \n",
    "            continue\n",
    "        for filename in onlyfiles:\n",
    "            model_name = filename.split(\"_\")[0]\n",
    "            if model_name in ['ebm', 'riskslim', 'compas', 'arnold']:\n",
    "                auc_data[\"-\".join((problem, time_period, model_name))] = pd.read_csv(problem_path + \"/\" + filename)\n",
    "\n",
    "auc_data.keys()"
   ]
  },
  {
   "cell_type": "markdown",
   "metadata": {},
   "source": [
    "## AUC of Arnold NCA and Arnold NVCA"
   ]
  },
  {
   "cell_type": "code",
   "execution_count": 132,
   "metadata": {},
   "outputs": [
    {
     "data": {
      "text/html": [
       "<div>\n",
       "<style scoped>\n",
       "    .dataframe tbody tr th:only-of-type {\n",
       "        vertical-align: middle;\n",
       "    }\n",
       "\n",
       "    .dataframe tbody tr th {\n",
       "        vertical-align: top;\n",
       "    }\n",
       "\n",
       "    .dataframe thead th {\n",
       "        text-align: right;\n",
       "    }\n",
       "</style>\n",
       "<table border=\"1\" class=\"dataframe\">\n",
       "  <thead>\n",
       "    <tr style=\"text-align: right;\">\n",
       "      <th></th>\n",
       "      <th>Attribute</th>\n",
       "      <th>Attribute Value</th>\n",
       "      <th>AUC</th>\n",
       "      <th>fold_num</th>\n",
       "    </tr>\n",
       "  </thead>\n",
       "  <tbody>\n",
       "    <tr>\n",
       "      <th>0</th>\n",
       "      <td>race</td>\n",
       "      <td>Caucasian</td>\n",
       "      <td>0.565226</td>\n",
       "      <td>0</td>\n",
       "    </tr>\n",
       "    <tr>\n",
       "      <th>1</th>\n",
       "      <td>race</td>\n",
       "      <td>African-American</td>\n",
       "      <td>0.602189</td>\n",
       "      <td>0</td>\n",
       "    </tr>\n",
       "    <tr>\n",
       "      <th>2</th>\n",
       "      <td>race</td>\n",
       "      <td>Other</td>\n",
       "      <td>0.675926</td>\n",
       "      <td>0</td>\n",
       "    </tr>\n",
       "    <tr>\n",
       "      <th>3</th>\n",
       "      <td>race</td>\n",
       "      <td>Hispanic</td>\n",
       "      <td>0.737500</td>\n",
       "      <td>0</td>\n",
       "    </tr>\n",
       "    <tr>\n",
       "      <th>4</th>\n",
       "      <td>sex</td>\n",
       "      <td>male</td>\n",
       "      <td>0.637022</td>\n",
       "      <td>0</td>\n",
       "    </tr>\n",
       "  </tbody>\n",
       "</table>\n",
       "</div>"
      ],
      "text/plain": [
       "  Attribute   Attribute Value       AUC  fold_num\n",
       "0      race         Caucasian  0.565226         0\n",
       "1      race  African-American  0.602189         0\n",
       "2      race             Other  0.675926         0\n",
       "3      race          Hispanic  0.737500         0\n",
       "4       sex              male  0.637022         0"
      ]
     },
     "execution_count": 132,
     "metadata": {},
     "output_type": "execute_result"
    }
   ],
   "source": [
    "# Arnold NCA corresp to general-two-year-arnold\n",
    "# Arnold NVCA corresp to violent-two-year-arnold\n",
    "auc_data['general-two-year-compas'].head()\n",
    "auc_data['violent-two-year-compas'].head()"
   ]
  },
  {
   "cell_type": "code",
   "execution_count": 4,
   "metadata": {},
   "outputs": [
    {
     "data": {
      "text/html": [
       "<div>\n",
       "<style scoped>\n",
       "    .dataframe tbody tr th:only-of-type {\n",
       "        vertical-align: middle;\n",
       "    }\n",
       "\n",
       "    .dataframe tbody tr th {\n",
       "        vertical-align: top;\n",
       "    }\n",
       "\n",
       "    .dataframe thead th {\n",
       "        text-align: right;\n",
       "    }\n",
       "</style>\n",
       "<table border=\"1\" class=\"dataframe\">\n",
       "  <thead>\n",
       "    <tr style=\"text-align: right;\">\n",
       "      <th></th>\n",
       "      <th>Model</th>\n",
       "      <th>Label</th>\n",
       "      <th>Afr-Am.</th>\n",
       "      <th>Cauc.</th>\n",
       "      <th>Hisp.</th>\n",
       "      <th>Other Race</th>\n",
       "      <th>race_range</th>\n",
       "      <th>Female</th>\n",
       "      <th>Male</th>\n",
       "      <th>sex_range</th>\n",
       "    </tr>\n",
       "  </thead>\n",
       "  <tbody>\n",
       "    <tr>\n",
       "      <th>0</th>\n",
       "      <td>Arnold NCA</td>\n",
       "      <td>general\\_two\\_year</td>\n",
       "      <td>0.586</td>\n",
       "      <td>0.602</td>\n",
       "      <td>0.566</td>\n",
       "      <td>0.641</td>\n",
       "      <td>0.076</td>\n",
       "      <td>0.636</td>\n",
       "      <td>0.594</td>\n",
       "      <td>0.042</td>\n",
       "    </tr>\n",
       "    <tr>\n",
       "      <th>1</th>\n",
       "      <td>Arnold NVCA Raw</td>\n",
       "      <td>violent\\_two\\_year</td>\n",
       "      <td>0.601</td>\n",
       "      <td>0.731</td>\n",
       "      <td>0.756</td>\n",
       "      <td>0.657</td>\n",
       "      <td>0.155</td>\n",
       "      <td>0.710</td>\n",
       "      <td>0.639</td>\n",
       "      <td>0.072</td>\n",
       "    </tr>\n",
       "    <tr>\n",
       "      <th>0</th>\n",
       "      <td>COMPAS General</td>\n",
       "      <td>general\\_two\\_year</td>\n",
       "      <td>0.624</td>\n",
       "      <td>0.645</td>\n",
       "      <td>0.531</td>\n",
       "      <td>0.593</td>\n",
       "      <td>0.114</td>\n",
       "      <td>0.685</td>\n",
       "      <td>0.625</td>\n",
       "      <td>0.061</td>\n",
       "    </tr>\n",
       "    <tr>\n",
       "      <th>1</th>\n",
       "      <td>COMPAS Viol.</td>\n",
       "      <td>violent\\_two\\_year</td>\n",
       "      <td>0.633</td>\n",
       "      <td>0.642</td>\n",
       "      <td>0.574</td>\n",
       "      <td>0.658</td>\n",
       "      <td>0.084</td>\n",
       "      <td>0.618</td>\n",
       "      <td>0.637</td>\n",
       "      <td>0.019</td>\n",
       "    </tr>\n",
       "    <tr>\n",
       "      <th>0</th>\n",
       "      <td>EBM</td>\n",
       "      <td>general\\_two\\_year</td>\n",
       "      <td>0.659</td>\n",
       "      <td>0.655</td>\n",
       "      <td>0.630</td>\n",
       "      <td>0.580</td>\n",
       "      <td>0.079</td>\n",
       "      <td>0.708</td>\n",
       "      <td>0.649</td>\n",
       "      <td>0.059</td>\n",
       "    </tr>\n",
       "    <tr>\n",
       "      <th>1</th>\n",
       "      <td>EBM</td>\n",
       "      <td>violent\\_two\\_year</td>\n",
       "      <td>0.657</td>\n",
       "      <td>0.711</td>\n",
       "      <td>0.765</td>\n",
       "      <td>0.663</td>\n",
       "      <td>0.109</td>\n",
       "      <td>0.683</td>\n",
       "      <td>0.668</td>\n",
       "      <td>0.014</td>\n",
       "    </tr>\n",
       "  </tbody>\n",
       "</table>\n",
       "</div>"
      ],
      "text/plain": [
       "             Model               Label  Afr-Am.  Cauc.  Hisp.  Other Race  \\\n",
       "0       Arnold NCA  general\\_two\\_year    0.586  0.602  0.566       0.641   \n",
       "1  Arnold NVCA Raw  violent\\_two\\_year    0.601  0.731  0.756       0.657   \n",
       "0   COMPAS General  general\\_two\\_year    0.624  0.645  0.531       0.593   \n",
       "1     COMPAS Viol.  violent\\_two\\_year    0.633  0.642  0.574       0.658   \n",
       "0              EBM  general\\_two\\_year    0.659  0.655  0.630       0.580   \n",
       "1              EBM  violent\\_two\\_year    0.657  0.711  0.765       0.663   \n",
       "\n",
       "   race_range  Female   Male  sex_range  \n",
       "0       0.076   0.636  0.594      0.042  \n",
       "1       0.155   0.710  0.639      0.072  \n",
       "0       0.114   0.685  0.625      0.061  \n",
       "1       0.084   0.618  0.637      0.019  \n",
       "0       0.079   0.708  0.649      0.059  \n",
       "1       0.109   0.683  0.668      0.014  "
      ]
     },
     "execution_count": 4,
     "metadata": {},
     "output_type": "execute_result"
    }
   ],
   "source": [
    "models = {'arnold': ['Arnold NCA', 'Arnold NVCA Raw'], \n",
    "          'compas': ['COMPAS General', \"COMPAS Viol.\"], \n",
    "          'ebm': ['EBM', 'EBM']}\n",
    "\n",
    "res_dfs = []\n",
    "for model_name, model_table_labels in models.items():\n",
    "    viol_auc_name = 'violent-two-year-' + model_name\n",
    "    res_df = reshape_general_violent_cond_auc_summaries(general_auc=auc_data['general-two-year-' + model_name],\n",
    "                                                        general_model_name=model_table_labels[0],\n",
    "                                                        violent_auc=auc_data['violent-two-year-' + model_name],\n",
    "                                                        violent_model_name=model_table_labels[1]\n",
    "                                                        )\n",
    "    res_dfs.append(res_df)\n",
    "    \n",
    "auc_summary_table = (pd.concat(res_dfs, axis=0)\n",
    "                        .rename(columns={\"African-American\": \"Afr-Am.\",\n",
    "                                        \"Other\": \"Other Race\",\n",
    "                                        \"Hispanic\": \"Hisp.\",\n",
    "                                        \"Caucasian\": \"Cauc.\",\n",
    "                                        \"female\": \"Female\", \n",
    "                                        \"male\": \"Male\"}))\n",
    "\n",
    "# TODO: Round OUTPUT\n",
    "auc_summary_table = auc_summary_table[[\"Model\", \"Label\", \n",
    "                                       \"Afr-Am.\", \"Cauc.\", \"Hisp.\", \"Other Race\", \"race_range\",\n",
    "                                       \"Female\", \"Male\", \"sex_range\"]]\n",
    "\n",
    "for column_name in [\"Afr-Am.\", \"Cauc.\", \"Hisp.\", \"Other Race\", \"race_range\",\n",
    "                    \"Female\", \"Male\", \"sex_range\"]:\n",
    "    \n",
    "    auc_summary_table[column_name] = auc_summary_table[column_name].apply(lambda x: round(x, 3))\n",
    "    \n",
    "auc_summary_table"
   ]
  },
  {
   "cell_type": "code",
   "execution_count": 5,
   "metadata": {},
   "outputs": [
    {
     "name": "stdout",
     "output_type": "stream",
     "text": [
      "\\begin{array}{l | l | r | r | r | r | r | r | r | r} \\hline\n",
      "    \\verb|     Model     | & \\verb|      Label       | & \\verb|Afr-Am.| & \\verb|Cauc.| & \\verb|Hisp.| & \\verb|Other Race| & \\verb|race_range| & \\verb|Female| & \\verb|Male | & \\verb|sex_range| \\\\ \\hline\n",
      "    \\hline\n",
      "    \\verb|Arnold NCA     | & general\\_two\\_year &   0.586 & 0.602 & 0.566 &      0.641 &      0.076 &  0.636 & 0.594 &     0.042 \\\\ \\hline\n",
      "    \\verb|Arnold NVCA Raw| & violent\\_two\\_year &   0.601 & 0.731 & 0.756 &      0.657 &      0.155 &  0.710 & 0.639 &     0.072 \\\\ \\hline\n",
      "    \\verb|COMPAS General | & general\\_two\\_year &   0.624 & 0.645 & 0.531 &      0.593 &      0.114 &  0.685 & 0.625 &     0.061 \\\\ \\hline\n",
      "    \\verb|COMPAS Viol.   | & violent\\_two\\_year &   0.633 & 0.642 & 0.574 &      0.658 &      0.084 &  0.618 & 0.637 &     0.019 \\\\ \\hline\n",
      "    EBM             & general\\_two\\_year &   0.659 & 0.655 & 0.630 &      0.580 &      0.079 &  0.708 & 0.649 &     0.059 \\\\ \\hline\n",
      "    EBM             & violent\\_two\\_year &   0.657 & 0.711 & 0.765 &      0.663 &      0.109 &  0.683 & 0.668 &     0.014 \\\\ \\hline\n",
      "\\end{array}\n"
     ]
    }
   ],
   "source": [
    "# print as latex\n",
    "df_to_latex(auc_summary_table)"
   ]
  },
  {
   "cell_type": "code",
   "execution_count": 6,
   "metadata": {},
   "outputs": [],
   "source": [
    "## write result\n",
    "auc_summary_table.to_csv(\"broward/logs/fairness_results/auc_visualizations/auc_summary_general_violence.csv\")"
   ]
  },
  {
   "cell_type": "code",
   "execution_count": 70,
   "metadata": {},
   "outputs": [
    {
     "data": {
      "image/png": "[encoded data removed]",
      "text/plain": [
       "<Figure size 720x504 with 1 Axes>"
      ]
     },
     "metadata": {},
     "output_type": "display_data"
    }
   ],
   "source": [
    "# test out a plot to visualize this \n",
    "plt.figure(figsize=(10, 7))\n",
    "plt.style.use('ggplot')\n",
    "\n",
    "    # set width of bar\n",
    "barWidth = 0.15\n",
    "\n",
    "# set height of bar\n",
    "attribute_values = df[\"Attribute Value\"].unique()\n",
    "bars = {attribute_value: {\"bar\": None, \"pos\": None} for attribute_value in attribute_values}\n",
    "for attribute_value in attribute_values:\n",
    "    bars[attribute_value][\"bar\"] = wide_df[('AUC', attribute_value)]\n",
    "    bar_len = len(bars[attribute_value][\"bar\"])\n",
    "\n",
    "# Set position of bar on X axis\n",
    "for i, (bar_name, bar_dict) in enumerate(bars.items()):\n",
    "    if i == 0:\n",
    "        bar_dict[\"pos\"] = np.arange(len(bar_dict[\"bar\"]))\n",
    "    else: \n",
    "        prev_bar_pos = bars[prev_bar_name][\"pos\"]\n",
    "        bar_dict[\"pos\"] = [x + barWidth for x in prev_bar_pos]\n",
    "    prev_bar_name = bar_name \n",
    "\n",
    "colors = ['cornflowerblue', 'lightslategrey', 'lightskyblue', 'steelblue', 'lightcoral', 'pink']\n",
    "\n",
    "for i, (bar_name, bar_dict) in enumerate(bars.items()):\n",
    "    plt.bar(bar_dict[\"pos\"], \n",
    "            bar_dict[\"bar\"], \n",
    "            color=colors[i], \n",
    "            width=barWidth, \n",
    "            edgecolor='white', \n",
    "            label=f\"{bar_name}\")\n",
    "\n",
    "# Add xticks on the middle of the group bars\n",
    "plt.xlabel('Arnold Score', fontsize=25)\n",
    "xtick_labels = df['prediction_problem'].unique()\n",
    "plt.xticks(np.arange(len(xtick_labels))+.33, xtick_labels)\n",
    "plt.tick_params(axis=\"x\", labelsize=20)\n",
    "\n",
    "plt.ylim(0,1)\n",
    "plt.ylabel('Conditional AUC', fontsize=25)\n",
    "plt.legend(fontsize=25)\n",
    "plt.show()"
   ]
  }
 ],
 "metadata": {
  "kernelspec": {
   "display_name": "Python 3",
   "language": "python",
   "name": "python3"
  },
  "language_info": {
   "codemirror_mode": {
    "name": "ipython",
    "version": 3
   },
   "file_extension": ".py",
   "mimetype": "text/x-python",
   "name": "python",
   "nbconvert_exporter": "python",
   "pygments_lexer": "ipython3",
   "version": "3.6.5"
  }
 },
 "nbformat": 4,
 "nbformat_minor": 2
}
