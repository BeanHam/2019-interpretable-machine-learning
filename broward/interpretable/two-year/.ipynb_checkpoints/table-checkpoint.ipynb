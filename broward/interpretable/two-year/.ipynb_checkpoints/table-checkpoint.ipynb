{
 "cells": [
  {
   "cell_type": "code",
   "execution_count": null,
   "metadata": {
    "hideCode": false,
    "hidePrompt": false
   },
   "outputs": [],
   "source": [
    "import os \n",
    "os.chdir('../../../')\n",
    "print(\"Current working directory is now: \", os.getcwd())\n",
    "\n",
    "import pytablewriter\n",
    "import pandas as pd\n",
    "import numpy as np"
   ]
  },
  {
   "cell_type": "code",
   "execution_count": 2,
   "metadata": {
    "hideCode": false,
    "hidePrompt": false
   },
   "outputs": [],
   "source": [
    "result = pd.read_csv(\"./broward/logs/interpretable/FL-two-year-interpretable-summary.csv\")"
   ]
  },
  {
   "cell_type": "code",
   "execution_count": 3,
   "metadata": {
    "hideCode": false,
    "hidePrompt": false
   },
   "outputs": [
    {
     "data": {
      "text/html": [
       "<div>\n",
       "<style scoped>\n",
       "    .dataframe tbody tr th:only-of-type {\n",
       "        vertical-align: middle;\n",
       "    }\n",
       "\n",
       "    .dataframe tbody tr th {\n",
       "        vertical-align: top;\n",
       "    }\n",
       "\n",
       "    .dataframe thead th {\n",
       "        text-align: right;\n",
       "    }\n",
       "</style>\n",
       "<table border=\"1\" class=\"dataframe\">\n",
       "  <thead>\n",
       "    <tr style=\"text-align: right;\">\n",
       "      <th></th>\n",
       "      <th>Unnamed: 0</th>\n",
       "      <th>CART</th>\n",
       "      <th>EBM</th>\n",
       "      <th>Lasso Stumps</th>\n",
       "      <th>RiskSLIM</th>\n",
       "      <th>Performance Range</th>\n",
       "      <th>Arnold PSA</th>\n",
       "      <th>Compas</th>\n",
       "    </tr>\n",
       "  </thead>\n",
       "  <tbody>\n",
       "    <tr>\n",
       "      <th>0</th>\n",
       "      <td>General</td>\n",
       "      <td>0.613 (0.025)</td>\n",
       "      <td>0.664 (0.027)</td>\n",
       "      <td>0.651 (0.02)</td>\n",
       "      <td>0.624 (0.022)</td>\n",
       "      <td>0.051</td>\n",
       "      <td>0.605 (0.022)</td>\n",
       "      <td>0.631 (0.019)</td>\n",
       "    </tr>\n",
       "    <tr>\n",
       "      <th>1</th>\n",
       "      <td>Violent</td>\n",
       "      <td>0.613 (0.045)</td>\n",
       "      <td>0.673 (0.045)</td>\n",
       "      <td>0.663 (0.037)</td>\n",
       "      <td>0.655 (0.055)</td>\n",
       "      <td>0.059</td>\n",
       "      <td>0.649 (0.028)</td>\n",
       "      <td>0.639 (0.036)</td>\n",
       "    </tr>\n",
       "    <tr>\n",
       "      <th>2</th>\n",
       "      <td>Drug</td>\n",
       "      <td>0.666 (0.026)</td>\n",
       "      <td>0.685 (0.043)</td>\n",
       "      <td>0.716 (0.037)</td>\n",
       "      <td>0.697 (0.027)</td>\n",
       "      <td>0.049</td>\n",
       "      <td>0.552 (0.05)</td>\n",
       "      <td>0.633 (0.025)</td>\n",
       "    </tr>\n",
       "    <tr>\n",
       "      <th>3</th>\n",
       "      <td>Property</td>\n",
       "      <td>0.686 (0.059)</td>\n",
       "      <td>0.736 (0.034)</td>\n",
       "      <td>0.738 (0.031)</td>\n",
       "      <td>0.717 (0.02)</td>\n",
       "      <td>0.052</td>\n",
       "      <td>0.658 (0.012)</td>\n",
       "      <td>0.645 (0.036)</td>\n",
       "    </tr>\n",
       "    <tr>\n",
       "      <th>4</th>\n",
       "      <td>Felony</td>\n",
       "      <td>0.596 (0.033)</td>\n",
       "      <td>0.655 (0.05)</td>\n",
       "      <td>0.631 (0.028)</td>\n",
       "      <td>0.59 (0.036)</td>\n",
       "      <td>0.065</td>\n",
       "      <td>0.619 (0.044)</td>\n",
       "      <td>0.652 (0.034)</td>\n",
       "    </tr>\n",
       "    <tr>\n",
       "      <th>5</th>\n",
       "      <td>Misdemeanor</td>\n",
       "      <td>0.577 (0.036)</td>\n",
       "      <td>0.636 (0.029)</td>\n",
       "      <td>0.61 (0.02)</td>\n",
       "      <td>0.579 (0.015)</td>\n",
       "      <td>0.059</td>\n",
       "      <td>0.544 (0.019)</td>\n",
       "      <td>0.551 (0.03)</td>\n",
       "    </tr>\n",
       "  </tbody>\n",
       "</table>\n",
       "</div>"
      ],
      "text/plain": [
       "    Unnamed: 0           CART            EBM   Lasso Stumps       RiskSLIM  \\\n",
       "0      General  0.613 (0.025)  0.664 (0.027)   0.651 (0.02)  0.624 (0.022)   \n",
       "1      Violent  0.613 (0.045)  0.673 (0.045)  0.663 (0.037)  0.655 (0.055)   \n",
       "2         Drug  0.666 (0.026)  0.685 (0.043)  0.716 (0.037)  0.697 (0.027)   \n",
       "3     Property  0.686 (0.059)  0.736 (0.034)  0.738 (0.031)   0.717 (0.02)   \n",
       "4       Felony  0.596 (0.033)   0.655 (0.05)  0.631 (0.028)   0.59 (0.036)   \n",
       "5  Misdemeanor  0.577 (0.036)  0.636 (0.029)    0.61 (0.02)  0.579 (0.015)   \n",
       "\n",
       "   Performance Range     Arnold PSA         Compas  \n",
       "0              0.051  0.605 (0.022)  0.631 (0.019)  \n",
       "1              0.059  0.649 (0.028)  0.639 (0.036)  \n",
       "2              0.049   0.552 (0.05)  0.633 (0.025)  \n",
       "3              0.052  0.658 (0.012)  0.645 (0.036)  \n",
       "4              0.065  0.619 (0.044)  0.652 (0.034)  \n",
       "5              0.059  0.544 (0.019)   0.551 (0.03)  "
      ]
     },
     "execution_count": 3,
     "metadata": {},
     "output_type": "execute_result"
    }
   ],
   "source": [
    "result"
   ]
  },
  {
   "cell_type": "code",
   "execution_count": 4,
   "metadata": {
    "hideCode": false,
    "hidePrompt": false
   },
   "outputs": [],
   "source": [
    "cols = result.columns.to_list()\n",
    "values = result.values.tolist()"
   ]
  },
  {
   "cell_type": "code",
   "execution_count": 5,
   "metadata": {
    "hideCode": false,
    "hideOutput": true,
    "hidePrompt": false
   },
   "outputs": [
    {
     "name": "stdout",
     "output_type": "stream",
     "text": [
      "\\begin{array}{l | l | l | l | l | r | l | l} \\hline\n",
      "    General     & \\verb|0.613 (0.025)| & \\verb|0.664 (0.027)| & \\verb|0.651 (0.02) | & \\verb|0.624 (0.022)| & 0.05100 & \\verb|0.605 (0.022)| & \\verb|0.631 (0.019)| \\\\ \\hline\n",
      "    Violent     & \\verb|0.613 (0.045)| & \\verb|0.673 (0.045)| & \\verb|0.663 (0.037)| & \\verb|0.655 (0.055)| & 0.05900 & \\verb|0.649 (0.028)| & \\verb|0.639 (0.036)| \\\\ \\hline\n",
      "    Drug        & \\verb|0.666 (0.026)| & \\verb|0.685 (0.043)| & \\verb|0.716 (0.037)| & \\verb|0.697 (0.027)| & 0.04900 & \\verb|0.552 (0.05) | & \\verb|0.633 (0.025)| \\\\ \\hline\n",
      "    Property    & \\verb|0.686 (0.059)| & \\verb|0.736 (0.034)| & \\verb|0.738 (0.031)| & \\verb|0.717 (0.02) | & 0.05200 & \\verb|0.658 (0.012)| & \\verb|0.645 (0.036)| \\\\ \\hline\n",
      "    Felony      & \\verb|0.596 (0.033)| & \\verb|0.655 (0.05) | & \\verb|0.631 (0.028)| & \\verb|0.59 (0.036) | & 0.06500 & \\verb|0.619 (0.044)| & \\verb|0.652 (0.034)| \\\\ \\hline\n",
      "    Misdemeanor & \\verb|0.577 (0.036)| & \\verb|0.636 (0.029)| & \\verb|0.61 (0.02)  | & \\verb|0.579 (0.015)| & 0.05900 & \\verb|0.544 (0.019)| & \\verb|0.551 (0.03) | \\\\ \\hline\n",
      "\\end{array}\n"
     ]
    }
   ],
   "source": [
    "writer = pytablewriter.LatexTableWriter()\n",
    "writer.value_matrix = values\n",
    "writer.write_table()"
   ]
  }
 ],
 "metadata": {
  "hide_code_all_hidden": false,
  "kernelspec": {
   "display_name": "Python 3",
   "language": "python",
   "name": "python3"
  },
  "language_info": {
   "codemirror_mode": {
    "name": "ipython",
    "version": 3
   },
   "file_extension": ".py",
   "mimetype": "text/x-python",
   "name": "python",
   "nbconvert_exporter": "python",
   "pygments_lexer": "ipython3",
   "version": "3.8.8"
  }
 },
 "nbformat": 4,
 "nbformat_minor": 4
}
