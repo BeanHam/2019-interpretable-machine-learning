{
 "cells": [
  {
   "cell_type": "code",
   "execution_count": null,
   "metadata": {
    "hideCode": false,
    "hidePrompt": false
   },
   "outputs": [],
   "source": [
    "import os \n",
    "os.chdir('../../../')\n",
    "print(\"Current working directory is now: \", os.getcwd())\n",
    "\n",
    "import pytablewriter\n",
    "import pandas as pd\n",
    "import numpy as np"
   ]
  },
  {
   "cell_type": "code",
   "execution_count": 2,
   "metadata": {
    "hideCode": false,
    "hidePrompt": false
   },
   "outputs": [],
   "source": [
    "result = pd.read_csv(\"./broward/logs/interpretable/FL-six-month-interpretable-summary.csv\")"
   ]
  },
  {
   "cell_type": "code",
   "execution_count": 3,
   "metadata": {
    "hideCode": false,
    "hidePrompt": false
   },
   "outputs": [
    {
     "data": {
      "text/html": [
       "<div>\n",
       "<style scoped>\n",
       "    .dataframe tbody tr th:only-of-type {\n",
       "        vertical-align: middle;\n",
       "    }\n",
       "\n",
       "    .dataframe tbody tr th {\n",
       "        vertical-align: top;\n",
       "    }\n",
       "\n",
       "    .dataframe thead th {\n",
       "        text-align: right;\n",
       "    }\n",
       "</style>\n",
       "<table border=\"1\" class=\"dataframe\">\n",
       "  <thead>\n",
       "    <tr style=\"text-align: right;\">\n",
       "      <th></th>\n",
       "      <th>Unnamed: 0</th>\n",
       "      <th>CART</th>\n",
       "      <th>EBM</th>\n",
       "      <th>Lasso Stumps</th>\n",
       "      <th>RiskSLIM</th>\n",
       "      <th>Performance Range</th>\n",
       "      <th>Arnold PSA</th>\n",
       "      <th>Compas</th>\n",
       "    </tr>\n",
       "  </thead>\n",
       "  <tbody>\n",
       "    <tr>\n",
       "      <th>0</th>\n",
       "      <td>General</td>\n",
       "      <td>0.549 (0.021)</td>\n",
       "      <td>0.622 (0.022)</td>\n",
       "      <td>0.62 (0.019)</td>\n",
       "      <td>0.585 (0.021)</td>\n",
       "      <td>0.074</td>\n",
       "      <td>0.577 (0.018)</td>\n",
       "      <td>0.609 (0.019)</td>\n",
       "    </tr>\n",
       "    <tr>\n",
       "      <th>1</th>\n",
       "      <td>Violent</td>\n",
       "      <td>0.631 (0.05)</td>\n",
       "      <td>0.68 (0.04)</td>\n",
       "      <td>0.675 (0.028)</td>\n",
       "      <td>0.671 (0.039)</td>\n",
       "      <td>0.049</td>\n",
       "      <td>0.675 (0.038)</td>\n",
       "      <td>0.609 (0.047)</td>\n",
       "    </tr>\n",
       "    <tr>\n",
       "      <th>2</th>\n",
       "      <td>Drug</td>\n",
       "      <td>0.569 (0.074)</td>\n",
       "      <td>0.672 (0.043)</td>\n",
       "      <td>0.656 (0.068)</td>\n",
       "      <td>0.65 (0.068)</td>\n",
       "      <td>0.102</td>\n",
       "      <td>0.498 (0.057)</td>\n",
       "      <td>0.597 (0.05)</td>\n",
       "    </tr>\n",
       "    <tr>\n",
       "      <th>3</th>\n",
       "      <td>Property</td>\n",
       "      <td>0.637 (0.052)</td>\n",
       "      <td>0.725 (0.031)</td>\n",
       "      <td>0.725 (0.036)</td>\n",
       "      <td>0.703 (0.023)</td>\n",
       "      <td>0.089</td>\n",
       "      <td>0.626 (0.029)</td>\n",
       "      <td>0.64 (0.035)</td>\n",
       "    </tr>\n",
       "    <tr>\n",
       "      <th>4</th>\n",
       "      <td>Felony</td>\n",
       "      <td>0.513 (0.014)</td>\n",
       "      <td>0.606 (0.049)</td>\n",
       "      <td>0.571 (0.036)</td>\n",
       "      <td>0.561 (0.045)</td>\n",
       "      <td>0.093</td>\n",
       "      <td>0.58 (0.052)</td>\n",
       "      <td>0.624 (0.051)</td>\n",
       "    </tr>\n",
       "    <tr>\n",
       "      <th>5</th>\n",
       "      <td>Misdemeanor</td>\n",
       "      <td>0.535 (0.021)</td>\n",
       "      <td>0.608 (0.042)</td>\n",
       "      <td>0.582 (0.036)</td>\n",
       "      <td>0.576 (0.024)</td>\n",
       "      <td>0.073</td>\n",
       "      <td>0.556 (0.03)</td>\n",
       "      <td>0.569 (0.024)</td>\n",
       "    </tr>\n",
       "  </tbody>\n",
       "</table>\n",
       "</div>"
      ],
      "text/plain": [
       "    Unnamed: 0           CART            EBM   Lasso Stumps       RiskSLIM  \\\n",
       "0      General  0.549 (0.021)  0.622 (0.022)   0.62 (0.019)  0.585 (0.021)   \n",
       "1      Violent   0.631 (0.05)    0.68 (0.04)  0.675 (0.028)  0.671 (0.039)   \n",
       "2         Drug  0.569 (0.074)  0.672 (0.043)  0.656 (0.068)   0.65 (0.068)   \n",
       "3     Property  0.637 (0.052)  0.725 (0.031)  0.725 (0.036)  0.703 (0.023)   \n",
       "4       Felony  0.513 (0.014)  0.606 (0.049)  0.571 (0.036)  0.561 (0.045)   \n",
       "5  Misdemeanor  0.535 (0.021)  0.608 (0.042)  0.582 (0.036)  0.576 (0.024)   \n",
       "\n",
       "   Performance Range     Arnold PSA         Compas  \n",
       "0              0.074  0.577 (0.018)  0.609 (0.019)  \n",
       "1              0.049  0.675 (0.038)  0.609 (0.047)  \n",
       "2              0.102  0.498 (0.057)   0.597 (0.05)  \n",
       "3              0.089  0.626 (0.029)   0.64 (0.035)  \n",
       "4              0.093   0.58 (0.052)  0.624 (0.051)  \n",
       "5              0.073   0.556 (0.03)  0.569 (0.024)  "
      ]
     },
     "execution_count": 3,
     "metadata": {},
     "output_type": "execute_result"
    }
   ],
   "source": [
    "result"
   ]
  },
  {
   "cell_type": "code",
   "execution_count": 4,
   "metadata": {
    "hideCode": false,
    "hidePrompt": false
   },
   "outputs": [],
   "source": [
    "cols = result.columns.to_list()\n",
    "values = result.values.tolist()"
   ]
  },
  {
   "cell_type": "code",
   "execution_count": 5,
   "metadata": {
    "hideCode": false,
    "hideOutput": true,
    "hidePrompt": false
   },
   "outputs": [
    {
     "name": "stdout",
     "output_type": "stream",
     "text": [
      "\\begin{array}{l | l | l | l | l | r | l | l} \\hline\n",
      "    General     & \\verb|0.549 (0.021)| & \\verb|0.622 (0.022)| & \\verb|0.62 (0.019) | & \\verb|0.585 (0.021)| & 0.07400 & \\verb|0.577 (0.018)| & \\verb|0.609 (0.019)| \\\\ \\hline\n",
      "    Violent     & \\verb|0.631 (0.05) | & \\verb|0.68 (0.04)  | & \\verb|0.675 (0.028)| & \\verb|0.671 (0.039)| & 0.04900 & \\verb|0.675 (0.038)| & \\verb|0.609 (0.047)| \\\\ \\hline\n",
      "    Drug        & \\verb|0.569 (0.074)| & \\verb|0.672 (0.043)| & \\verb|0.656 (0.068)| & \\verb|0.65 (0.068) | & 0.10200 & \\verb|0.498 (0.057)| & \\verb|0.597 (0.05) | \\\\ \\hline\n",
      "    Property    & \\verb|0.637 (0.052)| & \\verb|0.725 (0.031)| & \\verb|0.725 (0.036)| & \\verb|0.703 (0.023)| & 0.08900 & \\verb|0.626 (0.029)| & \\verb|0.64 (0.035) | \\\\ \\hline\n",
      "    Felony      & \\verb|0.513 (0.014)| & \\verb|0.606 (0.049)| & \\verb|0.571 (0.036)| & \\verb|0.561 (0.045)| & 0.09300 & \\verb|0.58 (0.052) | & \\verb|0.624 (0.051)| \\\\ \\hline\n",
      "    Misdemeanor & \\verb|0.535 (0.021)| & \\verb|0.608 (0.042)| & \\verb|0.582 (0.036)| & \\verb|0.576 (0.024)| & 0.07300 & \\verb|0.556 (0.03) | & \\verb|0.569 (0.024)| \\\\ \\hline\n",
      "\\end{array}\n"
     ]
    }
   ],
   "source": [
    "writer = pytablewriter.LatexTableWriter()\n",
    "writer.value_matrix = values\n",
    "writer.write_table()"
   ]
  }
 ],
 "metadata": {
  "hide_code_all_hidden": false,
  "kernelspec": {
   "display_name": "Python 3",
   "language": "python",
   "name": "python3"
  },
  "language_info": {
   "codemirror_mode": {
    "name": "ipython",
    "version": 3
   },
   "file_extension": ".py",
   "mimetype": "text/x-python",
   "name": "python",
   "nbconvert_exporter": "python",
   "pygments_lexer": "ipython3",
   "version": "3.8.8"
  }
 },
 "nbformat": 4,
 "nbformat_minor": 4
}
