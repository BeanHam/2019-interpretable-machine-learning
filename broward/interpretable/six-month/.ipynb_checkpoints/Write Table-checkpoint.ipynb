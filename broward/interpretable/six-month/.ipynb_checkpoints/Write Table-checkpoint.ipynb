{
 "cells": [
  {
   "cell_type": "code",
   "execution_count": 1,
   "metadata": {
    "hideCode": false,
    "hidePrompt": false
   },
   "outputs": [],
   "source": [
    "import pytablewriter\n",
    "import pandas as pd\n",
    "import numpy as np"
   ]
  },
  {
   "cell_type": "code",
   "execution_count": 2,
   "metadata": {
    "hideCode": false,
    "hidePrompt": false
   },
   "outputs": [],
   "source": [
    "result = pd.read_csv(\"C:\\\\Users\\\\binha\\\\Documents\\\\Duke\\\\Cynthia Research\\\\KY-analysis-mytrials\\\\broward\\\\broward models\\\\model results\\\\Interpretable Models\\\\Six Month\\\\Interpretable Models Summary.csv\")"
   ]
  },
  {
   "cell_type": "code",
   "execution_count": 3,
   "metadata": {
    "hideCode": false,
    "hidePrompt": false
   },
   "outputs": [
    {
     "data": {
      "text/html": [
       "<div>\n",
       "<style scoped>\n",
       "    .dataframe tbody tr th:only-of-type {\n",
       "        vertical-align: middle;\n",
       "    }\n",
       "\n",
       "    .dataframe tbody tr th {\n",
       "        vertical-align: top;\n",
       "    }\n",
       "\n",
       "    .dataframe thead th {\n",
       "        text-align: right;\n",
       "    }\n",
       "</style>\n",
       "<table border=\"1\" class=\"dataframe\">\n",
       "  <thead>\n",
       "    <tr style=\"text-align: right;\">\n",
       "      <th></th>\n",
       "      <th>Unnamed: 0</th>\n",
       "      <th>CART</th>\n",
       "      <th>EBM</th>\n",
       "      <th>Lasso Stumps</th>\n",
       "      <th>RiskSLIM</th>\n",
       "      <th>RiskSLIM-Constrained</th>\n",
       "      <th>Performance Range</th>\n",
       "      <th>Arnold PSA</th>\n",
       "      <th>Compas</th>\n",
       "    </tr>\n",
       "  </thead>\n",
       "  <tbody>\n",
       "    <tr>\n",
       "      <th>0</th>\n",
       "      <td>General</td>\n",
       "      <td>0.561 (0.025)</td>\n",
       "      <td>0.621 (0.022)</td>\n",
       "      <td>0.619 (0.019)</td>\n",
       "      <td>0.588 (0.013)</td>\n",
       "      <td>0.585 (0.022)</td>\n",
       "      <td>0.060</td>\n",
       "      <td>0.577 (0.018)</td>\n",
       "      <td>0.609 (0.019)</td>\n",
       "    </tr>\n",
       "    <tr>\n",
       "      <th>1</th>\n",
       "      <td>Violent</td>\n",
       "      <td>0.627 (0.053)</td>\n",
       "      <td>0.677 (0.042)</td>\n",
       "      <td>0.676 (0.029)</td>\n",
       "      <td>0.673 (0.043)</td>\n",
       "      <td>0.675 (0.04)</td>\n",
       "      <td>0.050</td>\n",
       "      <td>0.675 (0.038)</td>\n",
       "      <td>0.609 (0.047)</td>\n",
       "    </tr>\n",
       "    <tr>\n",
       "      <th>2</th>\n",
       "      <td>Drug</td>\n",
       "      <td>0.569 (0.074)</td>\n",
       "      <td>0.665 (0.047)</td>\n",
       "      <td>0.654 (0.072)</td>\n",
       "      <td>0.659 (0.073)</td>\n",
       "      <td>0.68 (0.04)</td>\n",
       "      <td>0.111</td>\n",
       "      <td>0.498 (0.057)</td>\n",
       "      <td>0.597 (0.05)</td>\n",
       "    </tr>\n",
       "    <tr>\n",
       "      <th>3</th>\n",
       "      <td>Property</td>\n",
       "      <td>0.635 (0.052)</td>\n",
       "      <td>0.724 (0.03)</td>\n",
       "      <td>0.724 (0.037)</td>\n",
       "      <td>0.715 (0.052)</td>\n",
       "      <td>0.707 (0.03)</td>\n",
       "      <td>0.089</td>\n",
       "      <td>0.626 (0.029)</td>\n",
       "      <td>0.64 (0.035)</td>\n",
       "    </tr>\n",
       "    <tr>\n",
       "      <th>4</th>\n",
       "      <td>Felony</td>\n",
       "      <td>0.508 (0.012)</td>\n",
       "      <td>0.604 (0.049)</td>\n",
       "      <td>0.573 (0.039)</td>\n",
       "      <td>0.583 (0.028)</td>\n",
       "      <td>0.564 (0.039)</td>\n",
       "      <td>0.096</td>\n",
       "      <td>0.58 (0.052)</td>\n",
       "      <td>0.624 (0.051)</td>\n",
       "    </tr>\n",
       "    <tr>\n",
       "      <th>5</th>\n",
       "      <td>Misdemeanor</td>\n",
       "      <td>0.54 (0.023)</td>\n",
       "      <td>0.612 (0.043)</td>\n",
       "      <td>0.581 (0.035)</td>\n",
       "      <td>0.587 (0.024)</td>\n",
       "      <td>0.578 (0.015)</td>\n",
       "      <td>0.071</td>\n",
       "      <td>0.556 (0.03)</td>\n",
       "      <td>0.569 (0.024)</td>\n",
       "    </tr>\n",
       "  </tbody>\n",
       "</table>\n",
       "</div>"
      ],
      "text/plain": [
       "    Unnamed: 0           CART            EBM   Lasso Stumps       RiskSLIM  \\\n",
       "0      General  0.561 (0.025)  0.621 (0.022)  0.619 (0.019)  0.588 (0.013)   \n",
       "1      Violent  0.627 (0.053)  0.677 (0.042)  0.676 (0.029)  0.673 (0.043)   \n",
       "2         Drug  0.569 (0.074)  0.665 (0.047)  0.654 (0.072)  0.659 (0.073)   \n",
       "3     Property  0.635 (0.052)   0.724 (0.03)  0.724 (0.037)  0.715 (0.052)   \n",
       "4       Felony  0.508 (0.012)  0.604 (0.049)  0.573 (0.039)  0.583 (0.028)   \n",
       "5  Misdemeanor   0.54 (0.023)  0.612 (0.043)  0.581 (0.035)  0.587 (0.024)   \n",
       "\n",
       "  RiskSLIM-Constrained  Performance Range     Arnold PSA         Compas  \n",
       "0        0.585 (0.022)              0.060  0.577 (0.018)  0.609 (0.019)  \n",
       "1         0.675 (0.04)              0.050  0.675 (0.038)  0.609 (0.047)  \n",
       "2          0.68 (0.04)              0.111  0.498 (0.057)   0.597 (0.05)  \n",
       "3         0.707 (0.03)              0.089  0.626 (0.029)   0.64 (0.035)  \n",
       "4        0.564 (0.039)              0.096   0.58 (0.052)  0.624 (0.051)  \n",
       "5        0.578 (0.015)              0.071   0.556 (0.03)  0.569 (0.024)  "
      ]
     },
     "execution_count": 3,
     "metadata": {},
     "output_type": "execute_result"
    }
   ],
   "source": [
    "result"
   ]
  },
  {
   "cell_type": "code",
   "execution_count": 4,
   "metadata": {
    "hideCode": false,
    "hidePrompt": false
   },
   "outputs": [],
   "source": [
    "cols = result.columns.to_list()\n",
    "values = result.values.tolist()"
   ]
  },
  {
   "cell_type": "code",
   "execution_count": 5,
   "metadata": {
    "hideCode": false,
    "hideOutput": true,
    "hidePrompt": false
   },
   "outputs": [
    {
     "name": "stdout",
     "output_type": "stream",
     "text": [
      "\\begin{array}{l | l | l | l | l | l | r | l | l} \\hline\n",
      "    General     & \\verb|0.561 (0.025)| & \\verb|0.621 (0.022)| & \\verb|0.619 (0.019)| & \\verb|0.588 (0.013)| & \\verb|0.585 (0.022)| &  0.0600 & \\verb|0.577 (0.018)| & \\verb|0.609 (0.019)| \\\\ \\hline\n",
      "    Violent     & \\verb|0.627 (0.053)| & \\verb|0.677 (0.042)| & \\verb|0.676 (0.029)| & \\verb|0.673 (0.043)| & \\verb|0.675 (0.04) | &  0.0500 & \\verb|0.675 (0.038)| & \\verb|0.609 (0.047)| \\\\ \\hline\n",
      "    Drug        & \\verb|0.569 (0.074)| & \\verb|0.665 (0.047)| & \\verb|0.654 (0.072)| & \\verb|0.659 (0.073)| & \\verb|0.68 (0.04)  | &  0.1110 & \\verb|0.498 (0.057)| & \\verb|0.597 (0.05) | \\\\ \\hline\n",
      "    Property    & \\verb|0.635 (0.052)| & \\verb|0.724 (0.03) | & \\verb|0.724 (0.037)| & \\verb|0.715 (0.052)| & \\verb|0.707 (0.03) | &  0.0890 & \\verb|0.626 (0.029)| & \\verb|0.64 (0.035) | \\\\ \\hline\n",
      "    Felony      & \\verb|0.508 (0.012)| & \\verb|0.604 (0.049)| & \\verb|0.573 (0.039)| & \\verb|0.583 (0.028)| & \\verb|0.564 (0.039)| &  0.0960 & \\verb|0.58 (0.052) | & \\verb|0.624 (0.051)| \\\\ \\hline\n",
      "    Misdemeanor & \\verb|0.54 (0.023) | & \\verb|0.612 (0.043)| & \\verb|0.581 (0.035)| & \\verb|0.587 (0.024)| & \\verb|0.578 (0.015)| &  0.0710 & \\verb|0.556 (0.03) | & \\verb|0.569 (0.024)| \\\\ \\hline\n",
      "\\end{array}\n"
     ]
    }
   ],
   "source": [
    "writer = pytablewriter.LatexTableWriter()\n",
    "writer.value_matrix = values\n",
    "writer.write_table()"
   ]
  }
 ],
 "metadata": {
  "hide_code_all_hidden": false,
  "kernelspec": {
   "display_name": "Python 3",
   "language": "python",
   "name": "python3"
  },
  "language_info": {
   "codemirror_mode": {
    "name": "ipython",
    "version": 3
   },
   "file_extension": ".py",
   "mimetype": "text/x-python",
   "name": "python",
   "nbconvert_exporter": "python",
   "pygments_lexer": "ipython3",
   "version": "3.7.4"
  }
 },
 "nbformat": 4,
 "nbformat_minor": 4
}
