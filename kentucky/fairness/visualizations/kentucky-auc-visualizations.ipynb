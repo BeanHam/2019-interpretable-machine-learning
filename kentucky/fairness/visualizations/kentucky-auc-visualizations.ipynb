{
 "cells": [
  {
   "cell_type": "code",
   "execution_count": 1,
   "metadata": {},
   "outputs": [
    {
     "name": "stdout",
     "output_type": "stream",
     "text": [
      "Current working directory is now:  C:\\Users\\Caroline Wang\\OneDrive\\Duke\\Criminal Recidivism\\psa_analysis_all\\psa-analysis-public-repo\n"
     ]
    }
   ],
   "source": [
    "import os \n",
    "os.chdir('../../../')\n",
    "print(\"Current working directory is now: \", os.getcwd())\n",
    "\n",
    "import numpy as np \n",
    "import pandas as pd \n",
    "\n",
    "import matplotlib.pyplot as plt \n",
    "\n",
    "from utils.load_settings import load_settings\n",
    "from utils.latex_helpers import df_to_latex\n",
    "from utils.fairness_functions import reshape_general_violent_cond_auc_summaries\n",
    "\n",
    "%matplotlib inline\n",
    "# load parameters\n",
    "settings = load_settings()"
   ]
  },
  {
   "cell_type": "markdown",
   "metadata": {},
   "source": [
    "## AUC Fairness \n",
    "\n",
    "In this notebook, we check the AUC conditioned on the sensitive attributes of race and gender. "
   ]
  },
  {
   "cell_type": "code",
   "execution_count": 2,
   "metadata": {},
   "outputs": [
    {
     "data": {
      "text/plain": [
       "dict_keys(['general-six-month-arnold', 'general-six-month-ebm', 'general-six-month-riskslim', 'violent-six-month-arnold', 'violent-six-month-ebm', 'violent-six-month-riskslim', 'general-two-year-arnold', 'general-two-year-ebm', 'general-two-year-riskslim', 'violent-two-year-arnold', 'violent-two-year-ebm', 'violent-two-year-riskslim'])"
      ]
     },
     "execution_count": 2,
     "metadata": {},
     "output_type": "execute_result"
    }
   ],
   "source": [
    "# read in auc data for prediction problems of interest\n",
    "auc_data = {}\n",
    "for time_period in [\n",
    "                    \"six-month\", \n",
    "                    \"two-year\"\n",
    "                    ]:\n",
    "    \n",
    "    for problem in ['general', 'violent']:\n",
    "        problem_path = \"kentucky/fairness/race-auc/\" + time_period + \"/\" + problem\n",
    "        dircontents = os.listdir()\n",
    "        if os.path.isdir(problem_path):\n",
    "            onlyfiles = [f for f in os.listdir(problem_path) if os.path.isfile(os.path.join(problem_path, f))]\n",
    "        else: \n",
    "            continue\n",
    "        for filename in onlyfiles:\n",
    "            model_name = filename.split(\"-\")[0]\n",
    "            if model_name in ['ebm', 'riskslim', 'arnold']:\n",
    "                auc_data[\"-\".join((problem, time_period, model_name))] = pd.read_csv(problem_path + \"/\" + filename)\n",
    "\n",
    "auc_data.keys()"
   ]
  },
  {
   "cell_type": "markdown",
   "metadata": {},
   "source": [
    "## AUC of Arnold NCA and Arnold NVCA"
   ]
  },
  {
   "cell_type": "code",
   "execution_count": 3,
   "metadata": {},
   "outputs": [
    {
     "data": {
      "text/html": [
       "<div>\n",
       "<style scoped>\n",
       "    .dataframe tbody tr th:only-of-type {\n",
       "        vertical-align: middle;\n",
       "    }\n",
       "\n",
       "    .dataframe tbody tr th {\n",
       "        vertical-align: top;\n",
       "    }\n",
       "\n",
       "    .dataframe thead th {\n",
       "        text-align: right;\n",
       "    }\n",
       "</style>\n",
       "<table border=\"1\" class=\"dataframe\">\n",
       "  <thead>\n",
       "    <tr style=\"text-align: right;\">\n",
       "      <th></th>\n",
       "      <th>Attribute</th>\n",
       "      <th>Attribute Value</th>\n",
       "      <th>AUC</th>\n",
       "      <th>fold_num</th>\n",
       "    </tr>\n",
       "  </thead>\n",
       "  <tbody>\n",
       "    <tr>\n",
       "      <th>0</th>\n",
       "      <td>race</td>\n",
       "      <td>Caucasian</td>\n",
       "      <td>0.738966</td>\n",
       "      <td>0</td>\n",
       "    </tr>\n",
       "    <tr>\n",
       "      <th>1</th>\n",
       "      <td>race</td>\n",
       "      <td>African-American</td>\n",
       "      <td>0.734826</td>\n",
       "      <td>0</td>\n",
       "    </tr>\n",
       "    <tr>\n",
       "      <th>2</th>\n",
       "      <td>race</td>\n",
       "      <td>Other</td>\n",
       "      <td>0.772494</td>\n",
       "      <td>0</td>\n",
       "    </tr>\n",
       "    <tr>\n",
       "      <th>3</th>\n",
       "      <td>sex</td>\n",
       "      <td>male</td>\n",
       "      <td>0.737504</td>\n",
       "      <td>0</td>\n",
       "    </tr>\n",
       "    <tr>\n",
       "      <th>4</th>\n",
       "      <td>sex</td>\n",
       "      <td>female</td>\n",
       "      <td>0.701145</td>\n",
       "      <td>0</td>\n",
       "    </tr>\n",
       "  </tbody>\n",
       "</table>\n",
       "</div>"
      ],
      "text/plain": [
       "  Attribute   Attribute Value       AUC  fold_num\n",
       "0      race         Caucasian  0.738966         0\n",
       "1      race  African-American  0.734826         0\n",
       "2      race             Other  0.772494         0\n",
       "3       sex              male  0.737504         0\n",
       "4       sex            female  0.701145         0"
      ]
     },
     "execution_count": 3,
     "metadata": {},
     "output_type": "execute_result"
    }
   ],
   "source": [
    "# Arnold NCA corresp to general-two-year-arnold\n",
    "# Arnold NVCA corresp to violent-two-year-arnold\n",
    "auc_data['general-two-year-arnold'].head()\n",
    "auc_data['violent-two-year-arnold'].head()"
   ]
  },
  {
   "cell_type": "code",
   "execution_count": 4,
   "metadata": {
    "scrolled": true
   },
   "outputs": [
    {
     "data": {
      "text/html": [
       "<div>\n",
       "<style scoped>\n",
       "    .dataframe tbody tr th:only-of-type {\n",
       "        vertical-align: middle;\n",
       "    }\n",
       "\n",
       "    .dataframe tbody tr th {\n",
       "        vertical-align: top;\n",
       "    }\n",
       "\n",
       "    .dataframe thead th {\n",
       "        text-align: right;\n",
       "    }\n",
       "</style>\n",
       "<table border=\"1\" class=\"dataframe\">\n",
       "  <thead>\n",
       "    <tr style=\"text-align: right;\">\n",
       "      <th></th>\n",
       "      <th>Label</th>\n",
       "      <th>African-American</th>\n",
       "      <th>Caucasian</th>\n",
       "      <th>Other</th>\n",
       "      <th>female</th>\n",
       "      <th>male</th>\n",
       "      <th>Model</th>\n",
       "      <th>race\\_range</th>\n",
       "      <th>sex\\_range</th>\n",
       "    </tr>\n",
       "  </thead>\n",
       "  <tbody>\n",
       "    <tr>\n",
       "      <th>0</th>\n",
       "      <td>general\\_two\\_year</td>\n",
       "      <td>0.731330</td>\n",
       "      <td>0.741527</td>\n",
       "      <td>0.692108</td>\n",
       "      <td>0.731410</td>\n",
       "      <td>0.744553</td>\n",
       "      <td>Arnold NCA</td>\n",
       "      <td>0.049419</td>\n",
       "      <td>0.013143</td>\n",
       "    </tr>\n",
       "    <tr>\n",
       "      <th>1</th>\n",
       "      <td>violent\\_two\\_year</td>\n",
       "      <td>0.774554</td>\n",
       "      <td>0.770887</td>\n",
       "      <td>0.796988</td>\n",
       "      <td>0.745797</td>\n",
       "      <td>0.766778</td>\n",
       "      <td>Arnold NVCA</td>\n",
       "      <td>0.026101</td>\n",
       "      <td>0.020981</td>\n",
       "    </tr>\n",
       "  </tbody>\n",
       "</table>\n",
       "</div>"
      ],
      "text/plain": [
       "                Label  African-American  Caucasian     Other    female  \\\n",
       "0  general\\_two\\_year          0.731330   0.741527  0.692108  0.731410   \n",
       "1  violent\\_two\\_year          0.774554   0.770887  0.796988  0.745797   \n",
       "\n",
       "       male        Model  race\\_range  sex\\_range  \n",
       "0  0.744553   Arnold NCA     0.049419    0.013143  \n",
       "1  0.766778  Arnold NVCA     0.026101    0.020981  "
      ]
     },
     "execution_count": 4,
     "metadata": {},
     "output_type": "execute_result"
    }
   ],
   "source": [
    "# table format for AUC\n",
    "df = reshape_general_violent_cond_auc_summaries(general_auc=auc_data['general-two-year-ebm'],\n",
    "                                           general_model_name=\"Arnold NCA\",\n",
    "                                           violent_auc=auc_data['violent-two-year-ebm'],\n",
    "                                           violent_model_name=\"Arnold NVCA\"\n",
    "                                           )\n",
    "df"
   ]
  },
  {
   "cell_type": "code",
   "execution_count": 9,
   "metadata": {},
   "outputs": [
    {
     "data": {
      "text/html": [
       "<div>\n",
       "<style scoped>\n",
       "    .dataframe tbody tr th:only-of-type {\n",
       "        vertical-align: middle;\n",
       "    }\n",
       "\n",
       "    .dataframe tbody tr th {\n",
       "        vertical-align: top;\n",
       "    }\n",
       "\n",
       "    .dataframe thead th {\n",
       "        text-align: right;\n",
       "    }\n",
       "</style>\n",
       "<table border=\"1\" class=\"dataframe\">\n",
       "  <thead>\n",
       "    <tr style=\"text-align: right;\">\n",
       "      <th></th>\n",
       "      <th>Model</th>\n",
       "      <th>Label</th>\n",
       "      <th>Afr-Am.</th>\n",
       "      <th>Cauc.</th>\n",
       "      <th>Other Race</th>\n",
       "      <th>race\\_range</th>\n",
       "      <th>Female</th>\n",
       "      <th>Male</th>\n",
       "      <th>sex\\_range</th>\n",
       "    </tr>\n",
       "  </thead>\n",
       "  <tbody>\n",
       "    <tr>\n",
       "      <th>0</th>\n",
       "      <td>Arnold NCA</td>\n",
       "      <td>general\\_two\\_year</td>\n",
       "      <td>0.673</td>\n",
       "      <td>0.694</td>\n",
       "      <td>0.634</td>\n",
       "      <td>0.061</td>\n",
       "      <td>0.692</td>\n",
       "      <td>0.692</td>\n",
       "      <td>0.000</td>\n",
       "    </tr>\n",
       "    <tr>\n",
       "      <th>1</th>\n",
       "      <td>Arnold NVCA Raw</td>\n",
       "      <td>violent\\_two\\_year</td>\n",
       "      <td>0.727</td>\n",
       "      <td>0.741</td>\n",
       "      <td>0.800</td>\n",
       "      <td>0.072</td>\n",
       "      <td>0.729</td>\n",
       "      <td>0.734</td>\n",
       "      <td>0.005</td>\n",
       "    </tr>\n",
       "    <tr>\n",
       "      <th>0</th>\n",
       "      <td>EBM</td>\n",
       "      <td>general\\_two\\_year</td>\n",
       "      <td>0.731</td>\n",
       "      <td>0.742</td>\n",
       "      <td>0.692</td>\n",
       "      <td>0.049</td>\n",
       "      <td>0.731</td>\n",
       "      <td>0.745</td>\n",
       "      <td>0.013</td>\n",
       "    </tr>\n",
       "    <tr>\n",
       "      <th>1</th>\n",
       "      <td>EBM</td>\n",
       "      <td>violent\\_two\\_year</td>\n",
       "      <td>0.775</td>\n",
       "      <td>0.771</td>\n",
       "      <td>0.797</td>\n",
       "      <td>0.026</td>\n",
       "      <td>0.746</td>\n",
       "      <td>0.767</td>\n",
       "      <td>0.021</td>\n",
       "    </tr>\n",
       "    <tr>\n",
       "      <th>0</th>\n",
       "      <td>RiskSLIM</td>\n",
       "      <td>general\\_two\\_year</td>\n",
       "      <td>0.693</td>\n",
       "      <td>0.697</td>\n",
       "      <td>0.611</td>\n",
       "      <td>0.086</td>\n",
       "      <td>0.685</td>\n",
       "      <td>0.702</td>\n",
       "      <td>0.017</td>\n",
       "    </tr>\n",
       "    <tr>\n",
       "      <th>1</th>\n",
       "      <td>RiskSLIM</td>\n",
       "      <td>violent\\_two\\_year</td>\n",
       "      <td>0.743</td>\n",
       "      <td>0.735</td>\n",
       "      <td>0.694</td>\n",
       "      <td>0.049</td>\n",
       "      <td>0.699</td>\n",
       "      <td>0.728</td>\n",
       "      <td>0.028</td>\n",
       "    </tr>\n",
       "  </tbody>\n",
       "</table>\n",
       "</div>"
      ],
      "text/plain": [
       "             Model               Label  Afr-Am.  Cauc.  Other Race  \\\n",
       "0       Arnold NCA  general\\_two\\_year    0.673  0.694       0.634   \n",
       "1  Arnold NVCA Raw  violent\\_two\\_year    0.727  0.741       0.800   \n",
       "0              EBM  general\\_two\\_year    0.731  0.742       0.692   \n",
       "1              EBM  violent\\_two\\_year    0.775  0.771       0.797   \n",
       "0         RiskSLIM  general\\_two\\_year    0.693  0.697       0.611   \n",
       "1         RiskSLIM  violent\\_two\\_year    0.743  0.735       0.694   \n",
       "\n",
       "   race\\_range  Female   Male  sex\\_range  \n",
       "0        0.061   0.692  0.692       0.000  \n",
       "1        0.072   0.729  0.734       0.005  \n",
       "0        0.049   0.731  0.745       0.013  \n",
       "1        0.026   0.746  0.767       0.021  \n",
       "0        0.086   0.685  0.702       0.017  \n",
       "1        0.049   0.699  0.728       0.028  "
      ]
     },
     "execution_count": 9,
     "metadata": {},
     "output_type": "execute_result"
    }
   ],
   "source": [
    "models = {'arnold': ['Arnold NCA', 'Arnold NVCA Raw'], \n",
    "          'ebm': ['EBM', 'EBM'], 'riskslim': ['RiskSLIM', 'RiskSLIM']}\n",
    "\n",
    "res_dfs = []\n",
    "for model_name, model_table_labels in models.items():\n",
    "    viol_auc_name = 'violent-two-year-' + model_name\n",
    "    res_df = reshape_general_violent_cond_auc_summaries(general_auc=auc_data['general-two-year-' + model_name],\n",
    "                                                        general_model_name=model_table_labels[0],\n",
    "                                                        violent_auc=auc_data['violent-two-year-' + model_name],\n",
    "                                                        violent_model_name=model_table_labels[1]\n",
    "                                                        )\n",
    "    res_dfs.append(res_df)\n",
    "    \n",
    "auc_summary_table = (pd.concat(res_dfs, axis=0)\n",
    "                        .rename(columns={\"African-American\": \"Afr-Am.\",\n",
    "                                        \"Other\": \"Other Race\",\n",
    "                                        \"Caucasian\": \"Cauc.\",\n",
    "                                        \"female\": \"Female\", \n",
    "                                        \"male\": \"Male\"}))\n",
    "\n",
    "\n",
    "auc_summary_table = auc_summary_table[[\"Model\", \"Label\", \n",
    "                                       \"Afr-Am.\", \"Cauc.\", \"Other Race\", \"race\\_range\",\n",
    "                                       \"Female\", \"Male\", \"sex\\_range\"]]\n",
    "\n",
    "for column_name in [\"Afr-Am.\", \"Cauc.\", \"Other Race\", \"race\\_range\",\n",
    "                    \"Female\", \"Male\", \"sex\\_range\"]:\n",
    "    auc_summary_table[column_name] = auc_summary_table[column_name].apply(lambda x: round(x, 3))\n",
    "    \n",
    "auc_summary_table"
   ]
  },
  {
   "cell_type": "code",
   "execution_count": 10,
   "metadata": {},
   "outputs": [
    {
     "name": "stdout",
     "output_type": "stream",
     "text": [
      "\\begin{array}{l | l | r | r | r | r | r | r | r} \\hline\n",
      "    \\verb|     Model     | & \\verb|      Label       | & \\verb|Afr-Am.| & \\verb|Cauc.| & \\verb|Other Race| & \\verb|race\\_range| & \\verb|Female| & \\verb|Male | & \\verb|sex\\_range| \\\\ \\hline\n",
      "    \\hline\n",
      "    \\verb|Arnold NVCA Raw| & violent\\_two\\_year &   0.727 & 0.741 &      0.800 &       0.072 &  0.729 & 0.734 &      0.005 \\\\ \\hline\n",
      "    EBM             & violent\\_two\\_year &   0.775 & 0.771 &      0.797 &       0.026 &  0.746 & 0.767 &      0.021 \\\\ \\hline\n",
      "    RiskSLIM        & violent\\_two\\_year &   0.743 & 0.735 &      0.694 &       0.049 &  0.699 & 0.728 &      0.028 \\\\ \\hline\n",
      "\\end{array}\n"
     ]
    }
   ],
   "source": [
    "# print as latex\n",
    "df_to_latex(auc_summary_table[auc_summary_table[\"Label\"] == \"violent\\_two\\_year\"])"
   ]
  },
  {
   "cell_type": "code",
   "execution_count": 7,
   "metadata": {},
   "outputs": [
    {
     "name": "stdout",
     "output_type": "stream",
     "text": [
      "\\begin{array}{l | l | r | r | r | r | r | r | r} \\hline\n",
      "    \\verb|  Model   | & \\verb|      Label       | & \\verb|Afr-Am.| & \\verb|Cauc.| & \\verb|Other Race| & \\verb|race\\_range| & \\verb|Female| & \\verb|Male | & \\verb|sex\\_range| \\\\ \\hline\n",
      "    \\hline\n",
      "    \\verb|Arnold NCA| & general\\_two\\_year &   0.673 & 0.694 &      0.634 &       0.061 &  0.692 & 0.692 &      0.000 \\\\ \\hline\n",
      "    EBM        & general\\_two\\_year &   0.731 & 0.742 &      0.692 &       0.049 &  0.731 & 0.745 &      0.013 \\\\ \\hline\n",
      "    RiskSLIM   & general\\_two\\_year &   0.693 & 0.697 &      0.611 &       0.086 &  0.685 & 0.702 &      0.017 \\\\ \\hline\n",
      "\\end{array}\n"
     ]
    }
   ],
   "source": [
    "df_to_latex(auc_summary_table[auc_summary_table[\"Label\"] == \"general\\_two\\_year\"])"
   ]
  },
  {
   "cell_type": "code",
   "execution_count": 11,
   "metadata": {},
   "outputs": [],
   "source": [
    "## write result\n",
    "auc_summary_table.to_csv(\"kentucky/logs/fairness_results/auc_visualizations/auc_summary_general_violence.csv\")"
   ]
  }
 ],
 "metadata": {
  "kernelspec": {
   "display_name": "Python 3",
   "language": "python",
   "name": "python3"
  },
  "language_info": {
   "codemirror_mode": {
    "name": "ipython",
    "version": 3
   },
   "file_extension": ".py",
   "mimetype": "text/x-python",
   "name": "python",
   "nbconvert_exporter": "python",
   "pygments_lexer": "ipython3",
   "version": "3.6.5"
  }
 },
 "nbformat": 4,
 "nbformat_minor": 2
}
