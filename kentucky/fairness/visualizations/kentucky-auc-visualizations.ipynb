{
 "cells": [
  {
   "cell_type": "code",
   "execution_count": 1,
   "metadata": {},
   "outputs": [
    {
     "name": "stdout",
     "output_type": "stream",
     "text": [
      "Current working directory is now:  C:\\Users\\Caroline Wang\\OneDrive\\Duke\\Criminal Recidivism\\psa_analysis_all\\psa-analysis-public-repo\n"
     ]
    }
   ],
   "source": [
    "import os \n",
    "os.chdir('../../../')\n",
    "print(\"Current working directory is now: \", os.getcwd())\n",
    "\n",
    "import numpy as np \n",
    "import pandas as pd \n",
    "\n",
    "import matplotlib.pyplot as plt \n",
    "\n",
    "from utils.load_settings import load_settings\n",
    "from utils.latex_helpers import df_to_latex\n",
    "from utils.fairness_functions import reshape_general_violent_cond_auc_summaries\n",
    "\n",
    "%matplotlib inline\n",
    "# load parameters\n",
    "settings = load_settings()"
   ]
  },
  {
   "cell_type": "markdown",
   "metadata": {},
   "source": [
    "## AUC Fairness \n",
    "\n",
    "In this notebook, we check the AUC conditioned on the sensitive attributes of race and gender. "
   ]
  },
  {
   "cell_type": "code",
   "execution_count": 15,
   "metadata": {},
   "outputs": [
    {
     "data": {
      "text/plain": [
       "dict_keys(['general-six-month-arnold', 'general-six-month-ebm', 'general-six-month-riskslim', 'violent-six-month-arnold', 'violent-six-month-ebm', 'violent-six-month-riskslim', 'general-two-year-arnold', 'general-two-year-ebm', 'general-two-year-riskslim', 'violent-two-year-arnold', 'violent-two-year-ebm', 'violent-two-year-riskslim'])"
      ]
     },
     "execution_count": 15,
     "metadata": {},
     "output_type": "execute_result"
    }
   ],
   "source": [
    "# read in auc data for prediction problems of interest\n",
    "auc_data = {}\n",
    "for time_period in [\n",
    "                    \"six-month\", \n",
    "                    \"two-year\"\n",
    "                    ]:\n",
    "    \n",
    "    for problem in ['general', 'violent']:\n",
    "        problem_path = \"kentucky/fairness/race-auc/\" + time_period + \"/\" + problem\n",
    "        dircontents = os.listdir()\n",
    "        if os.path.isdir(problem_path):\n",
    "            onlyfiles = [f for f in os.listdir(problem_path) if os.path.isfile(os.path.join(problem_path, f))]\n",
    "        else: \n",
    "            continue\n",
    "        for filename in onlyfiles:\n",
    "            model_name = filename.split(\"-\")[0]\n",
    "            if model_name in ['ebm', 'riskslim', 'arnold']:\n",
    "                auc_data[\"-\".join((problem, time_period, model_name))] = pd.read_csv(problem_path + \"/\" + filename)\n",
    "\n",
    "auc_data.keys()"
   ]
  },
  {
   "cell_type": "markdown",
   "metadata": {},
   "source": [
    "## AUC of Arnold NCA and Arnold NVCA"
   ]
  },
  {
   "cell_type": "code",
   "execution_count": 16,
   "metadata": {},
   "outputs": [
    {
     "data": {
      "text/html": [
       "<div>\n",
       "<style scoped>\n",
       "    .dataframe tbody tr th:only-of-type {\n",
       "        vertical-align: middle;\n",
       "    }\n",
       "\n",
       "    .dataframe tbody tr th {\n",
       "        vertical-align: top;\n",
       "    }\n",
       "\n",
       "    .dataframe thead th {\n",
       "        text-align: right;\n",
       "    }\n",
       "</style>\n",
       "<table border=\"1\" class=\"dataframe\">\n",
       "  <thead>\n",
       "    <tr style=\"text-align: right;\">\n",
       "      <th></th>\n",
       "      <th>Attribute</th>\n",
       "      <th>Attribute Value</th>\n",
       "      <th>AUC</th>\n",
       "      <th>fold_num</th>\n",
       "    </tr>\n",
       "  </thead>\n",
       "  <tbody>\n",
       "    <tr>\n",
       "      <th>0</th>\n",
       "      <td>race</td>\n",
       "      <td>African-American</td>\n",
       "      <td>0.716755</td>\n",
       "      <td>0</td>\n",
       "    </tr>\n",
       "    <tr>\n",
       "      <th>1</th>\n",
       "      <td>race</td>\n",
       "      <td>Caucasian</td>\n",
       "      <td>0.741007</td>\n",
       "      <td>0</td>\n",
       "    </tr>\n",
       "    <tr>\n",
       "      <th>2</th>\n",
       "      <td>race</td>\n",
       "      <td>Other</td>\n",
       "      <td>0.909742</td>\n",
       "      <td>0</td>\n",
       "    </tr>\n",
       "    <tr>\n",
       "      <th>3</th>\n",
       "      <td>sex</td>\n",
       "      <td>male</td>\n",
       "      <td>0.733684</td>\n",
       "      <td>0</td>\n",
       "    </tr>\n",
       "    <tr>\n",
       "      <th>4</th>\n",
       "      <td>sex</td>\n",
       "      <td>female</td>\n",
       "      <td>0.729115</td>\n",
       "      <td>0</td>\n",
       "    </tr>\n",
       "  </tbody>\n",
       "</table>\n",
       "</div>"
      ],
      "text/plain": [
       "  Attribute   Attribute Value       AUC  fold_num\n",
       "0      race  African-American  0.716755         0\n",
       "1      race         Caucasian  0.741007         0\n",
       "2      race             Other  0.909742         0\n",
       "3       sex              male  0.733684         0\n",
       "4       sex            female  0.729115         0"
      ]
     },
     "execution_count": 16,
     "metadata": {},
     "output_type": "execute_result"
    }
   ],
   "source": [
    "# Arnold NCA corresp to general-two-year-arnold\n",
    "# Arnold NVCA corresp to violent-two-year-arnold\n",
    "auc_data['general-two-year-arnold'].head()\n",
    "auc_data['violent-two-year-arnold'].head()"
   ]
  },
  {
   "cell_type": "code",
   "execution_count": 17,
   "metadata": {
    "scrolled": true
   },
   "outputs": [
    {
     "data": {
      "text/html": [
       "<div>\n",
       "<style scoped>\n",
       "    .dataframe tbody tr th:only-of-type {\n",
       "        vertical-align: middle;\n",
       "    }\n",
       "\n",
       "    .dataframe tbody tr th {\n",
       "        vertical-align: top;\n",
       "    }\n",
       "\n",
       "    .dataframe thead th {\n",
       "        text-align: right;\n",
       "    }\n",
       "</style>\n",
       "<table border=\"1\" class=\"dataframe\">\n",
       "  <thead>\n",
       "    <tr style=\"text-align: right;\">\n",
       "      <th></th>\n",
       "      <th>Label</th>\n",
       "      <th>African-American</th>\n",
       "      <th>Caucasian</th>\n",
       "      <th>Other</th>\n",
       "      <th>female</th>\n",
       "      <th>male</th>\n",
       "      <th>Model</th>\n",
       "      <th>race_range</th>\n",
       "      <th>sex_range</th>\n",
       "    </tr>\n",
       "  </thead>\n",
       "  <tbody>\n",
       "    <tr>\n",
       "      <th>0</th>\n",
       "      <td>general\\_two\\_year</td>\n",
       "      <td>0.742298</td>\n",
       "      <td>0.750671</td>\n",
       "      <td>0.695851</td>\n",
       "      <td>0.744689</td>\n",
       "      <td>0.752645</td>\n",
       "      <td>Arnold NCA</td>\n",
       "      <td>0.054820</td>\n",
       "      <td>0.007956</td>\n",
       "    </tr>\n",
       "    <tr>\n",
       "      <th>1</th>\n",
       "      <td>violent\\_two\\_year</td>\n",
       "      <td>0.775129</td>\n",
       "      <td>0.769725</td>\n",
       "      <td>0.765827</td>\n",
       "      <td>0.744145</td>\n",
       "      <td>0.765857</td>\n",
       "      <td>Arnold NVCA</td>\n",
       "      <td>0.009302</td>\n",
       "      <td>0.021713</td>\n",
       "    </tr>\n",
       "  </tbody>\n",
       "</table>\n",
       "</div>"
      ],
      "text/plain": [
       "                Label  African-American  Caucasian     Other    female  \\\n",
       "0  general\\_two\\_year          0.742298   0.750671  0.695851  0.744689   \n",
       "1  violent\\_two\\_year          0.775129   0.769725  0.765827  0.744145   \n",
       "\n",
       "       male        Model  race_range  sex_range  \n",
       "0  0.752645   Arnold NCA    0.054820   0.007956  \n",
       "1  0.765857  Arnold NVCA    0.009302   0.021713  "
      ]
     },
     "execution_count": 17,
     "metadata": {},
     "output_type": "execute_result"
    }
   ],
   "source": [
    "# table format for AUC\n",
    "df = reshape_general_violent_cond_auc_summaries(general_auc=auc_data['general-two-year-ebm'],\n",
    "                                           general_model_name=\"Arnold NCA\",\n",
    "                                           violent_auc=auc_data['violent-two-year-ebm'],\n",
    "                                           violent_model_name=\"Arnold NVCA\"\n",
    "                                           )\n",
    "df"
   ]
  },
  {
   "cell_type": "code",
   "execution_count": 18,
   "metadata": {},
   "outputs": [
    {
     "data": {
      "text/html": [
       "<div>\n",
       "<style scoped>\n",
       "    .dataframe tbody tr th:only-of-type {\n",
       "        vertical-align: middle;\n",
       "    }\n",
       "\n",
       "    .dataframe tbody tr th {\n",
       "        vertical-align: top;\n",
       "    }\n",
       "\n",
       "    .dataframe thead th {\n",
       "        text-align: right;\n",
       "    }\n",
       "</style>\n",
       "<table border=\"1\" class=\"dataframe\">\n",
       "  <thead>\n",
       "    <tr style=\"text-align: right;\">\n",
       "      <th></th>\n",
       "      <th>Model</th>\n",
       "      <th>Label</th>\n",
       "      <th>Afr-Am.</th>\n",
       "      <th>Cauc.</th>\n",
       "      <th>Other Race</th>\n",
       "      <th>race_range</th>\n",
       "      <th>Female</th>\n",
       "      <th>Male</th>\n",
       "      <th>sex_range</th>\n",
       "    </tr>\n",
       "  </thead>\n",
       "  <tbody>\n",
       "    <tr>\n",
       "      <th>0</th>\n",
       "      <td>Arnold NCA Raw</td>\n",
       "      <td>general\\_two\\_year</td>\n",
       "      <td>0.692</td>\n",
       "      <td>0.713</td>\n",
       "      <td>0.653</td>\n",
       "      <td>0.059</td>\n",
       "      <td>0.714</td>\n",
       "      <td>0.709</td>\n",
       "      <td>0.005</td>\n",
       "    </tr>\n",
       "    <tr>\n",
       "      <th>1</th>\n",
       "      <td>Arnold NVCA Raw</td>\n",
       "      <td>violent\\_two\\_year</td>\n",
       "      <td>0.728</td>\n",
       "      <td>0.740</td>\n",
       "      <td>0.767</td>\n",
       "      <td>0.039</td>\n",
       "      <td>0.728</td>\n",
       "      <td>0.734</td>\n",
       "      <td>0.006</td>\n",
       "    </tr>\n",
       "    <tr>\n",
       "      <th>0</th>\n",
       "      <td>EBM</td>\n",
       "      <td>general\\_two\\_year</td>\n",
       "      <td>0.742</td>\n",
       "      <td>0.751</td>\n",
       "      <td>0.696</td>\n",
       "      <td>0.055</td>\n",
       "      <td>0.745</td>\n",
       "      <td>0.753</td>\n",
       "      <td>0.008</td>\n",
       "    </tr>\n",
       "    <tr>\n",
       "      <th>1</th>\n",
       "      <td>EBM</td>\n",
       "      <td>violent\\_two\\_year</td>\n",
       "      <td>0.775</td>\n",
       "      <td>0.770</td>\n",
       "      <td>0.766</td>\n",
       "      <td>0.009</td>\n",
       "      <td>0.744</td>\n",
       "      <td>0.766</td>\n",
       "      <td>0.022</td>\n",
       "    </tr>\n",
       "    <tr>\n",
       "      <th>0</th>\n",
       "      <td>RiskSLIM</td>\n",
       "      <td>general\\_two\\_year</td>\n",
       "      <td>0.705</td>\n",
       "      <td>0.708</td>\n",
       "      <td>0.620</td>\n",
       "      <td>0.088</td>\n",
       "      <td>0.699</td>\n",
       "      <td>0.712</td>\n",
       "      <td>0.013</td>\n",
       "    </tr>\n",
       "    <tr>\n",
       "      <th>1</th>\n",
       "      <td>RiskSLIM</td>\n",
       "      <td>violent\\_two\\_year</td>\n",
       "      <td>0.744</td>\n",
       "      <td>0.736</td>\n",
       "      <td>0.680</td>\n",
       "      <td>0.063</td>\n",
       "      <td>0.706</td>\n",
       "      <td>0.730</td>\n",
       "      <td>0.024</td>\n",
       "    </tr>\n",
       "  </tbody>\n",
       "</table>\n",
       "</div>"
      ],
      "text/plain": [
       "             Model               Label  Afr-Am.  Cauc.  Other Race  \\\n",
       "0   Arnold NCA Raw  general\\_two\\_year    0.692  0.713       0.653   \n",
       "1  Arnold NVCA Raw  violent\\_two\\_year    0.728  0.740       0.767   \n",
       "0              EBM  general\\_two\\_year    0.742  0.751       0.696   \n",
       "1              EBM  violent\\_two\\_year    0.775  0.770       0.766   \n",
       "0         RiskSLIM  general\\_two\\_year    0.705  0.708       0.620   \n",
       "1         RiskSLIM  violent\\_two\\_year    0.744  0.736       0.680   \n",
       "\n",
       "   race_range  Female   Male  sex_range  \n",
       "0       0.059   0.714  0.709      0.005  \n",
       "1       0.039   0.728  0.734      0.006  \n",
       "0       0.055   0.745  0.753      0.008  \n",
       "1       0.009   0.744  0.766      0.022  \n",
       "0       0.088   0.699  0.712      0.013  \n",
       "1       0.063   0.706  0.730      0.024  "
      ]
     },
     "execution_count": 18,
     "metadata": {},
     "output_type": "execute_result"
    }
   ],
   "source": [
    "models = {'arnold': ['Arnold NCA Raw', 'Arnold NVCA Raw'], \n",
    "          'ebm': ['EBM', 'EBM'], 'riskslim': ['RiskSLIM', 'RiskSLIM']}\n",
    "\n",
    "res_dfs = []\n",
    "for model_name, model_table_labels in models.items():\n",
    "    viol_auc_name = 'violent-two-year-' + model_name\n",
    "    res_df = reshape_general_violent_cond_auc_summaries(general_auc=auc_data['general-two-year-' + model_name],\n",
    "                                                        general_model_name=model_table_labels[0],\n",
    "                                                        violent_auc=auc_data['violent-two-year-' + model_name],\n",
    "                                                        violent_model_name=model_table_labels[1]\n",
    "                                                        )\n",
    "    res_dfs.append(res_df)\n",
    "    \n",
    "auc_summary_table = (pd.concat(res_dfs, axis=0)\n",
    "                        .rename(columns={\"African-American\": \"Afr-Am.\",\n",
    "                                        \"Other\": \"Other Race\",\n",
    "                                        \"Caucasian\": \"Cauc.\",\n",
    "                                        \"female\": \"Female\", \n",
    "                                        \"male\": \"Male\",\n",
    "                                        }))\n",
    "\n",
    "\n",
    "auc_summary_table = auc_summary_table[[\"Model\", \"Label\", \n",
    "                                       \"Afr-Am.\", \"Cauc.\", \"Other Race\", \"race_range\",\n",
    "                                       \"Female\", \"Male\", \"sex_range\"]]\n",
    "\n",
    "for column_name in [\"Afr-Am.\", \"Cauc.\", \"Other Race\", \"race_range\",\n",
    "                    \"Female\", \"Male\", \"sex_range\"]:\n",
    "    auc_summary_table[column_name] = auc_summary_table[column_name].apply(lambda x: round(x, 3))\n",
    "    \n",
    "auc_summary_table"
   ]
  },
  {
   "cell_type": "code",
   "execution_count": 19,
   "metadata": {},
   "outputs": [
    {
     "name": "stdout",
     "output_type": "stream",
     "text": [
      "\\begin{array}{l | l | r | r | r | r | r | r | r} \\hline\n",
      "    \\verb|     Model     | & \\verb|      Label       | & \\verb|Afr-Am.| & \\verb|Cauc.| & \\verb|Other Race| & \\verb|race_range| & \\verb|Female| & \\verb|Male | & \\verb|sex_range| \\\\ \\hline\n",
      "    \\hline\n",
      "    \\verb|Arnold NVCA Raw| & violent\\_two\\_year &   0.728 & 0.740 &      0.767 &      0.039 &  0.728 & 0.734 &     0.006 \\\\ \\hline\n",
      "    EBM             & violent\\_two\\_year &   0.775 & 0.770 &      0.766 &      0.009 &  0.744 & 0.766 &     0.022 \\\\ \\hline\n",
      "    RiskSLIM        & violent\\_two\\_year &   0.744 & 0.736 &      0.680 &      0.063 &  0.706 & 0.730 &     0.024 \\\\ \\hline\n",
      "\\end{array}\n"
     ]
    }
   ],
   "source": [
    "# print as latex\n",
    "df_to_latex(auc_summary_table[auc_summary_table[\"Label\"] == \"violent\\_two\\_year\"])"
   ]
  },
  {
   "cell_type": "code",
   "execution_count": 20,
   "metadata": {},
   "outputs": [
    {
     "name": "stdout",
     "output_type": "stream",
     "text": [
      "\\begin{array}{l | l | r | r | r | r | r | r | r} \\hline\n",
      "    \\verb|    Model     | & \\verb|      Label       | & \\verb|Afr-Am.| & \\verb|Cauc.| & \\verb|Other Race| & \\verb|race_range| & \\verb|Female| & \\verb|Male | & \\verb|sex_range| \\\\ \\hline\n",
      "    \\hline\n",
      "    \\verb|Arnold NCA Raw| & general\\_two\\_year &   0.692 & 0.713 &      0.653 &      0.059 &  0.714 & 0.709 &     0.005 \\\\ \\hline\n",
      "    EBM            & general\\_two\\_year &   0.742 & 0.751 &      0.696 &      0.055 &  0.745 & 0.753 &     0.008 \\\\ \\hline\n",
      "    RiskSLIM       & general\\_two\\_year &   0.705 & 0.708 &      0.620 &      0.088 &  0.699 & 0.712 &     0.013 \\\\ \\hline\n",
      "\\end{array}\n"
     ]
    }
   ],
   "source": [
    "df_to_latex(auc_summary_table[auc_summary_table[\"Label\"] == \"general\\_two\\_year\"])"
   ]
  },
  {
   "cell_type": "code",
   "execution_count": 21,
   "metadata": {},
   "outputs": [],
   "source": [
    "## write result\n",
    "auc_summary_table.to_csv(\"kentucky/logs/fairness_results/auc_visualizations/auc_summary_general_violence.csv\")"
   ]
  }
 ],
 "metadata": {
  "kernelspec": {
   "display_name": "Python 3",
   "language": "python",
   "name": "python3"
  },
  "language_info": {
   "codemirror_mode": {
    "name": "ipython",
    "version": 3
   },
   "file_extension": ".py",
   "mimetype": "text/x-python",
   "name": "python",
   "nbconvert_exporter": "python",
   "pygments_lexer": "ipython3",
   "version": "3.6.5"
  }
 },
 "nbformat": 4,
 "nbformat_minor": 2
}
