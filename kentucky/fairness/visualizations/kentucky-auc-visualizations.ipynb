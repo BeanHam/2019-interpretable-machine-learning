{
 "cells": [
  {
   "cell_type": "code",
   "execution_count": 1,
   "metadata": {},
   "outputs": [
    {
     "name": "stdout",
     "output_type": "stream",
     "text": [
      "Current working directory is now:  C:\\Users\\Caroline Wang\\OneDrive\\Duke\\Criminal Recidivism\\psa-analysis\n"
     ]
    }
   ],
   "source": [
    "import os \n",
    "os.chdir('../../')\n",
    "print(\"Current working directory is now: \", os.getcwd())\n",
    "\n",
    "import numpy as np \n",
    "import pandas as pd \n",
    "\n",
    "import matplotlib.pyplot as plt \n",
    "\n",
    "from utils.load_settings import load_settings\n",
    "from utils.latex_helpers import df_to_latex\n",
    "from utils.fairness_functions import reshape_general_violent_cond_auc_summaries\n",
    "\n",
    "%matplotlib inline\n",
    "# load parameters\n",
    "settings = load_settings()"
   ]
  },
  {
   "cell_type": "markdown",
   "metadata": {},
   "source": [
    "## AUC Fairness \n",
    "\n",
    "In this notebook, we check the AUC conditioned on the sensitive attributes of race and gender. "
   ]
  },
  {
   "cell_type": "code",
   "execution_count": 2,
   "metadata": {},
   "outputs": [
    {
     "data": {
      "text/plain": [
       "dict_keys(['general-six-month-arnold', 'general-six-month-ebm', 'violent-six-month-arnold', 'violent-six-month-ebm', 'general-two-year-arnold', 'general-two-year-ebm', 'violent-two-year-arnold', 'violent-two-year-ebm'])"
      ]
     },
     "execution_count": 2,
     "metadata": {},
     "output_type": "execute_result"
    }
   ],
   "source": [
    "# read in auc data for prediction problems of interest\n",
    "auc_data = {}\n",
    "for time_period in [\n",
    "                    \"six-month\", \n",
    "                    \"two-year\"\n",
    "                    ]:\n",
    "    \n",
    "    for problem in ['general', 'violent']:\n",
    "        problem_path = \"kentucky/KY AUC/\" + time_period + \"/\" + problem\n",
    "        dircontents = os.listdir()\n",
    "        if os.path.isdir(problem_path):\n",
    "            onlyfiles = [f for f in os.listdir(problem_path) if os.path.isfile(os.path.join(problem_path, f))]\n",
    "        else: \n",
    "            continue\n",
    "        for filename in onlyfiles:\n",
    "            model_name = filename.split(\"_\")[0]\n",
    "            if model_name in ['ebm', 'riskslim', 'arnold']:\n",
    "                auc_data[\"-\".join((problem, time_period, model_name))] = pd.read_csv(problem_path + \"/\" + filename)\n",
    "\n",
    "auc_data.keys()"
   ]
  },
  {
   "cell_type": "markdown",
   "metadata": {},
   "source": [
    "## AUC of Arnold NCA and Arnold NVCA"
   ]
  },
  {
   "cell_type": "code",
   "execution_count": 3,
   "metadata": {},
   "outputs": [
    {
     "data": {
      "text/html": [
       "<div>\n",
       "<style scoped>\n",
       "    .dataframe tbody tr th:only-of-type {\n",
       "        vertical-align: middle;\n",
       "    }\n",
       "\n",
       "    .dataframe tbody tr th {\n",
       "        vertical-align: top;\n",
       "    }\n",
       "\n",
       "    .dataframe thead th {\n",
       "        text-align: right;\n",
       "    }\n",
       "</style>\n",
       "<table border=\"1\" class=\"dataframe\">\n",
       "  <thead>\n",
       "    <tr style=\"text-align: right;\">\n",
       "      <th></th>\n",
       "      <th>Attribute</th>\n",
       "      <th>Attribute Value</th>\n",
       "      <th>AUC</th>\n",
       "      <th>fold_num</th>\n",
       "    </tr>\n",
       "  </thead>\n",
       "  <tbody>\n",
       "    <tr>\n",
       "      <th>0</th>\n",
       "      <td>race</td>\n",
       "      <td>African-American</td>\n",
       "      <td>0.773576</td>\n",
       "      <td>0</td>\n",
       "    </tr>\n",
       "    <tr>\n",
       "      <th>1</th>\n",
       "      <td>race</td>\n",
       "      <td>Caucasian</td>\n",
       "      <td>0.781312</td>\n",
       "      <td>0</td>\n",
       "    </tr>\n",
       "    <tr>\n",
       "      <th>2</th>\n",
       "      <td>race</td>\n",
       "      <td>Other</td>\n",
       "      <td>0.896000</td>\n",
       "      <td>0</td>\n",
       "    </tr>\n",
       "    <tr>\n",
       "      <th>3</th>\n",
       "      <td>sex</td>\n",
       "      <td>male</td>\n",
       "      <td>0.780144</td>\n",
       "      <td>0</td>\n",
       "    </tr>\n",
       "    <tr>\n",
       "      <th>4</th>\n",
       "      <td>sex</td>\n",
       "      <td>female</td>\n",
       "      <td>0.770254</td>\n",
       "      <td>0</td>\n",
       "    </tr>\n",
       "  </tbody>\n",
       "</table>\n",
       "</div>"
      ],
      "text/plain": [
       "  Attribute   Attribute Value       AUC  fold_num\n",
       "0      race  African-American  0.773576         0\n",
       "1      race         Caucasian  0.781312         0\n",
       "2      race             Other  0.896000         0\n",
       "3       sex              male  0.780144         0\n",
       "4       sex            female  0.770254         0"
      ]
     },
     "execution_count": 3,
     "metadata": {},
     "output_type": "execute_result"
    }
   ],
   "source": [
    "# Arnold NCA corresp to general-two-year-arnold\n",
    "# Arnold NVCA corresp to violent-two-year-arnold\n",
    "auc_data['general-two-year-arnold'].head()\n",
    "auc_data['violent-two-year-arnold'].head()"
   ]
  },
  {
   "cell_type": "code",
   "execution_count": 11,
   "metadata": {
    "scrolled": true
   },
   "outputs": [
    {
     "data": {
      "text/html": [
       "<div>\n",
       "<style scoped>\n",
       "    .dataframe tbody tr th:only-of-type {\n",
       "        vertical-align: middle;\n",
       "    }\n",
       "\n",
       "    .dataframe tbody tr th {\n",
       "        vertical-align: top;\n",
       "    }\n",
       "\n",
       "    .dataframe thead th {\n",
       "        text-align: right;\n",
       "    }\n",
       "</style>\n",
       "<table border=\"1\" class=\"dataframe\">\n",
       "  <thead>\n",
       "    <tr style=\"text-align: right;\">\n",
       "      <th></th>\n",
       "      <th>Label</th>\n",
       "      <th>African-American</th>\n",
       "      <th>Caucasian</th>\n",
       "      <th>Other</th>\n",
       "      <th>female</th>\n",
       "      <th>male</th>\n",
       "      <th>Model</th>\n",
       "      <th>race_range</th>\n",
       "      <th>sex_range</th>\n",
       "    </tr>\n",
       "  </thead>\n",
       "  <tbody>\n",
       "    <tr>\n",
       "      <th>0</th>\n",
       "      <td>general\\_two\\_year</td>\n",
       "      <td>0.735302</td>\n",
       "      <td>0.742442</td>\n",
       "      <td>0.702144</td>\n",
       "      <td>0.734345</td>\n",
       "      <td>0.744601</td>\n",
       "      <td>Arnold NCA</td>\n",
       "      <td>0.040298</td>\n",
       "      <td>0.010256</td>\n",
       "    </tr>\n",
       "    <tr>\n",
       "      <th>1</th>\n",
       "      <td>violent\\_two\\_year</td>\n",
       "      <td>0.823364</td>\n",
       "      <td>0.808883</td>\n",
       "      <td>0.931942</td>\n",
       "      <td>0.805875</td>\n",
       "      <td>0.811197</td>\n",
       "      <td>Arnold NVCA</td>\n",
       "      <td>0.123059</td>\n",
       "      <td>0.005323</td>\n",
       "    </tr>\n",
       "  </tbody>\n",
       "</table>\n",
       "</div>"
      ],
      "text/plain": [
       "                Label  African-American  Caucasian     Other    female  \\\n",
       "0  general\\_two\\_year          0.735302   0.742442  0.702144  0.734345   \n",
       "1  violent\\_two\\_year          0.823364   0.808883  0.931942  0.805875   \n",
       "\n",
       "       male        Model  race_range  sex_range  \n",
       "0  0.744601   Arnold NCA    0.040298   0.010256  \n",
       "1  0.811197  Arnold NVCA    0.123059   0.005323  "
      ]
     },
     "execution_count": 11,
     "metadata": {},
     "output_type": "execute_result"
    }
   ],
   "source": [
    "# table format for AUC\n",
    "df = reshape_general_violent_cond_auc_summaries(general_auc=auc_data['general-two-year-ebm'],\n",
    "                                           general_model_name=\"Arnold NCA\",\n",
    "                                           violent_auc=auc_data['violent-two-year-ebm'],\n",
    "                                           violent_model_name=\"Arnold NVCA\"\n",
    "                                           )\n",
    "df"
   ]
  },
  {
   "cell_type": "code",
   "execution_count": 17,
   "metadata": {},
   "outputs": [
    {
     "data": {
      "text/html": [
       "<div>\n",
       "<style scoped>\n",
       "    .dataframe tbody tr th:only-of-type {\n",
       "        vertical-align: middle;\n",
       "    }\n",
       "\n",
       "    .dataframe tbody tr th {\n",
       "        vertical-align: top;\n",
       "    }\n",
       "\n",
       "    .dataframe thead th {\n",
       "        text-align: right;\n",
       "    }\n",
       "</style>\n",
       "<table border=\"1\" class=\"dataframe\">\n",
       "  <thead>\n",
       "    <tr style=\"text-align: right;\">\n",
       "      <th></th>\n",
       "      <th>Model</th>\n",
       "      <th>Label</th>\n",
       "      <th>Afr-Am.</th>\n",
       "      <th>Cauc.</th>\n",
       "      <th>Hisp.</th>\n",
       "      <th>Other Race</th>\n",
       "      <th>race_range</th>\n",
       "      <th>Female</th>\n",
       "      <th>Male</th>\n",
       "      <th>sex_range</th>\n",
       "    </tr>\n",
       "  </thead>\n",
       "  <tbody>\n",
       "    <tr>\n",
       "      <th>0</th>\n",
       "      <td>Arnold NCA</td>\n",
       "      <td>general\\_two\\_year</td>\n",
       "      <td>0.666</td>\n",
       "      <td>0.689</td>\n",
       "      <td>-</td>\n",
       "      <td>0.631</td>\n",
       "      <td>0.057</td>\n",
       "      <td>0.687</td>\n",
       "      <td>0.684</td>\n",
       "      <td>0.003</td>\n",
       "    </tr>\n",
       "    <tr>\n",
       "      <th>1</th>\n",
       "      <td>Arnold NVCA Raw</td>\n",
       "      <td>violent\\_two\\_year</td>\n",
       "      <td>0.778</td>\n",
       "      <td>0.787</td>\n",
       "      <td>-</td>\n",
       "      <td>0.881</td>\n",
       "      <td>0.103</td>\n",
       "      <td>0.790</td>\n",
       "      <td>0.782</td>\n",
       "      <td>0.008</td>\n",
       "    </tr>\n",
       "    <tr>\n",
       "      <th>0</th>\n",
       "      <td>EBM</td>\n",
       "      <td>general\\_two\\_year</td>\n",
       "      <td>0.735</td>\n",
       "      <td>0.742</td>\n",
       "      <td>-</td>\n",
       "      <td>0.702</td>\n",
       "      <td>0.040</td>\n",
       "      <td>0.734</td>\n",
       "      <td>0.745</td>\n",
       "      <td>0.010</td>\n",
       "    </tr>\n",
       "    <tr>\n",
       "      <th>1</th>\n",
       "      <td>EBM</td>\n",
       "      <td>violent\\_two\\_year</td>\n",
       "      <td>0.823</td>\n",
       "      <td>0.809</td>\n",
       "      <td>-</td>\n",
       "      <td>0.932</td>\n",
       "      <td>0.123</td>\n",
       "      <td>0.806</td>\n",
       "      <td>0.811</td>\n",
       "      <td>0.005</td>\n",
       "    </tr>\n",
       "  </tbody>\n",
       "</table>\n",
       "</div>"
      ],
      "text/plain": [
       "             Model               Label  Afr-Am.  Cauc. Hisp.  Other Race  \\\n",
       "0       Arnold NCA  general\\_two\\_year    0.666  0.689     -       0.631   \n",
       "1  Arnold NVCA Raw  violent\\_two\\_year    0.778  0.787     -       0.881   \n",
       "0              EBM  general\\_two\\_year    0.735  0.742     -       0.702   \n",
       "1              EBM  violent\\_two\\_year    0.823  0.809     -       0.932   \n",
       "\n",
       "   race_range  Female   Male  sex_range  \n",
       "0       0.057   0.687  0.684      0.003  \n",
       "1       0.103   0.790  0.782      0.008  \n",
       "0       0.040   0.734  0.745      0.010  \n",
       "1       0.123   0.806  0.811      0.005  "
      ]
     },
     "execution_count": 17,
     "metadata": {},
     "output_type": "execute_result"
    }
   ],
   "source": [
    "models = {'arnold': ['Arnold NCA', 'Arnold NVCA Raw'], \n",
    "          'ebm': ['EBM', 'EBM']}\n",
    "\n",
    "res_dfs = []\n",
    "for model_name, model_table_labels in models.items():\n",
    "    viol_auc_name = 'violent-two-year-' + model_name\n",
    "    res_df = reshape_general_violent_cond_auc_summaries(general_auc=auc_data['general-two-year-' + model_name],\n",
    "                                                        general_model_name=model_table_labels[0],\n",
    "                                                        violent_auc=auc_data['violent-two-year-' + model_name],\n",
    "                                                        violent_model_name=model_table_labels[1]\n",
    "                                                        )\n",
    "    res_dfs.append(res_df)\n",
    "    \n",
    "auc_summary_table = (pd.concat(res_dfs, axis=0)\n",
    "                        .rename(columns={\"African-American\": \"Afr-Am.\",\n",
    "                                        \"Other\": \"Other Race\",\n",
    "                                        \"Caucasian\": \"Cauc.\",\n",
    "                                        \"female\": \"Female\", \n",
    "                                        \"male\": \"Male\"}))\n",
    "\n",
    "auc_summary_table['Hisp.'] = \"-\"\n",
    "\n",
    "auc_summary_table = auc_summary_table[[\"Model\", \"Label\", \n",
    "                                       \"Afr-Am.\", \"Cauc.\", \"Hisp.\", \"Other Race\", \"race_range\",\n",
    "                                       \"Female\", \"Male\", \"sex_range\"]]\n",
    "\n",
    "for column_name in [\"Afr-Am.\", \"Cauc.\", \"Other Race\", \"race_range\",\n",
    "                    \"Female\", \"Male\", \"sex_range\"]:\n",
    "    auc_summary_table[column_name] = auc_summary_table[column_name].apply(lambda x: round(x, 3))\n",
    "    \n",
    "auc_summary_table"
   ]
  },
  {
   "cell_type": "code",
   "execution_count": 18,
   "metadata": {},
   "outputs": [
    {
     "name": "stdout",
     "output_type": "stream",
     "text": [
      "\\begin{array}{l | l | r | r | l | r | r | r | r | r} \\hline\n",
      "    \\verb|     Model     | & \\verb|      Label       | & \\verb|Afr-Am.| & \\verb|Cauc.| & \\verb|Hisp.| & \\verb|Other Race| & \\verb|race_range| & \\verb|Female| & \\verb|Male | & \\verb|sex_range| \\\\ \\hline\n",
      "    \\hline\n",
      "    \\verb|Arnold NCA     | & general\\_two\\_year &   0.666 & 0.689 & \\verb|-    | &      0.631 &      0.057 &  0.687 & 0.684 &     0.003 \\\\ \\hline\n",
      "    \\verb|Arnold NVCA Raw| & violent\\_two\\_year &   0.778 & 0.787 & \\verb|-    | &      0.881 &      0.103 &  0.790 & 0.782 &     0.008 \\\\ \\hline\n",
      "    EBM             & general\\_two\\_year &   0.735 & 0.742 & \\verb|-    | &      0.702 &      0.040 &  0.734 & 0.745 &     0.010 \\\\ \\hline\n",
      "    EBM             & violent\\_two\\_year &   0.823 & 0.809 & \\verb|-    | &      0.932 &      0.123 &  0.806 & 0.811 &     0.005 \\\\ \\hline\n",
      "\\end{array}\n"
     ]
    }
   ],
   "source": [
    "# print as latex\n",
    "from utils.latex_helpers import df_to_latex\n",
    "df_to_latex(auc_summary_table)"
   ]
  },
  {
   "cell_type": "code",
   "execution_count": 19,
   "metadata": {},
   "outputs": [],
   "source": [
    "## write result\n",
    "auc_summary_table.to_csv(\"kentucky/logs/fairness_results/auc_visualizations/auc_summary_general_violence.csv\")"
   ]
  }
 ],
 "metadata": {
  "kernelspec": {
   "display_name": "Python 3",
   "language": "python",
   "name": "python3"
  },
  "language_info": {
   "codemirror_mode": {
    "name": "ipython",
    "version": 3
   },
   "file_extension": ".py",
   "mimetype": "text/x-python",
   "name": "python",
   "nbconvert_exporter": "python",
   "pygments_lexer": "ipython3",
   "version": "3.6.5"
  }
 },
 "nbformat": 4,
 "nbformat_minor": 2
}
