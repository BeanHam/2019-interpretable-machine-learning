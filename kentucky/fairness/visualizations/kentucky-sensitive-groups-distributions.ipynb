{
 "cells": [
  {
   "cell_type": "code",
   "execution_count": 1,
   "metadata": {},
   "outputs": [
    {
     "name": "stdout",
     "output_type": "stream",
     "text": [
      "Current working directory is now:  C:\\Users\\Caroline Wang\\OneDrive\\Duke\\Criminal Recidivism\\psa_analysis_all\\psa-analysis-public-repo\n"
     ]
    }
   ],
   "source": [
    "import os \n",
    "os.chdir('../../../')\n",
    "print(\"Current working directory is now: \", os.getcwd())\n",
    "\n",
    "import pandas as pd \n",
    "import numpy as np \n",
    "from IPython.display import display\n",
    "import matplotlib.pyplot as plt \n",
    "\n",
    "from utils.load_settings import load_settings\n",
    "from utils.plot_fairness import prob_recid_conditioned_sensitive_attr\n",
    "\n",
    "%matplotlib inline\n",
    "# load parameters\n",
    "settings = load_settings()"
   ]
  },
  {
   "cell_type": "markdown",
   "metadata": {},
   "source": [
    "#### Read in data \n",
    "\n"
   ]
  },
  {
   "cell_type": "code",
   "execution_count": 5,
   "metadata": {},
   "outputs": [],
   "source": [
    "kentucky_data = pd.read_csv(\"kentucky/data/processed/kentucky_data.csv\")"
   ]
  },
  {
   "cell_type": "markdown",
   "metadata": {},
   "source": [
    "### Compute group balance "
   ]
  },
  {
   "cell_type": "code",
   "execution_count": 6,
   "metadata": {},
   "outputs": [
    {
     "data": {
      "text/html": [
       "<div>\n",
       "<style scoped>\n",
       "    .dataframe tbody tr th:only-of-type {\n",
       "        vertical-align: middle;\n",
       "    }\n",
       "\n",
       "    .dataframe tbody tr th {\n",
       "        vertical-align: top;\n",
       "    }\n",
       "\n",
       "    .dataframe thead th {\n",
       "        text-align: right;\n",
       "    }\n",
       "</style>\n",
       "<table border=\"1\" class=\"dataframe\">\n",
       "  <thead>\n",
       "    <tr style=\"text-align: right;\">\n",
       "      <th></th>\n",
       "      <th>Attribute</th>\n",
       "      <th>Attribute Value</th>\n",
       "      <th>n_inds</th>\n",
       "      <th>% total</th>\n",
       "    </tr>\n",
       "  </thead>\n",
       "  <tbody>\n",
       "    <tr>\n",
       "      <th>0</th>\n",
       "      <td>race</td>\n",
       "      <td>Asian</td>\n",
       "      <td>714</td>\n",
       "      <td>0.32</td>\n",
       "    </tr>\n",
       "    <tr>\n",
       "      <th>1</th>\n",
       "      <td>race</td>\n",
       "      <td>Black</td>\n",
       "      <td>37936</td>\n",
       "      <td>17.02</td>\n",
       "    </tr>\n",
       "    <tr>\n",
       "      <th>2</th>\n",
       "      <td>race</td>\n",
       "      <td>Indian</td>\n",
       "      <td>177</td>\n",
       "      <td>0.08</td>\n",
       "    </tr>\n",
       "    <tr>\n",
       "      <th>3</th>\n",
       "      <td>race</td>\n",
       "      <td>Race Unknown</td>\n",
       "      <td>4171</td>\n",
       "      <td>1.87</td>\n",
       "    </tr>\n",
       "    <tr>\n",
       "      <th>4</th>\n",
       "      <td>race</td>\n",
       "      <td>White</td>\n",
       "      <td>179871</td>\n",
       "      <td>80.71</td>\n",
       "    </tr>\n",
       "    <tr>\n",
       "      <th>5</th>\n",
       "      <td>sex</td>\n",
       "      <td>0</td>\n",
       "      <td>69106</td>\n",
       "      <td>31.01</td>\n",
       "    </tr>\n",
       "    <tr>\n",
       "      <th>6</th>\n",
       "      <td>sex</td>\n",
       "      <td>1</td>\n",
       "      <td>153763</td>\n",
       "      <td>68.99</td>\n",
       "    </tr>\n",
       "  </tbody>\n",
       "</table>\n",
       "</div>"
      ],
      "text/plain": [
       "  Attribute Attribute Value  n_inds  % total\n",
       "0      race           Asian     714     0.32\n",
       "1      race           Black   37936    17.02\n",
       "2      race          Indian     177     0.08\n",
       "3      race    Race Unknown    4171     1.87\n",
       "4      race           White  179871    80.71\n",
       "5       sex               0   69106    31.01\n",
       "6       sex               1  153763    68.99"
      ]
     },
     "execution_count": 6,
     "metadata": {},
     "output_type": "execute_result"
    }
   ],
   "source": [
    "## kentucky\n",
    "kentucky_attrs = kentucky_data[['person_id', 'screening_date', 'sex', 'race']]\n",
    "\n",
    "kentucky_attrs = (pd.melt(kentucky_attrs, id_vars =['person_id', 'screening_date'], value_vars=['sex', 'race'])\n",
    "                .rename({'variable': 'Attribute',\n",
    "                         'value': 'Attribute Value'},\n",
    "                        axis=1))\n",
    "\n",
    "kentucky_attrs = kentucky_attrs.groupby([\"Attribute\", \"Attribute Value\"]).size().to_frame('n_inds').reset_index()\n",
    "\n",
    "# check totals are same for race and sex\n",
    "assert (kentucky_attrs[kentucky_attrs['Attribute']=='race']['n_inds'].sum()) == (kentucky_attrs[kentucky_attrs['Attribute']=='sex']['n_inds'].sum())\n",
    "total_inds = kentucky_attrs[kentucky_attrs['Attribute']=='race']['n_inds'].sum()\n",
    "\n",
    "# add percent col\n",
    "kentucky_attrs[\"% total\"] = ((kentucky_attrs['n_inds'] / total_inds) * 100).apply(lambda x: round(x, 2))\n",
    "kentucky_attrs"
   ]
  },
  {
   "cell_type": "code",
   "execution_count": 4,
   "metadata": {},
   "outputs": [],
   "source": [
    "## write result\n",
    "kentucky_attrs.to_csv(\"kentucky/logs/fairness_results/data_visualizations/kentucky_racial_distr.csv\")"
   ]
  },
  {
   "cell_type": "code",
   "execution_count": 7,
   "metadata": {},
   "outputs": [],
   "source": [
    "# put individuals from Indian and Asian groups into Other, \n",
    "# do some renaming for consistency with Broward \n",
    "\n",
    "for decoder_name, decoder_dict in settings['decoders'].items():\n",
    "    kentucky_data = kentucky_data.replace({decoder_name: decoder_dict})\n",
    "\n",
    "kentucky_data.rename(columns=settings['decoders']['label'], inplace=True)"
   ]
  },
  {
   "cell_type": "markdown",
   "metadata": {},
   "source": [
    "### Check for recidivism balance across all groups for all problems\n",
    "\n",
    "i.e. $P(Y = 1 | group = g_1)$"
   ]
  },
  {
   "cell_type": "code",
   "execution_count": 8,
   "metadata": {
    "scrolled": true
   },
   "outputs": [],
   "source": [
    "total_inds = kentucky_data.shape[0]\n",
    "# unpivot the sensitive attributes\n",
    "kentucky_attrs = (pd.melt(kentucky_data, id_vars =['person_id', 'screening_date'], value_vars=['sex', 'race'])\n",
    "                   .rename({'variable': 'Attribute',\n",
    "                            'value': 'Attribute Value'},\n",
    "                            axis=1)\n",
    "                    # concatenate the label info \n",
    "                   .merge(kentucky_data[['person_id', 'screening_date'] + settings[\"labels\"]], \n",
    "                          on = ['person_id', 'screening_date'],\n",
    "                          how = 'left'))\n",
    "\n",
    "kentucky_recid_balance_groups = {}\n",
    "for label in settings['labels']:\n",
    "    kentucky_attrs_label = kentucky_attrs[['person_id', 'screening_date', 'Attribute', 'Attribute Value'] + [label]]\n",
    "\n",
    "    res = (kentucky_attrs_label.groupby(['Attribute', 'Attribute Value'])\n",
    "                              .sum()[label]\n",
    "                              .to_frame('n_inds_recid')\n",
    "                              .reset_index())\n",
    "    \n",
    "    res['total_inds'] = total_inds\n",
    "    total_inds_with_attr = (kentucky_attrs_label\n",
    "                           .groupby(['Attribute', 'Attribute Value'])\n",
    "                           .size()\n",
    "                           .to_frame(\"total_inds_with_attr\")\n",
    "                           .reset_index())\n",
    "    \n",
    "    res = res.merge(total_inds_with_attr, on = ['Attribute', 'Attribute Value'], how='left')\n",
    "    res['P(Y = 1 | Attr = attr)'] = res['n_inds_recid']/res['total_inds_with_attr']\n",
    "    res['P(Y = 1,  Attr = attr)'] = res['n_inds_recid']/total_inds\n",
    "    res['label'] = label\n",
    "    \n",
    "    res.set_index('label')\n",
    "    kentucky_recid_balance_groups[label] = res"
   ]
  },
  {
   "cell_type": "code",
   "execution_count": 9,
   "metadata": {},
   "outputs": [
    {
     "data": {
      "text/html": [
       "<div>\n",
       "<style scoped>\n",
       "    .dataframe tbody tr th:only-of-type {\n",
       "        vertical-align: middle;\n",
       "    }\n",
       "\n",
       "    .dataframe tbody tr th {\n",
       "        vertical-align: top;\n",
       "    }\n",
       "\n",
       "    .dataframe thead th {\n",
       "        text-align: right;\n",
       "    }\n",
       "</style>\n",
       "<table border=\"1\" class=\"dataframe\">\n",
       "  <thead>\n",
       "    <tr style=\"text-align: right;\">\n",
       "      <th></th>\n",
       "      <th>label</th>\n",
       "      <th>Attribute</th>\n",
       "      <th>Attribute Value</th>\n",
       "      <th>P(Y = 1 | Attr = attr)</th>\n",
       "    </tr>\n",
       "  </thead>\n",
       "  <tbody>\n",
       "    <tr>\n",
       "      <th>0</th>\n",
       "      <td>general_two_year</td>\n",
       "      <td>race</td>\n",
       "      <td>African-American</td>\n",
       "      <td>0.224562</td>\n",
       "    </tr>\n",
       "    <tr>\n",
       "      <th>1</th>\n",
       "      <td>general_two_year</td>\n",
       "      <td>race</td>\n",
       "      <td>Caucasian</td>\n",
       "      <td>0.213008</td>\n",
       "    </tr>\n",
       "    <tr>\n",
       "      <th>2</th>\n",
       "      <td>general_two_year</td>\n",
       "      <td>race</td>\n",
       "      <td>Other</td>\n",
       "      <td>0.076452</td>\n",
       "    </tr>\n",
       "    <tr>\n",
       "      <th>3</th>\n",
       "      <td>general_two_year</td>\n",
       "      <td>sex</td>\n",
       "      <td>female</td>\n",
       "      <td>0.199114</td>\n",
       "    </tr>\n",
       "    <tr>\n",
       "      <th>4</th>\n",
       "      <td>general_two_year</td>\n",
       "      <td>sex</td>\n",
       "      <td>male</td>\n",
       "      <td>0.217608</td>\n",
       "    </tr>\n",
       "  </tbody>\n",
       "</table>\n",
       "</div>"
      ],
      "text/plain": [
       "              label Attribute   Attribute Value  P(Y = 1 | Attr = attr)\n",
       "0  general_two_year      race  African-American                0.224562\n",
       "1  general_two_year      race         Caucasian                0.213008\n",
       "2  general_two_year      race             Other                0.076452\n",
       "3  general_two_year       sex            female                0.199114\n",
       "4  general_two_year       sex              male                0.217608"
      ]
     },
     "execution_count": 9,
     "metadata": {},
     "output_type": "execute_result"
    }
   ],
   "source": [
    "# merge dictionary into 1 df\n",
    "kentucky_recid_balance_df = (pd.concat(kentucky_recid_balance_groups, axis=0)\n",
    "                            .reset_index()\n",
    "                            .iloc[:, 2:])[['label', 'Attribute', 'Attribute Value', 'P(Y = 1 | Attr = attr)']]\n",
    "kentucky_recid_balance_df.head()"
   ]
  },
  {
   "cell_type": "code",
   "execution_count": 10,
   "metadata": {},
   "outputs": [
    {
     "data": {
      "image/png": "[encoded data removed]",
      "text/plain": [
       "<Figure size 648x396 with 1 Axes>"
      ]
     },
     "metadata": {},
     "output_type": "display_data"
    }
   ],
   "source": [
    "prob_recid_conditioned_sensitive_attr(kentucky_recid_balance_df, \n",
    "                                      dataset_name = \"Kentucky\",\n",
    "                                      save_path = \"kentucky/logs/fairness_results/data_visualizations/kentucky_prob_recid_conditional.pdf\")\n"
   ]
  }
 ],
 "metadata": {
  "kernelspec": {
   "display_name": "Python 3",
   "language": "python",
   "name": "python3"
  },
  "language_info": {
   "codemirror_mode": {
    "name": "ipython",
    "version": 3
   },
   "file_extension": ".py",
   "mimetype": "text/x-python",
   "name": "python",
   "nbconvert_exporter": "python",
   "pygments_lexer": "ipython3",
   "version": "3.6.5"
  }
 },
 "nbformat": 4,
 "nbformat_minor": 2
}
