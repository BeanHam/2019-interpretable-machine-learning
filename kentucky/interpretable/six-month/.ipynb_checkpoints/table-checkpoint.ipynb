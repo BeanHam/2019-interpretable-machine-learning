{
 "cells": [
  {
   "cell_type": "code",
   "execution_count": 1,
   "metadata": {
    "hideCode": false,
    "hidePrompt": false
   },
   "outputs": [
    {
     "name": "stdout",
     "output_type": "stream",
     "text": [
      "Current working directory is now:  C:\\Users\\binha\\Documents\\Duke\\Cynthia Research\\interpretable-machine-learning\n"
     ]
    }
   ],
   "source": [
    "import os \n",
    "os.chdir('../../../')\n",
    "print(\"Current working directory is now: \", os.getcwd())\n",
    "\n",
    "import pytablewriter\n",
    "import pandas as pd\n",
    "import numpy as np"
   ]
  },
  {
   "cell_type": "code",
   "execution_count": 2,
   "metadata": {
    "hideCode": false,
    "hidePrompt": false
   },
   "outputs": [],
   "source": [
    "result = pd.read_csv(\"./kentucky/logs/interpretable/KY-six-month-interpretable-summary.csv\")"
   ]
  },
  {
   "cell_type": "code",
   "execution_count": 3,
   "metadata": {
    "hideCode": false,
    "hidePrompt": false
   },
   "outputs": [
    {
     "data": {
      "text/html": [
       "<div>\n",
       "<style scoped>\n",
       "    .dataframe tbody tr th:only-of-type {\n",
       "        vertical-align: middle;\n",
       "    }\n",
       "\n",
       "    .dataframe tbody tr th {\n",
       "        vertical-align: top;\n",
       "    }\n",
       "\n",
       "    .dataframe thead th {\n",
       "        text-align: right;\n",
       "    }\n",
       "</style>\n",
       "<table border=\"1\" class=\"dataframe\">\n",
       "  <thead>\n",
       "    <tr style=\"text-align: right;\">\n",
       "      <th></th>\n",
       "      <th>Unnamed: 0</th>\n",
       "      <th>CART</th>\n",
       "      <th>EBM</th>\n",
       "      <th>Lasso Stumps</th>\n",
       "      <th>RiskSLIM</th>\n",
       "      <th>Performance Range</th>\n",
       "      <th>Arnold PSA</th>\n",
       "    </tr>\n",
       "  </thead>\n",
       "  <tbody>\n",
       "    <tr>\n",
       "      <th>0</th>\n",
       "      <td>General</td>\n",
       "      <td>0.772 (0.005)</td>\n",
       "      <td>0.773 (0.004)</td>\n",
       "      <td>0.771 (0.004)</td>\n",
       "      <td>0.737 (0.002)</td>\n",
       "      <td>0.037</td>\n",
       "      <td>0.718 (0.004)</td>\n",
       "    </tr>\n",
       "    <tr>\n",
       "      <th>1</th>\n",
       "      <td>Violent</td>\n",
       "      <td>0.822 (0.011)</td>\n",
       "      <td>0.843 (0.006)</td>\n",
       "      <td>0.836 (0.004)</td>\n",
       "      <td>0.81 (0.009)</td>\n",
       "      <td>0.033</td>\n",
       "      <td>0.794 (0.011)</td>\n",
       "    </tr>\n",
       "    <tr>\n",
       "      <th>2</th>\n",
       "      <td>Drug</td>\n",
       "      <td>0.794 (0.003)</td>\n",
       "      <td>0.793 (0.004)</td>\n",
       "      <td>0.796 (0.004)</td>\n",
       "      <td>0.763 (0.004)</td>\n",
       "      <td>0.033</td>\n",
       "      <td>0.692 (0.007)</td>\n",
       "    </tr>\n",
       "    <tr>\n",
       "      <th>3</th>\n",
       "      <td>Property</td>\n",
       "      <td>0.839 (0.014)</td>\n",
       "      <td>0.85 (0.012)</td>\n",
       "      <td>0.851 (0.01)</td>\n",
       "      <td>0.832 (0.01)</td>\n",
       "      <td>0.019</td>\n",
       "      <td>0.77 (0.013)</td>\n",
       "    </tr>\n",
       "    <tr>\n",
       "      <th>4</th>\n",
       "      <td>Felony</td>\n",
       "      <td>0.811 (0.003)</td>\n",
       "      <td>0.82 (0.003)</td>\n",
       "      <td>0.813 (0.003)</td>\n",
       "      <td>0.79 (0.006)</td>\n",
       "      <td>0.030</td>\n",
       "      <td>0.744 (0.003)</td>\n",
       "    </tr>\n",
       "    <tr>\n",
       "      <th>5</th>\n",
       "      <td>Misdemeanor</td>\n",
       "      <td>0.76 (0.006)</td>\n",
       "      <td>0.757 (0.006)</td>\n",
       "      <td>0.751 (0.006)</td>\n",
       "      <td>0.705 (0.005)</td>\n",
       "      <td>0.055</td>\n",
       "      <td>0.709 (0.006)</td>\n",
       "    </tr>\n",
       "  </tbody>\n",
       "</table>\n",
       "</div>"
      ],
      "text/plain": [
       "    Unnamed: 0           CART            EBM   Lasso Stumps       RiskSLIM  \\\n",
       "0      General  0.772 (0.005)  0.773 (0.004)  0.771 (0.004)  0.737 (0.002)   \n",
       "1      Violent  0.822 (0.011)  0.843 (0.006)  0.836 (0.004)   0.81 (0.009)   \n",
       "2         Drug  0.794 (0.003)  0.793 (0.004)  0.796 (0.004)  0.763 (0.004)   \n",
       "3     Property  0.839 (0.014)   0.85 (0.012)   0.851 (0.01)   0.832 (0.01)   \n",
       "4       Felony  0.811 (0.003)   0.82 (0.003)  0.813 (0.003)   0.79 (0.006)   \n",
       "5  Misdemeanor   0.76 (0.006)  0.757 (0.006)  0.751 (0.006)  0.705 (0.005)   \n",
       "\n",
       "   Performance Range     Arnold PSA  \n",
       "0              0.037  0.718 (0.004)  \n",
       "1              0.033  0.794 (0.011)  \n",
       "2              0.033  0.692 (0.007)  \n",
       "3              0.019   0.77 (0.013)  \n",
       "4              0.030  0.744 (0.003)  \n",
       "5              0.055  0.709 (0.006)  "
      ]
     },
     "execution_count": 3,
     "metadata": {},
     "output_type": "execute_result"
    }
   ],
   "source": [
    "result"
   ]
  },
  {
   "cell_type": "code",
   "execution_count": 4,
   "metadata": {
    "hideCode": false,
    "hidePrompt": false
   },
   "outputs": [],
   "source": [
    "cols = result.columns.to_list()\n",
    "values = result.values.tolist()"
   ]
  },
  {
   "cell_type": "code",
   "execution_count": 5,
   "metadata": {
    "hideCode": false,
    "hideOutput": true,
    "hidePrompt": false
   },
   "outputs": [
    {
     "name": "stdout",
     "output_type": "stream",
     "text": [
      "\\begin{array}{l | l | l | l | l | r | l} \\hline\n",
      "    General     & \\verb|0.762 (0.005)| & \\verb|0.763 (0.004)| & \\verb|0.762 (0.004)| & \\verb|0.722 (0.006)| & 0.042 & \\verb|0.697 (0.003)| \\\\ \\hline\n",
      "    Violent     & \\verb|0.824 (0.008)| & \\verb|0.844 (0.007)| & \\verb|0.841 (0.006)| & \\verb|0.811 (0.015)| & 0.033 & \\verb|0.793 (0.015)| \\\\ \\hline\n",
      "    Drug        & \\verb|0.788 (0.007)| & \\verb|0.788 (0.007)| & \\verb|0.79 (0.007) | & \\verb|0.757 (0.005)| & 0.033 & \\verb|0.673 (0.007)| \\\\ \\hline\n",
      "    Property    & \\verb|0.833 (0.012)| & \\verb|0.845 (0.008)| & \\verb|0.847 (0.01) | & \\verb|0.823 (0.007)| & 0.024 & \\verb|0.751 (0.014)| \\\\ \\hline\n",
      "    Felony      & \\verb|0.802 (0.006)| & \\verb|0.813 (0.005)| & \\verb|0.804 (0.006)| & \\verb|0.778 (0.006)| & 0.035 & \\verb|0.724 (0.007)| \\\\ \\hline\n",
      "    Misdemeanor & \\verb|0.747 (0.007)| & \\verb|0.748 (0.005)| & \\verb|0.743 (0.005)| & \\verb|0.695 (0.006)| & 0.053 & \\verb|0.688 (0.006)| \\\\ \\hline\n",
      "\\end{array}\n"
     ]
    }
   ],
   "source": [
    "writer = pytablewriter.LatexTableWriter()\n",
    "writer.value_matrix = values\n",
    "writer.write_table()"
   ]
  }
 ],
 "metadata": {
  "hide_code_all_hidden": false,
  "kernelspec": {
   "display_name": "Python 3",
   "language": "python",
   "name": "python3"
  },
  "language_info": {
   "codemirror_mode": {
    "name": "ipython",
    "version": 3
   },
   "file_extension": ".py",
   "mimetype": "text/x-python",
   "name": "python",
   "nbconvert_exporter": "python",
   "pygments_lexer": "ipython3",
   "version": "3.7.4"
  }
 },
 "nbformat": 4,
 "nbformat_minor": 4
}
