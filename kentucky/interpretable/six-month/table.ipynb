{
 "cells": [
  {
   "cell_type": "code",
   "execution_count": 1,
   "metadata": {
    "hideCode": false,
    "hidePrompt": false
   },
   "outputs": [],
   "source": [
    "import pytablewriter\n",
    "import pandas as pd\n",
    "import numpy as np"
   ]
  },
  {
   "cell_type": "code",
   "execution_count": 2,
   "metadata": {
    "hideCode": false,
    "hidePrompt": false
   },
   "outputs": [],
   "source": [
    "result = pd.read_csv(\"C:/Users/binha/Documents/Duke/Cynthia Research/interpretable_ml/kentucky/logs/interpretable/KY-six-month-interpretable-summary.csv\")"
   ]
  },
  {
   "cell_type": "code",
   "execution_count": 3,
   "metadata": {
    "hideCode": false,
    "hidePrompt": false
   },
   "outputs": [
    {
     "data": {
      "text/html": [
       "<div>\n",
       "<style scoped>\n",
       "    .dataframe tbody tr th:only-of-type {\n",
       "        vertical-align: middle;\n",
       "    }\n",
       "\n",
       "    .dataframe tbody tr th {\n",
       "        vertical-align: top;\n",
       "    }\n",
       "\n",
       "    .dataframe thead th {\n",
       "        text-align: right;\n",
       "    }\n",
       "</style>\n",
       "<table border=\"1\" class=\"dataframe\">\n",
       "  <thead>\n",
       "    <tr style=\"text-align: right;\">\n",
       "      <th></th>\n",
       "      <th>Unnamed: 0</th>\n",
       "      <th>CART</th>\n",
       "      <th>EBM</th>\n",
       "      <th>Lasso Stumps</th>\n",
       "      <th>RiskSLIM</th>\n",
       "      <th>Performance Range</th>\n",
       "      <th>Arnold PSA</th>\n",
       "    </tr>\n",
       "  </thead>\n",
       "  <tbody>\n",
       "    <tr>\n",
       "      <th>0</th>\n",
       "      <td>General</td>\n",
       "      <td>0.772 (0.001)</td>\n",
       "      <td>0.777 (0.001)</td>\n",
       "      <td>0.774 (0.001)</td>\n",
       "      <td>0.744 (0.002)</td>\n",
       "      <td>0.034</td>\n",
       "      <td>0.691 (0.003)</td>\n",
       "    </tr>\n",
       "    <tr>\n",
       "      <th>1</th>\n",
       "      <td>Violent</td>\n",
       "      <td>0.87 (0.003)</td>\n",
       "      <td>0.877 (0.004)</td>\n",
       "      <td>0.877 (0.003)</td>\n",
       "      <td>0.86 (0.004)</td>\n",
       "      <td>0.017</td>\n",
       "      <td>0.843 (0.003)</td>\n",
       "    </tr>\n",
       "    <tr>\n",
       "      <th>2</th>\n",
       "      <td>Drug</td>\n",
       "      <td>0.772 (0.006)</td>\n",
       "      <td>0.777 (0.005)</td>\n",
       "      <td>0.777 (0.006)</td>\n",
       "      <td>0.749 (0.008)</td>\n",
       "      <td>0.028</td>\n",
       "      <td>0.672 (0.008)</td>\n",
       "    </tr>\n",
       "    <tr>\n",
       "      <th>3</th>\n",
       "      <td>Property</td>\n",
       "      <td>0.819 (0.004)</td>\n",
       "      <td>0.831 (0.004)</td>\n",
       "      <td>0.831 (0.004)</td>\n",
       "      <td>0.803 (0.007)</td>\n",
       "      <td>0.028</td>\n",
       "      <td>0.735 (0.006)</td>\n",
       "    </tr>\n",
       "    <tr>\n",
       "      <th>4</th>\n",
       "      <td>Felony</td>\n",
       "      <td>0.8 (0.004)</td>\n",
       "      <td>0.811 (0.003)</td>\n",
       "      <td>0.809 (0.002)</td>\n",
       "      <td>0.78 (0.002)</td>\n",
       "      <td>0.031</td>\n",
       "      <td>0.711 (0.008)</td>\n",
       "    </tr>\n",
       "  </tbody>\n",
       "</table>\n",
       "</div>"
      ],
      "text/plain": [
       "  Unnamed: 0           CART            EBM   Lasso Stumps       RiskSLIM  \\\n",
       "0    General  0.772 (0.001)  0.777 (0.001)  0.774 (0.001)  0.744 (0.002)   \n",
       "1    Violent   0.87 (0.003)  0.877 (0.004)  0.877 (0.003)   0.86 (0.004)   \n",
       "2       Drug  0.772 (0.006)  0.777 (0.005)  0.777 (0.006)  0.749 (0.008)   \n",
       "3   Property  0.819 (0.004)  0.831 (0.004)  0.831 (0.004)  0.803 (0.007)   \n",
       "4     Felony    0.8 (0.004)  0.811 (0.003)  0.809 (0.002)   0.78 (0.002)   \n",
       "\n",
       "   Performance Range     Arnold PSA  \n",
       "0              0.034  0.691 (0.003)  \n",
       "1              0.017  0.843 (0.003)  \n",
       "2              0.028  0.672 (0.008)  \n",
       "3              0.028  0.735 (0.006)  \n",
       "4              0.031  0.711 (0.008)  "
      ]
     },
     "execution_count": 3,
     "metadata": {},
     "output_type": "execute_result"
    }
   ],
   "source": [
    "result"
   ]
  },
  {
   "cell_type": "code",
   "execution_count": 4,
   "metadata": {
    "hideCode": false,
    "hidePrompt": false
   },
   "outputs": [],
   "source": [
    "cols = result.columns.to_list()\n",
    "values = result.values.tolist()"
   ]
  },
  {
   "cell_type": "code",
   "execution_count": 5,
   "metadata": {
    "hideCode": false,
    "hideOutput": true,
    "hidePrompt": false
   },
   "outputs": [
    {
     "name": "stdout",
     "output_type": "stream",
     "text": [
      "\\begin{array}{l | l | l | l | l | r | l} \\hline\n",
      "    General     & \\verb|0.77 (0.002) | & \\verb|0.777 (0.001)| & \\verb|0.774 (0.001)| & \\verb|0.744 (0.001)| & 0.034 & \\verb|0.691 (0.003)| \\\\ \\hline\n",
      "    Violent     & \\verb|0.863 (0.005)| & \\verb|0.877 (0.004)| & \\verb|0.877 (0.003)| & \\verb|0.86 (0.003) | & 0.017 & \\verb|0.843 (0.003)| \\\\ \\hline\n",
      "    Drug        & \\verb|0.769 (0.005)| & \\verb|0.777 (0.005)| & \\verb|0.777 (0.006)| & \\verb|0.752 (0.005)| & 0.025 & \\verb|0.672 (0.008)| \\\\ \\hline\n",
      "    Property    & \\verb|0.817 (0.004)| & \\verb|0.8 (0.038)  | & \\verb|0.83 (0.004) | & \\verb|0.805 (0.006)| & 0.030 & \\verb|0.735 (0.006)| \\\\ \\hline\n",
      "    Felony      & \\verb|0.798 (0.006)| & \\verb|0.811 (0.003)| & \\verb|0.809 (0.002)| & \\verb|0.781 (0.003)| & 0.030 & \\verb|0.711 (0.008)| \\\\ \\hline\n",
      "    Misdemeanor & \\verb|0.744 (0.003)| & \\verb|0.753 (0.002)| & \\verb|0.749 (0.003)| & \\verb|0.7 (0.002)  | & 0.053 & \\verb|0.69 (0.005) | \\\\ \\hline\n",
      "\\end{array}\n"
     ]
    }
   ],
   "source": [
    "writer = pytablewriter.LatexTableWriter()\n",
    "writer.value_matrix = values\n",
    "writer.write_table()"
   ]
  }
 ],
 "metadata": {
  "hide_code_all_hidden": false,
  "kernelspec": {
   "display_name": "Python 3",
   "language": "python",
   "name": "python3"
  },
  "language_info": {
   "codemirror_mode": {
    "name": "ipython",
    "version": 3
   },
   "file_extension": ".py",
   "mimetype": "text/x-python",
   "name": "python",
   "nbconvert_exporter": "python",
   "pygments_lexer": "ipython3",
   "version": "3.7.4"
  }
 },
 "nbformat": 4,
 "nbformat_minor": 4
}
