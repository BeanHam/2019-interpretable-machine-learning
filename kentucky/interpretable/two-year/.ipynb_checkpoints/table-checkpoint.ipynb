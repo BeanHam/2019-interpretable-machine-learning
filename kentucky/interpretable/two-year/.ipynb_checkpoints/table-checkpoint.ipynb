{
 "cells": [
  {
   "cell_type": "code",
   "execution_count": null,
   "metadata": {
    "hideCode": false,
    "hidePrompt": false
   },
   "outputs": [],
   "source": [
    "import os \n",
    "os.chdir('../../../')\n",
    "print(\"Current working directory is now: \", os.getcwd())\n",
    "\n",
    "import pytablewriter\n",
    "import pandas as pd\n",
    "import numpy as np"
   ]
  },
  {
   "cell_type": "code",
   "execution_count": 2,
   "metadata": {
    "hideCode": false,
    "hidePrompt": false
   },
   "outputs": [],
   "source": [
    "result = pd.read_csv(\"./kentucky/logs/interpretable/KY-two-year-interpretable-summary.csv\")"
   ]
  },
  {
   "cell_type": "code",
   "execution_count": 3,
   "metadata": {
    "hideCode": false,
    "hidePrompt": false
   },
   "outputs": [
    {
     "data": {
      "text/html": [
       "<div>\n",
       "<style scoped>\n",
       "    .dataframe tbody tr th:only-of-type {\n",
       "        vertical-align: middle;\n",
       "    }\n",
       "\n",
       "    .dataframe tbody tr th {\n",
       "        vertical-align: top;\n",
       "    }\n",
       "\n",
       "    .dataframe thead th {\n",
       "        text-align: right;\n",
       "    }\n",
       "</style>\n",
       "<table border=\"1\" class=\"dataframe\">\n",
       "  <thead>\n",
       "    <tr style=\"text-align: right;\">\n",
       "      <th></th>\n",
       "      <th>Unnamed: 0</th>\n",
       "      <th>CART</th>\n",
       "      <th>EBM</th>\n",
       "      <th>Lasso Stumps</th>\n",
       "      <th>RiskSLIM</th>\n",
       "      <th>Performance Range</th>\n",
       "      <th>Arnold PSA</th>\n",
       "    </tr>\n",
       "  </thead>\n",
       "  <tbody>\n",
       "    <tr>\n",
       "      <th>0</th>\n",
       "      <td>General</td>\n",
       "      <td>0.746 (0.003)</td>\n",
       "      <td>0.751 (0.004)</td>\n",
       "      <td>0.748 (0.004)</td>\n",
       "      <td>0.708 (0.003)</td>\n",
       "      <td>0.042</td>\n",
       "      <td>0.711 (0.004)</td>\n",
       "    </tr>\n",
       "    <tr>\n",
       "      <th>1</th>\n",
       "      <td>Violent</td>\n",
       "      <td>0.763 (0.007)</td>\n",
       "      <td>0.777 (0.004)</td>\n",
       "      <td>0.77 (0.005)</td>\n",
       "      <td>0.744 (0.008)</td>\n",
       "      <td>0.032</td>\n",
       "      <td>0.743 (0.003)</td>\n",
       "    </tr>\n",
       "    <tr>\n",
       "      <th>2</th>\n",
       "      <td>Drug</td>\n",
       "      <td>0.736 (0.002)</td>\n",
       "      <td>0.74 (0.001)</td>\n",
       "      <td>0.738 (0.002)</td>\n",
       "      <td>0.708 (0.005)</td>\n",
       "      <td>0.032</td>\n",
       "      <td>0.688 (0.003)</td>\n",
       "    </tr>\n",
       "    <tr>\n",
       "      <th>3</th>\n",
       "      <td>Property</td>\n",
       "      <td>0.79 (0.003)</td>\n",
       "      <td>0.798 (0.006)</td>\n",
       "      <td>0.796 (0.005)</td>\n",
       "      <td>0.761 (0.003)</td>\n",
       "      <td>0.037</td>\n",
       "      <td>0.74 (0.007)</td>\n",
       "    </tr>\n",
       "    <tr>\n",
       "      <th>4</th>\n",
       "      <td>Felony</td>\n",
       "      <td>0.771 (0.002)</td>\n",
       "      <td>0.776 (0.001)</td>\n",
       "      <td>0.773 (0.002)</td>\n",
       "      <td>0.757 (0.007)</td>\n",
       "      <td>0.019</td>\n",
       "      <td>0.731 (0.003)</td>\n",
       "    </tr>\n",
       "    <tr>\n",
       "      <th>5</th>\n",
       "      <td>Misdemeanor</td>\n",
       "      <td>0.73 (0.005)</td>\n",
       "      <td>0.735 (0.005)</td>\n",
       "      <td>0.729 (0.006)</td>\n",
       "      <td>0.701 (0.002)</td>\n",
       "      <td>0.033</td>\n",
       "      <td>0.704 (0.004)</td>\n",
       "    </tr>\n",
       "  </tbody>\n",
       "</table>\n",
       "</div>"
      ],
      "text/plain": [
       "    Unnamed: 0           CART            EBM   Lasso Stumps       RiskSLIM  \\\n",
       "0      General  0.746 (0.003)  0.751 (0.004)  0.748 (0.004)  0.708 (0.003)   \n",
       "1      Violent  0.763 (0.007)  0.777 (0.004)   0.77 (0.005)  0.744 (0.008)   \n",
       "2         Drug  0.736 (0.002)   0.74 (0.001)  0.738 (0.002)  0.708 (0.005)   \n",
       "3     Property   0.79 (0.003)  0.798 (0.006)  0.796 (0.005)  0.761 (0.003)   \n",
       "4       Felony  0.771 (0.002)  0.776 (0.001)  0.773 (0.002)  0.757 (0.007)   \n",
       "5  Misdemeanor   0.73 (0.005)  0.735 (0.005)  0.729 (0.006)  0.701 (0.002)   \n",
       "\n",
       "   Performance Range     Arnold PSA  \n",
       "0              0.042  0.711 (0.004)  \n",
       "1              0.032  0.743 (0.003)  \n",
       "2              0.032  0.688 (0.003)  \n",
       "3              0.037   0.74 (0.007)  \n",
       "4              0.019  0.731 (0.003)  \n",
       "5              0.033  0.704 (0.004)  "
      ]
     },
     "execution_count": 3,
     "metadata": {},
     "output_type": "execute_result"
    }
   ],
   "source": [
    "result"
   ]
  },
  {
   "cell_type": "code",
   "execution_count": 4,
   "metadata": {
    "hideCode": false,
    "hidePrompt": false
   },
   "outputs": [],
   "source": [
    "cols = result.columns.to_list()\n",
    "values = result.values.tolist()"
   ]
  },
  {
   "cell_type": "code",
   "execution_count": 5,
   "metadata": {
    "hideCode": false,
    "hideOutput": true,
    "hidePrompt": false
   },
   "outputs": [
    {
     "name": "stdout",
     "output_type": "stream",
     "text": [
      "\\begin{array}{l | l | l | l | l | r | l} \\hline\n",
      "    General     & \\verb|0.746 (0.003)| & \\verb|0.751 (0.004)| & \\verb|0.748 (0.004)| & \\verb|0.708 (0.003)| & 0.04200 & \\verb|0.711 (0.004)| \\\\ \\hline\n",
      "    Violent     & \\verb|0.763 (0.007)| & \\verb|0.777 (0.004)| & \\verb|0.77 (0.005) | & \\verb|0.744 (0.008)| & 0.03200 & \\verb|0.743 (0.003)| \\\\ \\hline\n",
      "    Drug        & \\verb|0.736 (0.002)| & \\verb|0.74 (0.001) | & \\verb|0.738 (0.002)| & \\verb|0.708 (0.005)| & 0.03200 & \\verb|0.688 (0.003)| \\\\ \\hline\n",
      "    Property    & \\verb|0.79 (0.003) | & \\verb|0.798 (0.006)| & \\verb|0.796 (0.005)| & \\verb|0.761 (0.003)| & 0.03700 & \\verb|0.74 (0.007) | \\\\ \\hline\n",
      "    Felony      & \\verb|0.771 (0.002)| & \\verb|0.776 (0.001)| & \\verb|0.773 (0.002)| & \\verb|0.757 (0.007)| & 0.01900 & \\verb|0.731 (0.003)| \\\\ \\hline\n",
      "    Misdemeanor & \\verb|0.73 (0.005) | & \\verb|0.735 (0.005)| & \\verb|0.729 (0.006)| & \\verb|0.701 (0.002)| & 0.03300 & \\verb|0.704 (0.004)| \\\\ \\hline\n",
      "\\end{array}\n"
     ]
    }
   ],
   "source": [
    "writer = pytablewriter.LatexTableWriter()\n",
    "writer.value_matrix = values\n",
    "writer.write_table()"
   ]
  }
 ],
 "metadata": {
  "hide_code_all_hidden": false,
  "kernelspec": {
   "display_name": "Python 3",
   "language": "python",
   "name": "python3"
  },
  "language_info": {
   "codemirror_mode": {
    "name": "ipython",
    "version": 3
   },
   "file_extension": ".py",
   "mimetype": "text/x-python",
   "name": "python",
   "nbconvert_exporter": "python",
   "pygments_lexer": "ipython3",
   "version": "3.8.8"
  }
 },
 "nbformat": 4,
 "nbformat_minor": 4
}
