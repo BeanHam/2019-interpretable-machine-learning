{
 "cells": [
  {
   "cell_type": "code",
   "execution_count": 1,
   "metadata": {
    "hideCode": false,
    "hidePrompt": false
   },
   "outputs": [
    {
     "name": "stdout",
     "output_type": "stream",
     "text": [
      "Current working directory is now:  C:\\Users\\binha\\Documents\\Duke\\Cynthia Research\\interpretable-machine-learning\n"
     ]
    }
   ],
   "source": [
    "import os \n",
    "os.chdir('../../../')\n",
    "print(\"Current working directory is now: \", os.getcwd())\n",
    "\n",
    "import pytablewriter\n",
    "import pandas as pd\n",
    "import numpy as np"
   ]
  },
  {
   "cell_type": "code",
   "execution_count": 4,
   "metadata": {
    "hideCode": false,
    "hidePrompt": false
   },
   "outputs": [],
   "source": [
    "result = pd.read_csv(\"./kentucky/logs/interpretable/KY-two-year-interpretable-summary.csv\")"
   ]
  },
  {
   "cell_type": "code",
   "execution_count": 5,
   "metadata": {
    "hideCode": false,
    "hidePrompt": false
   },
   "outputs": [
    {
     "data": {
      "text/html": [
       "<div>\n",
       "<style scoped>\n",
       "    .dataframe tbody tr th:only-of-type {\n",
       "        vertical-align: middle;\n",
       "    }\n",
       "\n",
       "    .dataframe tbody tr th {\n",
       "        vertical-align: top;\n",
       "    }\n",
       "\n",
       "    .dataframe thead th {\n",
       "        text-align: right;\n",
       "    }\n",
       "</style>\n",
       "<table border=\"1\" class=\"dataframe\">\n",
       "  <thead>\n",
       "    <tr style=\"text-align: right;\">\n",
       "      <th></th>\n",
       "      <th>Unnamed: 0</th>\n",
       "      <th>CART</th>\n",
       "      <th>EBM</th>\n",
       "      <th>Lasso Stumps</th>\n",
       "      <th>RiskSLIM</th>\n",
       "      <th>Performance Range</th>\n",
       "      <th>Arnold PSA</th>\n",
       "    </tr>\n",
       "  </thead>\n",
       "  <tbody>\n",
       "    <tr>\n",
       "      <th>0</th>\n",
       "      <td>General</td>\n",
       "      <td>0.737 (0.003)</td>\n",
       "      <td>0.741 (0.003)</td>\n",
       "      <td>0.739 (0.003)</td>\n",
       "      <td>0.697 (0.002)</td>\n",
       "      <td>0.044</td>\n",
       "      <td>0.692 (0.003)</td>\n",
       "    </tr>\n",
       "    <tr>\n",
       "      <th>1</th>\n",
       "      <td>Violent</td>\n",
       "      <td>0.767 (0.005)</td>\n",
       "      <td>0.778 (0.005)</td>\n",
       "      <td>0.773 (0.005)</td>\n",
       "      <td>0.742 (0.006)</td>\n",
       "      <td>0.036</td>\n",
       "      <td>0.743 (0.003)</td>\n",
       "    </tr>\n",
       "    <tr>\n",
       "      <th>2</th>\n",
       "      <td>Drug</td>\n",
       "      <td>0.729 (0.002)</td>\n",
       "      <td>0.733 (0.002)</td>\n",
       "      <td>0.731 (0.002)</td>\n",
       "      <td>0.681 (0.005)</td>\n",
       "      <td>0.052</td>\n",
       "      <td>0.672 (0.003)</td>\n",
       "    </tr>\n",
       "    <tr>\n",
       "      <th>3</th>\n",
       "      <td>Property</td>\n",
       "      <td>0.788 (0.007)</td>\n",
       "      <td>0.794 (0.006)</td>\n",
       "      <td>0.793 (0.006)</td>\n",
       "      <td>0.759 (0.005)</td>\n",
       "      <td>0.034</td>\n",
       "      <td>0.725 (0.005)</td>\n",
       "    </tr>\n",
       "    <tr>\n",
       "      <th>4</th>\n",
       "      <td>Felony</td>\n",
       "      <td>0.762 (0.004)</td>\n",
       "      <td>0.769 (0.004)</td>\n",
       "      <td>0.765 (0.004)</td>\n",
       "      <td>0.736 (0.006)</td>\n",
       "      <td>0.033</td>\n",
       "      <td>0.715 (0.005)</td>\n",
       "    </tr>\n",
       "    <tr>\n",
       "      <th>5</th>\n",
       "      <td>Misdemeanor</td>\n",
       "      <td>0.72 (0.004)</td>\n",
       "      <td>0.726 (0.002)</td>\n",
       "      <td>0.721 (0.002)</td>\n",
       "      <td>0.677 (0.004)</td>\n",
       "      <td>0.049</td>\n",
       "      <td>0.686 (0.003)</td>\n",
       "    </tr>\n",
       "  </tbody>\n",
       "</table>\n",
       "</div>"
      ],
      "text/plain": [
       "    Unnamed: 0           CART            EBM   Lasso Stumps       RiskSLIM  \\\n",
       "0      General  0.737 (0.003)  0.741 (0.003)  0.739 (0.003)  0.697 (0.002)   \n",
       "1      Violent  0.767 (0.005)  0.778 (0.005)  0.773 (0.005)  0.742 (0.006)   \n",
       "2         Drug  0.729 (0.002)  0.733 (0.002)  0.731 (0.002)  0.681 (0.005)   \n",
       "3     Property  0.788 (0.007)  0.794 (0.006)  0.793 (0.006)  0.759 (0.005)   \n",
       "4       Felony  0.762 (0.004)  0.769 (0.004)  0.765 (0.004)  0.736 (0.006)   \n",
       "5  Misdemeanor   0.72 (0.004)  0.726 (0.002)  0.721 (0.002)  0.677 (0.004)   \n",
       "\n",
       "   Performance Range     Arnold PSA  \n",
       "0              0.044  0.692 (0.003)  \n",
       "1              0.036  0.743 (0.003)  \n",
       "2              0.052  0.672 (0.003)  \n",
       "3              0.034  0.725 (0.005)  \n",
       "4              0.033  0.715 (0.005)  \n",
       "5              0.049  0.686 (0.003)  "
      ]
     },
     "execution_count": 5,
     "metadata": {},
     "output_type": "execute_result"
    }
   ],
   "source": [
    "result"
   ]
  },
  {
   "cell_type": "code",
   "execution_count": 4,
   "metadata": {
    "hideCode": false,
    "hidePrompt": false
   },
   "outputs": [],
   "source": [
    "cols = result.columns.to_list()\n",
    "values = result.values.tolist()"
   ]
  },
  {
   "cell_type": "code",
   "execution_count": 5,
   "metadata": {
    "hideCode": false,
    "hideOutput": true,
    "hidePrompt": false
   },
   "outputs": [
    {
     "name": "stdout",
     "output_type": "stream",
     "text": [
      "\\begin{array}{l | l | l | l | l | r | l} \\hline\n",
      "    NaN         & NaN           & NaN           & NaN           & NaN           &   NaN & NaN           \\\\ \\hline\n",
      "    General     & \\verb|0.735 (0.003)| & \\verb|0.741 (0.003)| & \\verb|0.739 (0.003)| & \\verb|0.708 (0.002)| & 0.033 & \\verb|0.686 (0.002)| \\\\ \\hline\n",
      "    NaN         & NaN           & NaN           & NaN           & NaN           &   NaN & NaN           \\\\ \\hline\n",
      "    Violent     & \\verb|0.814 (0.002)| & \\verb|0.817 (0.001)| & \\verb|0.816 (0.001)| & \\verb|0.791 (0.002)| & 0.025 & \\verb|0.79 (0.003) | \\\\ \\hline\n",
      "    NaN         & NaN           & NaN           & NaN           & NaN           &   NaN & NaN           \\\\ \\hline\n",
      "    Drug        & \\verb|0.711 (0.006)| & \\verb|0.711 (0.013)| & \\verb|0.715 (0.007)| & \\verb|0.682 (0.007)| & 0.033 & \\verb|0.657 (0.004)| \\\\ \\hline\n",
      "    NaN         & NaN           & NaN           & NaN           & NaN           &   NaN & NaN           \\\\ \\hline\n",
      "    Property    & \\verb|0.776 (0.002)| & \\verb|0.784 (0.002)| & \\verb|0.782 (0.003)| & \\verb|0.746 (0.002)| & 0.038 & \\verb|0.71 (0.004) | \\\\ \\hline\n",
      "    NaN         & NaN           & NaN           & NaN           & NaN           &   NaN & NaN           \\\\ \\hline\n",
      "    Felony      & \\verb|0.755 (0.003)| & \\verb|0.764 (0.004)| & \\verb|0.761 (0.004)| & \\verb|0.731 (0.002)| & 0.034 & \\verb|0.704 (0.004)| \\\\ \\hline\n",
      "    NaN         & NaN           & NaN           & NaN           & NaN           &   NaN & NaN           \\\\ \\hline\n",
      "    Misdemeanor & \\verb|0.708 (0.004)| & \\verb|0.716 (0.004)| & \\verb|0.712 (0.004)| & \\verb|0.671 (0.003)| & 0.046 & \\verb|0.678 (0.003)| \\\\ \\hline\n",
      "\\end{array}\n"
     ]
    }
   ],
   "source": [
    "writer = pytablewriter.LatexTableWriter()\n",
    "writer.value_matrix = values\n",
    "writer.write_table()"
   ]
  }
 ],
 "metadata": {
  "hide_code_all_hidden": false,
  "kernelspec": {
   "display_name": "Python 3",
   "language": "python",
   "name": "python3"
  },
  "language_info": {
   "codemirror_mode": {
    "name": "ipython",
    "version": 3
   },
   "file_extension": ".py",
   "mimetype": "text/x-python",
   "name": "python",
   "nbconvert_exporter": "python",
   "pygments_lexer": "ipython3",
   "version": "3.7.4"
  }
 },
 "nbformat": 4,
 "nbformat_minor": 4
}
