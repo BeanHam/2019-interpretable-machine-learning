{
 "cells": [
  {
   "cell_type": "code",
   "execution_count": null,
   "metadata": {
    "hideCode": false,
    "hidePrompt": false
   },
   "outputs": [],
   "source": [
    "import os \n",
    "os.chdir('../../../')\n",
    "print(\"Current working directory is now: \", os.getcwd())\n",
    "\n",
    "import pytablewriter\n",
    "import pandas as pd\n",
    "import numpy as np"
   ]
  },
  {
   "cell_type": "code",
   "execution_count": 2,
   "metadata": {
    "hideCode": false,
    "hidePrompt": false
   },
   "outputs": [],
   "source": [
    "result = pd.read_csv(\"./kentucky/logs/baselines/KY-six-month-baseline-summary.csv\")"
   ]
  },
  {
   "cell_type": "code",
   "execution_count": 3,
   "metadata": {},
   "outputs": [
    {
     "data": {
      "text/html": [
       "<div>\n",
       "<style scoped>\n",
       "    .dataframe tbody tr th:only-of-type {\n",
       "        vertical-align: middle;\n",
       "    }\n",
       "\n",
       "    .dataframe tbody tr th {\n",
       "        vertical-align: top;\n",
       "    }\n",
       "\n",
       "    .dataframe thead th {\n",
       "        text-align: right;\n",
       "    }\n",
       "</style>\n",
       "<table border=\"1\" class=\"dataframe\">\n",
       "  <thead>\n",
       "    <tr style=\"text-align: right;\">\n",
       "      <th></th>\n",
       "      <th>Unnamed: 0</th>\n",
       "      <th>Logistic</th>\n",
       "      <th>Lasso</th>\n",
       "      <th>Linear SVM</th>\n",
       "      <th>Random Forest</th>\n",
       "      <th>XGBoost</th>\n",
       "      <th>Performance Range</th>\n",
       "    </tr>\n",
       "  </thead>\n",
       "  <tbody>\n",
       "    <tr>\n",
       "      <th>0</th>\n",
       "      <td>General</td>\n",
       "      <td>0.761 (0.004)</td>\n",
       "      <td>0.761 (0.004)</td>\n",
       "      <td>0.764 (0.005)</td>\n",
       "      <td>0.779 (0.003)</td>\n",
       "      <td>0.785 (0.004)</td>\n",
       "      <td>0.024</td>\n",
       "    </tr>\n",
       "    <tr>\n",
       "      <th>1</th>\n",
       "      <td>Violent</td>\n",
       "      <td>0.833 (0.007)</td>\n",
       "      <td>0.834 (0.006)</td>\n",
       "      <td>0.833 (0.007)</td>\n",
       "      <td>0.843 (0.006)</td>\n",
       "      <td>0.847 (0.005)</td>\n",
       "      <td>0.014</td>\n",
       "    </tr>\n",
       "    <tr>\n",
       "      <th>2</th>\n",
       "      <td>Drug</td>\n",
       "      <td>0.782 (0.003)</td>\n",
       "      <td>0.782 (0.003)</td>\n",
       "      <td>0.785 (0.003)</td>\n",
       "      <td>0.803 (0.003)</td>\n",
       "      <td>0.811 (0.002)</td>\n",
       "      <td>0.029</td>\n",
       "    </tr>\n",
       "    <tr>\n",
       "      <th>3</th>\n",
       "      <td>Property</td>\n",
       "      <td>0.834 (0.012)</td>\n",
       "      <td>0.834 (0.013)</td>\n",
       "      <td>0.831 (0.014)</td>\n",
       "      <td>0.857 (0.011)</td>\n",
       "      <td>0.86 (0.011)</td>\n",
       "      <td>0.029</td>\n",
       "    </tr>\n",
       "    <tr>\n",
       "      <th>4</th>\n",
       "      <td>Felony</td>\n",
       "      <td>0.799 (0.002)</td>\n",
       "      <td>0.8 (0.002)</td>\n",
       "      <td>0.804 (0.003)</td>\n",
       "      <td>0.824 (0.003)</td>\n",
       "      <td>0.831 (0.002)</td>\n",
       "      <td>0.032</td>\n",
       "    </tr>\n",
       "    <tr>\n",
       "      <th>5</th>\n",
       "      <td>Misdemeanor</td>\n",
       "      <td>0.746 (0.007)</td>\n",
       "      <td>0.746 (0.007)</td>\n",
       "      <td>0.748 (0.007)</td>\n",
       "      <td>0.765 (0.006)</td>\n",
       "      <td>0.774 (0.006)</td>\n",
       "      <td>0.028</td>\n",
       "    </tr>\n",
       "  </tbody>\n",
       "</table>\n",
       "</div>"
      ],
      "text/plain": [
       "    Unnamed: 0       Logistic          Lasso     Linear SVM  Random Forest  \\\n",
       "0      General  0.761 (0.004)  0.761 (0.004)  0.764 (0.005)  0.779 (0.003)   \n",
       "1      Violent  0.833 (0.007)  0.834 (0.006)  0.833 (0.007)  0.843 (0.006)   \n",
       "2         Drug  0.782 (0.003)  0.782 (0.003)  0.785 (0.003)  0.803 (0.003)   \n",
       "3     Property  0.834 (0.012)  0.834 (0.013)  0.831 (0.014)  0.857 (0.011)   \n",
       "4       Felony  0.799 (0.002)    0.8 (0.002)  0.804 (0.003)  0.824 (0.003)   \n",
       "5  Misdemeanor  0.746 (0.007)  0.746 (0.007)  0.748 (0.007)  0.765 (0.006)   \n",
       "\n",
       "         XGBoost  Performance Range  \n",
       "0  0.785 (0.004)              0.024  \n",
       "1  0.847 (0.005)              0.014  \n",
       "2  0.811 (0.002)              0.029  \n",
       "3   0.86 (0.011)              0.029  \n",
       "4  0.831 (0.002)              0.032  \n",
       "5  0.774 (0.006)              0.028  "
      ]
     },
     "execution_count": 3,
     "metadata": {},
     "output_type": "execute_result"
    }
   ],
   "source": [
    "result"
   ]
  },
  {
   "cell_type": "code",
   "execution_count": 4,
   "metadata": {
    "hideCode": false,
    "hidePrompt": false
   },
   "outputs": [],
   "source": [
    "cols = result.columns.to_list()\n",
    "values = result.values.tolist()"
   ]
  },
  {
   "cell_type": "code",
   "execution_count": 5,
   "metadata": {
    "hideCode": false,
    "hideOutput": true,
    "hidePrompt": false
   },
   "outputs": [
    {
     "name": "stdout",
     "output_type": "stream",
     "text": [
      "\\begin{array}{l | l | l | l | l | l | r} \\hline\n",
      "    General     & \\verb|0.761 (0.004)| & \\verb|0.761 (0.004)| & \\verb|0.764 (0.005)| & \\verb|0.779 (0.003)| & \\verb|0.785 (0.004)| & 0.02400 \\\\ \\hline\n",
      "    Violent     & \\verb|0.833 (0.007)| & \\verb|0.834 (0.006)| & \\verb|0.833 (0.007)| & \\verb|0.843 (0.006)| & \\verb|0.847 (0.005)| & 0.01400 \\\\ \\hline\n",
      "    Drug        & \\verb|0.782 (0.003)| & \\verb|0.782 (0.003)| & \\verb|0.785 (0.003)| & \\verb|0.803 (0.003)| & \\verb|0.811 (0.002)| & 0.02900 \\\\ \\hline\n",
      "    Property    & \\verb|0.834 (0.012)| & \\verb|0.834 (0.013)| & \\verb|0.831 (0.014)| & \\verb|0.857 (0.011)| & \\verb|0.86 (0.011) | & 0.02900 \\\\ \\hline\n",
      "    Felony      & \\verb|0.799 (0.002)| & \\verb|0.8 (0.002)  | & \\verb|0.804 (0.003)| & \\verb|0.824 (0.003)| & \\verb|0.831 (0.002)| & 0.03200 \\\\ \\hline\n",
      "    Misdemeanor & \\verb|0.746 (0.007)| & \\verb|0.746 (0.007)| & \\verb|0.748 (0.007)| & \\verb|0.765 (0.006)| & \\verb|0.774 (0.006)| & 0.02800 \\\\ \\hline\n",
      "\\end{array}\n"
     ]
    }
   ],
   "source": [
    "writer = pytablewriter.LatexTableWriter()\n",
    "writer.value_matrix = values\n",
    "writer.write_table()"
   ]
  }
 ],
 "metadata": {
  "hide_code_all_hidden": false,
  "kernelspec": {
   "display_name": "Python 3",
   "language": "python",
   "name": "python3"
  },
  "language_info": {
   "codemirror_mode": {
    "name": "ipython",
    "version": 3
   },
   "file_extension": ".py",
   "mimetype": "text/x-python",
   "name": "python",
   "nbconvert_exporter": "python",
   "pygments_lexer": "ipython3",
   "version": "3.8.8"
  }
 },
 "nbformat": 4,
 "nbformat_minor": 4
}
