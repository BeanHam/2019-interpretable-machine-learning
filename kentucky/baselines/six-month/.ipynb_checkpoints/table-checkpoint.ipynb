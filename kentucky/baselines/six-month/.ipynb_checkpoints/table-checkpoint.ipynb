{
 "cells": [
  {
   "cell_type": "code",
   "execution_count": 1,
   "metadata": {
    "hideCode": false,
    "hidePrompt": false
   },
   "outputs": [
    {
     "name": "stdout",
     "output_type": "stream",
     "text": [
      "Current working directory is now:  C:\\Users\\binha\\Documents\\Duke\\Cynthia Research\\interpretable-machine-learning\n"
     ]
    }
   ],
   "source": [
    "import os \n",
    "os.chdir('../../../')\n",
    "print(\"Current working directory is now: \", os.getcwd())\n",
    "\n",
    "import pytablewriter\n",
    "import pandas as pd\n",
    "import numpy as np"
   ]
  },
  {
   "cell_type": "code",
   "execution_count": 2,
   "metadata": {
    "hideCode": false,
    "hidePrompt": false
   },
   "outputs": [],
   "source": [
    "result = pd.read_csv(\"./kentucky/logs/baselines/KY-six-month-baseline-summary.csv\")"
   ]
  },
  {
   "cell_type": "code",
   "execution_count": 3,
   "metadata": {},
   "outputs": [
    {
     "data": {
      "text/html": [
       "<div>\n",
       "<style scoped>\n",
       "    .dataframe tbody tr th:only-of-type {\n",
       "        vertical-align: middle;\n",
       "    }\n",
       "\n",
       "    .dataframe tbody tr th {\n",
       "        vertical-align: top;\n",
       "    }\n",
       "\n",
       "    .dataframe thead th {\n",
       "        text-align: right;\n",
       "    }\n",
       "</style>\n",
       "<table border=\"1\" class=\"dataframe\">\n",
       "  <thead>\n",
       "    <tr style=\"text-align: right;\">\n",
       "      <th></th>\n",
       "      <th>Unnamed: 0</th>\n",
       "      <th>Logistic</th>\n",
       "      <th>Lasso</th>\n",
       "      <th>Linear SVM</th>\n",
       "      <th>Random Forest</th>\n",
       "      <th>XGBoost</th>\n",
       "      <th>Performance Range</th>\n",
       "    </tr>\n",
       "  </thead>\n",
       "  <tbody>\n",
       "    <tr>\n",
       "      <th>0</th>\n",
       "      <td>General</td>\n",
       "      <td>0.752 (0.004)</td>\n",
       "      <td>0.752 (0.004)</td>\n",
       "      <td>0.755 (0.004)</td>\n",
       "      <td>0.769 (0.005)</td>\n",
       "      <td>0.776 (0.006)</td>\n",
       "      <td>0.024</td>\n",
       "    </tr>\n",
       "    <tr>\n",
       "      <th>1</th>\n",
       "      <td>Violent</td>\n",
       "      <td>0.835 (0.005)</td>\n",
       "      <td>0.835 (0.006)</td>\n",
       "      <td>0.836 (0.003)</td>\n",
       "      <td>0.843 (0.004)</td>\n",
       "      <td>0.848 (0.006)</td>\n",
       "      <td>0.013</td>\n",
       "    </tr>\n",
       "    <tr>\n",
       "      <th>2</th>\n",
       "      <td>Drug</td>\n",
       "      <td>0.776 (0.008)</td>\n",
       "      <td>0.776 (0.007)</td>\n",
       "      <td>0.778 (0.006)</td>\n",
       "      <td>0.8 (0.006)</td>\n",
       "      <td>0.806 (0.006)</td>\n",
       "      <td>0.031</td>\n",
       "    </tr>\n",
       "    <tr>\n",
       "      <th>3</th>\n",
       "      <td>Property</td>\n",
       "      <td>0.829 (0.013)</td>\n",
       "      <td>0.828 (0.013)</td>\n",
       "      <td>0.825 (0.014)</td>\n",
       "      <td>0.853 (0.008)</td>\n",
       "      <td>0.856 (0.011)</td>\n",
       "      <td>0.031</td>\n",
       "    </tr>\n",
       "    <tr>\n",
       "      <th>4</th>\n",
       "      <td>Felony</td>\n",
       "      <td>0.792 (0.008)</td>\n",
       "      <td>0.793 (0.008)</td>\n",
       "      <td>0.797 (0.007)</td>\n",
       "      <td>0.817 (0.005)</td>\n",
       "      <td>0.825 (0.005)</td>\n",
       "      <td>0.032</td>\n",
       "    </tr>\n",
       "    <tr>\n",
       "      <th>5</th>\n",
       "      <td>Misdemeanor</td>\n",
       "      <td>0.737 (0.005)</td>\n",
       "      <td>0.737 (0.005)</td>\n",
       "      <td>0.74 (0.006)</td>\n",
       "      <td>0.756 (0.006)</td>\n",
       "      <td>0.765 (0.007)</td>\n",
       "      <td>0.028</td>\n",
       "    </tr>\n",
       "  </tbody>\n",
       "</table>\n",
       "</div>"
      ],
      "text/plain": [
       "    Unnamed: 0       Logistic          Lasso     Linear SVM  Random Forest  \\\n",
       "0      General  0.752 (0.004)  0.752 (0.004)  0.755 (0.004)  0.769 (0.005)   \n",
       "1      Violent  0.835 (0.005)  0.835 (0.006)  0.836 (0.003)  0.843 (0.004)   \n",
       "2         Drug  0.776 (0.008)  0.776 (0.007)  0.778 (0.006)    0.8 (0.006)   \n",
       "3     Property  0.829 (0.013)  0.828 (0.013)  0.825 (0.014)  0.853 (0.008)   \n",
       "4       Felony  0.792 (0.008)  0.793 (0.008)  0.797 (0.007)  0.817 (0.005)   \n",
       "5  Misdemeanor  0.737 (0.005)  0.737 (0.005)   0.74 (0.006)  0.756 (0.006)   \n",
       "\n",
       "         XGBoost  Performance Range  \n",
       "0  0.776 (0.006)              0.024  \n",
       "1  0.848 (0.006)              0.013  \n",
       "2  0.806 (0.006)              0.031  \n",
       "3  0.856 (0.011)              0.031  \n",
       "4  0.825 (0.005)              0.032  \n",
       "5  0.765 (0.007)              0.028  "
      ]
     },
     "execution_count": 3,
     "metadata": {},
     "output_type": "execute_result"
    }
   ],
   "source": [
    "result"
   ]
  },
  {
   "cell_type": "code",
   "execution_count": 5,
   "metadata": {
    "hideCode": false,
    "hidePrompt": false
   },
   "outputs": [],
   "source": [
    "cols = result.columns.to_list()\n",
    "values = result.values.tolist()"
   ]
  },
  {
   "cell_type": "code",
   "execution_count": 5,
   "metadata": {
    "hideCode": false,
    "hideOutput": true,
    "hidePrompt": false
   },
   "outputs": [
    {
     "name": "stdout",
     "output_type": "stream",
     "text": [
      "\\begin{array}{l | l | l | l | l | l | r} \\hline\n",
      "    General     & \\verb|0.766 (0.001)| & \\verb|0.766 (0.001)| & \\verb|0.769 (0.002)| & \\verb|0.78 (0.001) | & \\verb|0.786 (0.001)| & 0.02000 \\\\ \\hline\n",
      "    Violent     & \\verb|0.867 (0.003)| & \\verb|0.867 (0.003)| & \\verb|0.865 (0.003)| & \\verb|0.878 (0.003)| & \\verb|0.881 (0.003)| & 0.01600 \\\\ \\hline\n",
      "    Drug        & \\verb|0.766 (0.006)| & \\verb|0.765 (0.006)| & \\verb|0.77 (0.007) | & \\verb|0.782 (0.004)| & \\verb|0.789 (0.006)| & 0.02300 \\\\ \\hline\n",
      "    Property    & \\verb|0.812 (0.008)| & \\verb|0.81 (0.008) | & \\verb|0.812 (0.008)| & \\verb|0.833 (0.005)| & \\verb|0.838 (0.005)| & 0.02800 \\\\ \\hline\n",
      "    Felony      & \\verb|0.794 (0.007)| & \\verb|0.794 (0.007)| & \\verb|0.797 (0.007)| & \\verb|0.813 (0.003)| & \\verb|0.817 (0.004)| & 0.02400 \\\\ \\hline\n",
      "    Misdemeanor & \\verb|0.742 (0.004)| & \\verb|0.742 (0.004)| & \\verb|0.746 (0.004)| & \\verb|0.756 (0.002)| & \\verb|0.763 (0.003)| & 0.02100 \\\\ \\hline\n",
      "\\end{array}\n"
     ]
    }
   ],
   "source": [
    "writer = pytablewriter.LatexTableWriter()\n",
    "writer.value_matrix = values\n",
    "writer.write_table()"
   ]
  }
 ],
 "metadata": {
  "hide_code_all_hidden": false,
  "kernelspec": {
   "display_name": "Python 3",
   "language": "python",
   "name": "python3"
  },
  "language_info": {
   "codemirror_mode": {
    "name": "ipython",
    "version": 3
   },
   "file_extension": ".py",
   "mimetype": "text/x-python",
   "name": "python",
   "nbconvert_exporter": "python",
   "pygments_lexer": "ipython3",
   "version": "3.7.4"
  }
 },
 "nbformat": 4,
 "nbformat_minor": 4
}
