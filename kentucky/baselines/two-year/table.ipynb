{
 "cells": [
  {
   "cell_type": "code",
   "execution_count": 1,
   "metadata": {
    "hideCode": false,
    "hidePrompt": false
   },
   "outputs": [
    {
     "name": "stdout",
     "output_type": "stream",
     "text": [
      "Current working directory is now:  C:\\Users\\binha\\Documents\\Duke\\Cynthia Research\\interpretable-machine-learning\n"
     ]
    }
   ],
   "source": [
    "import os \n",
    "os.chdir('../../../')\n",
    "print(\"Current working directory is now: \", os.getcwd())\n",
    "\n",
    "import pytablewriter\n",
    "import pandas as pd\n",
    "import numpy as np"
   ]
  },
  {
   "cell_type": "code",
   "execution_count": 2,
   "metadata": {
    "hideCode": false,
    "hidePrompt": false
   },
   "outputs": [],
   "source": [
    "result = pd.read_csv(\"./kentucky/logs/baselines/KY-two-year-baseline-summary.csv\")"
   ]
  },
  {
   "cell_type": "code",
   "execution_count": 3,
   "metadata": {
    "hideCode": false,
    "hidePrompt": false
   },
   "outputs": [
    {
     "data": {
      "text/html": [
       "<div>\n",
       "<style scoped>\n",
       "    .dataframe tbody tr th:only-of-type {\n",
       "        vertical-align: middle;\n",
       "    }\n",
       "\n",
       "    .dataframe tbody tr th {\n",
       "        vertical-align: top;\n",
       "    }\n",
       "\n",
       "    .dataframe thead th {\n",
       "        text-align: right;\n",
       "    }\n",
       "</style>\n",
       "<table border=\"1\" class=\"dataframe\">\n",
       "  <thead>\n",
       "    <tr style=\"text-align: right;\">\n",
       "      <th></th>\n",
       "      <th>Unnamed: 0</th>\n",
       "      <th>Logistic</th>\n",
       "      <th>Lasso</th>\n",
       "      <th>Linear SVM</th>\n",
       "      <th>Random Forest</th>\n",
       "      <th>XGBoost</th>\n",
       "      <th>Performance Range</th>\n",
       "    </tr>\n",
       "  </thead>\n",
       "  <tbody>\n",
       "    <tr>\n",
       "      <th>0</th>\n",
       "      <td>General</td>\n",
       "      <td>0.745 (0.004)</td>\n",
       "      <td>0.745 (0.004)</td>\n",
       "      <td>0.746 (0.004)</td>\n",
       "      <td>0.753 (0.003)</td>\n",
       "      <td>0.759 (0.003)</td>\n",
       "      <td>0.014</td>\n",
       "    </tr>\n",
       "    <tr>\n",
       "      <th>1</th>\n",
       "      <td>Violent</td>\n",
       "      <td>0.768 (0.002)</td>\n",
       "      <td>0.769 (0.003)</td>\n",
       "      <td>0.769 (0.003)</td>\n",
       "      <td>0.777 (0.005)</td>\n",
       "      <td>0.784 (0.004)</td>\n",
       "      <td>0.016</td>\n",
       "    </tr>\n",
       "    <tr>\n",
       "      <th>2</th>\n",
       "      <td>Drug</td>\n",
       "      <td>0.73 (0.003)</td>\n",
       "      <td>0.73 (0.003)</td>\n",
       "      <td>0.733 (0.003)</td>\n",
       "      <td>0.743 (0.002)</td>\n",
       "      <td>0.749 (0.002)</td>\n",
       "      <td>0.019</td>\n",
       "    </tr>\n",
       "    <tr>\n",
       "      <th>3</th>\n",
       "      <td>Property</td>\n",
       "      <td>0.785 (0.005)</td>\n",
       "      <td>0.785 (0.005)</td>\n",
       "      <td>0.787 (0.005)</td>\n",
       "      <td>0.801 (0.004)</td>\n",
       "      <td>0.806 (0.004)</td>\n",
       "      <td>0.021</td>\n",
       "    </tr>\n",
       "    <tr>\n",
       "      <th>4</th>\n",
       "      <td>Felony</td>\n",
       "      <td>0.765 (0.001)</td>\n",
       "      <td>0.765 (0.001)</td>\n",
       "      <td>0.768 (0.002)</td>\n",
       "      <td>0.779 (0.002)</td>\n",
       "      <td>0.784 (0.001)</td>\n",
       "      <td>0.019</td>\n",
       "    </tr>\n",
       "    <tr>\n",
       "      <th>5</th>\n",
       "      <td>Misdemeanor</td>\n",
       "      <td>0.729 (0.005)</td>\n",
       "      <td>0.729 (0.005)</td>\n",
       "      <td>0.73 (0.006)</td>\n",
       "      <td>0.738 (0.005)</td>\n",
       "      <td>0.744 (0.005)</td>\n",
       "      <td>0.016</td>\n",
       "    </tr>\n",
       "  </tbody>\n",
       "</table>\n",
       "</div>"
      ],
      "text/plain": [
       "    Unnamed: 0       Logistic          Lasso     Linear SVM  Random Forest  \\\n",
       "0      General  0.745 (0.004)  0.745 (0.004)  0.746 (0.004)  0.753 (0.003)   \n",
       "1      Violent  0.768 (0.002)  0.769 (0.003)  0.769 (0.003)  0.777 (0.005)   \n",
       "2         Drug   0.73 (0.003)   0.73 (0.003)  0.733 (0.003)  0.743 (0.002)   \n",
       "3     Property  0.785 (0.005)  0.785 (0.005)  0.787 (0.005)  0.801 (0.004)   \n",
       "4       Felony  0.765 (0.001)  0.765 (0.001)  0.768 (0.002)  0.779 (0.002)   \n",
       "5  Misdemeanor  0.729 (0.005)  0.729 (0.005)   0.73 (0.006)  0.738 (0.005)   \n",
       "\n",
       "         XGBoost  Performance Range  \n",
       "0  0.759 (0.003)              0.014  \n",
       "1  0.784 (0.004)              0.016  \n",
       "2  0.749 (0.002)              0.019  \n",
       "3  0.806 (0.004)              0.021  \n",
       "4  0.784 (0.001)              0.019  \n",
       "5  0.744 (0.005)              0.016  "
      ]
     },
     "execution_count": 3,
     "metadata": {},
     "output_type": "execute_result"
    }
   ],
   "source": [
    "result"
   ]
  },
  {
   "cell_type": "code",
   "execution_count": 4,
   "metadata": {
    "hideCode": false,
    "hidePrompt": false
   },
   "outputs": [],
   "source": [
    "cols = result.columns.to_list()\n",
    "values = result.values.tolist()"
   ]
  },
  {
   "cell_type": "code",
   "execution_count": 5,
   "metadata": {
    "hideCode": false,
    "hideOutput": true,
    "hidePrompt": false
   },
   "outputs": [
    {
     "name": "stdout",
     "output_type": "stream",
     "text": [
      "\\begin{array}{l | l | l | l | l | l | r} \\hline\n",
      "    General     & \\verb|0.745 (0.004)| & \\verb|0.745 (0.004)| & \\verb|0.746 (0.004)| & \\verb|0.753 (0.003)| & \\verb|0.759 (0.003)| & 0.01400 \\\\ \\hline\n",
      "    Violent     & \\verb|0.768 (0.002)| & \\verb|0.769 (0.003)| & \\verb|0.769 (0.003)| & \\verb|0.777 (0.005)| & \\verb|0.784 (0.004)| & 0.01600 \\\\ \\hline\n",
      "    Drug        & \\verb|0.73 (0.003) | & \\verb|0.73 (0.003) | & \\verb|0.733 (0.003)| & \\verb|0.743 (0.002)| & \\verb|0.749 (0.002)| & 0.01900 \\\\ \\hline\n",
      "    Property    & \\verb|0.785 (0.005)| & \\verb|0.785 (0.005)| & \\verb|0.787 (0.005)| & \\verb|0.801 (0.004)| & \\verb|0.806 (0.004)| & 0.02100 \\\\ \\hline\n",
      "    Felony      & \\verb|0.765 (0.001)| & \\verb|0.765 (0.001)| & \\verb|0.768 (0.002)| & \\verb|0.779 (0.002)| & \\verb|0.784 (0.001)| & 0.01900 \\\\ \\hline\n",
      "    Misdemeanor & \\verb|0.729 (0.005)| & \\verb|0.729 (0.005)| & \\verb|0.73 (0.006) | & \\verb|0.738 (0.005)| & \\verb|0.744 (0.005)| & 0.01600 \\\\ \\hline\n",
      "\\end{array}\n"
     ]
    }
   ],
   "source": [
    "writer = pytablewriter.LatexTableWriter()\n",
    "writer.value_matrix = values\n",
    "writer.write_table()"
   ]
  }
 ],
 "metadata": {
  "hide_code_all_hidden": false,
  "kernelspec": {
   "display_name": "Python 3",
   "language": "python",
   "name": "python3"
  },
  "language_info": {
   "codemirror_mode": {
    "name": "ipython",
    "version": 3
   },
   "file_extension": ".py",
   "mimetype": "text/x-python",
   "name": "python",
   "nbconvert_exporter": "python",
   "pygments_lexer": "ipython3",
   "version": "3.7.4"
  }
 },
 "nbformat": 4,
 "nbformat_minor": 4
}
