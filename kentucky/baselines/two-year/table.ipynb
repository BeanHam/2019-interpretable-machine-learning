{
 "cells": [
  {
   "cell_type": "code",
   "execution_count": 1,
   "metadata": {
    "hideCode": false,
    "hidePrompt": false
   },
   "outputs": [],
   "source": [
    "import pytablewriter\n",
    "import pandas as pd\n",
    "import numpy as np"
   ]
  },
  {
   "cell_type": "code",
   "execution_count": 5,
   "metadata": {
    "hideCode": false,
    "hidePrompt": false
   },
   "outputs": [],
   "source": [
    "result = pd.read_csv(\"C:/Users/binha/Documents/Duke/Cynthia Research/interpretable_ml/kentucky/logs/baselines/KY-two-year-baseline-summary.csv\")"
   ]
  },
  {
   "cell_type": "code",
   "execution_count": 6,
   "metadata": {
    "hideCode": false,
    "hidePrompt": false
   },
   "outputs": [
    {
     "data": {
      "text/html": [
       "<div>\n",
       "<style scoped>\n",
       "    .dataframe tbody tr th:only-of-type {\n",
       "        vertical-align: middle;\n",
       "    }\n",
       "\n",
       "    .dataframe tbody tr th {\n",
       "        vertical-align: top;\n",
       "    }\n",
       "\n",
       "    .dataframe thead th {\n",
       "        text-align: right;\n",
       "    }\n",
       "</style>\n",
       "<table border=\"1\" class=\"dataframe\">\n",
       "  <thead>\n",
       "    <tr style=\"text-align: right;\">\n",
       "      <th></th>\n",
       "      <th>Unnamed: 0</th>\n",
       "      <th>Logistic</th>\n",
       "      <th>Lasso</th>\n",
       "      <th>Linear SVM</th>\n",
       "      <th>Random Forest</th>\n",
       "      <th>XGBoost</th>\n",
       "      <th>Performance Range</th>\n",
       "    </tr>\n",
       "  </thead>\n",
       "  <tbody>\n",
       "    <tr>\n",
       "      <th>0</th>\n",
       "      <td>General</td>\n",
       "      <td>0.734 (0.003)</td>\n",
       "      <td>0.734 (0.003)</td>\n",
       "      <td>0.734 (0.003)</td>\n",
       "      <td>0.741 (0.003)</td>\n",
       "      <td>0.747 (0.003)</td>\n",
       "      <td>0.013</td>\n",
       "    </tr>\n",
       "    <tr>\n",
       "      <th>1</th>\n",
       "      <td>Violent</td>\n",
       "      <td>0.809 (0.002)</td>\n",
       "      <td>0.809 (0.002)</td>\n",
       "      <td>0.81 (0.002)</td>\n",
       "      <td>0.819 (0.002)</td>\n",
       "      <td>0.826 (0.001)</td>\n",
       "      <td>0.017</td>\n",
       "    </tr>\n",
       "    <tr>\n",
       "      <th>2</th>\n",
       "      <td>Drug</td>\n",
       "      <td>0.707 (0.006)</td>\n",
       "      <td>0.707 (0.006)</td>\n",
       "      <td>0.709 (0.007)</td>\n",
       "      <td>0.719 (0.007)</td>\n",
       "      <td>0.727 (0.006)</td>\n",
       "      <td>0.020</td>\n",
       "    </tr>\n",
       "    <tr>\n",
       "      <th>3</th>\n",
       "      <td>Property</td>\n",
       "      <td>0.767 (0.005)</td>\n",
       "      <td>0.765 (0.005)</td>\n",
       "      <td>0.767 (0.005)</td>\n",
       "      <td>0.786 (0.002)</td>\n",
       "      <td>0.792 (0.002)</td>\n",
       "      <td>0.026</td>\n",
       "    </tr>\n",
       "    <tr>\n",
       "      <th>4</th>\n",
       "      <td>Felony</td>\n",
       "      <td>0.752 (0.004)</td>\n",
       "      <td>0.752 (0.004)</td>\n",
       "      <td>0.754 (0.004)</td>\n",
       "      <td>0.764 (0.004)</td>\n",
       "      <td>0.77 (0.004)</td>\n",
       "      <td>0.018</td>\n",
       "    </tr>\n",
       "    <tr>\n",
       "      <th>5</th>\n",
       "      <td>Misdemeanor</td>\n",
       "      <td>0.708 (0.004)</td>\n",
       "      <td>0.708 (0.004)</td>\n",
       "      <td>0.709 (0.004)</td>\n",
       "      <td>0.716 (0.004)</td>\n",
       "      <td>0.724 (0.004)</td>\n",
       "      <td>0.016</td>\n",
       "    </tr>\n",
       "  </tbody>\n",
       "</table>\n",
       "</div>"
      ],
      "text/plain": [
       "    Unnamed: 0       Logistic          Lasso     Linear SVM  Random Forest  \\\n",
       "0      General  0.734 (0.003)  0.734 (0.003)  0.734 (0.003)  0.741 (0.003)   \n",
       "1      Violent  0.809 (0.002)  0.809 (0.002)   0.81 (0.002)  0.819 (0.002)   \n",
       "2         Drug  0.707 (0.006)  0.707 (0.006)  0.709 (0.007)  0.719 (0.007)   \n",
       "3     Property  0.767 (0.005)  0.765 (0.005)  0.767 (0.005)  0.786 (0.002)   \n",
       "4       Felony  0.752 (0.004)  0.752 (0.004)  0.754 (0.004)  0.764 (0.004)   \n",
       "5  Misdemeanor  0.708 (0.004)  0.708 (0.004)  0.709 (0.004)  0.716 (0.004)   \n",
       "\n",
       "         XGBoost  Performance Range  \n",
       "0  0.747 (0.003)              0.013  \n",
       "1  0.826 (0.001)              0.017  \n",
       "2  0.727 (0.006)              0.020  \n",
       "3  0.792 (0.002)              0.026  \n",
       "4   0.77 (0.004)              0.018  \n",
       "5  0.724 (0.004)              0.016  "
      ]
     },
     "execution_count": 6,
     "metadata": {},
     "output_type": "execute_result"
    }
   ],
   "source": [
    "result"
   ]
  },
  {
   "cell_type": "code",
   "execution_count": 4,
   "metadata": {
    "hideCode": false,
    "hidePrompt": false
   },
   "outputs": [],
   "source": [
    "cols = result.columns.to_list()\n",
    "values = result.values.tolist()"
   ]
  },
  {
   "cell_type": "code",
   "execution_count": 5,
   "metadata": {
    "hideCode": false,
    "hideOutput": true,
    "hidePrompt": false
   },
   "outputs": [
    {
     "name": "stdout",
     "output_type": "stream",
     "text": [
      "\\begin{array}{l | l | l | l | l | l | r} \\hline\n",
      "    NaN         & NaN           & NaN           & NaN           & NaN           & NaN           &     NaN \\\\ \\hline\n",
      "    General     & \\verb|0.734 (0.003)| & \\verb|0.734 (0.003)| & \\verb|0.734 (0.003)| & \\verb|0.741 (0.003)| & \\verb|0.747 (0.003)| & 0.01300 \\\\ \\hline\n",
      "    NaN         & NaN           & NaN           & NaN           & NaN           & NaN           &     NaN \\\\ \\hline\n",
      "    Violent     & \\verb|0.809 (0.002)| & \\verb|0.809 (0.002)| & \\verb|0.81 (0.002) | & \\verb|0.819 (0.002)| & \\verb|0.826 (0.001)| & 0.01700 \\\\ \\hline\n",
      "    NaN         & NaN           & NaN           & NaN           & NaN           & NaN           &     NaN \\\\ \\hline\n",
      "    Drug        & \\verb|0.707 (0.006)| & \\verb|0.707 (0.006)| & \\verb|0.709 (0.007)| & \\verb|0.719 (0.007)| & \\verb|0.727 (0.006)| & 0.02000 \\\\ \\hline\n",
      "    NaN         & NaN           & NaN           & NaN           & NaN           & NaN           &     NaN \\\\ \\hline\n",
      "    Property    & \\verb|0.767 (0.005)| & \\verb|0.765 (0.005)| & \\verb|0.767 (0.005)| & \\verb|0.786 (0.002)| & \\verb|0.792 (0.002)| & 0.02600 \\\\ \\hline\n",
      "    NaN         & NaN           & NaN           & NaN           & NaN           & NaN           &     NaN \\\\ \\hline\n",
      "    Felony      & \\verb|0.752 (0.004)| & \\verb|0.752 (0.004)| & \\verb|0.754 (0.004)| & \\verb|0.764 (0.004)| & \\verb|0.77 (0.004) | & 0.01800 \\\\ \\hline\n",
      "    NaN         & NaN           & NaN           & NaN           & NaN           & NaN           &     NaN \\\\ \\hline\n",
      "    Misdemeanor & \\verb|0.708 (0.004)| & \\verb|0.708 (0.004)| & \\verb|0.709 (0.004)| & \\verb|0.716 (0.004)| & \\verb|0.724 (0.004)| & 0.01600 \\\\ \\hline\n",
      "\\end{array}\n"
     ]
    }
   ],
   "source": [
    "writer = pytablewriter.LatexTableWriter()\n",
    "writer.value_matrix = values\n",
    "writer.write_table()"
   ]
  }
 ],
 "metadata": {
  "hide_code_all_hidden": false,
  "kernelspec": {
   "display_name": "Python 3",
   "language": "python",
   "name": "python3"
  },
  "language_info": {
   "codemirror_mode": {
    "name": "ipython",
    "version": 3
   },
   "file_extension": ".py",
   "mimetype": "text/x-python",
   "name": "python",
   "nbconvert_exporter": "python",
   "pygments_lexer": "ipython3",
   "version": "3.7.4"
  }
 },
 "nbformat": 4,
 "nbformat_minor": 4
}
